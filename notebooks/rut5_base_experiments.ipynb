{
  "nbformat": 4,
  "nbformat_minor": 0,
  "metadata": {
    "colab": {
      "provenance": [],
      "gpuType": "T4"
    },
    "kernelspec": {
      "name": "python3",
      "display_name": "Python 3"
    },
    "language_info": {
      "name": "python"
    },
    "accelerator": "GPU"
  },
  "cells": [
    {
      "cell_type": "code",
      "source": [
        "!pip install transformers\n",
        "!pip install evaluate\n",
        "!pip install sentencepiece\n",
        "!pip install rouge-score"
      ],
      "metadata": {
        "id": "UIprWdFYSrBL"
      },
      "execution_count": null,
      "outputs": []
    },
    {
      "cell_type": "code",
      "execution_count": null,
      "metadata": {
        "id": "CC5UhLAcSk2S"
      },
      "outputs": [],
      "source": [
        "import torch\n",
        "import json\n",
        "from tqdm import tqdm\n",
        "import torch.nn as nn\n",
        "from torch.optim import Adam\n",
        "import nltk\n",
        "import spacy\n",
        "import string\n",
        "import evaluate  # Bleu\n",
        "from torch.utils.data import Dataset, DataLoader, RandomSampler\n",
        "import pandas as pd\n",
        "import numpy as np\n",
        "import transformers\n",
        "from sklearn.model_selection import train_test_split\n",
        "import matplotlib.pyplot as plt\n",
        "from transformers import T5Tokenizer, T5Model, T5ForConditionalGeneration, T5TokenizerFast\n",
        "import seaborn as sns\n",
        "sns.set_style(\"whitegrid\")\n",
        "\n",
        "import locale\n",
        "locale.getpreferredencoding = lambda: \"UTF-8\"\n",
        "!pip install rouge-score\n",
        "from rouge_score import rouge_scorer\n",
        "import pandas as pd\n",
        "\n",
        "import warnings\n",
        "warnings.filterwarnings(\"ignore\")"
      ]
    },
    {
      "cell_type": "code",
      "source": [
        "from google.colab import drive\n",
        "drive.mount('/content/drive')"
      ],
      "metadata": {
        "colab": {
          "base_uri": "https://localhost:8080/"
        },
        "id": "hfkFWOYzYOXL",
        "outputId": "b97ca5ca-8265-43b8-a790-b18563c31097"
      },
      "execution_count": 5,
      "outputs": [
        {
          "output_type": "stream",
          "name": "stdout",
          "text": [
            "Mounted at /content/drive\n"
          ]
        }
      ]
    },
    {
      "cell_type": "code",
      "source": [
        "#MODEL_NAME = \"cointegrated/rut5-base\"    # pre-trained model (first iteration)\n",
        "#MODEL_NAME = \"/content/drive/MyDrive/ITMO/T5QA/checkpoints/best_model/MedQAModel\"    # fine-tuned model (epochs: 16)\n",
        "MODEL_NAME = \"/content/drive/MyDrive/ITMO/T5QA/checkpoints/best_model/MedQAModel2\"    # fine-tuned model (epochs: 75)\n",
        "# Set up the tokenizer\n",
        "TOKENIZER = T5TokenizerFast.from_pretrained(MODEL_NAME, local_files_only=True)\n",
        "# Set up the T5 model\n",
        "MODEL = T5ForConditionalGeneration.from_pretrained(MODEL_NAME, return_dict=True)\n",
        "# Set up the optimizer\n",
        "OPTIMIZER = Adam(MODEL.parameters(), lr=0.00001)\n",
        "Q_LEN = 512    # Question Length\n",
        "T_LEN = 128    # Target Length\n",
        "BATCH_SIZE = 4\n",
        "DEVICE = 'cuda' if torch.cuda.is_available() else 'cpu'"
      ],
      "metadata": {
        "id": "tkdX-JBfSygn"
      },
      "execution_count": 6,
      "outputs": []
    },
    {
      "cell_type": "markdown",
      "source": [
        "### Custom dataset"
      ],
      "metadata": {
        "id": "WitEo950Tlm8"
      }
    },
    {
      "cell_type": "code",
      "source": [
        "class MedQADataset(Dataset):\n",
        "    def __init__(self, tokenizer, dataframe, q_len, t_len):\n",
        "        self.tokenizer = tokenizer\n",
        "        self.q_len = q_len\n",
        "        self.t_len = t_len\n",
        "        self.data = dataframe\n",
        "        self.questions = self.data[\"question\"]\n",
        "        self.context = self.data[\"context\"]\n",
        "        self.answer = self.data['answer']\n",
        "\n",
        "    def __len__(self):\n",
        "        return len(self.questions)\n",
        "\n",
        "    def __getitem__(self, idx):\n",
        "        question = f\"Вопрос: {self.questions[idx]}\"\n",
        "        context = f\"Контекст: {self.context[idx]}\"\n",
        "        answer = f\"Ответ: {self.answer[idx]}\"\n",
        "\n",
        "        question_tokenized = self.tokenizer(\n",
        "            question,\n",
        "            context,\n",
        "            max_length=self.q_len,\n",
        "            padding=\"max_length\",\n",
        "            truncation=True,\n",
        "            pad_to_max_length=True,\n",
        "            add_special_tokens=True\n",
        "        )\n",
        "\n",
        "        answer_tokenized = self.tokenizer(\n",
        "            answer,\n",
        "            max_length=self.t_len,\n",
        "            padding=\"max_length\",\n",
        "            truncation=True,\n",
        "            pad_to_max_length=True,\n",
        "            add_special_tokens=True\n",
        "        )\n",
        "\n",
        "        labels = torch.tensor(answer_tokenized[\"input_ids\"], dtype=torch.long)\n",
        "        labels[labels == 0] = -100\n",
        "\n",
        "        return {\n",
        "            \"input_ids\": torch.tensor(question_tokenized[\"input_ids\"], dtype=torch.long),\n",
        "            \"attention_mask\": torch.tensor(question_tokenized[\"attention_mask\"], dtype=torch.long),\n",
        "            \"labels\": labels,\n",
        "            \"decoder_attention_mask\": torch.tensor(answer_tokenized[\"attention_mask\"], dtype=torch.long)\n",
        "        }"
      ],
      "metadata": {
        "id": "r-wLbeNwTMrS"
      },
      "execution_count": 7,
      "outputs": []
    },
    {
      "cell_type": "markdown",
      "source": [
        "### Read the data"
      ],
      "metadata": {
        "id": "LujnL7lCTu-R"
      }
    },
    {
      "cell_type": "code",
      "source": [
        "PATH = '/content/drive/MyDrive/ITMO/T5QA'\n",
        "\n",
        "data = pd.read_csv(PATH + '/data/MedQuAD_Rus_clean.csv', index_col=0)\n",
        "data.index = [i for i in range(len(data))]\n",
        "\n",
        "data"
      ],
      "metadata": {
        "colab": {
          "base_uri": "https://localhost:8080/",
          "height": 424
        },
        "id": "0F4jI7LFYGHh",
        "outputId": "77f278a5-e761-4ffb-a100-29b82f7b90fb"
      },
      "execution_count": 8,
      "outputs": [
        {
          "output_type": "execute_result",
          "data": {
            "text/plain": [
              "                                              question  \\\n",
              "0                          что вызывает синдром нунан?   \n",
              "1                    каковы осложнения синдрома нунан?   \n",
              "2                     как предотвратить синдром нунан?   \n",
              "3                             что такое синдром нунан?   \n",
              "4     что такое целиакия – вопросы питания? (также ...   \n",
              "..                                                 ...   \n",
              "992   что такое дефицит аденозинмонофосфатдезаминаз...   \n",
              "993   сколько людей страдают от дефицита аденозинмо...   \n",
              "994   каковы генетические изменения, связанные с де...   \n",
              "995   наследуется ли дефицит аденозинмонофосфатдеза...   \n",
              "996   каковы методы лечения дефицита аденозинмонофо...   \n",
              "\n",
              "                                               context  \\\n",
              "0    синдром нунан это заболевание, присутствующее ...   \n",
              "1    синдром нунан это заболевание, присутствующее ...   \n",
              "2    синдром нунан это заболевание, присутствующее ...   \n",
              "3    синдром нунан это заболевание, присутствующее ...   \n",
              "4    целиакия это иммунное заболевание, передающеес...   \n",
              "..                                                 ...   \n",
              "992  описание дефицит аденозинмонофосфатдезаминазы ...   \n",
              "993  описание дефицит аденозинмонофосфатдезаминазы ...   \n",
              "994  описание дефицит аденозинмонофосфатдезаминазы ...   \n",
              "995  описание дефицит аденозинмонофосфатдезаминазы ...   \n",
              "996  описание дефицит аденозинмонофосфатдезаминазы ...   \n",
              "\n",
              "                                                answer  answer_start  \n",
              "0    синдром нунан связан с дефектами нескольких ге...             0  \n",
              "1     накопление жидкости в тканях организма (лимфе...            -1  \n",
              "2    пары с семейным анамнезом синдрома нунан, возм...          2184  \n",
              "3    синдром нунан – это заболевание, которое может...             0  \n",
              "4    целиакия – это иммунное заболевание, передающе...             0  \n",
              "..                                                 ...           ...  \n",
              "992  дефицит аденозинмонофосфат (амф) дезаминазы эт...            12  \n",
              "993  дефицит амфдезаминазы является одним из наибол...           174  \n",
              "994  мутации в гене ampd1 вызывают дефицит ampдезам...          1495  \n",
              "995  это состояние наследуется по аутосомнорецессив...          1346  \n",
              "996  эти ресурсы посвящены диагностике или лечению ...            -1  \n",
              "\n",
              "[997 rows x 4 columns]"
            ],
            "text/html": [
              "\n",
              "  <div id=\"df-e0beb8b8-2638-4b82-820d-8d74d4cfc6ff\" class=\"colab-df-container\">\n",
              "    <div>\n",
              "<style scoped>\n",
              "    .dataframe tbody tr th:only-of-type {\n",
              "        vertical-align: middle;\n",
              "    }\n",
              "\n",
              "    .dataframe tbody tr th {\n",
              "        vertical-align: top;\n",
              "    }\n",
              "\n",
              "    .dataframe thead th {\n",
              "        text-align: right;\n",
              "    }\n",
              "</style>\n",
              "<table border=\"1\" class=\"dataframe\">\n",
              "  <thead>\n",
              "    <tr style=\"text-align: right;\">\n",
              "      <th></th>\n",
              "      <th>question</th>\n",
              "      <th>context</th>\n",
              "      <th>answer</th>\n",
              "      <th>answer_start</th>\n",
              "    </tr>\n",
              "  </thead>\n",
              "  <tbody>\n",
              "    <tr>\n",
              "      <th>0</th>\n",
              "      <td>что вызывает синдром нунан?</td>\n",
              "      <td>синдром нунан это заболевание, присутствующее ...</td>\n",
              "      <td>синдром нунан связан с дефектами нескольких ге...</td>\n",
              "      <td>0</td>\n",
              "    </tr>\n",
              "    <tr>\n",
              "      <th>1</th>\n",
              "      <td>каковы осложнения синдрома нунан?</td>\n",
              "      <td>синдром нунан это заболевание, присутствующее ...</td>\n",
              "      <td>накопление жидкости в тканях организма (лимфе...</td>\n",
              "      <td>-1</td>\n",
              "    </tr>\n",
              "    <tr>\n",
              "      <th>2</th>\n",
              "      <td>как предотвратить синдром нунан?</td>\n",
              "      <td>синдром нунан это заболевание, присутствующее ...</td>\n",
              "      <td>пары с семейным анамнезом синдрома нунан, возм...</td>\n",
              "      <td>2184</td>\n",
              "    </tr>\n",
              "    <tr>\n",
              "      <th>3</th>\n",
              "      <td>что такое синдром нунан?</td>\n",
              "      <td>синдром нунан это заболевание, присутствующее ...</td>\n",
              "      <td>синдром нунан – это заболевание, которое может...</td>\n",
              "      <td>0</td>\n",
              "    </tr>\n",
              "    <tr>\n",
              "      <th>4</th>\n",
              "      <td>что такое целиакия – вопросы питания? (также ...</td>\n",
              "      <td>целиакия это иммунное заболевание, передающеес...</td>\n",
              "      <td>целиакия – это иммунное заболевание, передающе...</td>\n",
              "      <td>0</td>\n",
              "    </tr>\n",
              "    <tr>\n",
              "      <th>...</th>\n",
              "      <td>...</td>\n",
              "      <td>...</td>\n",
              "      <td>...</td>\n",
              "      <td>...</td>\n",
              "    </tr>\n",
              "    <tr>\n",
              "      <th>992</th>\n",
              "      <td>что такое дефицит аденозинмонофосфатдезаминаз...</td>\n",
              "      <td>описание дефицит аденозинмонофосфатдезаминазы ...</td>\n",
              "      <td>дефицит аденозинмонофосфат (амф) дезаминазы эт...</td>\n",
              "      <td>12</td>\n",
              "    </tr>\n",
              "    <tr>\n",
              "      <th>993</th>\n",
              "      <td>сколько людей страдают от дефицита аденозинмо...</td>\n",
              "      <td>описание дефицит аденозинмонофосфатдезаминазы ...</td>\n",
              "      <td>дефицит амфдезаминазы является одним из наибол...</td>\n",
              "      <td>174</td>\n",
              "    </tr>\n",
              "    <tr>\n",
              "      <th>994</th>\n",
              "      <td>каковы генетические изменения, связанные с де...</td>\n",
              "      <td>описание дефицит аденозинмонофосфатдезаминазы ...</td>\n",
              "      <td>мутации в гене ampd1 вызывают дефицит ampдезам...</td>\n",
              "      <td>1495</td>\n",
              "    </tr>\n",
              "    <tr>\n",
              "      <th>995</th>\n",
              "      <td>наследуется ли дефицит аденозинмонофосфатдеза...</td>\n",
              "      <td>описание дефицит аденозинмонофосфатдезаминазы ...</td>\n",
              "      <td>это состояние наследуется по аутосомнорецессив...</td>\n",
              "      <td>1346</td>\n",
              "    </tr>\n",
              "    <tr>\n",
              "      <th>996</th>\n",
              "      <td>каковы методы лечения дефицита аденозинмонофо...</td>\n",
              "      <td>описание дефицит аденозинмонофосфатдезаминазы ...</td>\n",
              "      <td>эти ресурсы посвящены диагностике или лечению ...</td>\n",
              "      <td>-1</td>\n",
              "    </tr>\n",
              "  </tbody>\n",
              "</table>\n",
              "<p>997 rows × 4 columns</p>\n",
              "</div>\n",
              "    <div class=\"colab-df-buttons\">\n",
              "\n",
              "  <div class=\"colab-df-container\">\n",
              "    <button class=\"colab-df-convert\" onclick=\"convertToInteractive('df-e0beb8b8-2638-4b82-820d-8d74d4cfc6ff')\"\n",
              "            title=\"Convert this dataframe to an interactive table.\"\n",
              "            style=\"display:none;\">\n",
              "\n",
              "  <svg xmlns=\"http://www.w3.org/2000/svg\" height=\"24px\" viewBox=\"0 -960 960 960\">\n",
              "    <path d=\"M120-120v-720h720v720H120Zm60-500h600v-160H180v160Zm220 220h160v-160H400v160Zm0 220h160v-160H400v160ZM180-400h160v-160H180v160Zm440 0h160v-160H620v160ZM180-180h160v-160H180v160Zm440 0h160v-160H620v160Z\"/>\n",
              "  </svg>\n",
              "    </button>\n",
              "\n",
              "  <style>\n",
              "    .colab-df-container {\n",
              "      display:flex;\n",
              "      gap: 12px;\n",
              "    }\n",
              "\n",
              "    .colab-df-convert {\n",
              "      background-color: #E8F0FE;\n",
              "      border: none;\n",
              "      border-radius: 50%;\n",
              "      cursor: pointer;\n",
              "      display: none;\n",
              "      fill: #1967D2;\n",
              "      height: 32px;\n",
              "      padding: 0 0 0 0;\n",
              "      width: 32px;\n",
              "    }\n",
              "\n",
              "    .colab-df-convert:hover {\n",
              "      background-color: #E2EBFA;\n",
              "      box-shadow: 0px 1px 2px rgba(60, 64, 67, 0.3), 0px 1px 3px 1px rgba(60, 64, 67, 0.15);\n",
              "      fill: #174EA6;\n",
              "    }\n",
              "\n",
              "    .colab-df-buttons div {\n",
              "      margin-bottom: 4px;\n",
              "    }\n",
              "\n",
              "    [theme=dark] .colab-df-convert {\n",
              "      background-color: #3B4455;\n",
              "      fill: #D2E3FC;\n",
              "    }\n",
              "\n",
              "    [theme=dark] .colab-df-convert:hover {\n",
              "      background-color: #434B5C;\n",
              "      box-shadow: 0px 1px 3px 1px rgba(0, 0, 0, 0.15);\n",
              "      filter: drop-shadow(0px 1px 2px rgba(0, 0, 0, 0.3));\n",
              "      fill: #FFFFFF;\n",
              "    }\n",
              "  </style>\n",
              "\n",
              "    <script>\n",
              "      const buttonEl =\n",
              "        document.querySelector('#df-e0beb8b8-2638-4b82-820d-8d74d4cfc6ff button.colab-df-convert');\n",
              "      buttonEl.style.display =\n",
              "        google.colab.kernel.accessAllowed ? 'block' : 'none';\n",
              "\n",
              "      async function convertToInteractive(key) {\n",
              "        const element = document.querySelector('#df-e0beb8b8-2638-4b82-820d-8d74d4cfc6ff');\n",
              "        const dataTable =\n",
              "          await google.colab.kernel.invokeFunction('convertToInteractive',\n",
              "                                                    [key], {});\n",
              "        if (!dataTable) return;\n",
              "\n",
              "        const docLinkHtml = 'Like what you see? Visit the ' +\n",
              "          '<a target=\"_blank\" href=https://colab.research.google.com/notebooks/data_table.ipynb>data table notebook</a>'\n",
              "          + ' to learn more about interactive tables.';\n",
              "        element.innerHTML = '';\n",
              "        dataTable['output_type'] = 'display_data';\n",
              "        await google.colab.output.renderOutput(dataTable, element);\n",
              "        const docLink = document.createElement('div');\n",
              "        docLink.innerHTML = docLinkHtml;\n",
              "        element.appendChild(docLink);\n",
              "      }\n",
              "    </script>\n",
              "  </div>\n",
              "\n",
              "\n",
              "<div id=\"df-9cf19261-e00b-4be8-96a1-b2962a687399\">\n",
              "  <button class=\"colab-df-quickchart\" onclick=\"quickchart('df-9cf19261-e00b-4be8-96a1-b2962a687399')\"\n",
              "            title=\"Suggest charts\"\n",
              "            style=\"display:none;\">\n",
              "\n",
              "<svg xmlns=\"http://www.w3.org/2000/svg\" height=\"24px\"viewBox=\"0 0 24 24\"\n",
              "     width=\"24px\">\n",
              "    <g>\n",
              "        <path d=\"M19 3H5c-1.1 0-2 .9-2 2v14c0 1.1.9 2 2 2h14c1.1 0 2-.9 2-2V5c0-1.1-.9-2-2-2zM9 17H7v-7h2v7zm4 0h-2V7h2v10zm4 0h-2v-4h2v4z\"/>\n",
              "    </g>\n",
              "</svg>\n",
              "  </button>\n",
              "\n",
              "<style>\n",
              "  .colab-df-quickchart {\n",
              "      --bg-color: #E8F0FE;\n",
              "      --fill-color: #1967D2;\n",
              "      --hover-bg-color: #E2EBFA;\n",
              "      --hover-fill-color: #174EA6;\n",
              "      --disabled-fill-color: #AAA;\n",
              "      --disabled-bg-color: #DDD;\n",
              "  }\n",
              "\n",
              "  [theme=dark] .colab-df-quickchart {\n",
              "      --bg-color: #3B4455;\n",
              "      --fill-color: #D2E3FC;\n",
              "      --hover-bg-color: #434B5C;\n",
              "      --hover-fill-color: #FFFFFF;\n",
              "      --disabled-bg-color: #3B4455;\n",
              "      --disabled-fill-color: #666;\n",
              "  }\n",
              "\n",
              "  .colab-df-quickchart {\n",
              "    background-color: var(--bg-color);\n",
              "    border: none;\n",
              "    border-radius: 50%;\n",
              "    cursor: pointer;\n",
              "    display: none;\n",
              "    fill: var(--fill-color);\n",
              "    height: 32px;\n",
              "    padding: 0;\n",
              "    width: 32px;\n",
              "  }\n",
              "\n",
              "  .colab-df-quickchart:hover {\n",
              "    background-color: var(--hover-bg-color);\n",
              "    box-shadow: 0 1px 2px rgba(60, 64, 67, 0.3), 0 1px 3px 1px rgba(60, 64, 67, 0.15);\n",
              "    fill: var(--button-hover-fill-color);\n",
              "  }\n",
              "\n",
              "  .colab-df-quickchart-complete:disabled,\n",
              "  .colab-df-quickchart-complete:disabled:hover {\n",
              "    background-color: var(--disabled-bg-color);\n",
              "    fill: var(--disabled-fill-color);\n",
              "    box-shadow: none;\n",
              "  }\n",
              "\n",
              "  .colab-df-spinner {\n",
              "    border: 2px solid var(--fill-color);\n",
              "    border-color: transparent;\n",
              "    border-bottom-color: var(--fill-color);\n",
              "    animation:\n",
              "      spin 1s steps(1) infinite;\n",
              "  }\n",
              "\n",
              "  @keyframes spin {\n",
              "    0% {\n",
              "      border-color: transparent;\n",
              "      border-bottom-color: var(--fill-color);\n",
              "      border-left-color: var(--fill-color);\n",
              "    }\n",
              "    20% {\n",
              "      border-color: transparent;\n",
              "      border-left-color: var(--fill-color);\n",
              "      border-top-color: var(--fill-color);\n",
              "    }\n",
              "    30% {\n",
              "      border-color: transparent;\n",
              "      border-left-color: var(--fill-color);\n",
              "      border-top-color: var(--fill-color);\n",
              "      border-right-color: var(--fill-color);\n",
              "    }\n",
              "    40% {\n",
              "      border-color: transparent;\n",
              "      border-right-color: var(--fill-color);\n",
              "      border-top-color: var(--fill-color);\n",
              "    }\n",
              "    60% {\n",
              "      border-color: transparent;\n",
              "      border-right-color: var(--fill-color);\n",
              "    }\n",
              "    80% {\n",
              "      border-color: transparent;\n",
              "      border-right-color: var(--fill-color);\n",
              "      border-bottom-color: var(--fill-color);\n",
              "    }\n",
              "    90% {\n",
              "      border-color: transparent;\n",
              "      border-bottom-color: var(--fill-color);\n",
              "    }\n",
              "  }\n",
              "</style>\n",
              "\n",
              "  <script>\n",
              "    async function quickchart(key) {\n",
              "      const quickchartButtonEl =\n",
              "        document.querySelector('#' + key + ' button');\n",
              "      quickchartButtonEl.disabled = true;  // To prevent multiple clicks.\n",
              "      quickchartButtonEl.classList.add('colab-df-spinner');\n",
              "      try {\n",
              "        const charts = await google.colab.kernel.invokeFunction(\n",
              "            'suggestCharts', [key], {});\n",
              "      } catch (error) {\n",
              "        console.error('Error during call to suggestCharts:', error);\n",
              "      }\n",
              "      quickchartButtonEl.classList.remove('colab-df-spinner');\n",
              "      quickchartButtonEl.classList.add('colab-df-quickchart-complete');\n",
              "    }\n",
              "    (() => {\n",
              "      let quickchartButtonEl =\n",
              "        document.querySelector('#df-9cf19261-e00b-4be8-96a1-b2962a687399 button');\n",
              "      quickchartButtonEl.style.display =\n",
              "        google.colab.kernel.accessAllowed ? 'block' : 'none';\n",
              "    })();\n",
              "  </script>\n",
              "</div>\n",
              "    </div>\n",
              "  </div>\n"
            ]
          },
          "metadata": {},
          "execution_count": 8
        }
      ]
    },
    {
      "cell_type": "markdown",
      "source": [
        "#### Example"
      ],
      "metadata": {
        "id": "8vkry2qDT1Q8"
      }
    },
    {
      "cell_type": "code",
      "source": [
        "sample = data.iloc[1]\n",
        "encoding = TOKENIZER(\n",
        "    sample[\"question\"],\n",
        "    sample[\"context\"],\n",
        "    max_length=512,\n",
        "    padding=\"max_length\",\n",
        "    truncation=\"only_second\",\n",
        "    return_attention_mask=True,\n",
        "    add_special_tokens=True,\n",
        "    return_tensors='pt'\n",
        ")\n",
        "\n",
        "answer_encoding = TOKENIZER(\n",
        "    sample[\"answer\"],\n",
        "    max_length=32,\n",
        "    padding=\"max_length\",\n",
        "    truncation=True,\n",
        "    return_attention_mask=True,\n",
        "    add_special_tokens=True,\n",
        "    return_tensors=\"pt\"\n",
        ")\n",
        "\n",
        "labels = answer_encoding[\"input_ids\"]\n",
        "\n",
        "output = MODEL(\n",
        "    input_ids=encoding[\"input_ids\"],\n",
        "    attention_mask=encoding[\"attention_mask\"],\n",
        "    labels=labels\n",
        ")"
      ],
      "metadata": {
        "id": "xXFIAGWdiVWV"
      },
      "execution_count": 9,
      "outputs": []
    },
    {
      "cell_type": "code",
      "source": [
        "output.loss"
      ],
      "metadata": {
        "colab": {
          "base_uri": "https://localhost:8080/"
        },
        "id": "leo0zymgisA8",
        "outputId": "72a962cc-efbb-41d1-b10e-ec370ee43550"
      },
      "execution_count": 10,
      "outputs": [
        {
          "output_type": "execute_result",
          "data": {
            "text/plain": [
              "tensor(3.7182, grad_fn=<NllLossBackward0>)"
            ]
          },
          "metadata": {},
          "execution_count": 10
        }
      ]
    },
    {
      "cell_type": "markdown",
      "source": [
        "### Dataloader"
      ],
      "metadata": {
        "id": "U-MInUpcT7lr"
      }
    },
    {
      "cell_type": "code",
      "source": [
        "#data = data[:200]\n",
        "\n",
        "train_data, test_data = train_test_split(data, test_size=0.02, random_state=42)\n",
        "train_data, val_data = train_test_split(train_data, test_size=0.2, random_state=42)\n",
        "\n",
        "print(f\"Train shape: {train_data.shape}\")\n",
        "print(f\"Validation shape: {val_data.shape}\")\n",
        "print(f\"Test shape: {test_data.shape}\")\n",
        "\n",
        "train_sampler = RandomSampler(train_data.index)\n",
        "val_sampler = RandomSampler(val_data.index)\n",
        "\n",
        "qa_dataset = MedQADataset(TOKENIZER, data, Q_LEN, T_LEN)\n",
        "\n",
        "train_loader = DataLoader(qa_dataset, batch_size=BATCH_SIZE, sampler=train_sampler)\n",
        "val_loader = DataLoader(qa_dataset, batch_size=BATCH_SIZE, sampler=val_sampler)\n",
        "\n",
        "scheduler = torch.optim.lr_scheduler.ReduceLROnPlateau(OPTIMIZER, patience=5, verbose=True)\n",
        "#scheduler = None"
      ],
      "metadata": {
        "colab": {
          "base_uri": "https://localhost:8080/"
        },
        "id": "K7gydpYMU8u0",
        "outputId": "48ff92e6-f934-4cda-d5f8-17f9bc279709"
      },
      "execution_count": 11,
      "outputs": [
        {
          "output_type": "stream",
          "name": "stdout",
          "text": [
            "Train shape: (781, 4)\n",
            "Validation shape: (196, 4)\n",
            "Test shape: (20, 4)\n"
          ]
        }
      ]
    },
    {
      "cell_type": "markdown",
      "source": [
        "### Training and validation loop\n",
        "\n"
      ],
      "metadata": {
        "id": "8efIQg0RUASa"
      }
    },
    {
      "cell_type": "code",
      "source": [
        "MODEL = MODEL.to(DEVICE)\n",
        "N_EPOCHS = 84\n",
        "\n",
        "best_val_loss = float('inf')\n",
        "STATE_DICT_PATH = '/content/drive/MyDrive/ITMO/T5QA/checkpoints/best_model/MedQAModel2'\n",
        "\n",
        "train_loss_lst = []\n",
        "val_loss_lst = []\n",
        "\n",
        "for epoch in range(N_EPOCHS):\n",
        "    train_loss = 0.0\n",
        "    MODEL.train()\n",
        "    for batch in tqdm(train_loader, desc=\"Training batches\"):\n",
        "        input_ids = batch[\"input_ids\"].to(DEVICE)\n",
        "        attention_mask = batch[\"attention_mask\"].to(DEVICE)\n",
        "        labels = batch[\"labels\"].to(DEVICE)\n",
        "        decoder_attention_mask = batch[\"decoder_attention_mask\"].to(DEVICE)\n",
        "        # Clear gradients\n",
        "        OPTIMIZER.zero_grad()\n",
        "        # Make a prediction\n",
        "        outputs = MODEL(\n",
        "            input_ids=input_ids,\n",
        "            attention_mask=attention_mask,\n",
        "            labels=labels,\n",
        "            decoder_attention_mask=decoder_attention_mask\n",
        "        )\n",
        "        # Calculate gradients\n",
        "        outputs.loss.backward()\n",
        "        # Update weights\n",
        "        OPTIMIZER.step()\n",
        "        # Calculate losss\n",
        "        train_loss += outputs.loss.item()\n",
        "        #train_batch_count += 1\n",
        "\n",
        "    if scheduler is not None:\n",
        "        scheduler.step(train_loss/len(train_loader))\n",
        "\n",
        "    #Evaluation\n",
        "    val_loss = 0.0\n",
        "    MODEL.eval()\n",
        "    with torch.no_grad():\n",
        "        for batch in tqdm(val_loader, desc=\"Validation batches\"):\n",
        "            input_ids = batch[\"input_ids\"].to(DEVICE)\n",
        "            attention_mask = batch[\"attention_mask\"].to(DEVICE)\n",
        "            labels = batch[\"labels\"].to(DEVICE)\n",
        "            decoder_attention_mask = batch[\"decoder_attention_mask\"].to(DEVICE)\n",
        "\n",
        "            outputs = MODEL(\n",
        "                input_ids=input_ids,\n",
        "                attention_mask=attention_mask,\n",
        "                labels=labels,\n",
        "                decoder_attention_mask=decoder_attention_mask\n",
        "            )\n",
        "            val_loss += outputs.loss.item()\n",
        "\n",
        "    train_loss_lst.append(train_loss / len(train_loader))\n",
        "    val_loss_lst.append(val_loss / len(val_loader))\n",
        "\n",
        "    if val_loss < best_val_loss:\n",
        "        best_val_loss = val_loss\n",
        "        MODEL.save_pretrained(STATE_DICT_PATH)\n",
        "        TOKENIZER.save_pretrained(STATE_DICT_PATH)\n",
        "\n",
        "    print(f'Epoch: {epoch}\\t\\tTrain loss: {train_loss/len(train_loader)}\\t\\t'\n",
        "          f'Validation loss: {val_loss/len(val_loader)}')"
      ],
      "metadata": {
        "colab": {
          "base_uri": "https://localhost:8080/"
        },
        "id": "x3iCJ4nFZURN",
        "outputId": "ee096c02-e0d8-4666-9ea9-f88cadc947b0"
      },
      "execution_count": null,
      "outputs": [
        {
          "output_type": "stream",
          "name": "stderr",
          "text": [
            "Training batches: 100%|██████████| 196/196 [02:31<00:00,  1.29it/s]\n",
            "Validation batches: 100%|██████████| 49/49 [00:13<00:00,  3.60it/s]\n"
          ]
        },
        {
          "output_type": "stream",
          "name": "stdout",
          "text": [
            "Epoch: 0\t\tTrain loss: 3.7368569264606553\t\tValidation loss: 1.965740896001154\n"
          ]
        },
        {
          "output_type": "stream",
          "name": "stderr",
          "text": [
            "Training batches: 100%|██████████| 196/196 [02:34<00:00,  1.27it/s]\n",
            "Validation batches: 100%|██████████| 49/49 [00:13<00:00,  3.62it/s]\n"
          ]
        },
        {
          "output_type": "stream",
          "name": "stdout",
          "text": [
            "Epoch: 1\t\tTrain loss: 2.9697694814935023\t\tValidation loss: 1.7901534620596438\n"
          ]
        },
        {
          "output_type": "stream",
          "name": "stderr",
          "text": [
            "Training batches: 100%|██████████| 196/196 [02:34<00:00,  1.27it/s]\n",
            "Validation batches: 100%|██████████| 49/49 [00:13<00:00,  3.62it/s]\n"
          ]
        },
        {
          "output_type": "stream",
          "name": "stdout",
          "text": [
            "Epoch: 2\t\tTrain loss: 2.709828962476886\t\tValidation loss: 1.7393182966173912\n"
          ]
        },
        {
          "output_type": "stream",
          "name": "stderr",
          "text": [
            "Training batches: 100%|██████████| 196/196 [02:34<00:00,  1.27it/s]\n",
            "Validation batches: 100%|██████████| 49/49 [00:13<00:00,  3.63it/s]\n"
          ]
        },
        {
          "output_type": "stream",
          "name": "stdout",
          "text": [
            "Epoch: 3\t\tTrain loss: 2.5563593068901374\t\tValidation loss: 1.649973523860075\n"
          ]
        },
        {
          "output_type": "stream",
          "name": "stderr",
          "text": [
            "Training batches: 100%|██████████| 196/196 [02:34<00:00,  1.27it/s]\n",
            "Validation batches: 100%|██████████| 49/49 [00:13<00:00,  3.61it/s]\n"
          ]
        },
        {
          "output_type": "stream",
          "name": "stdout",
          "text": [
            "Epoch: 4\t\tTrain loss: 2.43341917468577\t\tValidation loss: 1.6248456507313007\n"
          ]
        },
        {
          "output_type": "stream",
          "name": "stderr",
          "text": [
            "Training batches: 100%|██████████| 196/196 [02:34<00:00,  1.27it/s]\n",
            "Validation batches: 100%|██████████| 49/49 [00:13<00:00,  3.60it/s]\n"
          ]
        },
        {
          "output_type": "stream",
          "name": "stdout",
          "text": [
            "Epoch: 5\t\tTrain loss: 2.3274857079496187\t\tValidation loss: 1.5811210627458534\n"
          ]
        },
        {
          "output_type": "stream",
          "name": "stderr",
          "text": [
            "Training batches: 100%|██████████| 196/196 [02:34<00:00,  1.27it/s]\n",
            "Validation batches: 100%|██████████| 49/49 [00:13<00:00,  3.60it/s]\n"
          ]
        },
        {
          "output_type": "stream",
          "name": "stdout",
          "text": [
            "Epoch: 6\t\tTrain loss: 2.2527311724059436\t\tValidation loss: 1.512347010933623\n"
          ]
        },
        {
          "output_type": "stream",
          "name": "stderr",
          "text": [
            "Training batches: 100%|██████████| 196/196 [02:34<00:00,  1.27it/s]\n",
            "Validation batches: 100%|██████████| 49/49 [00:13<00:00,  3.60it/s]\n"
          ]
        },
        {
          "output_type": "stream",
          "name": "stdout",
          "text": [
            "Epoch: 7\t\tTrain loss: 2.1752218719647853\t\tValidation loss: 1.494481131738546\n"
          ]
        },
        {
          "output_type": "stream",
          "name": "stderr",
          "text": [
            "Training batches: 100%|██████████| 196/196 [02:34<00:00,  1.27it/s]\n",
            "Validation batches: 100%|██████████| 49/49 [00:13<00:00,  3.61it/s]\n"
          ]
        },
        {
          "output_type": "stream",
          "name": "stdout",
          "text": [
            "Epoch: 8\t\tTrain loss: 2.1212784872979533\t\tValidation loss: 1.4621303981664229\n"
          ]
        },
        {
          "output_type": "stream",
          "name": "stderr",
          "text": [
            "Training batches: 100%|██████████| 196/196 [02:34<00:00,  1.26it/s]\n",
            "Validation batches: 100%|██████████| 49/49 [00:13<00:00,  3.64it/s]\n"
          ]
        },
        {
          "output_type": "stream",
          "name": "stdout",
          "text": [
            "Epoch: 9\t\tTrain loss: 2.077151131873228\t\tValidation loss: 1.4553315019120976\n"
          ]
        },
        {
          "output_type": "stream",
          "name": "stderr",
          "text": [
            "Training batches: 100%|██████████| 196/196 [02:34<00:00,  1.27it/s]\n",
            "Validation batches: 100%|██████████| 49/49 [00:13<00:00,  3.64it/s]\n"
          ]
        },
        {
          "output_type": "stream",
          "name": "stdout",
          "text": [
            "Epoch: 10\t\tTrain loss: 2.0080573820337957\t\tValidation loss: 1.428671004820843\n"
          ]
        },
        {
          "output_type": "stream",
          "name": "stderr",
          "text": [
            "Training batches: 100%|██████████| 196/196 [02:34<00:00,  1.27it/s]\n",
            "Validation batches: 100%|██████████| 49/49 [00:13<00:00,  3.59it/s]\n"
          ]
        },
        {
          "output_type": "stream",
          "name": "stdout",
          "text": [
            "Epoch: 11\t\tTrain loss: 1.9652139301202736\t\tValidation loss: 1.411058254387914\n"
          ]
        },
        {
          "output_type": "stream",
          "name": "stderr",
          "text": [
            "Training batches: 100%|██████████| 196/196 [02:34<00:00,  1.27it/s]\n",
            "Validation batches: 100%|██████████| 49/49 [00:14<00:00,  3.49it/s]\n"
          ]
        },
        {
          "output_type": "stream",
          "name": "stdout",
          "text": [
            "Epoch: 12\t\tTrain loss: 1.922305549589955\t\tValidation loss: 1.3786501781064637\n"
          ]
        },
        {
          "output_type": "stream",
          "name": "stderr",
          "text": [
            "Training batches: 100%|██████████| 196/196 [02:34<00:00,  1.27it/s]\n",
            "Validation batches: 100%|██████████| 49/49 [00:13<00:00,  3.60it/s]\n"
          ]
        },
        {
          "output_type": "stream",
          "name": "stdout",
          "text": [
            "Epoch: 13\t\tTrain loss: 1.8705459796652502\t\tValidation loss: 1.3528181582081074\n"
          ]
        },
        {
          "output_type": "stream",
          "name": "stderr",
          "text": [
            "Training batches: 100%|██████████| 196/196 [02:34<00:00,  1.27it/s]\n",
            "Validation batches: 100%|██████████| 49/49 [00:13<00:00,  3.62it/s]\n"
          ]
        },
        {
          "output_type": "stream",
          "name": "stdout",
          "text": [
            "Epoch: 14\t\tTrain loss: 1.9020639703590043\t\tValidation loss: 1.3178581114934416\n"
          ]
        },
        {
          "output_type": "stream",
          "name": "stderr",
          "text": [
            "Training batches: 100%|██████████| 196/196 [02:34<00:00,  1.27it/s]\n",
            "Validation batches: 100%|██████████| 49/49 [00:13<00:00,  3.61it/s]\n"
          ]
        },
        {
          "output_type": "stream",
          "name": "stdout",
          "text": [
            "Epoch: 15\t\tTrain loss: 1.8400898353785884\t\tValidation loss: 1.335993156749375\n"
          ]
        },
        {
          "output_type": "stream",
          "name": "stderr",
          "text": [
            "Training batches: 100%|██████████| 196/196 [02:34<00:00,  1.27it/s]\n",
            "Validation batches: 100%|██████████| 49/49 [00:13<00:00,  3.59it/s]\n"
          ]
        },
        {
          "output_type": "stream",
          "name": "stdout",
          "text": [
            "Epoch: 16\t\tTrain loss: 1.7953704181982546\t\tValidation loss: 1.2992839679426076\n"
          ]
        },
        {
          "output_type": "stream",
          "name": "stderr",
          "text": [
            "Training batches: 100%|██████████| 196/196 [02:34<00:00,  1.27it/s]\n",
            "Validation batches: 100%|██████████| 49/49 [00:13<00:00,  3.61it/s]\n"
          ]
        },
        {
          "output_type": "stream",
          "name": "stdout",
          "text": [
            "Epoch: 17\t\tTrain loss: 1.760665467199014\t\tValidation loss: 1.2883445450237818\n"
          ]
        },
        {
          "output_type": "stream",
          "name": "stderr",
          "text": [
            "Training batches: 100%|██████████| 196/196 [02:34<00:00,  1.27it/s]\n",
            "Validation batches: 100%|██████████| 49/49 [00:13<00:00,  3.62it/s]\n"
          ]
        },
        {
          "output_type": "stream",
          "name": "stdout",
          "text": [
            "Epoch: 18\t\tTrain loss: 1.735960845740474\t\tValidation loss: 1.2734639912235493\n"
          ]
        },
        {
          "output_type": "stream",
          "name": "stderr",
          "text": [
            "Training batches: 100%|██████████| 196/196 [02:34<00:00,  1.27it/s]\n",
            "Validation batches: 100%|██████████| 49/49 [00:13<00:00,  3.63it/s]\n"
          ]
        },
        {
          "output_type": "stream",
          "name": "stdout",
          "text": [
            "Epoch: 19\t\tTrain loss: 1.7072144841053047\t\tValidation loss: 1.26495296918616\n"
          ]
        },
        {
          "output_type": "stream",
          "name": "stderr",
          "text": [
            "Training batches: 100%|██████████| 196/196 [02:34<00:00,  1.27it/s]\n",
            "Validation batches: 100%|██████████| 49/49 [00:13<00:00,  3.62it/s]\n"
          ]
        },
        {
          "output_type": "stream",
          "name": "stdout",
          "text": [
            "Epoch: 20\t\tTrain loss: 1.6904120360101973\t\tValidation loss: 1.2493267150557772\n"
          ]
        },
        {
          "output_type": "stream",
          "name": "stderr",
          "text": [
            "Training batches: 100%|██████████| 196/196 [02:34<00:00,  1.27it/s]\n",
            "Validation batches: 100%|██████████| 49/49 [00:13<00:00,  3.62it/s]\n"
          ]
        },
        {
          "output_type": "stream",
          "name": "stdout",
          "text": [
            "Epoch: 21\t\tTrain loss: 1.6595088307346617\t\tValidation loss: 1.2166262256855866\n"
          ]
        },
        {
          "output_type": "stream",
          "name": "stderr",
          "text": [
            "Training batches: 100%|██████████| 196/196 [02:34<00:00,  1.27it/s]\n",
            "Validation batches: 100%|██████████| 49/49 [00:13<00:00,  3.62it/s]\n"
          ]
        },
        {
          "output_type": "stream",
          "name": "stdout",
          "text": [
            "Epoch: 22\t\tTrain loss: 1.65438370710733\t\tValidation loss: 1.2125323037711941\n"
          ]
        },
        {
          "output_type": "stream",
          "name": "stderr",
          "text": [
            "Training batches: 100%|██████████| 196/196 [02:34<00:00,  1.27it/s]\n",
            "Validation batches: 100%|██████████| 49/49 [00:13<00:00,  3.61it/s]\n"
          ]
        },
        {
          "output_type": "stream",
          "name": "stdout",
          "text": [
            "Epoch: 23\t\tTrain loss: 1.6187490075826645\t\tValidation loss: 1.204169432727658\n"
          ]
        },
        {
          "output_type": "stream",
          "name": "stderr",
          "text": [
            "Training batches: 100%|██████████| 196/196 [02:34<00:00,  1.27it/s]\n",
            "Validation batches: 100%|██████████| 49/49 [00:13<00:00,  3.62it/s]\n"
          ]
        },
        {
          "output_type": "stream",
          "name": "stdout",
          "text": [
            "Epoch: 24\t\tTrain loss: 1.582881943607817\t\tValidation loss: 1.159055459256075\n"
          ]
        },
        {
          "output_type": "stream",
          "name": "stderr",
          "text": [
            "Training batches: 100%|██████████| 196/196 [02:34<00:00,  1.27it/s]\n",
            "Validation batches: 100%|██████████| 49/49 [00:13<00:00,  3.63it/s]\n"
          ]
        },
        {
          "output_type": "stream",
          "name": "stdout",
          "text": [
            "Epoch: 25\t\tTrain loss: 1.5691463846941383\t\tValidation loss: 1.160163246247233\n"
          ]
        },
        {
          "output_type": "stream",
          "name": "stderr",
          "text": [
            "Training batches: 100%|██████████| 196/196 [02:33<00:00,  1.28it/s]\n",
            "Validation batches: 100%|██████████| 49/49 [00:13<00:00,  3.60it/s]\n"
          ]
        },
        {
          "output_type": "stream",
          "name": "stdout",
          "text": [
            "Epoch: 26\t\tTrain loss: 1.5608706057679897\t\tValidation loss: 1.1418326132151546\n"
          ]
        },
        {
          "output_type": "stream",
          "name": "stderr",
          "text": [
            "Training batches: 100%|██████████| 196/196 [02:34<00:00,  1.27it/s]\n",
            "Validation batches: 100%|██████████| 49/49 [00:13<00:00,  3.60it/s]\n"
          ]
        },
        {
          "output_type": "stream",
          "name": "stdout",
          "text": [
            "Epoch: 27\t\tTrain loss: 1.5270129896852436\t\tValidation loss: 1.1406548534120833\n"
          ]
        },
        {
          "output_type": "stream",
          "name": "stderr",
          "text": [
            "Training batches: 100%|██████████| 196/196 [02:34<00:00,  1.27it/s]\n",
            "Validation batches: 100%|██████████| 49/49 [00:13<00:00,  3.63it/s]\n"
          ]
        },
        {
          "output_type": "stream",
          "name": "stdout",
          "text": [
            "Epoch: 28\t\tTrain loss: 1.5192281533868945\t\tValidation loss: 1.1175058189095284\n"
          ]
        },
        {
          "output_type": "stream",
          "name": "stderr",
          "text": [
            "Training batches: 100%|██████████| 196/196 [02:34<00:00,  1.27it/s]\n",
            "Validation batches: 100%|██████████| 49/49 [00:13<00:00,  3.62it/s]\n"
          ]
        },
        {
          "output_type": "stream",
          "name": "stdout",
          "text": [
            "Epoch: 29\t\tTrain loss: 1.4802541687172286\t\tValidation loss: 1.1110988879690364\n"
          ]
        },
        {
          "output_type": "stream",
          "name": "stderr",
          "text": [
            "Training batches: 100%|██████████| 196/196 [02:34<00:00,  1.27it/s]\n",
            "Validation batches: 100%|██████████| 49/49 [00:13<00:00,  3.63it/s]\n"
          ]
        },
        {
          "output_type": "stream",
          "name": "stdout",
          "text": [
            "Epoch: 30\t\tTrain loss: 1.449345784527915\t\tValidation loss: 1.110279201853032\n"
          ]
        },
        {
          "output_type": "stream",
          "name": "stderr",
          "text": [
            "Training batches: 100%|██████████| 196/196 [02:34<00:00,  1.27it/s]\n",
            "Validation batches: 100%|██████████| 49/49 [00:13<00:00,  3.61it/s]\n"
          ]
        },
        {
          "output_type": "stream",
          "name": "stdout",
          "text": [
            "Epoch: 31\t\tTrain loss: 1.4643724531847604\t\tValidation loss: 1.1022271799797914\n"
          ]
        },
        {
          "output_type": "stream",
          "name": "stderr",
          "text": [
            "Training batches: 100%|██████████| 196/196 [02:34<00:00,  1.27it/s]\n",
            "Validation batches: 100%|██████████| 49/49 [00:13<00:00,  3.61it/s]\n"
          ]
        },
        {
          "output_type": "stream",
          "name": "stdout",
          "text": [
            "Epoch: 32\t\tTrain loss: 1.4389649930657173\t\tValidation loss: 1.091865408785489\n"
          ]
        },
        {
          "output_type": "stream",
          "name": "stderr",
          "text": [
            "Training batches: 100%|██████████| 196/196 [02:34<00:00,  1.27it/s]\n",
            "Validation batches: 100%|██████████| 49/49 [00:13<00:00,  3.61it/s]\n"
          ]
        },
        {
          "output_type": "stream",
          "name": "stdout",
          "text": [
            "Epoch: 33\t\tTrain loss: 1.4265063961549682\t\tValidation loss: 1.077032323394503\n"
          ]
        },
        {
          "output_type": "stream",
          "name": "stderr",
          "text": [
            "Training batches: 100%|██████████| 196/196 [02:34<00:00,  1.27it/s]\n",
            "Validation batches: 100%|██████████| 49/49 [00:13<00:00,  3.61it/s]\n"
          ]
        },
        {
          "output_type": "stream",
          "name": "stdout",
          "text": [
            "Epoch: 34\t\tTrain loss: 1.4137793911658987\t\tValidation loss: 1.0589411641870226\n"
          ]
        },
        {
          "output_type": "stream",
          "name": "stderr",
          "text": [
            "Training batches: 100%|██████████| 196/196 [02:34<00:00,  1.27it/s]\n",
            "Validation batches: 100%|██████████| 49/49 [00:13<00:00,  3.61it/s]\n"
          ]
        },
        {
          "output_type": "stream",
          "name": "stdout",
          "text": [
            "Epoch: 35\t\tTrain loss: 1.3895920356925653\t\tValidation loss: 1.0399179957350906\n"
          ]
        },
        {
          "output_type": "stream",
          "name": "stderr",
          "text": [
            "Training batches: 100%|██████████| 196/196 [02:34<00:00,  1.27it/s]\n",
            "Validation batches: 100%|██████████| 49/49 [00:13<00:00,  3.61it/s]\n"
          ]
        },
        {
          "output_type": "stream",
          "name": "stdout",
          "text": [
            "Epoch: 36\t\tTrain loss: 1.3922059654581302\t\tValidation loss: 1.015522546001843\n"
          ]
        },
        {
          "output_type": "stream",
          "name": "stderr",
          "text": [
            "Training batches: 100%|██████████| 196/196 [02:34<00:00,  1.27it/s]\n",
            "Validation batches: 100%|██████████| 49/49 [00:13<00:00,  3.60it/s]\n"
          ]
        },
        {
          "output_type": "stream",
          "name": "stdout",
          "text": [
            "Epoch: 37\t\tTrain loss: 1.3595067264170062\t\tValidation loss: 1.0361837987997093\n"
          ]
        },
        {
          "output_type": "stream",
          "name": "stderr",
          "text": [
            "Training batches: 100%|██████████| 196/196 [02:33<00:00,  1.27it/s]\n",
            "Validation batches: 100%|██████████| 49/49 [00:13<00:00,  3.62it/s]\n"
          ]
        },
        {
          "output_type": "stream",
          "name": "stdout",
          "text": [
            "Epoch: 38\t\tTrain loss: 1.3338405641974236\t\tValidation loss: 1.0311741810672137\n"
          ]
        },
        {
          "output_type": "stream",
          "name": "stderr",
          "text": [
            "Training batches: 100%|██████████| 196/196 [02:33<00:00,  1.28it/s]\n",
            "Validation batches: 100%|██████████| 49/49 [00:13<00:00,  3.60it/s]\n"
          ]
        },
        {
          "output_type": "stream",
          "name": "stdout",
          "text": [
            "Epoch: 39\t\tTrain loss: 1.3046931583358317\t\tValidation loss: 1.0209347435406275\n"
          ]
        },
        {
          "output_type": "stream",
          "name": "stderr",
          "text": [
            "Training batches: 100%|██████████| 196/196 [02:33<00:00,  1.27it/s]\n",
            "Validation batches: 100%|██████████| 49/49 [00:13<00:00,  3.62it/s]\n"
          ]
        },
        {
          "output_type": "stream",
          "name": "stdout",
          "text": [
            "Epoch: 40\t\tTrain loss: 1.2962698498550727\t\tValidation loss: 1.0189339992951374\n"
          ]
        },
        {
          "output_type": "stream",
          "name": "stderr",
          "text": [
            "Training batches: 100%|██████████| 196/196 [02:33<00:00,  1.27it/s]\n",
            "Validation batches: 100%|██████████| 49/49 [00:13<00:00,  3.61it/s]\n"
          ]
        },
        {
          "output_type": "stream",
          "name": "stdout",
          "text": [
            "Epoch: 41\t\tTrain loss: 1.2794912617121423\t\tValidation loss: 0.9836433459909595\n"
          ]
        },
        {
          "output_type": "stream",
          "name": "stderr",
          "text": [
            "Training batches: 100%|██████████| 196/196 [02:34<00:00,  1.27it/s]\n",
            "Validation batches: 100%|██████████| 49/49 [00:13<00:00,  3.62it/s]\n"
          ]
        },
        {
          "output_type": "stream",
          "name": "stdout",
          "text": [
            "Epoch: 42\t\tTrain loss: 1.2837639168208959\t\tValidation loss: 0.9845459129737348\n"
          ]
        },
        {
          "output_type": "stream",
          "name": "stderr",
          "text": [
            "Training batches: 100%|██████████| 196/196 [02:33<00:00,  1.27it/s]\n",
            "Validation batches: 100%|██████████| 49/49 [00:13<00:00,  3.61it/s]\n"
          ]
        },
        {
          "output_type": "stream",
          "name": "stdout",
          "text": [
            "Epoch: 43\t\tTrain loss: 1.2734135193180065\t\tValidation loss: 0.9553096461661008\n"
          ]
        },
        {
          "output_type": "stream",
          "name": "stderr",
          "text": [
            "Training batches: 100%|██████████| 196/196 [02:33<00:00,  1.27it/s]\n",
            "Validation batches: 100%|██████████| 49/49 [00:13<00:00,  3.62it/s]\n"
          ]
        },
        {
          "output_type": "stream",
          "name": "stdout",
          "text": [
            "Epoch: 44\t\tTrain loss: 1.2735033722556368\t\tValidation loss: 0.9608250996287988\n"
          ]
        },
        {
          "output_type": "stream",
          "name": "stderr",
          "text": [
            "Training batches: 100%|██████████| 196/196 [02:33<00:00,  1.28it/s]\n",
            "Validation batches: 100%|██████████| 49/49 [00:13<00:00,  3.63it/s]\n"
          ]
        },
        {
          "output_type": "stream",
          "name": "stdout",
          "text": [
            "Epoch: 45\t\tTrain loss: 1.2418342512481066\t\tValidation loss: 0.9666419625282288\n"
          ]
        },
        {
          "output_type": "stream",
          "name": "stderr",
          "text": [
            "Training batches: 100%|██████████| 196/196 [02:33<00:00,  1.28it/s]\n",
            "Validation batches: 100%|██████████| 49/49 [00:13<00:00,  3.61it/s]\n"
          ]
        },
        {
          "output_type": "stream",
          "name": "stdout",
          "text": [
            "Epoch: 46\t\tTrain loss: 1.2436784375078824\t\tValidation loss: 0.9518023668503275\n"
          ]
        },
        {
          "output_type": "stream",
          "name": "stderr",
          "text": [
            "Training batches: 100%|██████████| 196/196 [02:34<00:00,  1.27it/s]\n",
            "Validation batches: 100%|██████████| 49/49 [00:13<00:00,  3.65it/s]\n"
          ]
        },
        {
          "output_type": "stream",
          "name": "stdout",
          "text": [
            "Epoch: 47\t\tTrain loss: 1.220801124007118\t\tValidation loss: 0.9464399255051905\n"
          ]
        },
        {
          "output_type": "stream",
          "name": "stderr",
          "text": [
            "Training batches: 100%|██████████| 196/196 [02:34<00:00,  1.27it/s]\n",
            "Validation batches: 100%|██████████| 49/49 [00:13<00:00,  3.61it/s]\n"
          ]
        },
        {
          "output_type": "stream",
          "name": "stdout",
          "text": [
            "Epoch: 48\t\tTrain loss: 1.2020828848590657\t\tValidation loss: 0.933540194010248\n"
          ]
        },
        {
          "output_type": "stream",
          "name": "stderr",
          "text": [
            "Training batches: 100%|██████████| 196/196 [02:33<00:00,  1.27it/s]\n",
            "Validation batches: 100%|██████████| 49/49 [00:13<00:00,  3.61it/s]\n"
          ]
        },
        {
          "output_type": "stream",
          "name": "stdout",
          "text": [
            "Epoch: 49\t\tTrain loss: 1.195467728741315\t\tValidation loss: 0.9133923722773182\n"
          ]
        },
        {
          "output_type": "stream",
          "name": "stderr",
          "text": [
            "Training batches: 100%|██████████| 196/196 [02:33<00:00,  1.27it/s]\n",
            "Validation batches: 100%|██████████| 49/49 [00:13<00:00,  3.62it/s]\n"
          ]
        },
        {
          "output_type": "stream",
          "name": "stdout",
          "text": [
            "Epoch: 50\t\tTrain loss: 1.182205477539374\t\tValidation loss: 0.9312883752341173\n"
          ]
        },
        {
          "output_type": "stream",
          "name": "stderr",
          "text": [
            "Training batches: 100%|██████████| 196/196 [02:33<00:00,  1.27it/s]\n",
            "Validation batches: 100%|██████████| 49/49 [00:13<00:00,  3.63it/s]\n"
          ]
        },
        {
          "output_type": "stream",
          "name": "stdout",
          "text": [
            "Epoch: 51\t\tTrain loss: 1.1720090532789424\t\tValidation loss: 0.9022328914428244\n"
          ]
        },
        {
          "output_type": "stream",
          "name": "stderr",
          "text": [
            "Training batches: 100%|██████████| 196/196 [02:33<00:00,  1.27it/s]\n",
            "Validation batches: 100%|██████████| 49/49 [00:13<00:00,  3.63it/s]\n"
          ]
        },
        {
          "output_type": "stream",
          "name": "stdout",
          "text": [
            "Epoch: 52\t\tTrain loss: 1.1507400319892533\t\tValidation loss: 0.8922634039606366\n"
          ]
        },
        {
          "output_type": "stream",
          "name": "stderr",
          "text": [
            "Training batches: 100%|██████████| 196/196 [02:33<00:00,  1.27it/s]\n",
            "Validation batches: 100%|██████████| 49/49 [00:13<00:00,  3.61it/s]\n"
          ]
        },
        {
          "output_type": "stream",
          "name": "stdout",
          "text": [
            "Epoch: 53\t\tTrain loss: 1.1571060762721666\t\tValidation loss: 0.8872963518512492\n"
          ]
        },
        {
          "output_type": "stream",
          "name": "stderr",
          "text": [
            "Training batches: 100%|██████████| 196/196 [02:33<00:00,  1.27it/s]\n",
            "Validation batches: 100%|██████████| 49/49 [00:13<00:00,  3.60it/s]\n"
          ]
        },
        {
          "output_type": "stream",
          "name": "stdout",
          "text": [
            "Epoch: 54\t\tTrain loss: 1.1342744746682596\t\tValidation loss: 0.8989077201303171\n"
          ]
        },
        {
          "output_type": "stream",
          "name": "stderr",
          "text": [
            "Training batches: 100%|██████████| 196/196 [02:33<00:00,  1.28it/s]\n",
            "Validation batches: 100%|██████████| 49/49 [00:13<00:00,  3.62it/s]\n"
          ]
        },
        {
          "output_type": "stream",
          "name": "stdout",
          "text": [
            "Epoch: 55\t\tTrain loss: 1.1087526653190047\t\tValidation loss: 0.8709996731913819\n"
          ]
        },
        {
          "output_type": "stream",
          "name": "stderr",
          "text": [
            "Training batches: 100%|██████████| 196/196 [02:33<00:00,  1.27it/s]\n",
            "Validation batches: 100%|██████████| 49/49 [00:13<00:00,  3.60it/s]\n"
          ]
        },
        {
          "output_type": "stream",
          "name": "stdout",
          "text": [
            "Epoch: 56\t\tTrain loss: 1.110647912384296\t\tValidation loss: 0.8630323394828913\n"
          ]
        },
        {
          "output_type": "stream",
          "name": "stderr",
          "text": [
            "Training batches: 100%|██████████| 196/196 [02:34<00:00,  1.27it/s]\n",
            "Validation batches: 100%|██████████| 49/49 [00:13<00:00,  3.64it/s]\n"
          ]
        },
        {
          "output_type": "stream",
          "name": "stdout",
          "text": [
            "Epoch: 57\t\tTrain loss: 1.0972337297791122\t\tValidation loss: 0.8487860657730881\n"
          ]
        },
        {
          "output_type": "stream",
          "name": "stderr",
          "text": [
            "Training batches: 100%|██████████| 196/196 [02:33<00:00,  1.27it/s]\n",
            "Validation batches: 100%|██████████| 49/49 [00:13<00:00,  3.62it/s]\n"
          ]
        },
        {
          "output_type": "stream",
          "name": "stdout",
          "text": [
            "Epoch: 58\t\tTrain loss: 1.079929940212442\t\tValidation loss: 0.8445449757332705\n"
          ]
        },
        {
          "output_type": "stream",
          "name": "stderr",
          "text": [
            "Training batches: 100%|██████████| 196/196 [02:33<00:00,  1.27it/s]\n",
            "Validation batches: 100%|██████████| 49/49 [00:13<00:00,  3.62it/s]\n"
          ]
        },
        {
          "output_type": "stream",
          "name": "stdout",
          "text": [
            "Epoch: 59\t\tTrain loss: 1.0755586885676092\t\tValidation loss: 0.838018918523983\n"
          ]
        },
        {
          "output_type": "stream",
          "name": "stderr",
          "text": [
            "Training batches: 100%|██████████| 196/196 [02:33<00:00,  1.27it/s]\n",
            "Validation batches: 100%|██████████| 49/49 [00:13<00:00,  3.60it/s]\n"
          ]
        },
        {
          "output_type": "stream",
          "name": "stdout",
          "text": [
            "Epoch: 60\t\tTrain loss: 1.0650655572511711\t\tValidation loss: 0.8279065882064858\n"
          ]
        },
        {
          "output_type": "stream",
          "name": "stderr",
          "text": [
            "Training batches: 100%|██████████| 196/196 [02:33<00:00,  1.27it/s]\n",
            "Validation batches: 100%|██████████| 49/49 [00:13<00:00,  3.61it/s]\n"
          ]
        },
        {
          "output_type": "stream",
          "name": "stdout",
          "text": [
            "Epoch: 61\t\tTrain loss: 1.0544703478107647\t\tValidation loss: 0.8101231992548826\n"
          ]
        },
        {
          "output_type": "stream",
          "name": "stderr",
          "text": [
            "Training batches: 100%|██████████| 196/196 [02:33<00:00,  1.27it/s]\n",
            "Validation batches: 100%|██████████| 49/49 [00:13<00:00,  3.61it/s]\n"
          ]
        },
        {
          "output_type": "stream",
          "name": "stdout",
          "text": [
            "Epoch: 62\t\tTrain loss: 1.0532298699325444\t\tValidation loss: 0.8006274891751153\n"
          ]
        },
        {
          "output_type": "stream",
          "name": "stderr",
          "text": [
            "Training batches: 100%|██████████| 196/196 [02:34<00:00,  1.27it/s]\n",
            "Validation batches: 100%|██████████| 49/49 [00:13<00:00,  3.63it/s]\n"
          ]
        },
        {
          "output_type": "stream",
          "name": "stdout",
          "text": [
            "Epoch: 63\t\tTrain loss: 1.0394067508833749\t\tValidation loss: 0.8061936962969449\n"
          ]
        },
        {
          "output_type": "stream",
          "name": "stderr",
          "text": [
            "Training batches: 100%|██████████| 196/196 [02:33<00:00,  1.28it/s]\n",
            "Validation batches: 100%|██████████| 49/49 [00:13<00:00,  3.61it/s]\n"
          ]
        },
        {
          "output_type": "stream",
          "name": "stdout",
          "text": [
            "Epoch: 64\t\tTrain loss: 1.0265033318832213\t\tValidation loss: 0.78219814294455\n"
          ]
        },
        {
          "output_type": "stream",
          "name": "stderr",
          "text": [
            "Training batches: 100%|██████████| 196/196 [02:34<00:00,  1.27it/s]\n",
            "Validation batches: 100%|██████████| 49/49 [00:13<00:00,  3.63it/s]\n"
          ]
        },
        {
          "output_type": "stream",
          "name": "stdout",
          "text": [
            "Epoch: 65\t\tTrain loss: 1.0237561540336024\t\tValidation loss: 0.7798394846672915\n"
          ]
        },
        {
          "output_type": "stream",
          "name": "stderr",
          "text": [
            "Training batches: 100%|██████████| 196/196 [02:34<00:00,  1.27it/s]\n",
            "Validation batches: 100%|██████████| 49/49 [00:13<00:00,  3.61it/s]\n"
          ]
        },
        {
          "output_type": "stream",
          "name": "stdout",
          "text": [
            "Epoch: 66\t\tTrain loss: 1.0082032694196215\t\tValidation loss: 0.757540586651588\n"
          ]
        },
        {
          "output_type": "stream",
          "name": "stderr",
          "text": [
            "Training batches: 100%|██████████| 196/196 [02:34<00:00,  1.27it/s]\n",
            "Validation batches: 100%|██████████| 49/49 [00:13<00:00,  3.63it/s]\n"
          ]
        },
        {
          "output_type": "stream",
          "name": "stdout",
          "text": [
            "Epoch: 67\t\tTrain loss: 0.9848414071056307\t\tValidation loss: 0.7675177336347346\n"
          ]
        },
        {
          "output_type": "stream",
          "name": "stderr",
          "text": [
            "Training batches: 100%|██████████| 196/196 [02:34<00:00,  1.27it/s]\n",
            "Validation batches: 100%|██████████| 49/49 [00:13<00:00,  3.59it/s]\n"
          ]
        },
        {
          "output_type": "stream",
          "name": "stdout",
          "text": [
            "Epoch: 68\t\tTrain loss: 0.9882809695388589\t\tValidation loss: 0.7672736906275457\n"
          ]
        },
        {
          "output_type": "stream",
          "name": "stderr",
          "text": [
            "Training batches: 100%|██████████| 196/196 [02:34<00:00,  1.27it/s]\n",
            "Validation batches: 100%|██████████| 49/49 [00:13<00:00,  3.62it/s]\n"
          ]
        },
        {
          "output_type": "stream",
          "name": "stdout",
          "text": [
            "Epoch: 69\t\tTrain loss: 0.9646225649179244\t\tValidation loss: 0.7538367093217616\n"
          ]
        },
        {
          "output_type": "stream",
          "name": "stderr",
          "text": [
            "Training batches: 100%|██████████| 196/196 [02:34<00:00,  1.27it/s]\n",
            "Validation batches: 100%|██████████| 49/49 [00:13<00:00,  3.62it/s]\n"
          ]
        },
        {
          "output_type": "stream",
          "name": "stdout",
          "text": [
            "Epoch: 70\t\tTrain loss: 0.9715539815322477\t\tValidation loss: 0.7436552753253859\n"
          ]
        },
        {
          "output_type": "stream",
          "name": "stderr",
          "text": [
            "Training batches: 100%|██████████| 196/196 [02:34<00:00,  1.27it/s]\n",
            "Validation batches: 100%|██████████| 49/49 [00:13<00:00,  3.59it/s]\n"
          ]
        },
        {
          "output_type": "stream",
          "name": "stdout",
          "text": [
            "Epoch: 71\t\tTrain loss: 0.9599292247879262\t\tValidation loss: 0.726670138385831\n"
          ]
        },
        {
          "output_type": "stream",
          "name": "stderr",
          "text": [
            "Training batches: 100%|██████████| 196/196 [02:34<00:00,  1.27it/s]\n",
            "Validation batches: 100%|██████████| 49/49 [00:13<00:00,  3.59it/s]\n"
          ]
        },
        {
          "output_type": "stream",
          "name": "stdout",
          "text": [
            "Epoch: 72\t\tTrain loss: 0.9503249297944867\t\tValidation loss: 0.7169801629319483\n"
          ]
        },
        {
          "output_type": "stream",
          "name": "stderr",
          "text": [
            "Training batches: 100%|██████████| 196/196 [02:34<00:00,  1.27it/s]\n",
            "Validation batches: 100%|██████████| 49/49 [00:13<00:00,  3.61it/s]\n"
          ]
        },
        {
          "output_type": "stream",
          "name": "stdout",
          "text": [
            "Epoch: 73\t\tTrain loss: 0.9341257349873076\t\tValidation loss: 0.7074961023671287\n"
          ]
        },
        {
          "output_type": "stream",
          "name": "stderr",
          "text": [
            "Training batches: 100%|██████████| 196/196 [02:34<00:00,  1.27it/s]\n",
            "Validation batches: 100%|██████████| 49/49 [00:13<00:00,  3.63it/s]\n"
          ]
        },
        {
          "output_type": "stream",
          "name": "stdout",
          "text": [
            "Epoch: 74\t\tTrain loss: 0.9263766769091694\t\tValidation loss: 0.7202717658816552\n"
          ]
        },
        {
          "output_type": "stream",
          "name": "stderr",
          "text": [
            "Training batches:  48%|████▊     | 94/196 [01:14<01:20,  1.27it/s]"
          ]
        }
      ]
    },
    {
      "cell_type": "markdown",
      "source": [
        "### Inference"
      ],
      "metadata": {
        "id": "_t1A30CQUNE9"
      }
    },
    {
      "cell_type": "code",
      "source": [
        "def predict_answer(context, question, ref_answer=None):\n",
        "    inputs = TOKENIZER(question, context, max_length=Q_LEN, padding=\"max_length\", truncation=True, add_special_tokens=True)\n",
        "\n",
        "    input_ids = torch.tensor(inputs[\"input_ids\"], dtype=torch.long).to(DEVICE).unsqueeze(0)\n",
        "    attention_mask = torch.tensor(inputs[\"attention_mask\"], dtype=torch.long).to(DEVICE).unsqueeze(0)\n",
        "\n",
        "    outputs = MODEL.generate(input_ids=input_ids, attention_mask=attention_mask)\n",
        "\n",
        "    predicted_answer = TOKENIZER.decode(outputs.flatten(), skip_special_tokens=True)\n",
        "    predicted_answer = predicted_answer.replace(\"<extra_id_0>\", \"\")\n",
        "\n",
        "    if ref_answer:\n",
        "        # Load the Bleu metric\n",
        "        bleu = evaluate.load(\"google_bleu\")\n",
        "        score = bleu.compute(predictions=[predicted_answer],\n",
        "                            references=[ref_answer])\n",
        "        # Load Rouge metric\n",
        "        scorer = rouge_scorer.RougeScorer(['rouge1', 'rouge2', 'rougeL'], use_stemmer=True)\n",
        "        score_rouge = scorer.score(predicted_answer, ref_answer)\n",
        "\n",
        "        print(context)\n",
        "        print(\"\\n\")\n",
        "        print(question)\n",
        "        return {\n",
        "            \"Reference Answer: \": ref_answer,\n",
        "            \"Predicted Answer: \": predicted_answer,\n",
        "            \"BLEU Score: \": score,\n",
        "            \"RougeL (precision): \": score_rouge[\"rougeL\"][0]\n",
        "        }\n",
        "    else:\n",
        "        return predicted_answer"
      ],
      "metadata": {
        "id": "w5zbyPxIaBES"
      },
      "execution_count": 81,
      "outputs": []
    },
    {
      "cell_type": "code",
      "source": [
        "test_sample = test_data.iloc[13]\n",
        "test_context = f\"Контекст: {test_sample['context']}\"\n",
        "test_question = f\"Вопрос: {test_sample['question']}\"\n",
        "test_answer = f\"Ответ: {test_sample['answer']}\"\n",
        "\n",
        "pred = predict_answer(test_context, test_question, test_answer)"
      ],
      "metadata": {
        "colab": {
          "base_uri": "https://localhost:8080/"
        },
        "id": "kj1dJ_IXoB-S",
        "outputId": "92287e54-9a5c-4570-dde6-592810d9efd9"
      },
      "execution_count": 84,
      "outputs": [
        {
          "output_type": "stream",
          "name": "stdout",
          "text": [
            "Контекст: хантавирус опасная для жизни вирусная инфекция, передающаяся человеку грызунами. причины. хантавирус переносится грызунами, особенно мышамиоленями. вирус обнаруживается в их моче и фекалиях, но он не вызывает заболевания у животных. считается, что люди могут заболеть этим вирусом, если вдыхают зараженную пыль из мышиных гнезд или помет. вы можете контактировать с такой пылью при уборке домов, сараев или других закрытых помещений, которые долгое время пустовали. хантавирус, похоже, не передается от человека к человеку. симптомы ранние симптомы хантавирусного заболевания похожи на грипп. и включают в себя: озноблихорадкамышечные боли люди с хантавирусом могут начать чувствовать себя лучше на очень короткое время. но через 1–2 дня становится трудно дышать. болезнь быстро ухудшается. симптомы включают: сухой кашель общее недомогание головная боль тошнота и рвота одышка обследования и анализы медицинский работник проведет медицинский осмотр. это может выявить: аномальные звуки легких в результате воспаления. почечную недостаточность. низкое кровяное давление (гипотония). низкий уровень кислорода в крови, изза которого кожа становится синей (цианоз). могут быть проведены следующие анализы: анализы крови на наличие признаков хантавируса. (наличие антител к вирусу) общий анализ крови (оак) комплексная метаболическая панель (включает функциональные тесты почек и печени) анализ мочи рентгенография грудной клетки кт грудной клетки лечение людей с хантавирусом госпитализируют в больницу, часто в отделение интенсивной терапии (оит). лечение включает в себя: кислород. дыхательную трубку или дыхательный аппарат (механическая вентиляция легких) в тяжелых случаях. специальные аппараты для добавления кислорода в кровь. другая поддерживающая терапия для лечения симптомов. противовирусных препаратов, действующих против хантавируса, не существует. прогноз (прогноз) хантавирус серьезная инфекция, которая быстро ухудшается. может возникнуть легочная недостаточность, которая может привести к смерти. даже при агрессивном лечении более половины людей с этим заболеванием легких умирают. возможные осложнения осложнения хантавируса могут включать в себя: почечную недостаточностьсердечная и легочная недостаточностьэти осложнения могут привести к смерти. у вас развиваются гриппоподобные симптомы после контакта с пометом или мочой грызунов или пылью, загрязненной этими веществами. .содержите свой дом в чистоте. очистите потенциальные места гнездования и наведите порядок на кухне. если вам приходится работать в зоне, где возможен контакт с мочой или фекалиями грызунов, следуйте этим рекомендациям центров по контролю и профилактике заболеваний (cdc): открывая неиспользуемую хижину, сарай или другое здание, откройте все двери и окна. , покиньте здание и дайте помещению проветриться в течение 30 минут. вернитесь в здание и обработайте поверхности, ковер и другие участки дезинфицирующим средством. покиньте здание еще на 30 минут. опрыскайте мышиные гнезда и помет 10% раствором хлорного отбеливателя или аналогичным дезинфицирующим средством. оставьте на 30 минут. используя резиновые перчатки, поместите материалы в полиэтиленовые пакеты. запечатайте пакеты и выбросьте их в мусорное ведро или мусоросжигатель. утилизируйте перчатки и чистящие средства таким же образом. промойте все потенциально загрязненные твердые поверхности отбеливателем или дезинфицирующим раствором. избегайте уборки пылесосом до тех пор, пока область не будет тщательно обеззаражена. затем пропылесосьте первые несколько раз при достаточной вентиляции. хирургические маски могут обеспечить некоторую защиту. если у вас сильное заражение грызунами, позвоните в компанию по борьбе с вредителями. у них есть специальное оборудование и методы очистки.\n",
            "\n",
            "\n",
            "Вопрос:  каковы симптомы хантавируса? (также называется: хантавирусный легочный синдром; геморрагическая лихорадка с почечным синдромом)\n"
          ]
        }
      ]
    },
    {
      "cell_type": "code",
      "source": [
        "pred"
      ],
      "metadata": {
        "colab": {
          "base_uri": "https://localhost:8080/"
        },
        "id": "enX7VQOp3tcR",
        "outputId": "ae45c8d3-5185-4c70-e254-83c791ab1f99"
      },
      "execution_count": 85,
      "outputs": [
        {
          "output_type": "execute_result",
          "data": {
            "text/plain": [
              "{'Reference Answer: ': 'Ответ: ранние симптомы хантавирусного заболевания аналогичны гриппу и включают: озноб лихорадку мышечные боли люди с хантавирусом могут начать чувствовать себя лучше на очень короткое время. но через 1–2 дня становится трудно дышать. болезнь быстро ухудшается. к симптомам относятся: сухой кашель общее недомогание головная боль тошнота и рвота одышка.',\n",
              " 'Predicted Answer: ': 'Ответ: ранние симптомы хантавирусного заболевания похожи на грипп.',\n",
              " 'BLEU Score: ': {'google_bleu': 0.09345794392523364},\n",
              " 'RougeL (precision): ': 0}"
            ]
          },
          "metadata": {},
          "execution_count": 85
        }
      ]
    },
    {
      "cell_type": "code",
      "source": [
        "pred[\"BLEU Score: \"][\"google_bleu\"]"
      ],
      "metadata": {
        "colab": {
          "base_uri": "https://localhost:8080/"
        },
        "id": "gxVGSUxt3zKb",
        "outputId": "8c664afe-9836-440a-b806-77fd86d4e5ea"
      },
      "execution_count": 19,
      "outputs": [
        {
          "output_type": "execute_result",
          "data": {
            "text/plain": [
              "0.010752688172043012"
            ]
          },
          "metadata": {},
          "execution_count": 19
        }
      ]
    },
    {
      "cell_type": "code",
      "source": [
        "pred[\"RougeL (precision): \"]"
      ],
      "metadata": {
        "colab": {
          "base_uri": "https://localhost:8080/"
        },
        "id": "SrqFIFuN9hzv",
        "outputId": "a4061962-b0fb-4255-c8a4-30cfd0a602ae"
      },
      "execution_count": 20,
      "outputs": [
        {
          "output_type": "execute_result",
          "data": {
            "text/plain": [
              "0"
            ]
          },
          "metadata": {},
          "execution_count": 20
        }
      ]
    },
    {
      "cell_type": "code",
      "source": [
        "def calc_avg_metrics(test_data):\n",
        "    bleu_metric = 0.0\n",
        "    rouge_metric = 0.0\n",
        "\n",
        "    for i in range(len(test_data)):\n",
        "        test_sample = test_data.iloc[i]\n",
        "        test_context = f\"Контекст: {test_sample['context']}\"\n",
        "        test_question = f\"Вопрос: {test_sample['question']}\"\n",
        "        test_answer = f\"Ответ: {test_sample['answer']}\"\n",
        "\n",
        "        pred = predict_answer(test_context, test_question, test_answer)\n",
        "\n",
        "\n",
        "        bleu_metric += pred[\"BLEU Score: \"][\"google_bleu\"]\n",
        "        rouge_metric += pred[\"RougeL (precision): \"]\n",
        "\n",
        "    return bleu_metric / len(test_data), rouge_metric / len(test_data)\n"
      ],
      "metadata": {
        "id": "wwZ1eJ5n48Ks"
      },
      "execution_count": 21,
      "outputs": []
    },
    {
      "cell_type": "code",
      "source": [
        "bleu_avg, rouge_avg = calc_avg_metrics(test_data)\n",
        "print(\"Test:\")\n",
        "print(\"BLEU:\", bleu_avg)\n",
        "print(\"RougeL:\", rouge_avg)"
      ],
      "metadata": {
        "colab": {
          "base_uri": "https://localhost:8080/"
        },
        "id": "lSSn0kTi9DAj",
        "outputId": "a5e582b3-7d00-4ca1-feea-c7a14253e470"
      },
      "execution_count": 22,
      "outputs": [
        {
          "output_type": "stream",
          "name": "stdout",
          "text": [
            "Test:\n",
            "BLEU: 0.08575324940726765\n",
            "RougeL: 0.005295566502463054\n"
          ]
        }
      ]
    },
    {
      "cell_type": "code",
      "source": [
        "plt.plot(train_loss_lst, label=\"train_loss\")\n",
        "plt.plot(val_loss_lst, label=\"val_loss\")\n",
        "plt.title(\"MedQADataset_base\")\n",
        "plt.legend()\n",
        "plt.show()"
      ],
      "metadata": {
        "id": "hIU2LoBwoZfB"
      },
      "execution_count": null,
      "outputs": []
    },
    {
      "cell_type": "markdown",
      "source": [
        "### Plot loss from file"
      ],
      "metadata": {
        "id": "DOgbhr6iLxgY"
      }
    },
    {
      "cell_type": "code",
      "source": [
        "data_loss = pd.read_csv(\"/content/drive/MyDrive/ITMO/T5QA/checkpoints/best_model/model2_loss.csv\", sep=\"\\t\", header=None)\n",
        "data_loss = data_loss[[0, 2, 4]]\n",
        "data_loss.columns = [\"Epoch\", \"Train loss\", \"Validation loss\"]\n",
        "data_loss"
      ],
      "metadata": {
        "colab": {
          "base_uri": "https://localhost:8080/",
          "height": 424
        },
        "id": "5BrXyOlFJ3K9",
        "outputId": "c18a65d0-14c5-4582-caed-e90887793b1f"
      },
      "execution_count": 37,
      "outputs": [
        {
          "output_type": "execute_result",
          "data": {
            "text/plain": [
              "        Epoch                      Train loss  \\\n",
              "0    Epoch: 0  Train loss: 3.7368569264606553   \n",
              "1    Epoch: 1  Train loss: 2.9697694814935023   \n",
              "2    Epoch: 2   Train loss: 2.709828962476886   \n",
              "3    Epoch: 3  Train loss: 2.5563593068901374   \n",
              "4    Epoch: 4    Train loss: 2.43341917468577   \n",
              "..        ...                             ...   \n",
              "70  Epoch: 70  Train loss: 0.9715539815322477   \n",
              "71  Epoch: 71  Train loss: 0.9599292247879262   \n",
              "72  Epoch: 72  Train loss: 0.9503249297944867   \n",
              "73  Epoch: 73  Train loss: 0.9341257349873076   \n",
              "74  Epoch: 74  Train loss: 0.9263766769091694   \n",
              "\n",
              "                        Validation loss  \n",
              "0    Validation loss: 1.965740896001154  \n",
              "1   Validation loss: 1.7901534620596438  \n",
              "2   Validation loss: 1.7393182966173912  \n",
              "3    Validation loss: 1.649973523860075  \n",
              "4   Validation loss: 1.6248456507313007  \n",
              "..                                  ...  \n",
              "70  Validation loss: 0.7436552753253859  \n",
              "71   Validation loss: 0.726670138385831  \n",
              "72  Validation loss: 0.7169801629319483  \n",
              "73  Validation loss: 0.7074961023671287  \n",
              "74  Validation loss: 0.7202717658816552  \n",
              "\n",
              "[75 rows x 3 columns]"
            ],
            "text/html": [
              "\n",
              "  <div id=\"df-1a77c8f0-afe8-4952-9f30-0d2c224c5e63\" class=\"colab-df-container\">\n",
              "    <div>\n",
              "<style scoped>\n",
              "    .dataframe tbody tr th:only-of-type {\n",
              "        vertical-align: middle;\n",
              "    }\n",
              "\n",
              "    .dataframe tbody tr th {\n",
              "        vertical-align: top;\n",
              "    }\n",
              "\n",
              "    .dataframe thead th {\n",
              "        text-align: right;\n",
              "    }\n",
              "</style>\n",
              "<table border=\"1\" class=\"dataframe\">\n",
              "  <thead>\n",
              "    <tr style=\"text-align: right;\">\n",
              "      <th></th>\n",
              "      <th>Epoch</th>\n",
              "      <th>Train loss</th>\n",
              "      <th>Validation loss</th>\n",
              "    </tr>\n",
              "  </thead>\n",
              "  <tbody>\n",
              "    <tr>\n",
              "      <th>0</th>\n",
              "      <td>Epoch: 0</td>\n",
              "      <td>Train loss: 3.7368569264606553</td>\n",
              "      <td>Validation loss: 1.965740896001154</td>\n",
              "    </tr>\n",
              "    <tr>\n",
              "      <th>1</th>\n",
              "      <td>Epoch: 1</td>\n",
              "      <td>Train loss: 2.9697694814935023</td>\n",
              "      <td>Validation loss: 1.7901534620596438</td>\n",
              "    </tr>\n",
              "    <tr>\n",
              "      <th>2</th>\n",
              "      <td>Epoch: 2</td>\n",
              "      <td>Train loss: 2.709828962476886</td>\n",
              "      <td>Validation loss: 1.7393182966173912</td>\n",
              "    </tr>\n",
              "    <tr>\n",
              "      <th>3</th>\n",
              "      <td>Epoch: 3</td>\n",
              "      <td>Train loss: 2.5563593068901374</td>\n",
              "      <td>Validation loss: 1.649973523860075</td>\n",
              "    </tr>\n",
              "    <tr>\n",
              "      <th>4</th>\n",
              "      <td>Epoch: 4</td>\n",
              "      <td>Train loss: 2.43341917468577</td>\n",
              "      <td>Validation loss: 1.6248456507313007</td>\n",
              "    </tr>\n",
              "    <tr>\n",
              "      <th>...</th>\n",
              "      <td>...</td>\n",
              "      <td>...</td>\n",
              "      <td>...</td>\n",
              "    </tr>\n",
              "    <tr>\n",
              "      <th>70</th>\n",
              "      <td>Epoch: 70</td>\n",
              "      <td>Train loss: 0.9715539815322477</td>\n",
              "      <td>Validation loss: 0.7436552753253859</td>\n",
              "    </tr>\n",
              "    <tr>\n",
              "      <th>71</th>\n",
              "      <td>Epoch: 71</td>\n",
              "      <td>Train loss: 0.9599292247879262</td>\n",
              "      <td>Validation loss: 0.726670138385831</td>\n",
              "    </tr>\n",
              "    <tr>\n",
              "      <th>72</th>\n",
              "      <td>Epoch: 72</td>\n",
              "      <td>Train loss: 0.9503249297944867</td>\n",
              "      <td>Validation loss: 0.7169801629319483</td>\n",
              "    </tr>\n",
              "    <tr>\n",
              "      <th>73</th>\n",
              "      <td>Epoch: 73</td>\n",
              "      <td>Train loss: 0.9341257349873076</td>\n",
              "      <td>Validation loss: 0.7074961023671287</td>\n",
              "    </tr>\n",
              "    <tr>\n",
              "      <th>74</th>\n",
              "      <td>Epoch: 74</td>\n",
              "      <td>Train loss: 0.9263766769091694</td>\n",
              "      <td>Validation loss: 0.7202717658816552</td>\n",
              "    </tr>\n",
              "  </tbody>\n",
              "</table>\n",
              "<p>75 rows × 3 columns</p>\n",
              "</div>\n",
              "    <div class=\"colab-df-buttons\">\n",
              "\n",
              "  <div class=\"colab-df-container\">\n",
              "    <button class=\"colab-df-convert\" onclick=\"convertToInteractive('df-1a77c8f0-afe8-4952-9f30-0d2c224c5e63')\"\n",
              "            title=\"Convert this dataframe to an interactive table.\"\n",
              "            style=\"display:none;\">\n",
              "\n",
              "  <svg xmlns=\"http://www.w3.org/2000/svg\" height=\"24px\" viewBox=\"0 -960 960 960\">\n",
              "    <path d=\"M120-120v-720h720v720H120Zm60-500h600v-160H180v160Zm220 220h160v-160H400v160Zm0 220h160v-160H400v160ZM180-400h160v-160H180v160Zm440 0h160v-160H620v160ZM180-180h160v-160H180v160Zm440 0h160v-160H620v160Z\"/>\n",
              "  </svg>\n",
              "    </button>\n",
              "\n",
              "  <style>\n",
              "    .colab-df-container {\n",
              "      display:flex;\n",
              "      gap: 12px;\n",
              "    }\n",
              "\n",
              "    .colab-df-convert {\n",
              "      background-color: #E8F0FE;\n",
              "      border: none;\n",
              "      border-radius: 50%;\n",
              "      cursor: pointer;\n",
              "      display: none;\n",
              "      fill: #1967D2;\n",
              "      height: 32px;\n",
              "      padding: 0 0 0 0;\n",
              "      width: 32px;\n",
              "    }\n",
              "\n",
              "    .colab-df-convert:hover {\n",
              "      background-color: #E2EBFA;\n",
              "      box-shadow: 0px 1px 2px rgba(60, 64, 67, 0.3), 0px 1px 3px 1px rgba(60, 64, 67, 0.15);\n",
              "      fill: #174EA6;\n",
              "    }\n",
              "\n",
              "    .colab-df-buttons div {\n",
              "      margin-bottom: 4px;\n",
              "    }\n",
              "\n",
              "    [theme=dark] .colab-df-convert {\n",
              "      background-color: #3B4455;\n",
              "      fill: #D2E3FC;\n",
              "    }\n",
              "\n",
              "    [theme=dark] .colab-df-convert:hover {\n",
              "      background-color: #434B5C;\n",
              "      box-shadow: 0px 1px 3px 1px rgba(0, 0, 0, 0.15);\n",
              "      filter: drop-shadow(0px 1px 2px rgba(0, 0, 0, 0.3));\n",
              "      fill: #FFFFFF;\n",
              "    }\n",
              "  </style>\n",
              "\n",
              "    <script>\n",
              "      const buttonEl =\n",
              "        document.querySelector('#df-1a77c8f0-afe8-4952-9f30-0d2c224c5e63 button.colab-df-convert');\n",
              "      buttonEl.style.display =\n",
              "        google.colab.kernel.accessAllowed ? 'block' : 'none';\n",
              "\n",
              "      async function convertToInteractive(key) {\n",
              "        const element = document.querySelector('#df-1a77c8f0-afe8-4952-9f30-0d2c224c5e63');\n",
              "        const dataTable =\n",
              "          await google.colab.kernel.invokeFunction('convertToInteractive',\n",
              "                                                    [key], {});\n",
              "        if (!dataTable) return;\n",
              "\n",
              "        const docLinkHtml = 'Like what you see? Visit the ' +\n",
              "          '<a target=\"_blank\" href=https://colab.research.google.com/notebooks/data_table.ipynb>data table notebook</a>'\n",
              "          + ' to learn more about interactive tables.';\n",
              "        element.innerHTML = '';\n",
              "        dataTable['output_type'] = 'display_data';\n",
              "        await google.colab.output.renderOutput(dataTable, element);\n",
              "        const docLink = document.createElement('div');\n",
              "        docLink.innerHTML = docLinkHtml;\n",
              "        element.appendChild(docLink);\n",
              "      }\n",
              "    </script>\n",
              "  </div>\n",
              "\n",
              "\n",
              "<div id=\"df-133cacdf-a41a-4656-ab57-9f7902c8e4f3\">\n",
              "  <button class=\"colab-df-quickchart\" onclick=\"quickchart('df-133cacdf-a41a-4656-ab57-9f7902c8e4f3')\"\n",
              "            title=\"Suggest charts\"\n",
              "            style=\"display:none;\">\n",
              "\n",
              "<svg xmlns=\"http://www.w3.org/2000/svg\" height=\"24px\"viewBox=\"0 0 24 24\"\n",
              "     width=\"24px\">\n",
              "    <g>\n",
              "        <path d=\"M19 3H5c-1.1 0-2 .9-2 2v14c0 1.1.9 2 2 2h14c1.1 0 2-.9 2-2V5c0-1.1-.9-2-2-2zM9 17H7v-7h2v7zm4 0h-2V7h2v10zm4 0h-2v-4h2v4z\"/>\n",
              "    </g>\n",
              "</svg>\n",
              "  </button>\n",
              "\n",
              "<style>\n",
              "  .colab-df-quickchart {\n",
              "      --bg-color: #E8F0FE;\n",
              "      --fill-color: #1967D2;\n",
              "      --hover-bg-color: #E2EBFA;\n",
              "      --hover-fill-color: #174EA6;\n",
              "      --disabled-fill-color: #AAA;\n",
              "      --disabled-bg-color: #DDD;\n",
              "  }\n",
              "\n",
              "  [theme=dark] .colab-df-quickchart {\n",
              "      --bg-color: #3B4455;\n",
              "      --fill-color: #D2E3FC;\n",
              "      --hover-bg-color: #434B5C;\n",
              "      --hover-fill-color: #FFFFFF;\n",
              "      --disabled-bg-color: #3B4455;\n",
              "      --disabled-fill-color: #666;\n",
              "  }\n",
              "\n",
              "  .colab-df-quickchart {\n",
              "    background-color: var(--bg-color);\n",
              "    border: none;\n",
              "    border-radius: 50%;\n",
              "    cursor: pointer;\n",
              "    display: none;\n",
              "    fill: var(--fill-color);\n",
              "    height: 32px;\n",
              "    padding: 0;\n",
              "    width: 32px;\n",
              "  }\n",
              "\n",
              "  .colab-df-quickchart:hover {\n",
              "    background-color: var(--hover-bg-color);\n",
              "    box-shadow: 0 1px 2px rgba(60, 64, 67, 0.3), 0 1px 3px 1px rgba(60, 64, 67, 0.15);\n",
              "    fill: var(--button-hover-fill-color);\n",
              "  }\n",
              "\n",
              "  .colab-df-quickchart-complete:disabled,\n",
              "  .colab-df-quickchart-complete:disabled:hover {\n",
              "    background-color: var(--disabled-bg-color);\n",
              "    fill: var(--disabled-fill-color);\n",
              "    box-shadow: none;\n",
              "  }\n",
              "\n",
              "  .colab-df-spinner {\n",
              "    border: 2px solid var(--fill-color);\n",
              "    border-color: transparent;\n",
              "    border-bottom-color: var(--fill-color);\n",
              "    animation:\n",
              "      spin 1s steps(1) infinite;\n",
              "  }\n",
              "\n",
              "  @keyframes spin {\n",
              "    0% {\n",
              "      border-color: transparent;\n",
              "      border-bottom-color: var(--fill-color);\n",
              "      border-left-color: var(--fill-color);\n",
              "    }\n",
              "    20% {\n",
              "      border-color: transparent;\n",
              "      border-left-color: var(--fill-color);\n",
              "      border-top-color: var(--fill-color);\n",
              "    }\n",
              "    30% {\n",
              "      border-color: transparent;\n",
              "      border-left-color: var(--fill-color);\n",
              "      border-top-color: var(--fill-color);\n",
              "      border-right-color: var(--fill-color);\n",
              "    }\n",
              "    40% {\n",
              "      border-color: transparent;\n",
              "      border-right-color: var(--fill-color);\n",
              "      border-top-color: var(--fill-color);\n",
              "    }\n",
              "    60% {\n",
              "      border-color: transparent;\n",
              "      border-right-color: var(--fill-color);\n",
              "    }\n",
              "    80% {\n",
              "      border-color: transparent;\n",
              "      border-right-color: var(--fill-color);\n",
              "      border-bottom-color: var(--fill-color);\n",
              "    }\n",
              "    90% {\n",
              "      border-color: transparent;\n",
              "      border-bottom-color: var(--fill-color);\n",
              "    }\n",
              "  }\n",
              "</style>\n",
              "\n",
              "  <script>\n",
              "    async function quickchart(key) {\n",
              "      const quickchartButtonEl =\n",
              "        document.querySelector('#' + key + ' button');\n",
              "      quickchartButtonEl.disabled = true;  // To prevent multiple clicks.\n",
              "      quickchartButtonEl.classList.add('colab-df-spinner');\n",
              "      try {\n",
              "        const charts = await google.colab.kernel.invokeFunction(\n",
              "            'suggestCharts', [key], {});\n",
              "      } catch (error) {\n",
              "        console.error('Error during call to suggestCharts:', error);\n",
              "      }\n",
              "      quickchartButtonEl.classList.remove('colab-df-spinner');\n",
              "      quickchartButtonEl.classList.add('colab-df-quickchart-complete');\n",
              "    }\n",
              "    (() => {\n",
              "      let quickchartButtonEl =\n",
              "        document.querySelector('#df-133cacdf-a41a-4656-ab57-9f7902c8e4f3 button');\n",
              "      quickchartButtonEl.style.display =\n",
              "        google.colab.kernel.accessAllowed ? 'block' : 'none';\n",
              "    })();\n",
              "  </script>\n",
              "</div>\n",
              "    </div>\n",
              "  </div>\n"
            ]
          },
          "metadata": {},
          "execution_count": 37
        }
      ]
    },
    {
      "cell_type": "code",
      "source": [
        "data_loss[\"Epoch\"] = [int(text.replace(\"Epoch: \", \"\")) for text in data_loss[\"Epoch\"]]\n",
        "data_loss[\"Train loss\"] = [float(text.replace(\"Train loss: \", \"\")) for text in data_loss[\"Train loss\"]]\n",
        "data_loss[\"Validation loss\"] = [float(text.replace(\"Validation loss: \", \"\")) for text in data_loss[\"Validation loss\"]]"
      ],
      "metadata": {
        "id": "sAHXh6pMKotb"
      },
      "execution_count": 38,
      "outputs": []
    },
    {
      "cell_type": "code",
      "source": [
        "data_loss"
      ],
      "metadata": {
        "colab": {
          "base_uri": "https://localhost:8080/",
          "height": 424
        },
        "id": "Z2tElzO4LkCt",
        "outputId": "52000c58-bff2-4347-8141-ab3e6e42f0f1"
      },
      "execution_count": 39,
      "outputs": [
        {
          "output_type": "execute_result",
          "data": {
            "text/plain": [
              "    Epoch  Train loss  Validation loss\n",
              "0       0    3.736857         1.965741\n",
              "1       1    2.969769         1.790153\n",
              "2       2    2.709829         1.739318\n",
              "3       3    2.556359         1.649974\n",
              "4       4    2.433419         1.624846\n",
              "..    ...         ...              ...\n",
              "70     70    0.971554         0.743655\n",
              "71     71    0.959929         0.726670\n",
              "72     72    0.950325         0.716980\n",
              "73     73    0.934126         0.707496\n",
              "74     74    0.926377         0.720272\n",
              "\n",
              "[75 rows x 3 columns]"
            ],
            "text/html": [
              "\n",
              "  <div id=\"df-c0f26b22-7468-48af-aa7c-d02fb69d45f8\" class=\"colab-df-container\">\n",
              "    <div>\n",
              "<style scoped>\n",
              "    .dataframe tbody tr th:only-of-type {\n",
              "        vertical-align: middle;\n",
              "    }\n",
              "\n",
              "    .dataframe tbody tr th {\n",
              "        vertical-align: top;\n",
              "    }\n",
              "\n",
              "    .dataframe thead th {\n",
              "        text-align: right;\n",
              "    }\n",
              "</style>\n",
              "<table border=\"1\" class=\"dataframe\">\n",
              "  <thead>\n",
              "    <tr style=\"text-align: right;\">\n",
              "      <th></th>\n",
              "      <th>Epoch</th>\n",
              "      <th>Train loss</th>\n",
              "      <th>Validation loss</th>\n",
              "    </tr>\n",
              "  </thead>\n",
              "  <tbody>\n",
              "    <tr>\n",
              "      <th>0</th>\n",
              "      <td>0</td>\n",
              "      <td>3.736857</td>\n",
              "      <td>1.965741</td>\n",
              "    </tr>\n",
              "    <tr>\n",
              "      <th>1</th>\n",
              "      <td>1</td>\n",
              "      <td>2.969769</td>\n",
              "      <td>1.790153</td>\n",
              "    </tr>\n",
              "    <tr>\n",
              "      <th>2</th>\n",
              "      <td>2</td>\n",
              "      <td>2.709829</td>\n",
              "      <td>1.739318</td>\n",
              "    </tr>\n",
              "    <tr>\n",
              "      <th>3</th>\n",
              "      <td>3</td>\n",
              "      <td>2.556359</td>\n",
              "      <td>1.649974</td>\n",
              "    </tr>\n",
              "    <tr>\n",
              "      <th>4</th>\n",
              "      <td>4</td>\n",
              "      <td>2.433419</td>\n",
              "      <td>1.624846</td>\n",
              "    </tr>\n",
              "    <tr>\n",
              "      <th>...</th>\n",
              "      <td>...</td>\n",
              "      <td>...</td>\n",
              "      <td>...</td>\n",
              "    </tr>\n",
              "    <tr>\n",
              "      <th>70</th>\n",
              "      <td>70</td>\n",
              "      <td>0.971554</td>\n",
              "      <td>0.743655</td>\n",
              "    </tr>\n",
              "    <tr>\n",
              "      <th>71</th>\n",
              "      <td>71</td>\n",
              "      <td>0.959929</td>\n",
              "      <td>0.726670</td>\n",
              "    </tr>\n",
              "    <tr>\n",
              "      <th>72</th>\n",
              "      <td>72</td>\n",
              "      <td>0.950325</td>\n",
              "      <td>0.716980</td>\n",
              "    </tr>\n",
              "    <tr>\n",
              "      <th>73</th>\n",
              "      <td>73</td>\n",
              "      <td>0.934126</td>\n",
              "      <td>0.707496</td>\n",
              "    </tr>\n",
              "    <tr>\n",
              "      <th>74</th>\n",
              "      <td>74</td>\n",
              "      <td>0.926377</td>\n",
              "      <td>0.720272</td>\n",
              "    </tr>\n",
              "  </tbody>\n",
              "</table>\n",
              "<p>75 rows × 3 columns</p>\n",
              "</div>\n",
              "    <div class=\"colab-df-buttons\">\n",
              "\n",
              "  <div class=\"colab-df-container\">\n",
              "    <button class=\"colab-df-convert\" onclick=\"convertToInteractive('df-c0f26b22-7468-48af-aa7c-d02fb69d45f8')\"\n",
              "            title=\"Convert this dataframe to an interactive table.\"\n",
              "            style=\"display:none;\">\n",
              "\n",
              "  <svg xmlns=\"http://www.w3.org/2000/svg\" height=\"24px\" viewBox=\"0 -960 960 960\">\n",
              "    <path d=\"M120-120v-720h720v720H120Zm60-500h600v-160H180v160Zm220 220h160v-160H400v160Zm0 220h160v-160H400v160ZM180-400h160v-160H180v160Zm440 0h160v-160H620v160ZM180-180h160v-160H180v160Zm440 0h160v-160H620v160Z\"/>\n",
              "  </svg>\n",
              "    </button>\n",
              "\n",
              "  <style>\n",
              "    .colab-df-container {\n",
              "      display:flex;\n",
              "      gap: 12px;\n",
              "    }\n",
              "\n",
              "    .colab-df-convert {\n",
              "      background-color: #E8F0FE;\n",
              "      border: none;\n",
              "      border-radius: 50%;\n",
              "      cursor: pointer;\n",
              "      display: none;\n",
              "      fill: #1967D2;\n",
              "      height: 32px;\n",
              "      padding: 0 0 0 0;\n",
              "      width: 32px;\n",
              "    }\n",
              "\n",
              "    .colab-df-convert:hover {\n",
              "      background-color: #E2EBFA;\n",
              "      box-shadow: 0px 1px 2px rgba(60, 64, 67, 0.3), 0px 1px 3px 1px rgba(60, 64, 67, 0.15);\n",
              "      fill: #174EA6;\n",
              "    }\n",
              "\n",
              "    .colab-df-buttons div {\n",
              "      margin-bottom: 4px;\n",
              "    }\n",
              "\n",
              "    [theme=dark] .colab-df-convert {\n",
              "      background-color: #3B4455;\n",
              "      fill: #D2E3FC;\n",
              "    }\n",
              "\n",
              "    [theme=dark] .colab-df-convert:hover {\n",
              "      background-color: #434B5C;\n",
              "      box-shadow: 0px 1px 3px 1px rgba(0, 0, 0, 0.15);\n",
              "      filter: drop-shadow(0px 1px 2px rgba(0, 0, 0, 0.3));\n",
              "      fill: #FFFFFF;\n",
              "    }\n",
              "  </style>\n",
              "\n",
              "    <script>\n",
              "      const buttonEl =\n",
              "        document.querySelector('#df-c0f26b22-7468-48af-aa7c-d02fb69d45f8 button.colab-df-convert');\n",
              "      buttonEl.style.display =\n",
              "        google.colab.kernel.accessAllowed ? 'block' : 'none';\n",
              "\n",
              "      async function convertToInteractive(key) {\n",
              "        const element = document.querySelector('#df-c0f26b22-7468-48af-aa7c-d02fb69d45f8');\n",
              "        const dataTable =\n",
              "          await google.colab.kernel.invokeFunction('convertToInteractive',\n",
              "                                                    [key], {});\n",
              "        if (!dataTable) return;\n",
              "\n",
              "        const docLinkHtml = 'Like what you see? Visit the ' +\n",
              "          '<a target=\"_blank\" href=https://colab.research.google.com/notebooks/data_table.ipynb>data table notebook</a>'\n",
              "          + ' to learn more about interactive tables.';\n",
              "        element.innerHTML = '';\n",
              "        dataTable['output_type'] = 'display_data';\n",
              "        await google.colab.output.renderOutput(dataTable, element);\n",
              "        const docLink = document.createElement('div');\n",
              "        docLink.innerHTML = docLinkHtml;\n",
              "        element.appendChild(docLink);\n",
              "      }\n",
              "    </script>\n",
              "  </div>\n",
              "\n",
              "\n",
              "<div id=\"df-631172d4-08c9-4826-acbb-b10c0fa3a21c\">\n",
              "  <button class=\"colab-df-quickchart\" onclick=\"quickchart('df-631172d4-08c9-4826-acbb-b10c0fa3a21c')\"\n",
              "            title=\"Suggest charts\"\n",
              "            style=\"display:none;\">\n",
              "\n",
              "<svg xmlns=\"http://www.w3.org/2000/svg\" height=\"24px\"viewBox=\"0 0 24 24\"\n",
              "     width=\"24px\">\n",
              "    <g>\n",
              "        <path d=\"M19 3H5c-1.1 0-2 .9-2 2v14c0 1.1.9 2 2 2h14c1.1 0 2-.9 2-2V5c0-1.1-.9-2-2-2zM9 17H7v-7h2v7zm4 0h-2V7h2v10zm4 0h-2v-4h2v4z\"/>\n",
              "    </g>\n",
              "</svg>\n",
              "  </button>\n",
              "\n",
              "<style>\n",
              "  .colab-df-quickchart {\n",
              "      --bg-color: #E8F0FE;\n",
              "      --fill-color: #1967D2;\n",
              "      --hover-bg-color: #E2EBFA;\n",
              "      --hover-fill-color: #174EA6;\n",
              "      --disabled-fill-color: #AAA;\n",
              "      --disabled-bg-color: #DDD;\n",
              "  }\n",
              "\n",
              "  [theme=dark] .colab-df-quickchart {\n",
              "      --bg-color: #3B4455;\n",
              "      --fill-color: #D2E3FC;\n",
              "      --hover-bg-color: #434B5C;\n",
              "      --hover-fill-color: #FFFFFF;\n",
              "      --disabled-bg-color: #3B4455;\n",
              "      --disabled-fill-color: #666;\n",
              "  }\n",
              "\n",
              "  .colab-df-quickchart {\n",
              "    background-color: var(--bg-color);\n",
              "    border: none;\n",
              "    border-radius: 50%;\n",
              "    cursor: pointer;\n",
              "    display: none;\n",
              "    fill: var(--fill-color);\n",
              "    height: 32px;\n",
              "    padding: 0;\n",
              "    width: 32px;\n",
              "  }\n",
              "\n",
              "  .colab-df-quickchart:hover {\n",
              "    background-color: var(--hover-bg-color);\n",
              "    box-shadow: 0 1px 2px rgba(60, 64, 67, 0.3), 0 1px 3px 1px rgba(60, 64, 67, 0.15);\n",
              "    fill: var(--button-hover-fill-color);\n",
              "  }\n",
              "\n",
              "  .colab-df-quickchart-complete:disabled,\n",
              "  .colab-df-quickchart-complete:disabled:hover {\n",
              "    background-color: var(--disabled-bg-color);\n",
              "    fill: var(--disabled-fill-color);\n",
              "    box-shadow: none;\n",
              "  }\n",
              "\n",
              "  .colab-df-spinner {\n",
              "    border: 2px solid var(--fill-color);\n",
              "    border-color: transparent;\n",
              "    border-bottom-color: var(--fill-color);\n",
              "    animation:\n",
              "      spin 1s steps(1) infinite;\n",
              "  }\n",
              "\n",
              "  @keyframes spin {\n",
              "    0% {\n",
              "      border-color: transparent;\n",
              "      border-bottom-color: var(--fill-color);\n",
              "      border-left-color: var(--fill-color);\n",
              "    }\n",
              "    20% {\n",
              "      border-color: transparent;\n",
              "      border-left-color: var(--fill-color);\n",
              "      border-top-color: var(--fill-color);\n",
              "    }\n",
              "    30% {\n",
              "      border-color: transparent;\n",
              "      border-left-color: var(--fill-color);\n",
              "      border-top-color: var(--fill-color);\n",
              "      border-right-color: var(--fill-color);\n",
              "    }\n",
              "    40% {\n",
              "      border-color: transparent;\n",
              "      border-right-color: var(--fill-color);\n",
              "      border-top-color: var(--fill-color);\n",
              "    }\n",
              "    60% {\n",
              "      border-color: transparent;\n",
              "      border-right-color: var(--fill-color);\n",
              "    }\n",
              "    80% {\n",
              "      border-color: transparent;\n",
              "      border-right-color: var(--fill-color);\n",
              "      border-bottom-color: var(--fill-color);\n",
              "    }\n",
              "    90% {\n",
              "      border-color: transparent;\n",
              "      border-bottom-color: var(--fill-color);\n",
              "    }\n",
              "  }\n",
              "</style>\n",
              "\n",
              "  <script>\n",
              "    async function quickchart(key) {\n",
              "      const quickchartButtonEl =\n",
              "        document.querySelector('#' + key + ' button');\n",
              "      quickchartButtonEl.disabled = true;  // To prevent multiple clicks.\n",
              "      quickchartButtonEl.classList.add('colab-df-spinner');\n",
              "      try {\n",
              "        const charts = await google.colab.kernel.invokeFunction(\n",
              "            'suggestCharts', [key], {});\n",
              "      } catch (error) {\n",
              "        console.error('Error during call to suggestCharts:', error);\n",
              "      }\n",
              "      quickchartButtonEl.classList.remove('colab-df-spinner');\n",
              "      quickchartButtonEl.classList.add('colab-df-quickchart-complete');\n",
              "    }\n",
              "    (() => {\n",
              "      let quickchartButtonEl =\n",
              "        document.querySelector('#df-631172d4-08c9-4826-acbb-b10c0fa3a21c button');\n",
              "      quickchartButtonEl.style.display =\n",
              "        google.colab.kernel.accessAllowed ? 'block' : 'none';\n",
              "    })();\n",
              "  </script>\n",
              "</div>\n",
              "    </div>\n",
              "  </div>\n"
            ]
          },
          "metadata": {},
          "execution_count": 39
        }
      ]
    },
    {
      "cell_type": "code",
      "source": [
        "plt.plot(data_loss[\"Train loss\"], label=\"train_loss\")\n",
        "plt.plot(data_loss[\"Validation loss\"], label=\"val_loss\")\n",
        "plt.title(\"MedQADataset_base\")\n",
        "plt.legend()\n",
        "plt.show()"
      ],
      "metadata": {
        "colab": {
          "base_uri": "https://localhost:8080/",
          "height": 452
        },
        "id": "xpZGprg23LdJ",
        "outputId": "12600fc9-311c-4b01-9072-889490e9c4d5"
      },
      "execution_count": 40,
      "outputs": [
        {
          "output_type": "display_data",
          "data": {
            "text/plain": [
              "<Figure size 640x480 with 1 Axes>"
            ],
            "image/png": "[encoded data removed]"
          },
          "metadata": {}
        }
      ]
    },
    {
      "cell_type": "code",
      "source": [],
      "metadata": {
        "id": "yEJBQs5vL8Mv"
      },
      "execution_count": null,
      "outputs": []
    }
  ]
}