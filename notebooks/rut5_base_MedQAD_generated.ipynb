{
  "nbformat": 4,
  "nbformat_minor": 0,
  "metadata": {
    "colab": {
      "provenance": [],
      "gpuType": "T4"
    },
    "kernelspec": {
      "name": "python3",
      "display_name": "Python 3"
    },
    "language_info": {
      "name": "python"
    },
    "accelerator": "GPU"
  },
  "cells": [
    {
      "cell_type": "code",
      "execution_count": 1,
      "metadata": {
        "id": "v8nP5os46vx6",
        "colab": {
          "base_uri": "https://localhost:8080/"
        },
        "outputId": "e6980e11-8095-4ada-a192-1263df06a7da"
      },
      "outputs": [
        {
          "output_type": "stream",
          "name": "stdout",
          "text": [
            "Requirement already satisfied: transformers in /usr/local/lib/python3.10/dist-packages (4.35.2)\n",
            "Requirement already satisfied: filelock in /usr/local/lib/python3.10/dist-packages (from transformers) (3.13.1)\n",
            "Requirement already satisfied: huggingface-hub<1.0,>=0.16.4 in /usr/local/lib/python3.10/dist-packages (from transformers) (0.19.4)\n",
            "Requirement already satisfied: numpy>=1.17 in /usr/local/lib/python3.10/dist-packages (from transformers) (1.23.5)\n",
            "Requirement already satisfied: packaging>=20.0 in /usr/local/lib/python3.10/dist-packages (from transformers) (23.2)\n",
            "Requirement already satisfied: pyyaml>=5.1 in /usr/local/lib/python3.10/dist-packages (from transformers) (6.0.1)\n",
            "Requirement already satisfied: regex!=2019.12.17 in /usr/local/lib/python3.10/dist-packages (from transformers) (2023.6.3)\n",
            "Requirement already satisfied: requests in /usr/local/lib/python3.10/dist-packages (from transformers) (2.31.0)\n",
            "Requirement already satisfied: tokenizers<0.19,>=0.14 in /usr/local/lib/python3.10/dist-packages (from transformers) (0.15.0)\n",
            "Requirement already satisfied: safetensors>=0.3.1 in /usr/local/lib/python3.10/dist-packages (from transformers) (0.4.1)\n",
            "Requirement already satisfied: tqdm>=4.27 in /usr/local/lib/python3.10/dist-packages (from transformers) (4.66.1)\n",
            "Requirement already satisfied: fsspec>=2023.5.0 in /usr/local/lib/python3.10/dist-packages (from huggingface-hub<1.0,>=0.16.4->transformers) (2023.6.0)\n",
            "Requirement already satisfied: typing-extensions>=3.7.4.3 in /usr/local/lib/python3.10/dist-packages (from huggingface-hub<1.0,>=0.16.4->transformers) (4.5.0)\n",
            "Requirement already satisfied: charset-normalizer<4,>=2 in /usr/local/lib/python3.10/dist-packages (from requests->transformers) (3.3.2)\n",
            "Requirement already satisfied: idna<4,>=2.5 in /usr/local/lib/python3.10/dist-packages (from requests->transformers) (3.6)\n",
            "Requirement already satisfied: urllib3<3,>=1.21.1 in /usr/local/lib/python3.10/dist-packages (from requests->transformers) (2.0.7)\n",
            "Requirement already satisfied: certifi>=2017.4.17 in /usr/local/lib/python3.10/dist-packages (from requests->transformers) (2023.11.17)\n",
            "Collecting evaluate\n",
            "  Downloading evaluate-0.4.1-py3-none-any.whl (84 kB)\n",
            "\u001b[2K     \u001b[90m━━━━━━━━━━━━━━━━━━━━━━━━━━━━━━━━━━━━━━━━\u001b[0m \u001b[32m84.1/84.1 kB\u001b[0m \u001b[31m2.1 MB/s\u001b[0m eta \u001b[36m0:00:00\u001b[0m\n",
            "\u001b[?25hCollecting datasets>=2.0.0 (from evaluate)\n",
            "  Downloading datasets-2.15.0-py3-none-any.whl (521 kB)\n",
            "\u001b[2K     \u001b[90m━━━━━━━━━━━━━━━━━━━━━━━━━━━━━━━━━━━━━━━━\u001b[0m \u001b[32m521.2/521.2 kB\u001b[0m \u001b[31m8.4 MB/s\u001b[0m eta \u001b[36m0:00:00\u001b[0m\n",
            "\u001b[?25hRequirement already satisfied: numpy>=1.17 in /usr/local/lib/python3.10/dist-packages (from evaluate) (1.23.5)\n",
            "Collecting dill (from evaluate)\n",
            "  Downloading dill-0.3.7-py3-none-any.whl (115 kB)\n",
            "\u001b[2K     \u001b[90m━━━━━━━━━━━━━━━━━━━━━━━━━━━━━━━━━━━━━━━━\u001b[0m \u001b[32m115.3/115.3 kB\u001b[0m \u001b[31m6.2 MB/s\u001b[0m eta \u001b[36m0:00:00\u001b[0m\n",
            "\u001b[?25hRequirement already satisfied: pandas in /usr/local/lib/python3.10/dist-packages (from evaluate) (1.5.3)\n",
            "Requirement already satisfied: requests>=2.19.0 in /usr/local/lib/python3.10/dist-packages (from evaluate) (2.31.0)\n",
            "Requirement already satisfied: tqdm>=4.62.1 in /usr/local/lib/python3.10/dist-packages (from evaluate) (4.66.1)\n",
            "Requirement already satisfied: xxhash in /usr/local/lib/python3.10/dist-packages (from evaluate) (3.4.1)\n",
            "Collecting multiprocess (from evaluate)\n",
            "  Downloading multiprocess-0.70.15-py310-none-any.whl (134 kB)\n",
            "\u001b[2K     \u001b[90m━━━━━━━━━━━━━━━━━━━━━━━━━━━━━━━━━━━━━━━━\u001b[0m \u001b[32m134.8/134.8 kB\u001b[0m \u001b[31m8.1 MB/s\u001b[0m eta \u001b[36m0:00:00\u001b[0m\n",
            "\u001b[?25hRequirement already satisfied: fsspec[http]>=2021.05.0 in /usr/local/lib/python3.10/dist-packages (from evaluate) (2023.6.0)\n",
            "Requirement already satisfied: huggingface-hub>=0.7.0 in /usr/local/lib/python3.10/dist-packages (from evaluate) (0.19.4)\n",
            "Requirement already satisfied: packaging in /usr/local/lib/python3.10/dist-packages (from evaluate) (23.2)\n",
            "Collecting responses<0.19 (from evaluate)\n",
            "  Downloading responses-0.18.0-py3-none-any.whl (38 kB)\n",
            "Requirement already satisfied: pyarrow>=8.0.0 in /usr/local/lib/python3.10/dist-packages (from datasets>=2.0.0->evaluate) (9.0.0)\n",
            "Collecting pyarrow-hotfix (from datasets>=2.0.0->evaluate)\n",
            "  Downloading pyarrow_hotfix-0.6-py3-none-any.whl (7.9 kB)\n",
            "Requirement already satisfied: aiohttp in /usr/local/lib/python3.10/dist-packages (from datasets>=2.0.0->evaluate) (3.9.1)\n",
            "Requirement already satisfied: pyyaml>=5.1 in /usr/local/lib/python3.10/dist-packages (from datasets>=2.0.0->evaluate) (6.0.1)\n",
            "Requirement already satisfied: filelock in /usr/local/lib/python3.10/dist-packages (from huggingface-hub>=0.7.0->evaluate) (3.13.1)\n",
            "Requirement already satisfied: typing-extensions>=3.7.4.3 in /usr/local/lib/python3.10/dist-packages (from huggingface-hub>=0.7.0->evaluate) (4.5.0)\n",
            "Requirement already satisfied: charset-normalizer<4,>=2 in /usr/local/lib/python3.10/dist-packages (from requests>=2.19.0->evaluate) (3.3.2)\n",
            "Requirement already satisfied: idna<4,>=2.5 in /usr/local/lib/python3.10/dist-packages (from requests>=2.19.0->evaluate) (3.6)\n",
            "Requirement already satisfied: urllib3<3,>=1.21.1 in /usr/local/lib/python3.10/dist-packages (from requests>=2.19.0->evaluate) (2.0.7)\n",
            "Requirement already satisfied: certifi>=2017.4.17 in /usr/local/lib/python3.10/dist-packages (from requests>=2.19.0->evaluate) (2023.11.17)\n",
            "Requirement already satisfied: python-dateutil>=2.8.1 in /usr/local/lib/python3.10/dist-packages (from pandas->evaluate) (2.8.2)\n",
            "Requirement already satisfied: pytz>=2020.1 in /usr/local/lib/python3.10/dist-packages (from pandas->evaluate) (2023.3.post1)\n",
            "Requirement already satisfied: attrs>=17.3.0 in /usr/local/lib/python3.10/dist-packages (from aiohttp->datasets>=2.0.0->evaluate) (23.1.0)\n",
            "Requirement already satisfied: multidict<7.0,>=4.5 in /usr/local/lib/python3.10/dist-packages (from aiohttp->datasets>=2.0.0->evaluate) (6.0.4)\n",
            "Requirement already satisfied: yarl<2.0,>=1.0 in /usr/local/lib/python3.10/dist-packages (from aiohttp->datasets>=2.0.0->evaluate) (1.9.3)\n",
            "Requirement already satisfied: frozenlist>=1.1.1 in /usr/local/lib/python3.10/dist-packages (from aiohttp->datasets>=2.0.0->evaluate) (1.4.0)\n",
            "Requirement already satisfied: aiosignal>=1.1.2 in /usr/local/lib/python3.10/dist-packages (from aiohttp->datasets>=2.0.0->evaluate) (1.3.1)\n",
            "Requirement already satisfied: async-timeout<5.0,>=4.0 in /usr/local/lib/python3.10/dist-packages (from aiohttp->datasets>=2.0.0->evaluate) (4.0.3)\n",
            "Requirement already satisfied: six>=1.5 in /usr/local/lib/python3.10/dist-packages (from python-dateutil>=2.8.1->pandas->evaluate) (1.16.0)\n",
            "Installing collected packages: pyarrow-hotfix, dill, responses, multiprocess, datasets, evaluate\n",
            "Successfully installed datasets-2.15.0 dill-0.3.7 evaluate-0.4.1 multiprocess-0.70.15 pyarrow-hotfix-0.6 responses-0.18.0\n",
            "Collecting sentencepiece\n",
            "  Downloading sentencepiece-0.1.99-cp310-cp310-manylinux_2_17_x86_64.manylinux2014_x86_64.whl (1.3 MB)\n",
            "\u001b[2K     \u001b[90m━━━━━━━━━━━━━━━━━━━━━━━━━━━━━━━━━━━━━━━━\u001b[0m \u001b[32m1.3/1.3 MB\u001b[0m \u001b[31m7.7 MB/s\u001b[0m eta \u001b[36m0:00:00\u001b[0m\n",
            "\u001b[?25hInstalling collected packages: sentencepiece\n",
            "Successfully installed sentencepiece-0.1.99\n"
          ]
        }
      ],
      "source": [
        "!pip install transformers\n",
        "!pip install evaluate\n",
        "!pip install sentencepiece"
      ]
    },
    {
      "cell_type": "code",
      "source": [
        "import pandas as pd\n",
        "import torch\n",
        "from tqdm import tqdm\n",
        "import torch.nn as nn\n",
        "from torch.optim import Adam\n",
        "from torch.utils.data import Dataset, DataLoader, RandomSampler\n",
        "from transformers import T5Model, T5ForConditionalGeneration, T5TokenizerFast\n",
        "from sklearn.model_selection import train_test_split\n",
        "import warnings\n",
        "warnings.filterwarnings(\"ignore\")\n",
        "\n",
        "import locale\n",
        "locale.getpreferredencoding = lambda: \"UTF-8\"\n",
        "!pip install rouge-score\n",
        "from rouge_score import rouge_scorer"
      ],
      "metadata": {
        "colab": {
          "base_uri": "https://localhost:8080/"
        },
        "id": "yBGQMVTn7eKU",
        "outputId": "eafa48e0-2191-4053-effc-1a536e9b3675"
      },
      "execution_count": 2,
      "outputs": [
        {
          "output_type": "stream",
          "name": "stdout",
          "text": [
            "Collecting rouge-score\n",
            "  Downloading rouge_score-0.1.2.tar.gz (17 kB)\n",
            "  Preparing metadata (setup.py) ... \u001b[?25l\u001b[?25hdone\n",
            "Requirement already satisfied: absl-py in /usr/local/lib/python3.10/dist-packages (from rouge-score) (1.4.0)\n",
            "Requirement already satisfied: nltk in /usr/local/lib/python3.10/dist-packages (from rouge-score) (3.8.1)\n",
            "Requirement already satisfied: numpy in /usr/local/lib/python3.10/dist-packages (from rouge-score) (1.23.5)\n",
            "Requirement already satisfied: six>=1.14.0 in /usr/local/lib/python3.10/dist-packages (from rouge-score) (1.16.0)\n",
            "Requirement already satisfied: click in /usr/local/lib/python3.10/dist-packages (from nltk->rouge-score) (8.1.7)\n",
            "Requirement already satisfied: joblib in /usr/local/lib/python3.10/dist-packages (from nltk->rouge-score) (1.3.2)\n",
            "Requirement already satisfied: regex>=2021.8.3 in /usr/local/lib/python3.10/dist-packages (from nltk->rouge-score) (2023.6.3)\n",
            "Requirement already satisfied: tqdm in /usr/local/lib/python3.10/dist-packages (from nltk->rouge-score) (4.66.1)\n",
            "Building wheels for collected packages: rouge-score\n",
            "  Building wheel for rouge-score (setup.py) ... \u001b[?25l\u001b[?25hdone\n",
            "  Created wheel for rouge-score: filename=rouge_score-0.1.2-py3-none-any.whl size=24933 sha256=66a1a8758fea5a0b7e6e69553eb9e5ce72b2fe0a50942eae254c8caa0c7683fb\n",
            "  Stored in directory: /root/.cache/pip/wheels/5f/dd/89/461065a73be61a532ff8599a28e9beef17985c9e9c31e541b4\n",
            "Successfully built rouge-score\n",
            "Installing collected packages: rouge-score\n",
            "Successfully installed rouge-score-0.1.2\n"
          ]
        }
      ]
    },
    {
      "cell_type": "code",
      "source": [
        "from google.colab import drive\n",
        "drive.mount('/content/drive')"
      ],
      "metadata": {
        "colab": {
          "base_uri": "https://localhost:8080/"
        },
        "id": "WPenYrCa7gfb",
        "outputId": "18243c2a-2a23-4f30-f1ca-a1ea0cca6252"
      },
      "execution_count": 3,
      "outputs": [
        {
          "output_type": "stream",
          "name": "stdout",
          "text": [
            "Mounted at /content/drive\n"
          ]
        }
      ]
    },
    {
      "cell_type": "markdown",
      "source": [
        "### Import custom module"
      ],
      "metadata": {
        "id": "G8kFedQ070ZA"
      }
    },
    {
      "cell_type": "code",
      "source": [
        "%cd /content/drive/MyDrive/ITMO/T5QA/src\n",
        "%ls"
      ],
      "metadata": {
        "colab": {
          "base_uri": "https://localhost:8080/"
        },
        "id": "MqMGUiqx7i1R",
        "outputId": "48d7f8bf-d304-4bbd-fbd9-571974d30b95"
      },
      "execution_count": 4,
      "outputs": [
        {
          "output_type": "stream",
          "name": "stdout",
          "text": [
            "/content/drive/MyDrive/ITMO/T5QA/src\n",
            "medqadataset.py  \u001b[0m\u001b[01;34m__pycache__\u001b[0m/  trainer.py\n"
          ]
        }
      ]
    },
    {
      "cell_type": "code",
      "source": [
        "from medqadataset import MedQADataset\n",
        "import trainer"
      ],
      "metadata": {
        "id": "s1qmNQ2H75Q2"
      },
      "execution_count": 5,
      "outputs": []
    },
    {
      "cell_type": "code",
      "source": [
        "# For debugging\n",
        "# import importlib\n",
        "# importlib.reload(trainer)"
      ],
      "metadata": {
        "id": "TRnDjb_U77Ah"
      },
      "execution_count": null,
      "outputs": []
    },
    {
      "cell_type": "code",
      "source": [
        "#MODEL_NAME = \"cointegrated/rut5-base\"    # pre-trained model (first iteration)\n",
        "MODEL_NAME = \"/content/drive/MyDrive/ITMO/T5QA/checkpoints/best_model/MedQAModel_generated2\"\n",
        "TOKENIZER = T5TokenizerFast.from_pretrained(MODEL_NAME, local_files_only=True)\n",
        "#TOKENIZER = T5TokenizerFast.from_pretrained(MODEL_NAME)\n",
        "# Set up the T5 model\n",
        "MODEL = T5ForConditionalGeneration.from_pretrained(MODEL_NAME, return_dict=True)\n",
        "# Set up the optimizer\n",
        "OPTIMIZER = Adam(MODEL.parameters(), lr=0.0001)\n",
        "Q_LEN = 512    # Question Length\n",
        "T_LEN = 128    # Target Length\n",
        "BATCH_SIZE = 4\n",
        "DEVICE = 'cuda' if torch.cuda.is_available() else 'cpu'"
      ],
      "metadata": {
        "id": "1nGiNwdz78Oe"
      },
      "execution_count": 6,
      "outputs": []
    },
    {
      "cell_type": "code",
      "source": [
        "DEVICE"
      ],
      "metadata": {
        "colab": {
          "base_uri": "https://localhost:8080/",
          "height": 35
        },
        "id": "W8IbEgXG79ia",
        "outputId": "dd06ce11-f0a8-4327-c0ca-4b9767729419"
      },
      "execution_count": 6,
      "outputs": [
        {
          "output_type": "execute_result",
          "data": {
            "text/plain": [
              "'cuda'"
            ],
            "application/vnd.google.colaboratory.intrinsic+json": {
              "type": "string"
            }
          },
          "metadata": {},
          "execution_count": 6
        }
      ]
    },
    {
      "cell_type": "markdown",
      "source": [
        "### Read Data"
      ],
      "metadata": {
        "id": "8CbRo5c28Clf"
      }
    },
    {
      "cell_type": "code",
      "source": [
        "PATH = '/content/drive/MyDrive/ITMO/T5QA'\n",
        "\n",
        "data = pd.read_csv(PATH + '/data/MedQuAD_generated_concat.csv', index_col=0)\n",
        "data.index = [i for i in range(len(data))]\n",
        "\n",
        "data"
      ],
      "metadata": {
        "colab": {
          "base_uri": "https://localhost:8080/",
          "height": 424
        },
        "id": "rGEqTic98B9N",
        "outputId": "59eba61e-5393-4bc8-9410-e8a38a3a054a"
      },
      "execution_count": 7,
      "outputs": [
        {
          "output_type": "execute_result",
          "data": {
            "text/plain": [
              "                                               question  \\\n",
              "0          что такое кератодермия с пушистыми волосами?   \n",
              "1     сколько людей с шерстяными волосами страдают к...   \n",
              "2     каковы генетические изменения, связанные с кер...   \n",
              "3      передается ли кератодермия с пушистыми волосами?   \n",
              "4                           что такое синдром кноблоха?   \n",
              "...                                                 ...   \n",
              "6401                               что такое гипотония?   \n",
              "6402  какова основная причина дискинезии, связанной ...   \n",
              "6403      какова причина дискинезии, связанной с adcy5?   \n",
              "6404      какова причина дискинезии, связанной с adcy5?   \n",
              "6405                 какова причина наследования adcy5?   \n",
              "\n",
              "                                                context  \\\n",
              "0      кератодермия с пушистыми волосами представляе...   \n",
              "1      кератодермия с пушистыми волосами представляе...   \n",
              "2      кератодермия с пушистыми волосами представляе...   \n",
              "3      кератодермия с пушистыми волосами представляе...   \n",
              "4      синдром кноблоха редкое заболевание, характер...   \n",
              "...                                                 ...   \n",
              "6401  g часов, а также часто нарушают сон. непроизво...   \n",
              "6402  у некоторых людей с дискинезией, связанной с a...   \n",
              "6403  кинезия, в то время как у некоторых больных мо...   \n",
              "6404  название предполагает, что дискинезия, связанн...   \n",
              "6405  считается, что дискинезия увеличивает активнос...   \n",
              "\n",
              "                                                 answer  \n",
              "0     кератодермия с пушистыми волосами представляет...  \n",
              "1     кератодермия с пушистыми волосами встречается ...  \n",
              "2     мутации в генах jup, dsp, dsc2 и kank2 вызываю...  \n",
              "3     большинство случаев кератодермии с курчавыми в...  \n",
              "4     синдром кноблоха редкое заболевание, характери...  \n",
              "...                                                 ...  \n",
              "6401                              слабый мышечный тонус  \n",
              "6402                                       беспокойство  \n",
              "6403                 церебральный паралич или эпилепсия  \n",
              "6404                                          ген adcy5  \n",
              "6405                      по аутосомнодоминантному типу  \n",
              "\n",
              "[6406 rows x 3 columns]"
            ],
            "text/html": [
              "\n",
              "  <div id=\"df-eafd6a1a-d491-488e-af48-151c8d55b4d3\" class=\"colab-df-container\">\n",
              "    <div>\n",
              "<style scoped>\n",
              "    .dataframe tbody tr th:only-of-type {\n",
              "        vertical-align: middle;\n",
              "    }\n",
              "\n",
              "    .dataframe tbody tr th {\n",
              "        vertical-align: top;\n",
              "    }\n",
              "\n",
              "    .dataframe thead th {\n",
              "        text-align: right;\n",
              "    }\n",
              "</style>\n",
              "<table border=\"1\" class=\"dataframe\">\n",
              "  <thead>\n",
              "    <tr style=\"text-align: right;\">\n",
              "      <th></th>\n",
              "      <th>question</th>\n",
              "      <th>context</th>\n",
              "      <th>answer</th>\n",
              "    </tr>\n",
              "  </thead>\n",
              "  <tbody>\n",
              "    <tr>\n",
              "      <th>0</th>\n",
              "      <td>что такое кератодермия с пушистыми волосами?</td>\n",
              "      <td>кератодермия с пушистыми волосами представляе...</td>\n",
              "      <td>кератодермия с пушистыми волосами представляет...</td>\n",
              "    </tr>\n",
              "    <tr>\n",
              "      <th>1</th>\n",
              "      <td>сколько людей с шерстяными волосами страдают к...</td>\n",
              "      <td>кератодермия с пушистыми волосами представляе...</td>\n",
              "      <td>кератодермия с пушистыми волосами встречается ...</td>\n",
              "    </tr>\n",
              "    <tr>\n",
              "      <th>2</th>\n",
              "      <td>каковы генетические изменения, связанные с кер...</td>\n",
              "      <td>кератодермия с пушистыми волосами представляе...</td>\n",
              "      <td>мутации в генах jup, dsp, dsc2 и kank2 вызываю...</td>\n",
              "    </tr>\n",
              "    <tr>\n",
              "      <th>3</th>\n",
              "      <td>передается ли кератодермия с пушистыми волосами?</td>\n",
              "      <td>кератодермия с пушистыми волосами представляе...</td>\n",
              "      <td>большинство случаев кератодермии с курчавыми в...</td>\n",
              "    </tr>\n",
              "    <tr>\n",
              "      <th>4</th>\n",
              "      <td>что такое синдром кноблоха?</td>\n",
              "      <td>синдром кноблоха редкое заболевание, характер...</td>\n",
              "      <td>синдром кноблоха редкое заболевание, характери...</td>\n",
              "    </tr>\n",
              "    <tr>\n",
              "      <th>...</th>\n",
              "      <td>...</td>\n",
              "      <td>...</td>\n",
              "      <td>...</td>\n",
              "    </tr>\n",
              "    <tr>\n",
              "      <th>6401</th>\n",
              "      <td>что такое гипотония?</td>\n",
              "      <td>g часов, а также часто нарушают сон. непроизво...</td>\n",
              "      <td>слабый мышечный тонус</td>\n",
              "    </tr>\n",
              "    <tr>\n",
              "      <th>6402</th>\n",
              "      <td>какова основная причина дискинезии, связанной ...</td>\n",
              "      <td>у некоторых людей с дискинезией, связанной с a...</td>\n",
              "      <td>беспокойство</td>\n",
              "    </tr>\n",
              "    <tr>\n",
              "      <th>6403</th>\n",
              "      <td>какова причина дискинезии, связанной с adcy5?</td>\n",
              "      <td>кинезия, в то время как у некоторых больных мо...</td>\n",
              "      <td>церебральный паралич или эпилепсия</td>\n",
              "    </tr>\n",
              "    <tr>\n",
              "      <th>6404</th>\n",
              "      <td>какова причина дискинезии, связанной с adcy5?</td>\n",
              "      <td>название предполагает, что дискинезия, связанн...</td>\n",
              "      <td>ген adcy5</td>\n",
              "    </tr>\n",
              "    <tr>\n",
              "      <th>6405</th>\n",
              "      <td>какова причина наследования adcy5?</td>\n",
              "      <td>считается, что дискинезия увеличивает активнос...</td>\n",
              "      <td>по аутосомнодоминантному типу</td>\n",
              "    </tr>\n",
              "  </tbody>\n",
              "</table>\n",
              "<p>6406 rows × 3 columns</p>\n",
              "</div>\n",
              "    <div class=\"colab-df-buttons\">\n",
              "\n",
              "  <div class=\"colab-df-container\">\n",
              "    <button class=\"colab-df-convert\" onclick=\"convertToInteractive('df-eafd6a1a-d491-488e-af48-151c8d55b4d3')\"\n",
              "            title=\"Convert this dataframe to an interactive table.\"\n",
              "            style=\"display:none;\">\n",
              "\n",
              "  <svg xmlns=\"http://www.w3.org/2000/svg\" height=\"24px\" viewBox=\"0 -960 960 960\">\n",
              "    <path d=\"M120-120v-720h720v720H120Zm60-500h600v-160H180v160Zm220 220h160v-160H400v160Zm0 220h160v-160H400v160ZM180-400h160v-160H180v160Zm440 0h160v-160H620v160ZM180-180h160v-160H180v160Zm440 0h160v-160H620v160Z\"/>\n",
              "  </svg>\n",
              "    </button>\n",
              "\n",
              "  <style>\n",
              "    .colab-df-container {\n",
              "      display:flex;\n",
              "      gap: 12px;\n",
              "    }\n",
              "\n",
              "    .colab-df-convert {\n",
              "      background-color: #E8F0FE;\n",
              "      border: none;\n",
              "      border-radius: 50%;\n",
              "      cursor: pointer;\n",
              "      display: none;\n",
              "      fill: #1967D2;\n",
              "      height: 32px;\n",
              "      padding: 0 0 0 0;\n",
              "      width: 32px;\n",
              "    }\n",
              "\n",
              "    .colab-df-convert:hover {\n",
              "      background-color: #E2EBFA;\n",
              "      box-shadow: 0px 1px 2px rgba(60, 64, 67, 0.3), 0px 1px 3px 1px rgba(60, 64, 67, 0.15);\n",
              "      fill: #174EA6;\n",
              "    }\n",
              "\n",
              "    .colab-df-buttons div {\n",
              "      margin-bottom: 4px;\n",
              "    }\n",
              "\n",
              "    [theme=dark] .colab-df-convert {\n",
              "      background-color: #3B4455;\n",
              "      fill: #D2E3FC;\n",
              "    }\n",
              "\n",
              "    [theme=dark] .colab-df-convert:hover {\n",
              "      background-color: #434B5C;\n",
              "      box-shadow: 0px 1px 3px 1px rgba(0, 0, 0, 0.15);\n",
              "      filter: drop-shadow(0px 1px 2px rgba(0, 0, 0, 0.3));\n",
              "      fill: #FFFFFF;\n",
              "    }\n",
              "  </style>\n",
              "\n",
              "    <script>\n",
              "      const buttonEl =\n",
              "        document.querySelector('#df-eafd6a1a-d491-488e-af48-151c8d55b4d3 button.colab-df-convert');\n",
              "      buttonEl.style.display =\n",
              "        google.colab.kernel.accessAllowed ? 'block' : 'none';\n",
              "\n",
              "      async function convertToInteractive(key) {\n",
              "        const element = document.querySelector('#df-eafd6a1a-d491-488e-af48-151c8d55b4d3');\n",
              "        const dataTable =\n",
              "          await google.colab.kernel.invokeFunction('convertToInteractive',\n",
              "                                                    [key], {});\n",
              "        if (!dataTable) return;\n",
              "\n",
              "        const docLinkHtml = 'Like what you see? Visit the ' +\n",
              "          '<a target=\"_blank\" href=https://colab.research.google.com/notebooks/data_table.ipynb>data table notebook</a>'\n",
              "          + ' to learn more about interactive tables.';\n",
              "        element.innerHTML = '';\n",
              "        dataTable['output_type'] = 'display_data';\n",
              "        await google.colab.output.renderOutput(dataTable, element);\n",
              "        const docLink = document.createElement('div');\n",
              "        docLink.innerHTML = docLinkHtml;\n",
              "        element.appendChild(docLink);\n",
              "      }\n",
              "    </script>\n",
              "  </div>\n",
              "\n",
              "\n",
              "<div id=\"df-b9614170-03e1-4403-970d-b5afd04ab2d8\">\n",
              "  <button class=\"colab-df-quickchart\" onclick=\"quickchart('df-b9614170-03e1-4403-970d-b5afd04ab2d8')\"\n",
              "            title=\"Suggest charts\"\n",
              "            style=\"display:none;\">\n",
              "\n",
              "<svg xmlns=\"http://www.w3.org/2000/svg\" height=\"24px\"viewBox=\"0 0 24 24\"\n",
              "     width=\"24px\">\n",
              "    <g>\n",
              "        <path d=\"M19 3H5c-1.1 0-2 .9-2 2v14c0 1.1.9 2 2 2h14c1.1 0 2-.9 2-2V5c0-1.1-.9-2-2-2zM9 17H7v-7h2v7zm4 0h-2V7h2v10zm4 0h-2v-4h2v4z\"/>\n",
              "    </g>\n",
              "</svg>\n",
              "  </button>\n",
              "\n",
              "<style>\n",
              "  .colab-df-quickchart {\n",
              "      --bg-color: #E8F0FE;\n",
              "      --fill-color: #1967D2;\n",
              "      --hover-bg-color: #E2EBFA;\n",
              "      --hover-fill-color: #174EA6;\n",
              "      --disabled-fill-color: #AAA;\n",
              "      --disabled-bg-color: #DDD;\n",
              "  }\n",
              "\n",
              "  [theme=dark] .colab-df-quickchart {\n",
              "      --bg-color: #3B4455;\n",
              "      --fill-color: #D2E3FC;\n",
              "      --hover-bg-color: #434B5C;\n",
              "      --hover-fill-color: #FFFFFF;\n",
              "      --disabled-bg-color: #3B4455;\n",
              "      --disabled-fill-color: #666;\n",
              "  }\n",
              "\n",
              "  .colab-df-quickchart {\n",
              "    background-color: var(--bg-color);\n",
              "    border: none;\n",
              "    border-radius: 50%;\n",
              "    cursor: pointer;\n",
              "    display: none;\n",
              "    fill: var(--fill-color);\n",
              "    height: 32px;\n",
              "    padding: 0;\n",
              "    width: 32px;\n",
              "  }\n",
              "\n",
              "  .colab-df-quickchart:hover {\n",
              "    background-color: var(--hover-bg-color);\n",
              "    box-shadow: 0 1px 2px rgba(60, 64, 67, 0.3), 0 1px 3px 1px rgba(60, 64, 67, 0.15);\n",
              "    fill: var(--button-hover-fill-color);\n",
              "  }\n",
              "\n",
              "  .colab-df-quickchart-complete:disabled,\n",
              "  .colab-df-quickchart-complete:disabled:hover {\n",
              "    background-color: var(--disabled-bg-color);\n",
              "    fill: var(--disabled-fill-color);\n",
              "    box-shadow: none;\n",
              "  }\n",
              "\n",
              "  .colab-df-spinner {\n",
              "    border: 2px solid var(--fill-color);\n",
              "    border-color: transparent;\n",
              "    border-bottom-color: var(--fill-color);\n",
              "    animation:\n",
              "      spin 1s steps(1) infinite;\n",
              "  }\n",
              "\n",
              "  @keyframes spin {\n",
              "    0% {\n",
              "      border-color: transparent;\n",
              "      border-bottom-color: var(--fill-color);\n",
              "      border-left-color: var(--fill-color);\n",
              "    }\n",
              "    20% {\n",
              "      border-color: transparent;\n",
              "      border-left-color: var(--fill-color);\n",
              "      border-top-color: var(--fill-color);\n",
              "    }\n",
              "    30% {\n",
              "      border-color: transparent;\n",
              "      border-left-color: var(--fill-color);\n",
              "      border-top-color: var(--fill-color);\n",
              "      border-right-color: var(--fill-color);\n",
              "    }\n",
              "    40% {\n",
              "      border-color: transparent;\n",
              "      border-right-color: var(--fill-color);\n",
              "      border-top-color: var(--fill-color);\n",
              "    }\n",
              "    60% {\n",
              "      border-color: transparent;\n",
              "      border-right-color: var(--fill-color);\n",
              "    }\n",
              "    80% {\n",
              "      border-color: transparent;\n",
              "      border-right-color: var(--fill-color);\n",
              "      border-bottom-color: var(--fill-color);\n",
              "    }\n",
              "    90% {\n",
              "      border-color: transparent;\n",
              "      border-bottom-color: var(--fill-color);\n",
              "    }\n",
              "  }\n",
              "</style>\n",
              "\n",
              "  <script>\n",
              "    async function quickchart(key) {\n",
              "      const quickchartButtonEl =\n",
              "        document.querySelector('#' + key + ' button');\n",
              "      quickchartButtonEl.disabled = true;  // To prevent multiple clicks.\n",
              "      quickchartButtonEl.classList.add('colab-df-spinner');\n",
              "      try {\n",
              "        const charts = await google.colab.kernel.invokeFunction(\n",
              "            'suggestCharts', [key], {});\n",
              "      } catch (error) {\n",
              "        console.error('Error during call to suggestCharts:', error);\n",
              "      }\n",
              "      quickchartButtonEl.classList.remove('colab-df-spinner');\n",
              "      quickchartButtonEl.classList.add('colab-df-quickchart-complete');\n",
              "    }\n",
              "    (() => {\n",
              "      let quickchartButtonEl =\n",
              "        document.querySelector('#df-b9614170-03e1-4403-970d-b5afd04ab2d8 button');\n",
              "      quickchartButtonEl.style.display =\n",
              "        google.colab.kernel.accessAllowed ? 'block' : 'none';\n",
              "    })();\n",
              "  </script>\n",
              "</div>\n",
              "    </div>\n",
              "  </div>\n"
            ]
          },
          "metadata": {},
          "execution_count": 7
        }
      ]
    },
    {
      "cell_type": "markdown",
      "source": [
        "### Example"
      ],
      "metadata": {
        "id": "PkZVY4zh8xvx"
      }
    },
    {
      "cell_type": "code",
      "source": [
        "sample = data.iloc[5]\n",
        "encoding = TOKENIZER(\n",
        "    sample[\"question\"],\n",
        "    sample[\"context\"],\n",
        "    max_length=512,\n",
        "    padding=\"max_length\",\n",
        "    truncation=\"only_second\",\n",
        "    return_attention_mask=True,\n",
        "    add_special_tokens=True,\n",
        "    return_tensors='pt'\n",
        ")\n",
        "\n",
        "answer_encoding = TOKENIZER(\n",
        "    sample[\"answer\"],\n",
        "    max_length=128,\n",
        "    padding=\"max_length\",\n",
        "    truncation=True,\n",
        "    return_attention_mask=True,\n",
        "    add_special_tokens=True,\n",
        "    return_tensors=\"pt\"\n",
        ")\n",
        "\n",
        "labels = answer_encoding[\"input_ids\"]\n",
        "\n",
        "output = MODEL(\n",
        "    input_ids=encoding[\"input_ids\"],\n",
        "    attention_mask=encoding[\"attention_mask\"],\n",
        "    labels=labels\n",
        ")"
      ],
      "metadata": {
        "id": "qnSxjkN08Mg1"
      },
      "execution_count": 8,
      "outputs": []
    },
    {
      "cell_type": "code",
      "source": [
        "output.loss"
      ],
      "metadata": {
        "colab": {
          "base_uri": "https://localhost:8080/"
        },
        "id": "aUKlnB1p817r",
        "outputId": "63a83eb8-64b1-4d21-e77c-b40de73dc572"
      },
      "execution_count": 9,
      "outputs": [
        {
          "output_type": "execute_result",
          "data": {
            "text/plain": [
              "tensor(103.7389, grad_fn=<NllLossBackward0>)"
            ]
          },
          "metadata": {},
          "execution_count": 9
        }
      ]
    },
    {
      "cell_type": "code",
      "source": [
        "sample_q = data.iloc[5][\"question\"]\n",
        "sample_a = data.iloc[5][\"answer\"]\n",
        "\n",
        "sample_encoding = TOKENIZER(sample_q, sample_a)"
      ],
      "metadata": {
        "id": "QfxO1l1E83id"
      },
      "execution_count": 10,
      "outputs": []
    },
    {
      "cell_type": "code",
      "source": [
        "sample_encoding.keys()"
      ],
      "metadata": {
        "colab": {
          "base_uri": "https://localhost:8080/"
        },
        "id": "Sw0sQ_ET88rM",
        "outputId": "de9355bf-5782-40a0-f22b-46c516ba6b4f"
      },
      "execution_count": 11,
      "outputs": [
        {
          "output_type": "execute_result",
          "data": {
            "text/plain": [
              "dict_keys(['input_ids', 'attention_mask'])"
            ]
          },
          "metadata": {},
          "execution_count": 11
        }
      ]
    },
    {
      "cell_type": "code",
      "source": [
        "preds = [\n",
        "    TOKENIZER.decode(input_id, skip_special_tokens=True, clean_up_tokenization_spaces=True)\n",
        "    for input_id in sample_encoding[\"input_ids\"]\n",
        "]"
      ],
      "metadata": {
        "id": "Yhv23nmm8-Vo"
      },
      "execution_count": 12,
      "outputs": []
    },
    {
      "cell_type": "code",
      "source": [
        "\" \".join(preds)"
      ],
      "metadata": {
        "colab": {
          "base_uri": "https://localhost:8080/",
          "height": 35
        },
        "id": "ePsYZOWq8_Q0",
        "outputId": "8b8cc2d4-5d7c-4bf0-c50c-3c1c690cbd05"
      },
      "execution_count": 13,
      "outputs": [
        {
          "output_type": "execute_result",
          "data": {
            "text/plain": [
              "' сколько люд ей страда ет си ндром ом кн обл оха ?  си ндром кн обл оха ред кое заболевани е .  о днако  точная распростран енность это го заболевани я не известн а . '"
            ],
            "application/vnd.google.colaboratory.intrinsic+json": {
              "type": "string"
            }
          },
          "metadata": {},
          "execution_count": 13
        }
      ]
    },
    {
      "cell_type": "markdown",
      "source": [
        "### Dataloaders"
      ],
      "metadata": {
        "id": "zbB7ttDF9C57"
      }
    },
    {
      "cell_type": "code",
      "source": [
        "train_data, test_data = train_test_split(data, test_size=0.02, random_state=42)\n",
        "train_data, val_data = train_test_split(train_data, test_size=0.2, random_state=42)\n",
        "\n",
        "print(f\"Train shape: {train_data.shape}\")\n",
        "print(f\"Validation shape: {val_data.shape}\")\n",
        "print(f\"Test shape: {test_data.shape}\")\n",
        "\n",
        "train_sampler = RandomSampler(train_data.index)\n",
        "val_sampler = RandomSampler(val_data.index)\n",
        "\n",
        "qa_dataset = MedQADataset(TOKENIZER, data, Q_LEN, T_LEN)\n",
        "\n",
        "train_loader = DataLoader(qa_dataset, batch_size=BATCH_SIZE, sampler=train_sampler)\n",
        "val_loader = DataLoader(qa_dataset, batch_size=BATCH_SIZE, sampler=val_sampler)\n",
        "\n",
        "scheduler = torch.optim.lr_scheduler.ReduceLROnPlateau(OPTIMIZER, patience=5, verbose=True)"
      ],
      "metadata": {
        "colab": {
          "base_uri": "https://localhost:8080/"
        },
        "id": "yrObgoMB9AUp",
        "outputId": "8ec122eb-494d-499e-b6ad-3870a3efd9bc"
      },
      "execution_count": 14,
      "outputs": [
        {
          "output_type": "stream",
          "name": "stdout",
          "text": [
            "Train shape: (5021, 3)\n",
            "Validation shape: (1256, 3)\n",
            "Test shape: (129, 3)\n"
          ]
        }
      ]
    },
    {
      "cell_type": "markdown",
      "source": [
        "### Train and validation loop"
      ],
      "metadata": {
        "id": "MKL1eAOm9KS8"
      }
    },
    {
      "cell_type": "code",
      "source": [
        "N_EPOCHS = 78\n",
        "STATE_DICT_PATH = '/content/drive/MyDrive/ITMO/T5QA/checkpoints/best_model/MedQAModel_generated2'\n",
        "\n",
        "trainer_module = trainer.Trainer(\n",
        "    MODEL,\n",
        "    N_EPOCHS,\n",
        "    STATE_DICT_PATH,\n",
        "    train_loader,\n",
        "    val_loader,\n",
        "    OPTIMIZER,\n",
        "    DEVICE,\n",
        "    TOKENIZER,\n",
        "    Q_LEN,\n",
        "    T_LEN,\n",
        "    scheduler\n",
        ")"
      ],
      "metadata": {
        "id": "FBWepbLF9F5P"
      },
      "execution_count": 15,
      "outputs": []
    },
    {
      "cell_type": "code",
      "source": [
        "trainer_module.fit()"
      ],
      "metadata": {
        "colab": {
          "base_uri": "https://localhost:8080/"
        },
        "id": "3tCiQZvU9gyx",
        "outputId": "fbaf57b7-8a24-41e1-a1e0-7ce8cdfb6ca1"
      },
      "execution_count": null,
      "outputs": [
        {
          "output_type": "stream",
          "name": "stderr",
          "text": [
            "Training batches: 100%|██████████| 1256/1256 [14:33<00:00,  1.44it/s]\n",
            "Validation batches: 100%|██████████| 314/314 [01:22<00:00,  3.81it/s]\n"
          ]
        },
        {
          "output_type": "stream",
          "name": "stdout",
          "text": [
            "Epoch: 0\t\tTrain loss: 0.2818908814762001\t\tValidation loss: 0.1787968614749658\n"
          ]
        },
        {
          "output_type": "stream",
          "name": "stderr",
          "text": [
            "Training batches: 100%|██████████| 1256/1256 [14:33<00:00,  1.44it/s]\n",
            "Validation batches: 100%|██████████| 314/314 [01:20<00:00,  3.88it/s]\n"
          ]
        },
        {
          "output_type": "stream",
          "name": "stdout",
          "text": [
            "Epoch: 1\t\tTrain loss: 0.25946045455948824\t\tValidation loss: 0.15667781953782936\n"
          ]
        },
        {
          "output_type": "stream",
          "name": "stderr",
          "text": [
            "Training batches: 100%|██████████| 1256/1256 [14:33<00:00,  1.44it/s]\n",
            "Validation batches: 100%|██████████| 314/314 [01:21<00:00,  3.87it/s]\n"
          ]
        },
        {
          "output_type": "stream",
          "name": "stdout",
          "text": [
            "Epoch: 2\t\tTrain loss: 0.23667542299513028\t\tValidation loss: 0.1304616787482741\n"
          ]
        },
        {
          "output_type": "stream",
          "name": "stderr",
          "text": [
            "Training batches: 100%|██████████| 1256/1256 [14:33<00:00,  1.44it/s]\n",
            "Validation batches: 100%|██████████| 314/314 [01:21<00:00,  3.88it/s]\n"
          ]
        },
        {
          "output_type": "stream",
          "name": "stdout",
          "text": [
            "Epoch: 3\t\tTrain loss: 0.217786382015492\t\tValidation loss: 0.11864049406128989\n"
          ]
        },
        {
          "output_type": "stream",
          "name": "stderr",
          "text": [
            "Training batches: 100%|██████████| 1256/1256 [14:33<00:00,  1.44it/s]\n",
            "Validation batches: 100%|██████████| 314/314 [01:21<00:00,  3.87it/s]\n"
          ]
        },
        {
          "output_type": "stream",
          "name": "stdout",
          "text": [
            "Epoch: 4\t\tTrain loss: 0.20089177161923782\t\tValidation loss: 0.10105105999940235\n"
          ]
        },
        {
          "output_type": "stream",
          "name": "stderr",
          "text": [
            "Training batches: 100%|██████████| 1256/1256 [14:33<00:00,  1.44it/s]\n",
            "Validation batches: 100%|██████████| 314/314 [01:21<00:00,  3.87it/s]\n"
          ]
        },
        {
          "output_type": "stream",
          "name": "stdout",
          "text": [
            "Epoch: 5\t\tTrain loss: 0.18302270409032506\t\tValidation loss: 0.08018190872404653\n"
          ]
        },
        {
          "output_type": "stream",
          "name": "stderr",
          "text": [
            "Training batches: 100%|██████████| 1256/1256 [14:33<00:00,  1.44it/s]\n",
            "Validation batches: 100%|██████████| 314/314 [01:20<00:00,  3.88it/s]\n"
          ]
        },
        {
          "output_type": "stream",
          "name": "stdout",
          "text": [
            "Epoch: 6\t\tTrain loss: 0.17108835548218165\t\tValidation loss: 0.07002196595025291\n"
          ]
        },
        {
          "output_type": "stream",
          "name": "stderr",
          "text": [
            "Training batches: 100%|██████████| 1256/1256 [14:33<00:00,  1.44it/s]\n",
            "Validation batches: 100%|██████████| 314/314 [01:21<00:00,  3.87it/s]\n"
          ]
        },
        {
          "output_type": "stream",
          "name": "stdout",
          "text": [
            "Epoch: 7\t\tTrain loss: 0.15860131966937438\t\tValidation loss: 0.06519367904061227\n"
          ]
        },
        {
          "output_type": "stream",
          "name": "stderr",
          "text": [
            "Training batches: 100%|██████████| 1256/1256 [14:33<00:00,  1.44it/s]\n",
            "Validation batches: 100%|██████████| 314/314 [01:21<00:00,  3.85it/s]\n"
          ]
        },
        {
          "output_type": "stream",
          "name": "stdout",
          "text": [
            "Epoch: 8\t\tTrain loss: 0.1493495378284945\t\tValidation loss: 0.05084848739236451\n"
          ]
        },
        {
          "output_type": "stream",
          "name": "stderr",
          "text": [
            "Training batches: 100%|██████████| 1256/1256 [14:33<00:00,  1.44it/s]\n",
            "Validation batches: 100%|██████████| 314/314 [01:21<00:00,  3.87it/s]\n"
          ]
        },
        {
          "output_type": "stream",
          "name": "stdout",
          "text": [
            "Epoch: 9\t\tTrain loss: 0.14142028607194873\t\tValidation loss: 0.045797957992774384\n"
          ]
        },
        {
          "output_type": "stream",
          "name": "stderr",
          "text": [
            "Training batches: 100%|██████████| 1256/1256 [14:33<00:00,  1.44it/s]\n",
            "Validation batches: 100%|██████████| 314/314 [01:21<00:00,  3.86it/s]\n"
          ]
        },
        {
          "output_type": "stream",
          "name": "stdout",
          "text": [
            "Epoch: 10\t\tTrain loss: 0.12760373881323245\t\tValidation loss: 0.03953428583436165\n"
          ]
        },
        {
          "output_type": "stream",
          "name": "stderr",
          "text": [
            "Training batches: 100%|██████████| 1256/1256 [14:32<00:00,  1.44it/s]\n",
            "Validation batches: 100%|██████████| 314/314 [01:21<00:00,  3.85it/s]\n"
          ]
        },
        {
          "output_type": "stream",
          "name": "stdout",
          "text": [
            "Epoch: 11\t\tTrain loss: 0.11958530881792905\t\tValidation loss: 0.03507206244928062\n"
          ]
        },
        {
          "output_type": "stream",
          "name": "stderr",
          "text": [
            "Training batches: 100%|██████████| 1256/1256 [14:33<00:00,  1.44it/s]\n",
            "Validation batches: 100%|██████████| 314/314 [01:21<00:00,  3.86it/s]\n"
          ]
        },
        {
          "output_type": "stream",
          "name": "stdout",
          "text": [
            "Epoch: 12\t\tTrain loss: 0.11140893732819886\t\tValidation loss: 0.030282661705656026\n"
          ]
        },
        {
          "output_type": "stream",
          "name": "stderr",
          "text": [
            "Training batches: 100%|██████████| 1256/1256 [14:34<00:00,  1.44it/s]\n",
            "Validation batches: 100%|██████████| 314/314 [01:21<00:00,  3.87it/s]\n"
          ]
        },
        {
          "output_type": "stream",
          "name": "stdout",
          "text": [
            "Epoch: 13\t\tTrain loss: 0.10669404121726057\t\tValidation loss: 0.02407424639312441\n"
          ]
        },
        {
          "output_type": "stream",
          "name": "stderr",
          "text": [
            "Training batches: 100%|██████████| 1256/1256 [14:34<00:00,  1.44it/s]\n",
            "Validation batches: 100%|██████████| 314/314 [01:21<00:00,  3.88it/s]\n"
          ]
        },
        {
          "output_type": "stream",
          "name": "stdout",
          "text": [
            "Epoch: 14\t\tTrain loss: 0.09961680513126027\t\tValidation loss: 0.02668107630630101\n"
          ]
        },
        {
          "output_type": "stream",
          "name": "stderr",
          "text": [
            "Training batches: 100%|██████████| 1256/1256 [14:34<00:00,  1.44it/s]\n",
            "Validation batches: 100%|██████████| 314/314 [01:21<00:00,  3.87it/s]\n"
          ]
        },
        {
          "output_type": "stream",
          "name": "stdout",
          "text": [
            "Epoch: 15\t\tTrain loss: 0.09717303666965198\t\tValidation loss: 0.020242632325934425\n"
          ]
        },
        {
          "output_type": "stream",
          "name": "stderr",
          "text": [
            "Training batches: 100%|██████████| 1256/1256 [14:34<00:00,  1.44it/s]\n",
            "Validation batches: 100%|██████████| 314/314 [01:21<00:00,  3.87it/s]\n"
          ]
        },
        {
          "output_type": "stream",
          "name": "stdout",
          "text": [
            "Epoch: 16\t\tTrain loss: 0.09008254343839586\t\tValidation loss: 0.018255220738367123\n"
          ]
        },
        {
          "output_type": "stream",
          "name": "stderr",
          "text": [
            "Training batches: 100%|██████████| 1256/1256 [14:33<00:00,  1.44it/s]\n",
            "Validation batches: 100%|██████████| 314/314 [01:21<00:00,  3.86it/s]\n"
          ]
        },
        {
          "output_type": "stream",
          "name": "stdout",
          "text": [
            "Epoch: 17\t\tTrain loss: 0.08660821044985574\t\tValidation loss: 0.01707949109513025\n"
          ]
        },
        {
          "output_type": "stream",
          "name": "stderr",
          "text": [
            "Training batches: 100%|██████████| 1256/1256 [14:33<00:00,  1.44it/s]\n",
            "Validation batches: 100%|██████████| 314/314 [01:21<00:00,  3.88it/s]\n"
          ]
        },
        {
          "output_type": "stream",
          "name": "stdout",
          "text": [
            "Epoch: 18\t\tTrain loss: 0.07870704091414397\t\tValidation loss: 0.0160658341483213\n"
          ]
        },
        {
          "output_type": "stream",
          "name": "stderr",
          "text": [
            "Training batches: 100%|██████████| 1256/1256 [14:33<00:00,  1.44it/s]\n",
            "Validation batches: 100%|██████████| 314/314 [01:21<00:00,  3.86it/s]\n"
          ]
        },
        {
          "output_type": "stream",
          "name": "stdout",
          "text": [
            "Epoch: 19\t\tTrain loss: 0.07697193935446252\t\tValidation loss: 0.016137460002914415\n"
          ]
        },
        {
          "output_type": "stream",
          "name": "stderr",
          "text": [
            "Training batches:  66%|██████▋   | 834/1256 [09:40<04:54,  1.43it/s]"
          ]
        }
      ]
    },
    {
      "cell_type": "markdown",
      "source": [
        "### Evaluate results"
      ],
      "metadata": {
        "id": "C0AGmt5j9sdH"
      }
    },
    {
      "cell_type": "code",
      "source": [
        "test_sample = test_data.iloc[0]\n",
        "test_context = f\"Контекст: {test_sample['context']}\"\n",
        "test_question = f\"Вопрос: {test_sample['question']}\"\n",
        "test_answer = f\"Ответ: {test_sample['answer']}\"\n",
        "\n",
        "test_question\n",
        "\n",
        "pred = trainer_module.predict_answer(\n",
        "    test_context,\n",
        "    test_question,\n",
        "    test_answer,\n",
        "    print_text=True\n",
        ")\n",
        "\n",
        "pred"
      ],
      "metadata": {
        "id": "vs4bvqvH9jkI",
        "colab": {
          "base_uri": "https://localhost:8080/"
        },
        "outputId": "526a2988-6547-49df-864c-033810a68b1f"
      },
      "execution_count": 20,
      "outputs": [
        {
          "output_type": "stream",
          "name": "stdout",
          "text": [
            "Контекст: независимо от того, кормите ли вы ребенка грудным молоком, детской смесью или и тем, и другим, вам придется покупать бутылочки и соски. у вас есть большой выбор, поэтому может быть трудно понять, что купить. узнайте о различных вариантах и ​​о том, как ухаживать за бутылочками и сосками. как выбрать бутылочку и соску. тип соски и бутылочки, которые вы выберете, в основном будет зависеть от того, какой тип будет использовать ваш ребенок. некоторые дети предпочитают определенную форму соска, или при использовании определенных бутылочек у них может выделяться меньше газов. другие менее привередливы к определенным бутылкам. начинать\n",
            "Вопрос: какой тип бутылочки и соски выбрать?\n",
            "Ответ: какой тип соски будет в основном зависеть от того,\n"
          ]
        },
        {
          "output_type": "execute_result",
          "data": {
            "text/plain": [
              "{'Reference Answer: ': 'Ответ: какой тип соски будет в основном зависеть от того, какой тип будет использовать ваш ребенок',\n",
              " 'Predicted Answer: ': 'Ответ: какой тип соски будет в основном зависеть от того,',\n",
              " 'BLEU Score: ': {'google_bleu': 0.6363636363636364},\n",
              " 'RougeL (precision): ': 0}"
            ]
          },
          "metadata": {},
          "execution_count": 20
        }
      ]
    },
    {
      "cell_type": "code",
      "source": [
        "# Calculate metrics on test\n",
        "bleu_avg, rouge_avg = trainer_module.calc_avg_metrics(test_data)\n",
        "print(\"Test:\")\n",
        "print(\"BLEU:\", bleu_avg)\n",
        "print(\"RougeL:\", rouge_avg)"
      ],
      "metadata": {
        "id": "EvH8HJsv9wkU",
        "colab": {
          "base_uri": "https://localhost:8080/"
        },
        "outputId": "e5bdcabb-fede-4909-e13b-fa43dde5d752"
      },
      "execution_count": 21,
      "outputs": [
        {
          "output_type": "stream",
          "name": "stdout",
          "text": [
            "Test:\n",
            "BLEU: 0.6961403496541807\n",
            "RougeL: 0.04571182478159222\n"
          ]
        }
      ]
    },
    {
      "cell_type": "code",
      "source": [
        "loss_filepath = \"/content/drive/MyDrive/ITMO/T5QA/data/t5_MedQA_generated_loss_42.csv\"\n",
        "# Plot loss\n",
        "trainer_module.plot_loss(filepath=loss_filepath)"
      ],
      "metadata": {
        "id": "zzUAmIz2_C5T",
        "colab": {
          "base_uri": "https://localhost:8080/",
          "height": 430
        },
        "outputId": "3ae12c7b-2885-4b2e-d0d0-c646aac4bdcd"
      },
      "execution_count": 18,
      "outputs": [
        {
          "output_type": "display_data",
          "data": {
            "text/plain": [
              "<Figure size 640x480 with 1 Axes>"
            ],
            "image/png": "[encoded data removed]"
          },
          "metadata": {}
        }
      ]
    },
    {
      "cell_type": "markdown",
      "source": [
        "### Inference"
      ],
      "metadata": {
        "id": "d1jTfpF7RJU5"
      }
    },
    {
      "cell_type": "code",
      "source": [
        "test_sample = test_data.iloc[20]\n",
        "test_context = f\"Контекст: {test_sample['context']}\"\n",
        "test_question = f\"Вопрос: {test_sample['question']}\"\n",
        "\n",
        "pred = trainer_module.predict_answer(\n",
        "   test_context,\n",
        "   test_question\n",
        ")\n",
        "\n",
        "print(test_question)\n",
        "print(test_context)\n",
        "print(pred)"
      ],
      "metadata": {
        "colab": {
          "base_uri": "https://localhost:8080/"
        },
        "id": "nskxjuZjRAaF",
        "outputId": "0fe41a41-ac8c-4c3f-e250-af3a4dcfe3bb"
      },
      "execution_count": 22,
      "outputs": [
        {
          "output_type": "stream",
          "name": "stdout",
          "text": [
            "Вопрос:  что такое увеит? также называется: ирит; парспланит; хориоидит; хориоретинит; передний увеит; задний увеит\n",
            "Контекст: увеит это отек и воспаление сосудистой оболочки глаза. увеа это средний слой стенки глаза. увеа снабжает кровью радужную оболочку в передней части глаза и сетчатку в задней части глаза. причины увеит может быть вызван аутоиммунными заболеваниями. эти заболевания возникают, когда иммунная система организма по ошибке атакует и разрушает здоровые ткани организма. примеры: анкилозирующий спондилит болезнь бехчета псориаз реактивный артрит ревматоидный артрит саркоидоз язвенный колит увеит также может быть вызван такими инфекциями, как: спид цитомегаловирус цмв ретинит опоясывающий лишай гистоплазмоз болезнь кавасаки сифилис токсоплазмоз воздействие токсинов или травмы также могут вызвать увеит. во многих случаях причина неизвестна. часто воспаление ограничивается только частью сосудистой оболочки глаза. наиболее распространенная форма увеита включает воспаление радужной оболочки в передней части глаза. в этом случае состояние называется иритом. в большинстве случаев встречается у здоровых людей. заболевание может затронуть только один глаз. чаще всего встречается у людей молодого и среднего возраста. задний увеит поражает заднюю часть глаза. в первую очередь это касается сосудистой оболочки. это слой кровеносных сосудов и соединительной ткани в среднем слое глаза. этот тип увеита называется хориоидитом. если вовлекается также сетчатка, это называется хориоретинитом. другая форма увеита парспланит. воспаление возникает в области, называемой плоской частью, которая расположена между радужной оболочкой и сосудистой оболочкой. pars planitis чаще всего встречается у молодых мужчин. обычно это не связано с какимлибо другим заболеванием. однако это может быть связано с болезнью крона и, возможно, с рассеянным склерозом. симптомы увеит может поражать один или оба глаза. симптомы зависят от того, какая часть сосудистой оболочки глаза воспалена. симптомы могут развиваться быстро и включать в себя: затуманивание зрения. темные, плавающие пятна в глазах. боль в глазах. покраснение глаз. чувствительность к свету. обследования и анализы. медицинский работник соберет полную историю болезни и проведет осмотр глаз. лабораторные тесты могут быть проведены, чтобы исключить инфекцию или слабую иммунную систему. если вы старше 25 лет и у вас есть планит, ваш врач предложит вам пройти мрт головного и спинного мозга. это исключит рассеянный склероз. лечение ирит и иридоциклит передний увеит чаще всего протекают в легкой форме. лечение может включать в себя: темные очки. глазные капли, расширяющие зрачок для облегчения боли. стероидные глазные капли. парс планит часто лечат стероидными глазными каплями. другие лекарства, в том числе стероиды, принимаемые внутрь, могут использоваться для подавления иммунной системы и уменьшения воспаления. лечение заднего увеита зависит от основной причины. он почти всегда включает пероральный прием стероидов. если увеит вызван общесистемной инфекцией, вам могут назначить антибиотики. вам также могут назначить мощные противовоспалительные препараты, называемые кортикостероидами. иногда для лечения тяжелого увеита используются определенные типы иммунодепрессантов. прогноз прогноз при правильном лечении большинство приступов переднего увеита проходят в течение нескольких дней или недель. однако проблема часто возвращается. задний увеит может длиться от месяцев до лет. это может привести к необратимому повреждению зрения, даже при лечении. возможные осложнения осложнения могут включать: катаракту. жидкость в сетчатке. глаукому. неправильный зрачок. отслоение сетчатки. потеря зрения. когда следует обратиться к медицинскому работнику. симптомы, требующие неотложной медицинской помощи: боль в глазах. снижение зрения. профилактика. инфекция или заболевание, лечение этого состояния может предотвратить увеит.\n",
            "Ответ: увеит это отек и раздражение сосудистой оболочки глаза\n"
          ]
        }
      ]
    },
    {
      "cell_type": "code",
      "source": [
        "test_sample = test_data.iloc[18]\n",
        "test_context = f\"Контекст: {test_sample['context']}\"\n",
        "test_question = f\"Вопрос: {test_sample['question']}\"\n",
        "\n",
        "pred = trainer_module.predict_answer(\n",
        "   test_context,\n",
        "   test_question\n",
        ")\n",
        "\n",
        "print(test_question)\n",
        "print(test_context)\n",
        "print(pred)"
      ],
      "metadata": {
        "id": "C9lKutS6_E29",
        "colab": {
          "base_uri": "https://localhost:8080/"
        },
        "outputId": "c34af3e7-229f-4771-c61d-967b428b6165"
      },
      "execution_count": 23,
      "outputs": [
        {
          "output_type": "stream",
          "name": "stdout",
          "text": [
            "Вопрос: какие меры вы предпринимаете, чтобы помочь потушить пламя?\n",
            "Контекст: вот эти шаги: оберните человека плотным материалом; например, шерстяное или хлопковое пальто, ковер или одеяло. это помогает потушить пламя. облейте человека водой. позвоните 911 или по местному номеру службы экстренной помощи. убедитесь, что человек больше не прикасается к горящим или дымящимся материалам. не снимайте обожженную одежду, прилипшую к коже. убедитесь, что человек дышит. при необходимости начните искусственное дыхание и сердечнолегочную реанимацию. накройте место ожога сухой стерильной повязкой при наличии или чистой тканью. лист подойдет, если\n",
            "Ответ: заверните человека в плотный материал\n"
          ]
        }
      ]
    },
    {
      "cell_type": "code",
      "source": [
        "test_sample = test_data.iloc[22]\n",
        "test_context = f\"Контекст: {test_sample['context']}\"\n",
        "test_question = f\"Вопрос: {test_sample['question']}\"\n",
        "\n",
        "pred = trainer_module.predict_answer(\n",
        "   test_context,\n",
        "   test_question\n",
        ")\n",
        "\n",
        "print(test_question)\n",
        "print(test_context)\n",
        "print(pred)"
      ],
      "metadata": {
        "colab": {
          "base_uri": "https://localhost:8080/"
        },
        "id": "3PUvypa0RQUr",
        "outputId": "db8ee55b-2fae-4a18-9a21-ba96abdf6e9f"
      },
      "execution_count": 24,
      "outputs": [
        {
          "output_type": "stream",
          "name": "stdout",
          "text": [
            "Вопрос: какие анализы назначают при метаболическом ацидозе?\n",
            "Контекст: зависят от основного заболевания или состояния. метаболический ацидоз сам по себе вызывает учащенное и глубокое дыхание, поскольку ваше тело пытается его компенсировать. также могут возникнуть спутанность сознания или вялость. тяжелый метаболический ацидоз может привести к шоку или смерти. симптомы респираторного ацидоза могут включать: спутанность сознания, утомляемость, летаргию, одышку, сонливость, осмотры и анализы. медицинский работник проведет медицинский осмотр и спросит о ваших симптомах. лабораторные анализы, которые могут быть назначены, включают: газы артериальной или венозной крови\n",
            "Ответ: лабораторные тесты\n"
          ]
        }
      ]
    },
    {
      "cell_type": "code",
      "source": [
        "test_sample = test_data.iloc[10]\n",
        "test_context = f\"Контекст: {test_sample['context']}\"\n",
        "test_question = f\"Вопрос: {test_sample['question']}\"\n",
        "\n",
        "pred = trainer_module.predict_answer(\n",
        "   test_context,\n",
        "   test_question\n",
        ")\n",
        "\n",
        "print(test_question)\n",
        "print(test_context)\n",
        "print(pred)"
      ],
      "metadata": {
        "id": "PBSlJnSLRPMp",
        "colab": {
          "base_uri": "https://localhost:8080/"
        },
        "outputId": "ff9e240e-4ad6-4548-e2fc-f724ebdbbf43"
      },
      "execution_count": 28,
      "outputs": [
        {
          "output_type": "stream",
          "name": "stdout",
          "text": [
            "Вопрос: как называется нетоксичный ингредиент пенного мыла для ванн?\n",
            "Контекст: отравление пенным мылом для ванн происходит, когда ктото проглатывает пенное мыло. эта статья предназначена только для информации. не используйте его для лечения или устранения фактического воздействия яда. если вы или ктото, с кем вы находитесь, подверглись воздействию, позвоните по местному номеру службы экстренной помощи например, 911 или в местный токсикологический центр можно связаться напрямую, позвонив на национальную бесплатную горячую линию помощи при отравлениях 18002221222. из любой точки сша. ядовитый ингредиент большинство мыла с пеной для ванн считаются неядовитыми нетоксичными.\n",
            "Ответ: неядовитый\n"
          ]
        }
      ]
    },
    {
      "cell_type": "code",
      "source": [],
      "metadata": {
        "id": "aZcw_FoyHEDo"
      },
      "execution_count": null,
      "outputs": []
    }
  ]
}