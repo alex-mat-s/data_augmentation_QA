{
  "cells": [
    {
      "cell_type": "code",
      "execution_count": null,
      "metadata": {
        "colab": {
          "background_save": true,
          "base_uri": "https://localhost:8080/"
        },
        "id": "SefP9by8eanL",
        "outputId": "48c5a7ce-91e4-496f-ab69-c6631639c821"
      },
      "outputs": [
        {
          "name": "stdout",
          "output_type": "stream",
          "text": [
            "Requirement already satisfied: transformers in /usr/local/lib/python3.10/dist-packages (4.35.2)\n",
            "Requirement already satisfied: filelock in /usr/local/lib/python3.10/dist-packages (from transformers) (3.13.1)\n",
            "Requirement already satisfied: huggingface-hub<1.0,>=0.16.4 in /usr/local/lib/python3.10/dist-packages (from transformers) (0.19.4)\n",
            "Requirement already satisfied: numpy>=1.17 in /usr/local/lib/python3.10/dist-packages (from transformers) (1.23.5)\n",
            "Requirement already satisfied: packaging>=20.0 in /usr/local/lib/python3.10/dist-packages (from transformers) (23.2)\n",
            "Requirement already satisfied: pyyaml>=5.1 in /usr/local/lib/python3.10/dist-packages (from transformers) (6.0.1)\n",
            "Requirement already satisfied: regex!=2019.12.17 in /usr/local/lib/python3.10/dist-packages (from transformers) (2023.6.3)\n",
            "Requirement already satisfied: requests in /usr/local/lib/python3.10/dist-packages (from transformers) (2.31.0)\n",
            "Requirement already satisfied: tokenizers<0.19,>=0.14 in /usr/local/lib/python3.10/dist-packages (from transformers) (0.15.0)\n",
            "Requirement already satisfied: safetensors>=0.3.1 in /usr/local/lib/python3.10/dist-packages (from transformers) (0.4.1)\n",
            "Requirement already satisfied: tqdm>=4.27 in /usr/local/lib/python3.10/dist-packages (from transformers) (4.66.1)\n",
            "Requirement already satisfied: fsspec>=2023.5.0 in /usr/local/lib/python3.10/dist-packages (from huggingface-hub<1.0,>=0.16.4->transformers) (2023.6.0)\n",
            "Requirement already satisfied: typing-extensions>=3.7.4.3 in /usr/local/lib/python3.10/dist-packages (from huggingface-hub<1.0,>=0.16.4->transformers) (4.5.0)\n",
            "Requirement already satisfied: charset-normalizer<4,>=2 in /usr/local/lib/python3.10/dist-packages (from requests->transformers) (3.3.2)\n",
            "Requirement already satisfied: idna<4,>=2.5 in /usr/local/lib/python3.10/dist-packages (from requests->transformers) (3.6)\n",
            "Requirement already satisfied: urllib3<3,>=1.21.1 in /usr/local/lib/python3.10/dist-packages (from requests->transformers) (2.0.7)\n",
            "Requirement already satisfied: certifi>=2017.4.17 in /usr/local/lib/python3.10/dist-packages (from requests->transformers) (2023.11.17)\n",
            "Collecting evaluate\n",
            "  Downloading evaluate-0.4.1-py3-none-any.whl (84 kB)\n",
            "\u001b[2K     \u001b[90m━━━━━━━━━━━━━━━━━━━━━━━━━━━━━━━━━━━━━━━━\u001b[0m \u001b[32m84.1/84.1 kB\u001b[0m \u001b[31m969.7 kB/s\u001b[0m eta \u001b[36m0:00:00\u001b[0m\n",
            "\u001b[?25hCollecting datasets>=2.0.0 (from evaluate)\n",
            "  Downloading datasets-2.15.0-py3-none-any.whl (521 kB)\n",
            "\u001b[2K     \u001b[90m━━━━━━━━━━━━━━━━━━━━━━━━━━━━━━━━━━━━━━━━\u001b[0m \u001b[32m521.2/521.2 kB\u001b[0m \u001b[31m9.8 MB/s\u001b[0m eta \u001b[36m0:00:00\u001b[0m\n",
            "\u001b[?25hRequirement already satisfied: numpy>=1.17 in /usr/local/lib/python3.10/dist-packages (from evaluate) (1.23.5)\n",
            "Collecting dill (from evaluate)\n",
            "  Downloading dill-0.3.7-py3-none-any.whl (115 kB)\n",
            "\u001b[2K     \u001b[90m━━━━━━━━━━━━━━━━━━━━━━━━━━━━━━━━━━━━━━━━\u001b[0m \u001b[32m115.3/115.3 kB\u001b[0m \u001b[31m7.4 MB/s\u001b[0m eta \u001b[36m0:00:00\u001b[0m\n",
            "\u001b[?25hRequirement already satisfied: pandas in /usr/local/lib/python3.10/dist-packages (from evaluate) (1.5.3)\n",
            "Requirement already satisfied: requests>=2.19.0 in /usr/local/lib/python3.10/dist-packages (from evaluate) (2.31.0)\n",
            "Requirement already satisfied: tqdm>=4.62.1 in /usr/local/lib/python3.10/dist-packages (from evaluate) (4.66.1)\n",
            "Requirement already satisfied: xxhash in /usr/local/lib/python3.10/dist-packages (from evaluate) (3.4.1)\n",
            "Collecting multiprocess (from evaluate)\n",
            "  Downloading multiprocess-0.70.15-py310-none-any.whl (134 kB)\n",
            "\u001b[2K     \u001b[90m━━━━━━━━━━━━━━━━━━━━━━━━━━━━━━━━━━━━━━━━\u001b[0m \u001b[32m134.8/134.8 kB\u001b[0m \u001b[31m16.1 MB/s\u001b[0m eta \u001b[36m0:00:00\u001b[0m\n",
            "\u001b[?25hRequirement already satisfied: fsspec[http]>=2021.05.0 in /usr/local/lib/python3.10/dist-packages (from evaluate) (2023.6.0)\n",
            "Requirement already satisfied: huggingface-hub>=0.7.0 in /usr/local/lib/python3.10/dist-packages (from evaluate) (0.19.4)\n",
            "Requirement already satisfied: packaging in /usr/local/lib/python3.10/dist-packages (from evaluate) (23.2)\n",
            "Collecting responses<0.19 (from evaluate)\n",
            "  Downloading responses-0.18.0-py3-none-any.whl (38 kB)\n",
            "Requirement already satisfied: pyarrow>=8.0.0 in /usr/local/lib/python3.10/dist-packages (from datasets>=2.0.0->evaluate) (10.0.1)\n",
            "Collecting pyarrow-hotfix (from datasets>=2.0.0->evaluate)\n",
            "  Downloading pyarrow_hotfix-0.6-py3-none-any.whl (7.9 kB)\n",
            "Requirement already satisfied: aiohttp in /usr/local/lib/python3.10/dist-packages (from datasets>=2.0.0->evaluate) (3.9.1)\n",
            "Requirement already satisfied: pyyaml>=5.1 in /usr/local/lib/python3.10/dist-packages (from datasets>=2.0.0->evaluate) (6.0.1)\n",
            "Requirement already satisfied: filelock in /usr/local/lib/python3.10/dist-packages (from huggingface-hub>=0.7.0->evaluate) (3.13.1)\n",
            "Requirement already satisfied: typing-extensions>=3.7.4.3 in /usr/local/lib/python3.10/dist-packages (from huggingface-hub>=0.7.0->evaluate) (4.5.0)\n",
            "Requirement already satisfied: charset-normalizer<4,>=2 in /usr/local/lib/python3.10/dist-packages (from requests>=2.19.0->evaluate) (3.3.2)\n",
            "Requirement already satisfied: idna<4,>=2.5 in /usr/local/lib/python3.10/dist-packages (from requests>=2.19.0->evaluate) (3.6)\n",
            "Requirement already satisfied: urllib3<3,>=1.21.1 in /usr/local/lib/python3.10/dist-packages (from requests>=2.19.0->evaluate) (2.0.7)\n",
            "Requirement already satisfied: certifi>=2017.4.17 in /usr/local/lib/python3.10/dist-packages (from requests>=2.19.0->evaluate) (2023.11.17)\n",
            "Requirement already satisfied: python-dateutil>=2.8.1 in /usr/local/lib/python3.10/dist-packages (from pandas->evaluate) (2.8.2)\n",
            "Requirement already satisfied: pytz>=2020.1 in /usr/local/lib/python3.10/dist-packages (from pandas->evaluate) (2023.3.post1)\n",
            "Requirement already satisfied: attrs>=17.3.0 in /usr/local/lib/python3.10/dist-packages (from aiohttp->datasets>=2.0.0->evaluate) (23.1.0)\n",
            "Requirement already satisfied: multidict<7.0,>=4.5 in /usr/local/lib/python3.10/dist-packages (from aiohttp->datasets>=2.0.0->evaluate) (6.0.4)\n",
            "Requirement already satisfied: yarl<2.0,>=1.0 in /usr/local/lib/python3.10/dist-packages (from aiohttp->datasets>=2.0.0->evaluate) (1.9.4)\n",
            "Requirement already satisfied: frozenlist>=1.1.1 in /usr/local/lib/python3.10/dist-packages (from aiohttp->datasets>=2.0.0->evaluate) (1.4.0)\n",
            "Requirement already satisfied: aiosignal>=1.1.2 in /usr/local/lib/python3.10/dist-packages (from aiohttp->datasets>=2.0.0->evaluate) (1.3.1)\n",
            "Requirement already satisfied: async-timeout<5.0,>=4.0 in /usr/local/lib/python3.10/dist-packages (from aiohttp->datasets>=2.0.0->evaluate) (4.0.3)\n",
            "Requirement already satisfied: six>=1.5 in /usr/local/lib/python3.10/dist-packages (from python-dateutil>=2.8.1->pandas->evaluate) (1.16.0)\n",
            "Installing collected packages: pyarrow-hotfix, dill, responses, multiprocess, datasets, evaluate\n",
            "Successfully installed datasets-2.15.0 dill-0.3.7 evaluate-0.4.1 multiprocess-0.70.15 pyarrow-hotfix-0.6 responses-0.18.0\n",
            "Collecting sentencepiece\n",
            "  Downloading sentencepiece-0.1.99-cp310-cp310-manylinux_2_17_x86_64.manylinux2014_x86_64.whl (1.3 MB)\n",
            "\u001b[2K     \u001b[90m━━━━━━━━━━━━━━━━━━━━━━━━━━━━━━━━━━━━━━━━\u001b[0m \u001b[32m1.3/1.3 MB\u001b[0m \u001b[31m6.5 MB/s\u001b[0m eta \u001b[36m0:00:00\u001b[0m\n",
            "\u001b[?25hInstalling collected packages: sentencepiece\n",
            "Successfully installed sentencepiece-0.1.99\n",
            "Collecting rouge\n",
            "  Downloading rouge-1.0.1-py3-none-any.whl (13 kB)\n",
            "Requirement already satisfied: six in /usr/local/lib/python3.10/dist-packages (from rouge) (1.16.0)\n",
            "Installing collected packages: rouge\n",
            "Successfully installed rouge-1.0.1\n"
          ]
        }
      ],
      "source": [
        "!pip install transformers\n",
        "!pip install evaluate\n",
        "!pip install sentencepiece\n",
        "!pip install rouge"
      ]
    },
    {
      "cell_type": "code",
      "execution_count": null,
      "metadata": {
        "colab": {
          "background_save": true
        },
        "id": "nDwpK2oNe6fk"
      },
      "outputs": [],
      "source": [
        "import pandas as pd\n",
        "import torch\n",
        "from tqdm import tqdm\n",
        "import torch.nn as nn\n",
        "from torch.optim import Adam\n",
        "from torch.utils.data import Dataset, DataLoader, RandomSampler\n",
        "from transformers import T5Model, T5ForConditionalGeneration, T5TokenizerFast\n",
        "from sklearn.model_selection import train_test_split\n",
        "import warnings\n",
        "warnings.filterwarnings(\"ignore\")\n",
        "\n",
        "import locale\n",
        "locale.getpreferredencoding = lambda: \"UTF-8\""
      ]
    },
    {
      "cell_type": "code",
      "execution_count": null,
      "metadata": {
        "id": "4WoMfVB0fEbU"
      },
      "outputs": [],
      "source": [
        "from google.colab import drive\n",
        "drive.mount('/content/drive')"
      ]
    },
    {
      "cell_type": "markdown",
      "metadata": {
        "id": "x1RtOoiHgWmZ"
      },
      "source": [
        "#### Import custom module"
      ]
    },
    {
      "cell_type": "code",
      "execution_count": null,
      "metadata": {
        "colab": {
          "base_uri": "https://localhost:8080/"
        },
        "id": "I8LRGSCigV0M",
        "outputId": "f052a931-04d7-4a78-f1e5-9d84ce044fbd"
      },
      "outputs": [
        {
          "name": "stdout",
          "output_type": "stream",
          "text": [
            "/content/drive/MyDrive/ITMO/src\n",
            "medqadataset.py  \u001b[0m\u001b[01;34m__pycache__\u001b[0m/  trainer.py\n"
          ]
        }
      ],
      "source": [
        "%cd /content/drive/MyDrive/ITMO/src\n",
        "%ls"
      ]
    },
    {
      "cell_type": "code",
      "execution_count": null,
      "metadata": {
        "id": "-Z5CQeWEgq2O"
      },
      "outputs": [],
      "source": [
        "from medqadataset import MedQADataset\n",
        "import trainer\n",
        "#from trainer import Trainer"
      ]
    },
    {
      "cell_type": "code",
      "execution_count": null,
      "metadata": {
        "id": "kgl0LxpemYGg"
      },
      "outputs": [],
      "source": [
        "# # For debugging\n",
        "# import importlib\n",
        "\n",
        "# importlib.reload(trainer)"
      ]
    },
    {
      "cell_type": "code",
      "execution_count": null,
      "metadata": {
        "colab": {
          "base_uri": "https://localhost:8080/",
          "height": 327,
          "referenced_widgets": [
            "aeab30c4789f4f56b080f6bc50f53761",
            "be6d4c4ef7074041b70fc0e1acb607e4",
            "0d7701765b1940888abb37817c4b7369",
            "2d8fbad562f4463f986ec3ff51544735",
            "f18b6613b81e4f3d869095e2644877a2",
            "ad9c1700b545473bb69270d11e1d55dc",
            "bf6ef6a8c6974ae488cb74dd35740dda",
            "cdbf6c026cb84d7d8fb4394c8b62156d",
            "be98515aa7c1432cadb715a208637603",
            "0b4cc02c79f94e5b91b148faf27eadb7",
            "7f53891d0aa946818ef0ec7386dd1e2c",
            "e9700476f32a4fc9a4b79df56c826205",
            "6f95c83966cf489eb384a443d7cf09bf",
            "a77252a94867482aa197aef1407150f2",
            "88e5209fd34a45b295fa2dac19f48bf0",
            "c3a866ec1edf44269345c7d6b13e35f5",
            "f6a45867f59f42e3b7da3d074a9f4d49",
            "05001970c2b248bd9e78dbc3b19047ac",
            "efb94512beaa4e0d822bbd13aa60fe0b",
            "4c42f3042057400bb5b0e4bd45971315",
            "54eb8c67de3e4af686bc84760f6fce42",
            "1e5215348f7a4383987bbf65a2b3f080",
            "51c33e5bd68c48beb065daf648d8284b",
            "823cdaed77d44d33b410a7a109ba78b1",
            "d6ac4e8d0dc84119aadad2c08f426737",
            "b133376e615243a2a6324f9738e91bae",
            "3f0b0cf032434eacb1624bf340863c45",
            "6ae737e941ed483ab3f3710b72dde55a",
            "f51e2c1fb3a049ccaf167cd081fe112f",
            "547ed23e024146d29f5da1381f5fa586",
            "ca121b61e53d447d80cbf7d890b8a1ce",
            "9351057c58414f5aa13f13edf39401a6",
            "26fac4f0b2f04082bdb0f18059eb403c",
            "0bdf68a1899e4ee9a7a481d86889ded9",
            "315fabbb3a04461fa8b01f960afdf999",
            "26b478ce938740dcb19f320f77f4b3e2",
            "d7001747b9994451a00537f0ccdcf70d",
            "b0a237ce8e214750aa9f5ae0e4ece395",
            "40b9f1055e9144f0a83a88bd60929cee",
            "ae36a363447543f78c527bd6fba29127",
            "f51f290426bd4d79b37b2fa4bac90e67",
            "45395c2283f645ff84b3886b556f1e43",
            "470287d02a3b4556972d3fd7195e4f72",
            "12535503659d4d26bf6ea8fdcbf1724d",
            "93976debd8874af98c9c18d1e695334c",
            "ebf850c975ef4293beaa25b57bc8f6bd",
            "249dd0615bef4a1fb1cd32cc9d1c2c96",
            "52970aa1f978402cb418ee7dbde45192",
            "dff90fa24500441abded263e5fadb735",
            "f2debbf28e7449d1a17f28e05c3dad6f",
            "820c5b49d1184e97b08d09526ae5bb92",
            "e2f959cf10dc4b02880b91557aecc718",
            "771ad2f2a47f498286a3e58c6815f261",
            "d4afbeaca1f2485dadbc11ba8ea676e5",
            "0dafb7f8df40491589b40d3e2a64e4f0"
          ]
        },
        "id": "5sCH7ZDZfGP5",
        "outputId": "94c88c47-e8cb-4b80-bdbc-18617adb96d6"
      },
      "outputs": [
        {
          "data": {
            "application/vnd.jupyter.widget-view+json": {
              "model_id": "aeab30c4789f4f56b080f6bc50f53761",
              "version_major": 2,
              "version_minor": 0
            },
            "text/plain": [
              "tokenizer_config.json:   0%|          | 0.00/233 [00:00<?, ?B/s]"
            ]
          },
          "metadata": {},
          "output_type": "display_data"
        },
        {
          "data": {
            "application/vnd.jupyter.widget-view+json": {
              "model_id": "e9700476f32a4fc9a4b79df56c826205",
              "version_major": 2,
              "version_minor": 0
            },
            "text/plain": [
              "spiece.model:   0%|          | 0.00/828k [00:00<?, ?B/s]"
            ]
          },
          "metadata": {},
          "output_type": "display_data"
        },
        {
          "data": {
            "application/vnd.jupyter.widget-view+json": {
              "model_id": "51c33e5bd68c48beb065daf648d8284b",
              "version_major": 2,
              "version_minor": 0
            },
            "text/plain": [
              "special_tokens_map.json:   0%|          | 0.00/65.0 [00:00<?, ?B/s]"
            ]
          },
          "metadata": {},
          "output_type": "display_data"
        },
        {
          "data": {
            "application/vnd.jupyter.widget-view+json": {
              "model_id": "0bdf68a1899e4ee9a7a481d86889ded9",
              "version_major": 2,
              "version_minor": 0
            },
            "text/plain": [
              "config.json:   0%|          | 0.00/664 [00:00<?, ?B/s]"
            ]
          },
          "metadata": {},
          "output_type": "display_data"
        },
        {
          "name": "stderr",
          "output_type": "stream",
          "text": [
            "You are using the default legacy behaviour of the <class 'transformers.models.t5.tokenization_t5.T5Tokenizer'>. This is expected, and simply means that the `legacy` (previous) behavior will be used so nothing changes for you. If you want to use the new behaviour, set `legacy=False`. This should only be set if you understand what it means, and thouroughly read the reason why this was added as explained in https://github.com/huggingface/transformers/pull/24565\n"
          ]
        },
        {
          "data": {
            "application/vnd.jupyter.widget-view+json": {
              "model_id": "93976debd8874af98c9c18d1e695334c",
              "version_major": 2,
              "version_minor": 0
            },
            "text/plain": [
              "model.safetensors:   0%|          | 0.00/977M [00:00<?, ?B/s]"
            ]
          },
          "metadata": {},
          "output_type": "display_data"
        }
      ],
      "source": [
        "MODEL_NAME = \"cointegrated/rut5-base\"    # pre-trained model (first iteration)\n",
        "#MODEL_NAME = \"/content/drive/MyDrive/ITMO/checkpoints/best_model/MedQAModel3\"\n",
        "#MODEL_NAME = \"/content/drive/MyDrive/ITMO/checkpoints/best_model/MedQAModel4\"\n",
        "#TOKENIZER = T5TokenizerFast.from_pretrained(MODEL_NAME, local_files_only=True)\n",
        "TOKENIZER = T5TokenizerFast.from_pretrained(MODEL_NAME)\n",
        "# Set up the T5 model\n",
        "MODEL = T5ForConditionalGeneration.from_pretrained(MODEL_NAME, return_dict=True)\n",
        "# Set up the optimizer\n",
        "OPTIMIZER = Adam(MODEL.parameters(), lr=0.0001)\n",
        "Q_LEN = 512    # Question Length\n",
        "T_LEN = 128    # Target Length\n",
        "BATCH_SIZE = 4\n",
        "DEVICE = 'cuda' if torch.cuda.is_available() else 'cpu'"
      ]
    },
    {
      "cell_type": "code",
      "execution_count": null,
      "metadata": {
        "colab": {
          "base_uri": "https://localhost:8080/",
          "height": 36
        },
        "id": "mSpYDgUkkQOw",
        "outputId": "098de6c7-d1fc-475a-86fd-8e30b8276190"
      },
      "outputs": [
        {
          "data": {
            "application/vnd.google.colaboratory.intrinsic+json": {
              "type": "string"
            },
            "text/plain": [
              "'cuda'"
            ]
          },
          "execution_count": 8,
          "metadata": {},
          "output_type": "execute_result"
        }
      ],
      "source": [
        "DEVICE"
      ]
    },
    {
      "cell_type": "markdown",
      "metadata": {
        "id": "t76j1C77fuDA"
      },
      "source": [
        "### Read Data"
      ]
    },
    {
      "cell_type": "code",
      "execution_count": null,
      "metadata": {
        "colab": {
          "base_uri": "https://localhost:8080/",
          "height": 1000
        },
        "id": "TTfXAtrNfemH",
        "outputId": "380f4878-8595-4671-b3b2-4151243bb009"
      },
      "outputs": [
        {
          "data": {
            "text/html": [
              "\n",
              "  <div id=\"df-1f925775-f8fc-4f1b-8977-0d06fbb936d9\" class=\"colab-df-container\">\n",
              "    <div>\n",
              "<style scoped>\n",
              "    .dataframe tbody tr th:only-of-type {\n",
              "        vertical-align: middle;\n",
              "    }\n",
              "\n",
              "    .dataframe tbody tr th {\n",
              "        vertical-align: top;\n",
              "    }\n",
              "\n",
              "    .dataframe thead th {\n",
              "        text-align: right;\n",
              "    }\n",
              "</style>\n",
              "<table border=\"1\" class=\"dataframe\">\n",
              "  <thead>\n",
              "    <tr style=\"text-align: right;\">\n",
              "      <th></th>\n",
              "      <th>question</th>\n",
              "      <th>context</th>\n",
              "      <th>answer</th>\n",
              "      <th>answer_start</th>\n",
              "    </tr>\n",
              "  </thead>\n",
              "  <tbody>\n",
              "    <tr>\n",
              "      <th>0</th>\n",
              "      <td>что такое кератодермия с пушистыми волосами?</td>\n",
              "      <td>кератодермия с пушистыми волосами представляе...</td>\n",
              "      <td>кератодермия с пушистыми волосами представляет...</td>\n",
              "      <td>9.0</td>\n",
              "    </tr>\n",
              "    <tr>\n",
              "      <th>1</th>\n",
              "      <td>сколько людей с шерстяными волосами страдают к...</td>\n",
              "      <td>кератодермия с пушистыми волосами представляе...</td>\n",
              "      <td>кератодермия с пушистыми волосами встречается ...</td>\n",
              "      <td>9.0</td>\n",
              "    </tr>\n",
              "    <tr>\n",
              "      <th>2</th>\n",
              "      <td>каковы генетические изменения, связанные с кер...</td>\n",
              "      <td>кератодермия с пушистыми волосами представляе...</td>\n",
              "      <td>мутации в генах jup, dsp, dsc2 и kank2 вызываю...</td>\n",
              "      <td>2551.0</td>\n",
              "    </tr>\n",
              "    <tr>\n",
              "      <th>3</th>\n",
              "      <td>передается ли кератодермия с пушистыми волосами?</td>\n",
              "      <td>кератодермия с пушистыми волосами представляе...</td>\n",
              "      <td>большинство случаев кератодермии с курчавыми в...</td>\n",
              "      <td>4573.0</td>\n",
              "    </tr>\n",
              "    <tr>\n",
              "      <th>4</th>\n",
              "      <td>что такое синдром кноблоха?</td>\n",
              "      <td>синдром кноблоха — редкое заболевание, характ...</td>\n",
              "      <td>синдром кноблоха — редкое заболевание, характе...</td>\n",
              "      <td>9.0</td>\n",
              "    </tr>\n",
              "    <tr>\n",
              "      <th>...</th>\n",
              "      <td>...</td>\n",
              "      <td>...</td>\n",
              "      <td>...</td>\n",
              "      <td>...</td>\n",
              "    </tr>\n",
              "    <tr>\n",
              "      <th>2210</th>\n",
              "      <td>есть ли у вас информация об измерении темпера...</td>\n",
              "      <td>оставьте термометр во рту на 3 минуты или пока...</td>\n",
              "      <td>если температура тела может быть высока, то эт...</td>\n",
              "      <td>NaN</td>\n",
              "    </tr>\n",
              "    <tr>\n",
              "      <th>2211</th>\n",
              "      <td>что такое дефицит аденозинмонофосфатдезаминазы?</td>\n",
              "      <td>у многих больных дефицит амфдезаминазы не вызы...</td>\n",
              "      <td>ученые считают, что дефицит амфдезаминазы може...</td>\n",
              "      <td>NaN</td>\n",
              "    </tr>\n",
              "    <tr>\n",
              "      <th>2212</th>\n",
              "      <td>сколько людей страдают от дефицита аденозинмо...</td>\n",
              "      <td>у многих больных дефицит амфдезаминазы не вызы...</td>\n",
              "      <td>амфдезаминазы является одним из наиболее распр...</td>\n",
              "      <td>NaN</td>\n",
              "    </tr>\n",
              "    <tr>\n",
              "      <th>2213</th>\n",
              "      <td>каковы генетические изменения, связанные с де...</td>\n",
              "      <td>у многих больных дефицит амфдезаминазы не вызы...</td>\n",
              "      <td>человек с дефицитом амфдезаминазы страдает от ...</td>\n",
              "      <td>NaN</td>\n",
              "    </tr>\n",
              "    <tr>\n",
              "      <th>2214</th>\n",
              "      <td>наследуется ли дефицит аденозинмонофосфатдеза...</td>\n",
              "      <td>у многих больных дефицит амфдезаминазы не вызы...</td>\n",
              "      <td>человек с аутосомнорецессивным заболеванием на...</td>\n",
              "      <td>NaN</td>\n",
              "    </tr>\n",
              "  </tbody>\n",
              "</table>\n",
              "<p>2215 rows × 4 columns</p>\n",
              "</div>\n",
              "    <div class=\"colab-df-buttons\">\n",
              "\n",
              "  <div class=\"colab-df-container\">\n",
              "    <button class=\"colab-df-convert\" onclick=\"convertToInteractive('df-1f925775-f8fc-4f1b-8977-0d06fbb936d9')\"\n",
              "            title=\"Convert this dataframe to an interactive table.\"\n",
              "            style=\"display:none;\">\n",
              "\n",
              "  <svg xmlns=\"http://www.w3.org/2000/svg\" height=\"24px\" viewBox=\"0 -960 960 960\">\n",
              "    <path d=\"M120-120v-720h720v720H120Zm60-500h600v-160H180v160Zm220 220h160v-160H400v160Zm0 220h160v-160H400v160ZM180-400h160v-160H180v160Zm440 0h160v-160H620v160ZM180-180h160v-160H180v160Zm440 0h160v-160H620v160Z\"/>\n",
              "  </svg>\n",
              "    </button>\n",
              "\n",
              "  <style>\n",
              "    .colab-df-container {\n",
              "      display:flex;\n",
              "      gap: 12px;\n",
              "    }\n",
              "\n",
              "    .colab-df-convert {\n",
              "      background-color: #E8F0FE;\n",
              "      border: none;\n",
              "      border-radius: 50%;\n",
              "      cursor: pointer;\n",
              "      display: none;\n",
              "      fill: #1967D2;\n",
              "      height: 32px;\n",
              "      padding: 0 0 0 0;\n",
              "      width: 32px;\n",
              "    }\n",
              "\n",
              "    .colab-df-convert:hover {\n",
              "      background-color: #E2EBFA;\n",
              "      box-shadow: 0px 1px 2px rgba(60, 64, 67, 0.3), 0px 1px 3px 1px rgba(60, 64, 67, 0.15);\n",
              "      fill: #174EA6;\n",
              "    }\n",
              "\n",
              "    .colab-df-buttons div {\n",
              "      margin-bottom: 4px;\n",
              "    }\n",
              "\n",
              "    [theme=dark] .colab-df-convert {\n",
              "      background-color: #3B4455;\n",
              "      fill: #D2E3FC;\n",
              "    }\n",
              "\n",
              "    [theme=dark] .colab-df-convert:hover {\n",
              "      background-color: #434B5C;\n",
              "      box-shadow: 0px 1px 3px 1px rgba(0, 0, 0, 0.15);\n",
              "      filter: drop-shadow(0px 1px 2px rgba(0, 0, 0, 0.3));\n",
              "      fill: #FFFFFF;\n",
              "    }\n",
              "  </style>\n",
              "\n",
              "    <script>\n",
              "      const buttonEl =\n",
              "        document.querySelector('#df-1f925775-f8fc-4f1b-8977-0d06fbb936d9 button.colab-df-convert');\n",
              "      buttonEl.style.display =\n",
              "        google.colab.kernel.accessAllowed ? 'block' : 'none';\n",
              "\n",
              "      async function convertToInteractive(key) {\n",
              "        const element = document.querySelector('#df-1f925775-f8fc-4f1b-8977-0d06fbb936d9');\n",
              "        const dataTable =\n",
              "          await google.colab.kernel.invokeFunction('convertToInteractive',\n",
              "                                                    [key], {});\n",
              "        if (!dataTable) return;\n",
              "\n",
              "        const docLinkHtml = 'Like what you see? Visit the ' +\n",
              "          '<a target=\"_blank\" href=https://colab.research.google.com/notebooks/data_table.ipynb>data table notebook</a>'\n",
              "          + ' to learn more about interactive tables.';\n",
              "        element.innerHTML = '';\n",
              "        dataTable['output_type'] = 'display_data';\n",
              "        await google.colab.output.renderOutput(dataTable, element);\n",
              "        const docLink = document.createElement('div');\n",
              "        docLink.innerHTML = docLinkHtml;\n",
              "        element.appendChild(docLink);\n",
              "      }\n",
              "    </script>\n",
              "  </div>\n",
              "\n",
              "\n",
              "<div id=\"df-7efeb5af-5f41-4f8d-be0d-8947dcc31044\">\n",
              "  <button class=\"colab-df-quickchart\" onclick=\"quickchart('df-7efeb5af-5f41-4f8d-be0d-8947dcc31044')\"\n",
              "            title=\"Suggest charts\"\n",
              "            style=\"display:none;\">\n",
              "\n",
              "<svg xmlns=\"http://www.w3.org/2000/svg\" height=\"24px\"viewBox=\"0 0 24 24\"\n",
              "     width=\"24px\">\n",
              "    <g>\n",
              "        <path d=\"M19 3H5c-1.1 0-2 .9-2 2v14c0 1.1.9 2 2 2h14c1.1 0 2-.9 2-2V5c0-1.1-.9-2-2-2zM9 17H7v-7h2v7zm4 0h-2V7h2v10zm4 0h-2v-4h2v4z\"/>\n",
              "    </g>\n",
              "</svg>\n",
              "  </button>\n",
              "\n",
              "<style>\n",
              "  .colab-df-quickchart {\n",
              "      --bg-color: #E8F0FE;\n",
              "      --fill-color: #1967D2;\n",
              "      --hover-bg-color: #E2EBFA;\n",
              "      --hover-fill-color: #174EA6;\n",
              "      --disabled-fill-color: #AAA;\n",
              "      --disabled-bg-color: #DDD;\n",
              "  }\n",
              "\n",
              "  [theme=dark] .colab-df-quickchart {\n",
              "      --bg-color: #3B4455;\n",
              "      --fill-color: #D2E3FC;\n",
              "      --hover-bg-color: #434B5C;\n",
              "      --hover-fill-color: #FFFFFF;\n",
              "      --disabled-bg-color: #3B4455;\n",
              "      --disabled-fill-color: #666;\n",
              "  }\n",
              "\n",
              "  .colab-df-quickchart {\n",
              "    background-color: var(--bg-color);\n",
              "    border: none;\n",
              "    border-radius: 50%;\n",
              "    cursor: pointer;\n",
              "    display: none;\n",
              "    fill: var(--fill-color);\n",
              "    height: 32px;\n",
              "    padding: 0;\n",
              "    width: 32px;\n",
              "  }\n",
              "\n",
              "  .colab-df-quickchart:hover {\n",
              "    background-color: var(--hover-bg-color);\n",
              "    box-shadow: 0 1px 2px rgba(60, 64, 67, 0.3), 0 1px 3px 1px rgba(60, 64, 67, 0.15);\n",
              "    fill: var(--button-hover-fill-color);\n",
              "  }\n",
              "\n",
              "  .colab-df-quickchart-complete:disabled,\n",
              "  .colab-df-quickchart-complete:disabled:hover {\n",
              "    background-color: var(--disabled-bg-color);\n",
              "    fill: var(--disabled-fill-color);\n",
              "    box-shadow: none;\n",
              "  }\n",
              "\n",
              "  .colab-df-spinner {\n",
              "    border: 2px solid var(--fill-color);\n",
              "    border-color: transparent;\n",
              "    border-bottom-color: var(--fill-color);\n",
              "    animation:\n",
              "      spin 1s steps(1) infinite;\n",
              "  }\n",
              "\n",
              "  @keyframes spin {\n",
              "    0% {\n",
              "      border-color: transparent;\n",
              "      border-bottom-color: var(--fill-color);\n",
              "      border-left-color: var(--fill-color);\n",
              "    }\n",
              "    20% {\n",
              "      border-color: transparent;\n",
              "      border-left-color: var(--fill-color);\n",
              "      border-top-color: var(--fill-color);\n",
              "    }\n",
              "    30% {\n",
              "      border-color: transparent;\n",
              "      border-left-color: var(--fill-color);\n",
              "      border-top-color: var(--fill-color);\n",
              "      border-right-color: var(--fill-color);\n",
              "    }\n",
              "    40% {\n",
              "      border-color: transparent;\n",
              "      border-right-color: var(--fill-color);\n",
              "      border-top-color: var(--fill-color);\n",
              "    }\n",
              "    60% {\n",
              "      border-color: transparent;\n",
              "      border-right-color: var(--fill-color);\n",
              "    }\n",
              "    80% {\n",
              "      border-color: transparent;\n",
              "      border-right-color: var(--fill-color);\n",
              "      border-bottom-color: var(--fill-color);\n",
              "    }\n",
              "    90% {\n",
              "      border-color: transparent;\n",
              "      border-bottom-color: var(--fill-color);\n",
              "    }\n",
              "  }\n",
              "</style>\n",
              "\n",
              "  <script>\n",
              "    async function quickchart(key) {\n",
              "      const quickchartButtonEl =\n",
              "        document.querySelector('#' + key + ' button');\n",
              "      quickchartButtonEl.disabled = true;  // To prevent multiple clicks.\n",
              "      quickchartButtonEl.classList.add('colab-df-spinner');\n",
              "      try {\n",
              "        const charts = await google.colab.kernel.invokeFunction(\n",
              "            'suggestCharts', [key], {});\n",
              "      } catch (error) {\n",
              "        console.error('Error during call to suggestCharts:', error);\n",
              "      }\n",
              "      quickchartButtonEl.classList.remove('colab-df-spinner');\n",
              "      quickchartButtonEl.classList.add('colab-df-quickchart-complete');\n",
              "    }\n",
              "    (() => {\n",
              "      let quickchartButtonEl =\n",
              "        document.querySelector('#df-7efeb5af-5f41-4f8d-be0d-8947dcc31044 button');\n",
              "      quickchartButtonEl.style.display =\n",
              "        google.colab.kernel.accessAllowed ? 'block' : 'none';\n",
              "    })();\n",
              "  </script>\n",
              "</div>\n",
              "    </div>\n",
              "  </div>\n"
            ],
            "text/plain": [
              "                                               question  \\\n",
              "0          что такое кератодермия с пушистыми волосами?   \n",
              "1     сколько людей с шерстяными волосами страдают к...   \n",
              "2     каковы генетические изменения, связанные с кер...   \n",
              "3      передается ли кератодермия с пушистыми волосами?   \n",
              "4                           что такое синдром кноблоха?   \n",
              "...                                                 ...   \n",
              "2210   есть ли у вас информация об измерении темпера...   \n",
              "2211    что такое дефицит аденозинмонофосфатдезаминазы?   \n",
              "2212   сколько людей страдают от дефицита аденозинмо...   \n",
              "2213   каковы генетические изменения, связанные с де...   \n",
              "2214   наследуется ли дефицит аденозинмонофосфатдеза...   \n",
              "\n",
              "                                                context  \\\n",
              "0      кератодермия с пушистыми волосами представляе...   \n",
              "1      кератодермия с пушистыми волосами представляе...   \n",
              "2      кератодермия с пушистыми волосами представляе...   \n",
              "3      кератодермия с пушистыми волосами представляе...   \n",
              "4      синдром кноблоха — редкое заболевание, характ...   \n",
              "...                                                 ...   \n",
              "2210  оставьте термометр во рту на 3 минуты или пока...   \n",
              "2211  у многих больных дефицит амфдезаминазы не вызы...   \n",
              "2212  у многих больных дефицит амфдезаминазы не вызы...   \n",
              "2213  у многих больных дефицит амфдезаминазы не вызы...   \n",
              "2214  у многих больных дефицит амфдезаминазы не вызы...   \n",
              "\n",
              "                                                 answer  answer_start  \n",
              "0     кератодермия с пушистыми волосами представляет...           9.0  \n",
              "1     кератодермия с пушистыми волосами встречается ...           9.0  \n",
              "2     мутации в генах jup, dsp, dsc2 и kank2 вызываю...        2551.0  \n",
              "3     большинство случаев кератодермии с курчавыми в...        4573.0  \n",
              "4     синдром кноблоха — редкое заболевание, характе...           9.0  \n",
              "...                                                 ...           ...  \n",
              "2210  если температура тела может быть высока, то эт...           NaN  \n",
              "2211  ученые считают, что дефицит амфдезаминазы може...           NaN  \n",
              "2212  амфдезаминазы является одним из наиболее распр...           NaN  \n",
              "2213  человек с дефицитом амфдезаминазы страдает от ...           NaN  \n",
              "2214  человек с аутосомнорецессивным заболеванием на...           NaN  \n",
              "\n",
              "[2215 rows x 4 columns]"
            ]
          },
          "execution_count": 9,
          "metadata": {},
          "output_type": "execute_result"
        }
      ],
      "source": [
        "PATH = '/content/drive/MyDrive/ITMO'\n",
        "\n",
        "data = pd.read_csv(PATH + '/data/MedQuAD_context_answer_sum_concat.csv', index_col=0)\n",
        "data.index = [i for i in range(len(data))]\n",
        "\n",
        "data"
      ]
    },
    {
      "cell_type": "markdown",
      "metadata": {
        "id": "sXYGVnpRgBSf"
      },
      "source": [
        "### Example"
      ]
    },
    {
      "cell_type": "code",
      "execution_count": null,
      "metadata": {
        "id": "m3waLEsIgAhX"
      },
      "outputs": [],
      "source": [
        "sample = data.iloc[0]\n",
        "encoding = TOKENIZER(\n",
        "    sample[\"question\"],\n",
        "    sample[\"context\"],\n",
        "    max_length=512,\n",
        "    padding=\"max_length\",\n",
        "    truncation=\"only_second\",\n",
        "    return_attention_mask=True,\n",
        "    add_special_tokens=True,\n",
        "    return_tensors='pt'\n",
        ")\n",
        "\n",
        "answer_encoding = TOKENIZER(\n",
        "    sample[\"answer\"],\n",
        "    max_length=32,\n",
        "    padding=\"max_length\",\n",
        "    truncation=True,\n",
        "    return_attention_mask=True,\n",
        "    add_special_tokens=True,\n",
        "    return_tensors=\"pt\"\n",
        ")\n",
        "\n",
        "labels = answer_encoding[\"input_ids\"]\n",
        "\n",
        "output = MODEL(\n",
        "    input_ids=encoding[\"input_ids\"],\n",
        "    attention_mask=encoding[\"attention_mask\"],\n",
        "    labels=labels\n",
        ")"
      ]
    },
    {
      "cell_type": "code",
      "execution_count": null,
      "metadata": {
        "colab": {
          "base_uri": "https://localhost:8080/"
        },
        "id": "bGFSm7Rq_hT3",
        "outputId": "4af28398-03c5-4ab0-ed2e-76cd18d4e29c"
      },
      "outputs": [
        {
          "data": {
            "text/plain": [
              "32"
            ]
          },
          "execution_count": 11,
          "metadata": {},
          "output_type": "execute_result"
        }
      ],
      "source": [
        "len(labels[0])"
      ]
    },
    {
      "cell_type": "code",
      "execution_count": null,
      "metadata": {
        "id": "-vH_-iOW5XZ3"
      },
      "outputs": [],
      "source": [
        "labels = [\n",
        "    TOKENIZER.decode(input_id, skip_special_tokens=True, clean_up_tokenization_spaces=True)\n",
        "    for input_id in answer_encoding[\"input_ids\"]\n",
        "]\n"
      ]
    },
    {
      "cell_type": "code",
      "execution_count": null,
      "metadata": {
        "colab": {
          "base_uri": "https://localhost:8080/",
          "height": 55
        },
        "id": "zZN1dzQG74on",
        "outputId": "34c48269-417e-4f7f-c4a1-9a1e8cd81b7b"
      },
      "outputs": [
        {
          "data": {
            "application/vnd.google.colaboratory.intrinsic+json": {
              "type": "string"
            },
            "text/plain": [
              "'кератодермия с пушистыми волосами представляет собой группу связанных состояний, которые поражают кожу и волос'"
            ]
          },
          "execution_count": 13,
          "metadata": {},
          "output_type": "execute_result"
        }
      ],
      "source": [
        "\" \".join(labels)"
      ]
    },
    {
      "cell_type": "code",
      "execution_count": null,
      "metadata": {
        "colab": {
          "base_uri": "https://localhost:8080/",
          "height": 276
        },
        "id": "XPXTo9vl5pf2",
        "outputId": "88e81c00-4874-4141-de71-a32bc98ae913"
      },
      "outputs": [
        {
          "data": {
            "application/vnd.google.colaboratory.intrinsic+json": {
              "type": "string"
            },
            "text/plain": [
              "'кератодермия с пушистыми волосами представляет собой группу связанных состояний, которые поражают кожу и волосы и во многих случаях повышают риск потенциально опасных для жизни проблем с сердцем. у людей с такими заболеваниями волосы необычно грубые, сухие, тонкие и туго завитые. в некоторых случаях волосы также редкие. шерстистая текстура волос обычно поражает только волосы на коже головы и присутствует с рождения. начиная с раннего возраста, у пораженных людей также развивается ладонно-подошвенная кератодермия — состояние, при котором кожа на ладонях рук и подошвах ног становится толстой, чешуйчатой \\u200b\\u200bи мозолистой. кардиомиопатия, заболевание сердечной мышцы, представляет собой опасную для жизни проблему со здоровьем, которая может развиться у людей с кератодермией и пушистыми волосами. в отличие от других особенностей этого состояния, признаки и симптомы кардиомиопатии могут не проявляться до подросткового возраста или позже. осложнения кардиомиопатии могут включать нарушение сердечного ритма (аритмию), сердечную недостаточность и внезапную смерть. кератодермия с пушистыми волосами включает в себя несколько связанных состояний с перекрывающимися признаками и симптомами. исследователи недавно предложили классифицировать кератодермию с пушистыми волосами на четыре типа в зависимости от основной генетической причины. тип i, также известный как болезнь наксоса, характеризуется ладонно-подошвенной кератодермией, пушистыми волосами и формой кардиомиопатии, называемой аритмогенной кардиомиопатией правого желудочка (адпж). тип ii, также известный как синдром карвахаля, имеет аномалии волос и кожи, аналогичные типу i, но характеризуется другой формой кардиомиопатии, называемой дилатационной кардиомиопатией левого желудочка. тип iii также имеет признаки и симптомы, сходные с симптомами типа i, включая орвк, хотя аномалии волос и кожи часто менее выражены. тип iv характеризуется ладонно-подошвенной кератодермией, пушистыми и редкими волосами, а также аномальными ногтями на руках и ногах. тип iv, по-видимому, не вызывает кардиомиопатию.'"
            ]
          },
          "execution_count": 14,
          "metadata": {},
          "output_type": "execute_result"
        }
      ],
      "source": [
        "sample[\"answer\"]"
      ]
    },
    {
      "cell_type": "code",
      "execution_count": null,
      "metadata": {
        "colab": {
          "base_uri": "https://localhost:8080/"
        },
        "id": "DU0BaWMu5lKe",
        "outputId": "48aee68d-17d6-4ab8-a2d5-73bd49b30352"
      },
      "outputs": [
        {
          "data": {
            "text/plain": [
              "['кератодермия с пушистыми волосами представляет собой группу связанных состояний, которые поражают кожу и волос']"
            ]
          },
          "execution_count": 15,
          "metadata": {},
          "output_type": "execute_result"
        }
      ],
      "source": [
        "labels"
      ]
    },
    {
      "cell_type": "code",
      "execution_count": null,
      "metadata": {
        "colab": {
          "base_uri": "https://localhost:8080/"
        },
        "id": "qXqayqaZf8rR",
        "outputId": "cd32b7f7-069a-478e-fa0a-f24ca1cb4382"
      },
      "outputs": [
        {
          "data": {
            "text/plain": [
              "tensor(9.9832, grad_fn=<NllLossBackward0>)"
            ]
          },
          "execution_count": 16,
          "metadata": {},
          "output_type": "execute_result"
        }
      ],
      "source": [
        "output.loss"
      ]
    },
    {
      "cell_type": "code",
      "execution_count": null,
      "metadata": {
        "id": "YTjETWE7i7vb"
      },
      "outputs": [],
      "source": [
        "sample_q = data.iloc[0][\"question\"]\n",
        "sample_a = data.iloc[0][\"answer\"]\n",
        "\n",
        "sample_encoding = TOKENIZER(sample_q, sample_a)"
      ]
    },
    {
      "cell_type": "code",
      "execution_count": null,
      "metadata": {
        "colab": {
          "base_uri": "https://localhost:8080/"
        },
        "id": "XfqSz6QwjEHv",
        "outputId": "0beab750-6eb1-4606-f13a-85d91a242bf8"
      },
      "outputs": [
        {
          "data": {
            "text/plain": [
              "dict_keys(['input_ids', 'attention_mask'])"
            ]
          },
          "execution_count": 18,
          "metadata": {},
          "output_type": "execute_result"
        }
      ],
      "source": [
        "sample_encoding.keys()"
      ]
    },
    {
      "cell_type": "code",
      "execution_count": null,
      "metadata": {
        "id": "JylVXiTnjGJl"
      },
      "outputs": [],
      "source": [
        "preds = [\n",
        "    TOKENIZER.decode(input_id, skip_special_tokens=True, clean_up_tokenization_spaces=True)\n",
        "    for input_id in sample_encoding[\"input_ids\"]\n",
        "]"
      ]
    },
    {
      "cell_type": "code",
      "execution_count": null,
      "metadata": {
        "colab": {
          "base_uri": "https://localhost:8080/",
          "height": 276
        },
        "id": "4bJkhIIPjNW_",
        "outputId": "59ce75d6-9ffc-486b-e822-d90d4447d099"
      },
      "outputs": [
        {
          "data": {
            "application/vnd.google.colaboratory.intrinsic+json": {
              "type": "string"
            },
            "text/plain": [
              "'что тако е  кера то дерм ия с пуш исты ми волос ами ?   кера то дерм ия с пуш исты ми волос ами представля ет с обой групп у связ анных состояни й ,  которые пора жают кож у  и волос ы  и во мног их случа ях по выш ают риск потенци ально опас ных  для жизни проблем с серд цем . у люд ей с так ими заболевани ями волос ы не обычн о  груб ые , сух ие , тон кие  и ту го зави тые . в не которы х случа ях волос ы так же ред кие . шер сти стая текст ура волос  обычн о пора жает  только волос ы на кож е голов ы  и присут ствует с  рождени я . начина я с ран него возраст а , у по ражен ных люд ей так же развива ется лад онно - по дош вен ная  кера то дерм ия — состояни е , при котор ом кожа на  ладо нях рук  и по дош вах  ног станов ится тол стой ,  чеш уй чат ой  и моз оли стой . кардио ми опати я , заболевани е  сердеч ной мыш цы , представля ет с обой опас ную  для жизни проблем у со здоровь ем , котор ая  может раз виться у люд ей с  кера то дерм ией  и пуш исты ми волос ами . в от личие от други х особен ностей это го состояни я , призна ки  и симптом ы кардио ми опати и могу т не прояв ляться до по дрост кового возраст а или поз же .  о сложн ения кардио ми опати и могу т включ ать  нарушени е  сердеч ного  ритм а ( а ритм ию ),  сердеч ную не достаточно сть  и в незап ную смерт ь .  кера то дерм ия с пуш исты ми волос ами включ ает в себ я не сколько связ анных состояни й с пере крыва ющими ся призна ками  и симптом ами .  исследовател и не давно предлож или класс ифицир овать  кера то дерм ию с пуш исты ми волос ами на четыре  типа в  зависимост и от основ ной гене тической причин ы . тип  i , так же извест ный как болезн ь на кс оса ,  характериз уется лад онно - по дош вен ной  кера то дерм ией , пуш исты ми волос ами  и форм ой кардио ми опати и , называ емой  а ритм ог енной кардио ми опати ей прав ого жел уд очка ( ад п ж ). тип  i i , так же извест ный как си ндром кар ва хал я , име ет  аном али и волос  и кож и , аналог ичные тип у  i , но  характериз уется друг ой форм ой кардио ми опати и , называ емой дил ат ационной кардио ми опати ей лев ого жел уд очка . тип  i i i так же име ет призна ки  и симптом ы , сход ные с симптом ами  типа  i , включ ая ор в к , хот я  аном али и волос  и кож и  часто мене е выра жены . тип  i v  характериз уется лад онно - по дош вен ной  кера то дерм ией , пуш исты ми  и ред кими волос ами ,  а так же  аном альными  ног тями на рук ах  и  ног ах . тип  i v , по - видим ому , не вы зывает кардио ми опати ю . '"
            ]
          },
          "execution_count": 20,
          "metadata": {},
          "output_type": "execute_result"
        }
      ],
      "source": [
        "\" \".join(preds)"
      ]
    },
    {
      "cell_type": "markdown",
      "metadata": {
        "id": "nU3X9lGRgzYQ"
      },
      "source": [
        "### Dataloaders"
      ]
    },
    {
      "cell_type": "code",
      "execution_count": null,
      "metadata": {
        "colab": {
          "base_uri": "https://localhost:8080/"
        },
        "id": "SCyfe2zVgF_O",
        "outputId": "d5176f19-43aa-4b33-b3b4-d6e31334ab76"
      },
      "outputs": [
        {
          "name": "stdout",
          "output_type": "stream",
          "text": [
            "Train shape: (1736, 4)\n",
            "Validation shape: (434, 4)\n",
            "Test shape: (45, 4)\n"
          ]
        }
      ],
      "source": [
        "train_data, test_data = train_test_split(data, test_size=0.02, random_state=42)\n",
        "train_data, val_data = train_test_split(train_data, test_size=0.2, random_state=42)\n",
        "\n",
        "print(f\"Train shape: {train_data.shape}\")\n",
        "print(f\"Validation shape: {val_data.shape}\")\n",
        "print(f\"Test shape: {test_data.shape}\")\n",
        "\n",
        "train_sampler = RandomSampler(train_data.index)\n",
        "val_sampler = RandomSampler(val_data.index)\n",
        "\n",
        "qa_dataset = MedQADataset(TOKENIZER, data, Q_LEN, T_LEN)\n",
        "\n",
        "train_loader = DataLoader(qa_dataset, batch_size=BATCH_SIZE, sampler=train_sampler)\n",
        "val_loader = DataLoader(qa_dataset, batch_size=BATCH_SIZE, sampler=val_sampler)\n",
        "\n",
        "scheduler = torch.optim.lr_scheduler.ReduceLROnPlateau(OPTIMIZER, patience=5, verbose=True)"
      ]
    },
    {
      "cell_type": "markdown",
      "metadata": {
        "id": "NPQnONuwiFwU"
      },
      "source": [
        "### Train and validation loop"
      ]
    },
    {
      "cell_type": "code",
      "execution_count": null,
      "metadata": {
        "id": "KKAD0xWwhH9H"
      },
      "outputs": [],
      "source": [
        "N_EPOCHS = 100\n",
        "STATE_DICT_PATH = '/content/drive/MyDrive/ITMO/checkpoints/best_model/MedQuAD_context_answer_sum_concat'\n",
        "\n",
        "trainer_module = trainer.Trainer(\n",
        "    MODEL,\n",
        "    N_EPOCHS,\n",
        "    STATE_DICT_PATH,\n",
        "    train_loader,\n",
        "    val_loader,\n",
        "    OPTIMIZER,\n",
        "    DEVICE,\n",
        "    TOKENIZER,\n",
        "    Q_LEN,\n",
        "    T_LEN,\n",
        "    scheduler\n",
        ")"
      ]
    },
    {
      "cell_type": "code",
      "execution_count": null,
      "metadata": {
        "colab": {
          "base_uri": "https://localhost:8080/"
        },
        "id": "-bKNmyhUlOrJ",
        "outputId": "790e5ffd-5edb-4e44-9b9a-ca71ca6193e2"
      },
      "outputs": [
        {
          "name": "stderr",
          "output_type": "stream",
          "text": [
            "Training batches: 100%|██████████| 434/434 [05:37<00:00,  1.29it/s]\n",
            "Validation batches: 100%|██████████| 109/109 [00:30<00:00,  3.58it/s]\n"
          ]
        },
        {
          "name": "stdout",
          "output_type": "stream",
          "text": [
            "Epoch: 0\t\tTrain loss: 7.4267514630946145\t\tValidation loss: 4.708329861317206\n"
          ]
        },
        {
          "name": "stderr",
          "output_type": "stream",
          "text": [
            "Training batches: 100%|██████████| 434/434 [05:38<00:00,  1.28it/s]\n",
            "Validation batches: 100%|██████████| 109/109 [00:30<00:00,  3.60it/s]\n"
          ]
        },
        {
          "name": "stdout",
          "output_type": "stream",
          "text": [
            "Epoch: 1\t\tTrain loss: 4.350602991569976\t\tValidation loss: 1.8094480939961355\n"
          ]
        },
        {
          "name": "stderr",
          "output_type": "stream",
          "text": [
            "Training batches: 100%|██████████| 434/434 [05:39<00:00,  1.28it/s]\n",
            "Validation batches: 100%|██████████| 109/109 [00:30<00:00,  3.59it/s]\n"
          ]
        },
        {
          "name": "stdout",
          "output_type": "stream",
          "text": [
            "Epoch: 2\t\tTrain loss: 2.679532577914576\t\tValidation loss: 1.3796093928704567\n"
          ]
        },
        {
          "name": "stderr",
          "output_type": "stream",
          "text": [
            "Training batches: 100%|██████████| 434/434 [05:38<00:00,  1.28it/s]\n",
            "Validation batches: 100%|██████████| 109/109 [00:30<00:00,  3.60it/s]\n"
          ]
        },
        {
          "name": "stdout",
          "output_type": "stream",
          "text": [
            "Epoch: 3\t\tTrain loss: 2.7205579731321556\t\tValidation loss: 1.467234368171167\n"
          ]
        },
        {
          "name": "stderr",
          "output_type": "stream",
          "text": [
            "Training batches: 100%|██████████| 434/434 [05:38<00:00,  1.28it/s]\n",
            "Validation batches: 100%|██████████| 109/109 [00:30<00:00,  3.61it/s]\n"
          ]
        },
        {
          "name": "stdout",
          "output_type": "stream",
          "text": [
            "Epoch: 4\t\tTrain loss: 2.3084664383242206\t\tValidation loss: 1.2737021982122998\n"
          ]
        },
        {
          "name": "stderr",
          "output_type": "stream",
          "text": [
            "Training batches: 100%|██████████| 434/434 [05:38<00:00,  1.28it/s]\n",
            "Validation batches: 100%|██████████| 109/109 [00:30<00:00,  3.61it/s]\n"
          ]
        },
        {
          "name": "stdout",
          "output_type": "stream",
          "text": [
            "Epoch: 5\t\tTrain loss: 2.003034211523522\t\tValidation loss: 1.1504086969642464\n"
          ]
        },
        {
          "name": "stderr",
          "output_type": "stream",
          "text": [
            "Training batches: 100%|██████████| 434/434 [05:38<00:00,  1.28it/s]\n",
            "Validation batches: 100%|██████████| 109/109 [00:30<00:00,  3.61it/s]\n"
          ]
        },
        {
          "name": "stdout",
          "output_type": "stream",
          "text": [
            "Epoch: 6\t\tTrain loss: 1.8445369396616238\t\tValidation loss: 1.0732351541519165\n"
          ]
        },
        {
          "name": "stderr",
          "output_type": "stream",
          "text": [
            "Training batches: 100%|██████████| 434/434 [05:38<00:00,  1.28it/s]\n",
            "Validation batches: 100%|██████████| 109/109 [00:30<00:00,  3.60it/s]\n"
          ]
        },
        {
          "name": "stdout",
          "output_type": "stream",
          "text": [
            "Epoch: 7\t\tTrain loss: 1.6896602787455106\t\tValidation loss: 0.9933604421692157\n"
          ]
        },
        {
          "name": "stderr",
          "output_type": "stream",
          "text": [
            "Training batches: 100%|██████████| 434/434 [05:38<00:00,  1.28it/s]\n",
            "Validation batches: 100%|██████████| 109/109 [00:30<00:00,  3.61it/s]\n"
          ]
        },
        {
          "name": "stdout",
          "output_type": "stream",
          "text": [
            "Epoch: 8\t\tTrain loss: 1.5996635064551359\t\tValidation loss: 0.923722854448021\n"
          ]
        },
        {
          "name": "stderr",
          "output_type": "stream",
          "text": [
            "Training batches: 100%|██████████| 434/434 [05:38<00:00,  1.28it/s]\n",
            "Validation batches: 100%|██████████| 109/109 [00:30<00:00,  3.59it/s]\n"
          ]
        },
        {
          "name": "stdout",
          "output_type": "stream",
          "text": [
            "Epoch: 9\t\tTrain loss: 1.4919725492390619\t\tValidation loss: 0.8795463497485589\n"
          ]
        },
        {
          "name": "stderr",
          "output_type": "stream",
          "text": [
            "Training batches: 100%|██████████| 434/434 [05:38<00:00,  1.28it/s]\n",
            "Validation batches: 100%|██████████| 109/109 [00:30<00:00,  3.59it/s]\n"
          ]
        },
        {
          "name": "stdout",
          "output_type": "stream",
          "text": [
            "Epoch: 10\t\tTrain loss: 1.4190350122715472\t\tValidation loss: 0.8260382743330177\n"
          ]
        },
        {
          "name": "stderr",
          "output_type": "stream",
          "text": [
            "Training batches: 100%|██████████| 434/434 [05:38<00:00,  1.28it/s]\n",
            "Validation batches: 100%|██████████| 109/109 [00:30<00:00,  3.59it/s]\n"
          ]
        },
        {
          "name": "stdout",
          "output_type": "stream",
          "text": [
            "Epoch: 11\t\tTrain loss: 1.3588262319839495\t\tValidation loss: 0.786532417486567\n"
          ]
        },
        {
          "name": "stderr",
          "output_type": "stream",
          "text": [
            "Training batches: 100%|██████████| 434/434 [05:38<00:00,  1.28it/s]\n",
            "Validation batches: 100%|██████████| 109/109 [00:30<00:00,  3.60it/s]\n"
          ]
        },
        {
          "name": "stdout",
          "output_type": "stream",
          "text": [
            "Epoch: 12\t\tTrain loss: 1.278796713267054\t\tValidation loss: 0.7357406368769637\n"
          ]
        },
        {
          "name": "stderr",
          "output_type": "stream",
          "text": [
            "Training batches: 100%|██████████| 434/434 [05:38<00:00,  1.28it/s]\n",
            "Validation batches: 100%|██████████| 109/109 [00:30<00:00,  3.60it/s]\n"
          ]
        },
        {
          "name": "stdout",
          "output_type": "stream",
          "text": [
            "Epoch: 13\t\tTrain loss: 1.239153042572984\t\tValidation loss: 0.684765016403767\n"
          ]
        },
        {
          "name": "stderr",
          "output_type": "stream",
          "text": [
            "Training batches: 100%|██████████| 434/434 [05:38<00:00,  1.28it/s]\n",
            "Validation batches: 100%|██████████| 109/109 [00:30<00:00,  3.62it/s]\n"
          ]
        },
        {
          "name": "stdout",
          "output_type": "stream",
          "text": [
            "Epoch: 14\t\tTrain loss: 1.1584228088366821\t\tValidation loss: 0.6430893075917292\n"
          ]
        },
        {
          "name": "stderr",
          "output_type": "stream",
          "text": [
            "Training batches: 100%|██████████| 434/434 [05:38<00:00,  1.28it/s]\n",
            "Validation batches: 100%|██████████| 109/109 [00:30<00:00,  3.61it/s]\n"
          ]
        },
        {
          "name": "stdout",
          "output_type": "stream",
          "text": [
            "Epoch: 15\t\tTrain loss: 1.1201892644166946\t\tValidation loss: 0.6396268215884856\n"
          ]
        },
        {
          "name": "stderr",
          "output_type": "stream",
          "text": [
            "Training batches: 100%|██████████| 434/434 [05:38<00:00,  1.28it/s]\n",
            "Validation batches: 100%|██████████| 109/109 [00:30<00:00,  3.61it/s]\n"
          ]
        },
        {
          "name": "stdout",
          "output_type": "stream",
          "text": [
            "Epoch: 16\t\tTrain loss: 1.0693483492059093\t\tValidation loss: 0.578517169717255\n"
          ]
        },
        {
          "name": "stderr",
          "output_type": "stream",
          "text": [
            "Training batches: 100%|██████████| 434/434 [05:38<00:00,  1.28it/s]\n",
            "Validation batches: 100%|██████████| 109/109 [00:30<00:00,  3.61it/s]\n"
          ]
        },
        {
          "name": "stdout",
          "output_type": "stream",
          "text": [
            "Epoch: 17\t\tTrain loss: 1.017830651613974\t\tValidation loss: 0.5430780698400025\n"
          ]
        },
        {
          "name": "stderr",
          "output_type": "stream",
          "text": [
            "Training batches: 100%|██████████| 434/434 [05:38<00:00,  1.28it/s]\n",
            "Validation batches: 100%|██████████| 109/109 [00:30<00:00,  3.61it/s]\n"
          ]
        },
        {
          "name": "stdout",
          "output_type": "stream",
          "text": [
            "Epoch: 18\t\tTrain loss: 0.9776398971814164\t\tValidation loss: 0.5143072452361978\n"
          ]
        },
        {
          "name": "stderr",
          "output_type": "stream",
          "text": [
            "Training batches: 100%|██████████| 434/434 [05:38<00:00,  1.28it/s]\n",
            "Validation batches: 100%|██████████| 109/109 [00:30<00:00,  3.60it/s]\n"
          ]
        },
        {
          "name": "stdout",
          "output_type": "stream",
          "text": [
            "Epoch: 19\t\tTrain loss: 0.9259322232090383\t\tValidation loss: 0.46878551261140666\n"
          ]
        },
        {
          "name": "stderr",
          "output_type": "stream",
          "text": [
            "Training batches: 100%|██████████| 434/434 [05:38<00:00,  1.28it/s]\n",
            "Validation batches: 100%|██████████| 109/109 [00:30<00:00,  3.58it/s]\n"
          ]
        },
        {
          "name": "stdout",
          "output_type": "stream",
          "text": [
            "Epoch: 20\t\tTrain loss: 0.9013719023784734\t\tValidation loss: 0.48469675434838744\n"
          ]
        },
        {
          "name": "stderr",
          "output_type": "stream",
          "text": [
            "Training batches: 100%|██████████| 434/434 [05:37<00:00,  1.28it/s]\n",
            "Validation batches: 100%|██████████| 109/109 [00:30<00:00,  3.60it/s]\n"
          ]
        },
        {
          "name": "stdout",
          "output_type": "stream",
          "text": [
            "Epoch: 21\t\tTrain loss: 0.8607811920928515\t\tValidation loss: 0.44102910058487443\n"
          ]
        },
        {
          "name": "stderr",
          "output_type": "stream",
          "text": [
            "Training batches: 100%|██████████| 434/434 [05:38<00:00,  1.28it/s]\n",
            "Validation batches: 100%|██████████| 109/109 [00:30<00:00,  3.60it/s]\n"
          ]
        },
        {
          "name": "stdout",
          "output_type": "stream",
          "text": [
            "Epoch: 22\t\tTrain loss: 0.8089658897799281\t\tValidation loss: 0.3999603127530955\n"
          ]
        },
        {
          "name": "stderr",
          "output_type": "stream",
          "text": [
            "Training batches: 100%|██████████| 434/434 [05:38<00:00,  1.28it/s]\n",
            "Validation batches: 100%|██████████| 109/109 [00:30<00:00,  3.61it/s]\n"
          ]
        },
        {
          "name": "stdout",
          "output_type": "stream",
          "text": [
            "Epoch: 23\t\tTrain loss: 0.7664073205763294\t\tValidation loss: 0.3841694523366766\n"
          ]
        },
        {
          "name": "stderr",
          "output_type": "stream",
          "text": [
            "Training batches: 100%|██████████| 434/434 [05:38<00:00,  1.28it/s]\n",
            "Validation batches: 100%|██████████| 109/109 [00:30<00:00,  3.58it/s]\n"
          ]
        },
        {
          "name": "stdout",
          "output_type": "stream",
          "text": [
            "Epoch: 24\t\tTrain loss: 0.7226852775993435\t\tValidation loss: 0.34452696674323957\n"
          ]
        },
        {
          "name": "stderr",
          "output_type": "stream",
          "text": [
            "Training batches: 100%|██████████| 434/434 [05:38<00:00,  1.28it/s]\n",
            "Validation batches: 100%|██████████| 109/109 [00:30<00:00,  3.60it/s]\n"
          ]
        },
        {
          "name": "stdout",
          "output_type": "stream",
          "text": [
            "Epoch: 25\t\tTrain loss: 0.7289316157385501\t\tValidation loss: 0.34586612059982547\n"
          ]
        },
        {
          "name": "stderr",
          "output_type": "stream",
          "text": [
            "Training batches: 100%|██████████| 434/434 [05:38<00:00,  1.28it/s]\n",
            "Validation batches: 100%|██████████| 109/109 [00:30<00:00,  3.61it/s]\n"
          ]
        },
        {
          "name": "stdout",
          "output_type": "stream",
          "text": [
            "Epoch: 26\t\tTrain loss: 0.7006331508301096\t\tValidation loss: 0.3155527260120309\n"
          ]
        },
        {
          "name": "stderr",
          "output_type": "stream",
          "text": [
            "Training batches: 100%|██████████| 434/434 [05:38<00:00,  1.28it/s]\n",
            "Validation batches: 100%|██████████| 109/109 [00:30<00:00,  3.61it/s]\n"
          ]
        },
        {
          "name": "stdout",
          "output_type": "stream",
          "text": [
            "Epoch: 27\t\tTrain loss: 0.6315674115367199\t\tValidation loss: 0.2832418048600538\n"
          ]
        },
        {
          "name": "stderr",
          "output_type": "stream",
          "text": [
            "Training batches: 100%|██████████| 434/434 [05:38<00:00,  1.28it/s]\n",
            "Validation batches: 100%|██████████| 109/109 [00:30<00:00,  3.62it/s]\n"
          ]
        },
        {
          "name": "stdout",
          "output_type": "stream",
          "text": [
            "Epoch: 28\t\tTrain loss: 0.5868794329224094\t\tValidation loss: 0.24461320423683441\n"
          ]
        },
        {
          "name": "stderr",
          "output_type": "stream",
          "text": [
            "Training batches: 100%|██████████| 434/434 [05:38<00:00,  1.28it/s]\n",
            "Validation batches: 100%|██████████| 109/109 [00:30<00:00,  3.61it/s]\n"
          ]
        },
        {
          "name": "stdout",
          "output_type": "stream",
          "text": [
            "Epoch: 29\t\tTrain loss: 0.5547991757912021\t\tValidation loss: 0.22079805978531136\n"
          ]
        },
        {
          "name": "stderr",
          "output_type": "stream",
          "text": [
            "Training batches: 100%|██████████| 434/434 [05:38<00:00,  1.28it/s]\n",
            "Validation batches: 100%|██████████| 109/109 [00:30<00:00,  3.61it/s]\n"
          ]
        },
        {
          "name": "stdout",
          "output_type": "stream",
          "text": [
            "Epoch: 30\t\tTrain loss: 0.5288447019759961\t\tValidation loss: 0.20049874299128942\n"
          ]
        },
        {
          "name": "stderr",
          "output_type": "stream",
          "text": [
            "Training batches: 100%|██████████| 434/434 [05:38<00:00,  1.28it/s]\n",
            "Validation batches: 100%|██████████| 109/109 [00:30<00:00,  3.60it/s]\n"
          ]
        },
        {
          "name": "stdout",
          "output_type": "stream",
          "text": [
            "Epoch: 31\t\tTrain loss: 0.49316412102310886\t\tValidation loss: 0.18353603462423754\n"
          ]
        },
        {
          "name": "stderr",
          "output_type": "stream",
          "text": [
            "Training batches: 100%|██████████| 434/434 [05:38<00:00,  1.28it/s]\n",
            "Validation batches: 100%|██████████| 109/109 [00:30<00:00,  3.62it/s]\n"
          ]
        },
        {
          "name": "stdout",
          "output_type": "stream",
          "text": [
            "Epoch: 32\t\tTrain loss: 0.46154506466767753\t\tValidation loss: 0.15998144402519004\n"
          ]
        },
        {
          "name": "stderr",
          "output_type": "stream",
          "text": [
            "Training batches: 100%|██████████| 434/434 [05:37<00:00,  1.28it/s]\n",
            "Validation batches: 100%|██████████| 109/109 [00:30<00:00,  3.61it/s]\n"
          ]
        },
        {
          "name": "stdout",
          "output_type": "stream",
          "text": [
            "Epoch: 33\t\tTrain loss: 0.4370050531927891\t\tValidation loss: 0.14455707135413765\n"
          ]
        },
        {
          "name": "stderr",
          "output_type": "stream",
          "text": [
            "Training batches:  70%|███████   | 305/434 [03:57<01:40,  1.28it/s]"
          ]
        }
      ],
      "source": [
        "trainer_module.fit()"
      ]
    },
    {
      "cell_type": "markdown",
      "metadata": {
        "id": "Du3Y56JuoHaf"
      },
      "source": [
        "### Evaluate the results"
      ]
    },
    {
      "cell_type": "code",
      "execution_count": null,
      "metadata": {
        "id": "rM14g4lXoGcO"
      },
      "outputs": [],
      "source": [
        "test_sample = test_data.iloc[3]\n",
        "test_context = f\"Контекст: {test_sample['context']}\"\n",
        "test_question = f\"Вопрос: {test_sample['question']}\"\n",
        "test_answer = f\"Ответ: {test_sample['answer']}\"\n",
        "\n",
        "pred = trainer_module.predict_answer(\n",
        "   test_context,\n",
        "   test_question,\n",
        "   test_answer,\n",
        "   print_text=True\n",
        ")\n",
        "\n",
        "pred"
      ]
    },
    {
      "cell_type": "code",
      "execution_count": null,
      "metadata": {
        "colab": {
          "base_uri": "https://localhost:8080/"
        },
        "id": "NONpRvUJlRyZ",
        "outputId": "60a3996b-2de5-45dd-fc56-30453d8eb914"
      },
      "outputs": [
        {
          "name": "stdout",
          "output_type": "stream",
          "text": [
            "Test:\n",
            "BLEU: 0.13342170575668585\n",
            "RougeL: 0.08695652173913043\n"
          ]
        }
      ],
      "source": [
        "# Calculate metrics on test\n",
        "bleu_avg, rouge_avg = trainer_module.calc_avg_metrics(test_data)\n",
        "print(\"Test:\")\n",
        "print(\"BLEU:\", bleu_avg)\n",
        "print(\"RougeL:\", rouge_avg)"
      ]
    },
    {
      "cell_type": "code",
      "execution_count": null,
      "metadata": {
        "id": "1kxLmu5NnccQ"
      },
      "outputs": [],
      "source": [
        "# Plot loss\n",
        "# General loss with previous steps of fine-tuning\n",
        "trainer_module.plot_loss()"
      ]
    },
    {
      "cell_type": "markdown",
      "metadata": {
        "id": "7imgUQ9nCQeK"
      },
      "source": [
        "### Inference"
      ]
    },
    {
      "cell_type": "code",
      "execution_count": null,
      "metadata": {
        "colab": {
          "base_uri": "https://localhost:8080/"
        },
        "id": "OWgw8gq3paaj",
        "outputId": "8d7f5db4-174f-447d-dc80-7278eda008a0"
      },
      "outputs": [
        {
          "name": "stdout",
          "output_type": "stream",
          "text": [
            "Вопрос:  что вызывает боль в пенисе? также называется: боль пенис\n",
            "Контекст: боль в половом члене это любая боль или дискомфорт в половом члене. причины причины могут включать в себя: камни в мочевом пузыре. укусы человека или насекомых. рак полового члена. непроходящая эрекция приапизм. генитальный герпес. инфицированные волосяные фолликулы. инфицированный протез полового члена. инфекция под крайней плотью у необрезанных мужчин баланит. воспаление предстательной железы простатиттравма болезнь пейрони синдром рейтерасерповидноклеточная анемиясифилисуретрит, вызванный хламидиями или гонореей инфекция мочевого пузыря тромб в вене полового члена перелом полового члена уход на дому как лечить боль в половом члене дома зависит от ее причины. поговорите со своим врачом о лечении. пакеты со льдом могут помочь облегчить боль. не прикладывайте лед непосредственно к пенису. вместо этого поместите лед в полотенце или мочалку и приложите завернутый лед, чтобы облегчить боль. если боль в половом члене вызвана заболеванием, передающимся половым путем, важно, чтобы ваш сексуальный партнер также прошел лечение. эрекция, которая не проходит. приапизм требует неотложной медицинской помощи. немедленно обратитесь в отделение неотложной помощи больницы. спросите своего врача о лечении состояния, вызывающего приапизм. для решения проблемы вам могут потребоваться лекарства или, возможно, процедура или операция. когда обращаться к медицинскому работнику свяжитесь со своим врачом, если вы заметили чтолибо из следующего: уходи приапизм. немедленно обратитесь за медицинской помощью. боль, которая длится более 4 часов. боль с другими необъяснимыми симптомами. чего ожидать при посещении вашего офиса? ваш врач проведет медицинский осмотр и соберет историю болезни, которая может включать следующие вопросы: когда произошел боль началась? всегда ли присутствует боль? это болезненная, непроходящая эрекция приапизм? чувствуете ли вы боль, когда половой член не эрегирован? боль во всем половом члене или только в одной его части? были ли у вас такие боли? открытые язвы? были ли какиелибо травмы в этой области? подвергаетесь ли вы риску заражения какимилибо заболеваниями, передающимися половым путем? какие еще симптомы у вас есть? физический осмотр будет включать детальный осмотр полового члена, яичек, мошонки и паха. боль можно лечить, как только будет установлена ​​ее причина. лечение зависит от причины: инфекция: антибиотики, противовирусные препараты или другие лекарства в редких случаях рекомендуется обрезание при длительной инфекции под крайней плотью. приапизм: эрекция должна уменьшиться. мочевой катетер вводится для облегчения задержки мочи; могут потребоваться лекарства или хирургическое вмешательство.\n",
            "Ответ: причинами могут быть: камни в мочевом пузыре\n"
          ]
        }
      ],
      "source": [
        "test_sample = test_data.iloc[3]\n",
        "test_context = f\"Контекст: {test_sample['context']}\"\n",
        "test_question = f\"Вопрос: {test_sample['question']}\"\n",
        "\n",
        "pred = trainer_module.predict_answer(\n",
        "   test_context,\n",
        "   test_question\n",
        ")\n",
        "\n",
        "print(test_question)\n",
        "print(test_context)\n",
        "print(pred)"
      ]
    },
    {
      "cell_type": "code",
      "execution_count": null,
      "metadata": {
        "colab": {
          "base_uri": "https://localhost:8080/"
        },
        "id": "UtTTBrwKCbmX",
        "outputId": "2aa9db1f-31a9-4548-999b-e837f432566f"
      },
      "outputs": [
        {
          "name": "stdout",
          "output_type": "stream",
          "text": [
            "Вопрос:  что такое путаница? также называется: дезориентация; мышление неясное; мысли затуманенное\n",
            "Контекст: замешательство это неспособность думать так ясно и быстро, как обычно. вы можете чувствовать дезориентацию и испытывать трудности с концентрацией внимания, запоминанием и принятием решений. соображения замешательство может нарастать быстро или медленно с течением времени, в зависимости от причины. во многих случаях спутанность сознания длится недолго и проходит. в других случаях это навсегда и неизлечимо. это может быть связано с бредом или деменцией. спутанность сознания чаще встречается у пожилых людей и часто возникает во время пребывания в больнице. некоторые люди с растерянностью могут вести себя странно или необычно или вести себя агрессивно. причины спутанность сознания может быть вызвана различными проблемами со здоровьем, например :алкогольная или наркотическая интоксикация опухоль головного мозга травма головы или травма головы сотрясение мозгалихорадкадисбаланс жидкости и электролитовзаболевания у пожилых людей, такие как потеря функции мозга деменция заболевания у людей с существующими неврологическими заболеваниями, такими как инсультинфекциинедостаток сна депривация сна низкий уровень сахара в кровинизкий уровень кислорода например, изза хронических заболеваний легкихлекарстванедостаток питательных веществ, особенно ниацина, тиамина или витамина b12судорогивнезапное падение температуры тела гипотермияуход на дому хороший способ узнать, не сбит ли ктото с толку, спросить этого человека его или ее имя, возраст и дату. если он не уверен или отвечает неправильно, он находится в замешательстве. если у человека обычно нет замешательства, обратитесь к врачу. сбитого с толку человека нельзя оставлять одного. в целях безопасности человеку может понадобиться ктото рядом, чтобы успокоить его и защитить от травм. в редких случаях медицинский работник может назначить физическое ограничение. чтобы помочь запутавшемуся человеку: всегда представляйтесь, независимо от того, насколько хорошо человек вас когдато знал. часто напоминайте человеку о его или ее местонахождении. поместите календарь и часы рядом с человек. поговорите о текущих событиях и планах на день. старайтесь, чтобы обстановка была спокойной, тихой и мирной. при внезапном замешательстве изза низкого уровня сахара в крови например, изза лекарства от диабета человеку следует выпить сладкий напиток или поесть. сладкая закуска. если спутанность сознания длится более 10 минут, обратитесь к врачу. когда обращаться к медицинскому работнику позвоните по номеру 911 или местному номеру службы экстренной помощи, если спутанность сознания возникла внезапно или есть другие симптомы, такие как: холодная или липкая кожа головокружение или чувство обморока учащенный пульс лихорадка головная боль медленная или учащенное дыхание неконтролируемая дрожь. также позвоните в службу 911 или по местному номеру службы экстренной помощи, если: это первый раз, когда ктото теряет сознание без причины. спутанность сознания внезапно возникла у человека с диабетом. спутанность сознания возникла после травмы головы. человек находится в опасности причинить вред себе или другим. человек теряет сознание при в любое время. если вы испытываете спутанность сознания, обратитесь к своему врачу и запишитесь на прием. чего ожидать при посещении врача? врач проведет медицинский осмотр и задаст вопросы о спутанности сознания. врач задаст вопросы, чтобы узнать, знает ли человек дату, время и где он или она находится. помимо прочего, также будут заданы вопросы о недавних и текущих заболеваниях. могут быть назначены следующие анализы: анализы крови. кт головы. электроэнцефалограмма ээг. тесты психического статуса. нейропсихологические тесты. анализы мочи. лечение зависит от причины спутанности сознания. например, если спутанность сознания вызывает инфекция, лечение инфекции, скорее всего, устранит спутанность сознания.\n",
            "Ответ: замешательство это неспособность думать так ясно и быстро,\n"
          ]
        }
      ],
      "source": [
        "test_sample = test_data.iloc[15]\n",
        "test_context = f\"Контекст: {test_sample['context']}\"\n",
        "test_question = f\"Вопрос: {test_sample['question']}\"\n",
        "\n",
        "pred = trainer_module.predict_answer(\n",
        "   test_context,\n",
        "   test_question\n",
        ")\n",
        "\n",
        "print(test_question)\n",
        "print(test_context)\n",
        "print(pred)"
      ]
    },
    {
      "cell_type": "code",
      "execution_count": null,
      "metadata": {
        "colab": {
          "base_uri": "https://localhost:8080/"
        },
        "id": "P-USmGsQIQnU",
        "outputId": "ab7d2bb7-1bdd-47a8-e854-f9663066242e"
      },
      "outputs": [
        {
          "name": "stdout",
          "output_type": "stream",
          "text": [
            "Вопрос:  каковы симптомы дивертикулеза? также называется: дивертикула дивертикулез; дивертикулит дивертикулез; дивертикулярная болезнь дивертикулез; желудочнокишечное кровотечение дивертикулез; желудочнокишечное кровотечение дивертикулез; желудочнокишечное кровотечение дивертикулез\n",
            "Контекст: дивертикулез возникает, когда на внутренней стенке кишечника образуются маленькие выпуклые мешочки или мешочки. эти мешочки называются дивертикулами. чаще всего эти мешочки образуются в толстой кишке толстой кишке. они также могут возникать в тощей кишке и тонкой кишке, хотя это встречается реже. причины дивертикулез реже встречается у людей в возрасте 40 лет и моложе. это чаще встречается у пожилых людей. около половины американцев старше 60 лет страдают этим заболеванием. у большинства людей это случается к 80 годам. никто точно не знает, что вызывает образование этих мешочков. в течение многих лет считалось, что диета с низким содержанием клетчатки может сыграть свою роль. недостаток клетчатки может вызвать запор твердый стул. напряжение при дефекации кал увеличивает давление в толстой кишке. это может привести к образованию мешочков в слабых местах стенки толстой кишки. однако не совсем доказано, приводит ли диета с низким содержанием клетчатки к этой проблеме. другими возможными факторами риска, которые также недостаточно доказаны, являются отсутствие физических упражнений и ожирение. употребление орехов, попкорна или кукурузы, повидимому, не приводит к воспалению этих тканей. мешочки дивертикулит. симптомы у большинства людей с дивертикулезом симптомы отсутствуют. при появлении симптомов они могут включать в себя: боль и спазмы в желудке, особенно в левой нижней части живота. запор иногда диарея. вздутие живота или газы. отсутствие чувства голода и отказ от еды. вы можете заметить небольшое количество крови в кале или на туалетной бумаге. редко может возникнуть более сильное кровотечение. обследования и анализы дивертикулез часто обнаруживается во время обследования по поводу другой проблемы со здоровьем. например, его часто обнаруживают во время колоноскопии. если у вас есть симптомы, вы можете пройти один или несколько из следующих анализов: анализы крови, чтобы определить, есть ли у вас инфекция или вы потеряли слишком много крови. кт или узи брюшной полости, если у вас кровотечение, жидкий стул или боль. для постановки диагноза необходима колоноскопия: колоноскопия это обследование, при котором осматривается внутренняя часть толстой и прямой кишки. этот тест не следует проводить, если у вас есть симптомы острого дивертикулита. небольшая камера, прикрепленная к трубке, может достигать длины толстой кишки. ангиография: ангиография это визуализирующий тест, в котором используются рентгеновские лучи и специальный краситель, чтобы увидеть внутреннюю часть толстой кишки. кровеносные сосуды. этот тест можно использовать, если во время колоноскопии не видна область кровотечения. лечение. поскольку у большинства людей симптомы отсутствуют, в большинстве случаев лечение не требуется. ваш врач может порекомендовать вам включить в свой рацион больше клетчатки. . диета с высоким содержанием клетчатки имеет много преимуществ для здоровья. большинство людей не получают достаточного количества клетчатки. чтобы предотвратить запор, вам следует: ешьте много цельнозерновых продуктов, бобовых, фруктов и овощей. ограничьте употребление обработанных пищевых продуктов. пейте много жидкости. регулярно занимайтесь спортом. поговорите со своим врачом о приеме пищевых добавок с клетчаткой. вам следует избегать приема нпвп, таких как аспирин, ибупрофен мотрин и напроксен алив. эти лекарства могут повысить вероятность кровотечения. при кровотечении, которое не останавливается или повторяется: можно использовать колоноскопию для инъекции лекарств или прижигания определенного участка кишечника, чтобы остановить кровотечение. ангиографию можно использовать для введения лекарств или блокирования кровеносного сосуда. . если кровотечение не останавливается или повторяется много раз, может потребоваться удаление части толстой кишки. прогноз прогноз у большинства людей, страдающих дивертикулезом, симптомы отсутствуют. как только эти мешочки сформируются, они останутся с вами на всю жизнь. до 25% людей с этим заболеванием развивается дивертикулит. это происходит, когда небольшие кусочки стула попадают в мешочки, вызывая инфекцию или отек. возможные осложнения. более серьезные проблемы, которые могут развиться, включают в себя: аномальные связи, которые образуются между частями толстой кишки или между толстой кишкой и другой частью тела свищ. отверстие или разрыв в толстой кишке перфорация суженный участок толстой кишки стриктура карманы, заполненные гноем или инфекцией абсцесс когда следует обращаться к медицинскому работнику позвоните своему врачу, если возникнут симптомы дивертикулита.\n",
            "Ответ: у большинства людей с дивертикулезом симптомы отсутствуют.\n"
          ]
        }
      ],
      "source": [
        "test_sample = test_data.iloc[22]\n",
        "test_context = f\"Контекст: {test_sample['context']}\"\n",
        "test_question = f\"Вопрос: {test_sample['question']}\"\n",
        "\n",
        "pred = trainer_module.predict_answer(\n",
        "   test_context,\n",
        "   test_question\n",
        ")\n",
        "\n",
        "print(test_question)\n",
        "print(test_context)\n",
        "print(pred)"
      ]
    },
    {
      "cell_type": "code",
      "execution_count": null,
      "metadata": {
        "colab": {
          "base_uri": "https://localhost:8080/"
        },
        "id": "fSGlDl3pIpWH",
        "outputId": "7d1cae04-352b-4539-8610-d609eea49a05"
      },
      "outputs": [
        {
          "name": "stdout",
          "output_type": "stream",
          "text": [
            "Вопрос:  что вызывает абсцесс?\n",
            "Контекст: абсцесс это скопление гноя в любой части тела. в большинстве случаев область вокруг абсцесса опухает и воспаляется. причины абсцессы возникают, когда участок ткани заражается, и иммунная система организма пытается бороться с ним и сдерживать его. лейкоциты лейкоциты перемещаются через стенки кровеносных сосудов в область инфекции и собираются в поврежденной ткани. в ходе этого процесса образуется гной. гной это скопление жидкости, живых и мертвых лейкоцитов, мертвых тканей, бактерий или других посторонних веществ. абсцессы могут образовываться практически в любой части тела. кожа, под кожей и зубы являются наиболее распространенными местами. абсцессы могут быть вызваны бактериями, паразитами и инородными веществами. абсцессы на коже легко увидеть. они красные, приподнятые и болезненные. абсцессы в других частях тела могут быть не видны, но они могут вызывать повреждение органов. некоторые типы и локализации абсцессов включают: абдоминальный абсцесс амебный абсцесс печени аноректальный абсцесс абсцесс бартолиновой железы абсцесс головного мозга эпидуральный абсцесс перитонзиллярный абсцесс пиогенный абсцесс печени абсцесс спинного мозга подкожный кожный абсцесс зубной абсцесс scessэкзамены и тесты здоровье поставщик медицинских услуг проведет медицинский осмотр, сосредоточив внимание на симптомах абсцесса. тесты для обнаружения абсцесса включают в себя: ультразвуковое сканирование, кт, мрт, рентген в основном при абсцессе зуба. часто из абсцесса берут образец жидкости и анализируют его, чтобы увидеть какой тип микроба вызывает проблему. лечение лечение варьируется, но часто требуется хирургическое вмешательство для дренирования абсцесса. также можно использовать антибиотики. когда обращаться к медицинскому работнику если вы считаете, что у вас абсцесс какоголибо типа, обратитесь к своему врачу. если вы подозреваете, что у вас абсцесс зуба, обратитесь к стоматологу. профилактика профилактика абсцессов зависит от того, где они развиваются. например, хорошая гигиена может помочь предотвратить абсцессы кожи. гигиена зубов и регулярный уход предотвратят абсцессы зубов. изображения пиогенный абсцесс абсцесс зуба внутрибрюшной абсцесс кт\n",
            "Ответ: абсцессы возникают, когда участок ткани заражается\n"
          ]
        }
      ],
      "source": [
        "test_sample = test_data.iloc[9]\n",
        "test_context = f\"Контекст: {test_sample['context']}\"\n",
        "test_question = f\"Вопрос: {test_sample['question']}\"\n",
        "\n",
        "pred = trainer_module.predict_answer(\n",
        "   test_context,\n",
        "   test_question\n",
        ")\n",
        "\n",
        "print(test_question)\n",
        "print(test_context)\n",
        "print(pred)"
      ]
    },
    {
      "cell_type": "code",
      "execution_count": null,
      "metadata": {
        "id": "KDECflEEIy37"
      },
      "outputs": [],
      "source": []
    }
  ],
  "metadata": {
    "colab": {
      "provenance": []
    },
    "kernelspec": {
      "display_name": "Python 3",
      "name": "python3"
    },
    "language_info": {
      "name": "python"
    },
    "widgets": {
      "application/vnd.jupyter.widget-state+json": {
        "05001970c2b248bd9e78dbc3b19047ac": {
          "model_module": "@jupyter-widgets/controls",
          "model_module_version": "1.5.0",
          "model_name": "DescriptionStyleModel",
          "state": {
            "_model_module": "@jupyter-widgets/controls",
            "_model_module_version": "1.5.0",
            "_model_name": "DescriptionStyleModel",
            "_view_count": null,
            "_view_module": "@jupyter-widgets/base",
            "_view_module_version": "1.2.0",
            "_view_name": "StyleView",
            "description_width": ""
          }
        },
        "0b4cc02c79f94e5b91b148faf27eadb7": {
          "model_module": "@jupyter-widgets/base",
          "model_module_version": "1.2.0",
          "model_name": "LayoutModel",
          "state": {
            "_model_module": "@jupyter-widgets/base",
            "_model_module_version": "1.2.0",
            "_model_name": "LayoutModel",
            "_view_count": null,
            "_view_module": "@jupyter-widgets/base",
            "_view_module_version": "1.2.0",
            "_view_name": "LayoutView",
            "align_content": null,
            "align_items": null,
            "align_self": null,
            "border": null,
            "bottom": null,
            "display": null,
            "flex": null,
            "flex_flow": null,
            "grid_area": null,
            "grid_auto_columns": null,
            "grid_auto_flow": null,
            "grid_auto_rows": null,
            "grid_column": null,
            "grid_gap": null,
            "grid_row": null,
            "grid_template_areas": null,
            "grid_template_columns": null,
            "grid_template_rows": null,
            "height": null,
            "justify_content": null,
            "justify_items": null,
            "left": null,
            "margin": null,
            "max_height": null,
            "max_width": null,
            "min_height": null,
            "min_width": null,
            "object_fit": null,
            "object_position": null,
            "order": null,
            "overflow": null,
            "overflow_x": null,
            "overflow_y": null,
            "padding": null,
            "right": null,
            "top": null,
            "visibility": null,
            "width": null
          }
        },
        "0bdf68a1899e4ee9a7a481d86889ded9": {
          "model_module": "@jupyter-widgets/controls",
          "model_module_version": "1.5.0",
          "model_name": "HBoxModel",
          "state": {
            "_dom_classes": [],
            "_model_module": "@jupyter-widgets/controls",
            "_model_module_version": "1.5.0",
            "_model_name": "HBoxModel",
            "_view_count": null,
            "_view_module": "@jupyter-widgets/controls",
            "_view_module_version": "1.5.0",
            "_view_name": "HBoxView",
            "box_style": "",
            "children": [
              "IPY_MODEL_315fabbb3a04461fa8b01f960afdf999",
              "IPY_MODEL_26b478ce938740dcb19f320f77f4b3e2",
              "IPY_MODEL_d7001747b9994451a00537f0ccdcf70d"
            ],
            "layout": "IPY_MODEL_b0a237ce8e214750aa9f5ae0e4ece395"
          }
        },
        "0d7701765b1940888abb37817c4b7369": {
          "model_module": "@jupyter-widgets/controls",
          "model_module_version": "1.5.0",
          "model_name": "FloatProgressModel",
          "state": {
            "_dom_classes": [],
            "_model_module": "@jupyter-widgets/controls",
            "_model_module_version": "1.5.0",
            "_model_name": "FloatProgressModel",
            "_view_count": null,
            "_view_module": "@jupyter-widgets/controls",
            "_view_module_version": "1.5.0",
            "_view_name": "ProgressView",
            "bar_style": "success",
            "description": "",
            "description_tooltip": null,
            "layout": "IPY_MODEL_cdbf6c026cb84d7d8fb4394c8b62156d",
            "max": 233,
            "min": 0,
            "orientation": "horizontal",
            "style": "IPY_MODEL_be98515aa7c1432cadb715a208637603",
            "value": 233
          }
        },
        "0dafb7f8df40491589b40d3e2a64e4f0": {
          "model_module": "@jupyter-widgets/controls",
          "model_module_version": "1.5.0",
          "model_name": "DescriptionStyleModel",
          "state": {
            "_model_module": "@jupyter-widgets/controls",
            "_model_module_version": "1.5.0",
            "_model_name": "DescriptionStyleModel",
            "_view_count": null,
            "_view_module": "@jupyter-widgets/base",
            "_view_module_version": "1.2.0",
            "_view_name": "StyleView",
            "description_width": ""
          }
        },
        "12535503659d4d26bf6ea8fdcbf1724d": {
          "model_module": "@jupyter-widgets/controls",
          "model_module_version": "1.5.0",
          "model_name": "DescriptionStyleModel",
          "state": {
            "_model_module": "@jupyter-widgets/controls",
            "_model_module_version": "1.5.0",
            "_model_name": "DescriptionStyleModel",
            "_view_count": null,
            "_view_module": "@jupyter-widgets/base",
            "_view_module_version": "1.2.0",
            "_view_name": "StyleView",
            "description_width": ""
          }
        },
        "1e5215348f7a4383987bbf65a2b3f080": {
          "model_module": "@jupyter-widgets/controls",
          "model_module_version": "1.5.0",
          "model_name": "DescriptionStyleModel",
          "state": {
            "_model_module": "@jupyter-widgets/controls",
            "_model_module_version": "1.5.0",
            "_model_name": "DescriptionStyleModel",
            "_view_count": null,
            "_view_module": "@jupyter-widgets/base",
            "_view_module_version": "1.2.0",
            "_view_name": "StyleView",
            "description_width": ""
          }
        },
        "249dd0615bef4a1fb1cd32cc9d1c2c96": {
          "model_module": "@jupyter-widgets/controls",
          "model_module_version": "1.5.0",
          "model_name": "FloatProgressModel",
          "state": {
            "_dom_classes": [],
            "_model_module": "@jupyter-widgets/controls",
            "_model_module_version": "1.5.0",
            "_model_name": "FloatProgressModel",
            "_view_count": null,
            "_view_module": "@jupyter-widgets/controls",
            "_view_module_version": "1.5.0",
            "_view_name": "ProgressView",
            "bar_style": "success",
            "description": "",
            "description_tooltip": null,
            "layout": "IPY_MODEL_e2f959cf10dc4b02880b91557aecc718",
            "max": 977270634,
            "min": 0,
            "orientation": "horizontal",
            "style": "IPY_MODEL_771ad2f2a47f498286a3e58c6815f261",
            "value": 977270634
          }
        },
        "26b478ce938740dcb19f320f77f4b3e2": {
          "model_module": "@jupyter-widgets/controls",
          "model_module_version": "1.5.0",
          "model_name": "FloatProgressModel",
          "state": {
            "_dom_classes": [],
            "_model_module": "@jupyter-widgets/controls",
            "_model_module_version": "1.5.0",
            "_model_name": "FloatProgressModel",
            "_view_count": null,
            "_view_module": "@jupyter-widgets/controls",
            "_view_module_version": "1.5.0",
            "_view_name": "ProgressView",
            "bar_style": "success",
            "description": "",
            "description_tooltip": null,
            "layout": "IPY_MODEL_f51f290426bd4d79b37b2fa4bac90e67",
            "max": 664,
            "min": 0,
            "orientation": "horizontal",
            "style": "IPY_MODEL_45395c2283f645ff84b3886b556f1e43",
            "value": 664
          }
        },
        "26fac4f0b2f04082bdb0f18059eb403c": {
          "model_module": "@jupyter-widgets/controls",
          "model_module_version": "1.5.0",
          "model_name": "DescriptionStyleModel",
          "state": {
            "_model_module": "@jupyter-widgets/controls",
            "_model_module_version": "1.5.0",
            "_model_name": "DescriptionStyleModel",
            "_view_count": null,
            "_view_module": "@jupyter-widgets/base",
            "_view_module_version": "1.2.0",
            "_view_name": "StyleView",
            "description_width": ""
          }
        },
        "2d8fbad562f4463f986ec3ff51544735": {
          "model_module": "@jupyter-widgets/controls",
          "model_module_version": "1.5.0",
          "model_name": "HTMLModel",
          "state": {
            "_dom_classes": [],
            "_model_module": "@jupyter-widgets/controls",
            "_model_module_version": "1.5.0",
            "_model_name": "HTMLModel",
            "_view_count": null,
            "_view_module": "@jupyter-widgets/controls",
            "_view_module_version": "1.5.0",
            "_view_name": "HTMLView",
            "description": "",
            "description_tooltip": null,
            "layout": "IPY_MODEL_0b4cc02c79f94e5b91b148faf27eadb7",
            "placeholder": "​",
            "style": "IPY_MODEL_7f53891d0aa946818ef0ec7386dd1e2c",
            "value": " 233/233 [00:00&lt;00:00, 12.9kB/s]"
          }
        },
        "315fabbb3a04461fa8b01f960afdf999": {
          "model_module": "@jupyter-widgets/controls",
          "model_module_version": "1.5.0",
          "model_name": "HTMLModel",
          "state": {
            "_dom_classes": [],
            "_model_module": "@jupyter-widgets/controls",
            "_model_module_version": "1.5.0",
            "_model_name": "HTMLModel",
            "_view_count": null,
            "_view_module": "@jupyter-widgets/controls",
            "_view_module_version": "1.5.0",
            "_view_name": "HTMLView",
            "description": "",
            "description_tooltip": null,
            "layout": "IPY_MODEL_40b9f1055e9144f0a83a88bd60929cee",
            "placeholder": "​",
            "style": "IPY_MODEL_ae36a363447543f78c527bd6fba29127",
            "value": "config.json: 100%"
          }
        },
        "3f0b0cf032434eacb1624bf340863c45": {
          "model_module": "@jupyter-widgets/base",
          "model_module_version": "1.2.0",
          "model_name": "LayoutModel",
          "state": {
            "_model_module": "@jupyter-widgets/base",
            "_model_module_version": "1.2.0",
            "_model_name": "LayoutModel",
            "_view_count": null,
            "_view_module": "@jupyter-widgets/base",
            "_view_module_version": "1.2.0",
            "_view_name": "LayoutView",
            "align_content": null,
            "align_items": null,
            "align_self": null,
            "border": null,
            "bottom": null,
            "display": null,
            "flex": null,
            "flex_flow": null,
            "grid_area": null,
            "grid_auto_columns": null,
            "grid_auto_flow": null,
            "grid_auto_rows": null,
            "grid_column": null,
            "grid_gap": null,
            "grid_row": null,
            "grid_template_areas": null,
            "grid_template_columns": null,
            "grid_template_rows": null,
            "height": null,
            "justify_content": null,
            "justify_items": null,
            "left": null,
            "margin": null,
            "max_height": null,
            "max_width": null,
            "min_height": null,
            "min_width": null,
            "object_fit": null,
            "object_position": null,
            "order": null,
            "overflow": null,
            "overflow_x": null,
            "overflow_y": null,
            "padding": null,
            "right": null,
            "top": null,
            "visibility": null,
            "width": null
          }
        },
        "40b9f1055e9144f0a83a88bd60929cee": {
          "model_module": "@jupyter-widgets/base",
          "model_module_version": "1.2.0",
          "model_name": "LayoutModel",
          "state": {
            "_model_module": "@jupyter-widgets/base",
            "_model_module_version": "1.2.0",
            "_model_name": "LayoutModel",
            "_view_count": null,
            "_view_module": "@jupyter-widgets/base",
            "_view_module_version": "1.2.0",
            "_view_name": "LayoutView",
            "align_content": null,
            "align_items": null,
            "align_self": null,
            "border": null,
            "bottom": null,
            "display": null,
            "flex": null,
            "flex_flow": null,
            "grid_area": null,
            "grid_auto_columns": null,
            "grid_auto_flow": null,
            "grid_auto_rows": null,
            "grid_column": null,
            "grid_gap": null,
            "grid_row": null,
            "grid_template_areas": null,
            "grid_template_columns": null,
            "grid_template_rows": null,
            "height": null,
            "justify_content": null,
            "justify_items": null,
            "left": null,
            "margin": null,
            "max_height": null,
            "max_width": null,
            "min_height": null,
            "min_width": null,
            "object_fit": null,
            "object_position": null,
            "order": null,
            "overflow": null,
            "overflow_x": null,
            "overflow_y": null,
            "padding": null,
            "right": null,
            "top": null,
            "visibility": null,
            "width": null
          }
        },
        "45395c2283f645ff84b3886b556f1e43": {
          "model_module": "@jupyter-widgets/controls",
          "model_module_version": "1.5.0",
          "model_name": "ProgressStyleModel",
          "state": {
            "_model_module": "@jupyter-widgets/controls",
            "_model_module_version": "1.5.0",
            "_model_name": "ProgressStyleModel",
            "_view_count": null,
            "_view_module": "@jupyter-widgets/base",
            "_view_module_version": "1.2.0",
            "_view_name": "StyleView",
            "bar_color": null,
            "description_width": ""
          }
        },
        "470287d02a3b4556972d3fd7195e4f72": {
          "model_module": "@jupyter-widgets/base",
          "model_module_version": "1.2.0",
          "model_name": "LayoutModel",
          "state": {
            "_model_module": "@jupyter-widgets/base",
            "_model_module_version": "1.2.0",
            "_model_name": "LayoutModel",
            "_view_count": null,
            "_view_module": "@jupyter-widgets/base",
            "_view_module_version": "1.2.0",
            "_view_name": "LayoutView",
            "align_content": null,
            "align_items": null,
            "align_self": null,
            "border": null,
            "bottom": null,
            "display": null,
            "flex": null,
            "flex_flow": null,
            "grid_area": null,
            "grid_auto_columns": null,
            "grid_auto_flow": null,
            "grid_auto_rows": null,
            "grid_column": null,
            "grid_gap": null,
            "grid_row": null,
            "grid_template_areas": null,
            "grid_template_columns": null,
            "grid_template_rows": null,
            "height": null,
            "justify_content": null,
            "justify_items": null,
            "left": null,
            "margin": null,
            "max_height": null,
            "max_width": null,
            "min_height": null,
            "min_width": null,
            "object_fit": null,
            "object_position": null,
            "order": null,
            "overflow": null,
            "overflow_x": null,
            "overflow_y": null,
            "padding": null,
            "right": null,
            "top": null,
            "visibility": null,
            "width": null
          }
        },
        "4c42f3042057400bb5b0e4bd45971315": {
          "model_module": "@jupyter-widgets/controls",
          "model_module_version": "1.5.0",
          "model_name": "ProgressStyleModel",
          "state": {
            "_model_module": "@jupyter-widgets/controls",
            "_model_module_version": "1.5.0",
            "_model_name": "ProgressStyleModel",
            "_view_count": null,
            "_view_module": "@jupyter-widgets/base",
            "_view_module_version": "1.2.0",
            "_view_name": "StyleView",
            "bar_color": null,
            "description_width": ""
          }
        },
        "51c33e5bd68c48beb065daf648d8284b": {
          "model_module": "@jupyter-widgets/controls",
          "model_module_version": "1.5.0",
          "model_name": "HBoxModel",
          "state": {
            "_dom_classes": [],
            "_model_module": "@jupyter-widgets/controls",
            "_model_module_version": "1.5.0",
            "_model_name": "HBoxModel",
            "_view_count": null,
            "_view_module": "@jupyter-widgets/controls",
            "_view_module_version": "1.5.0",
            "_view_name": "HBoxView",
            "box_style": "",
            "children": [
              "IPY_MODEL_823cdaed77d44d33b410a7a109ba78b1",
              "IPY_MODEL_d6ac4e8d0dc84119aadad2c08f426737",
              "IPY_MODEL_b133376e615243a2a6324f9738e91bae"
            ],
            "layout": "IPY_MODEL_3f0b0cf032434eacb1624bf340863c45"
          }
        },
        "52970aa1f978402cb418ee7dbde45192": {
          "model_module": "@jupyter-widgets/controls",
          "model_module_version": "1.5.0",
          "model_name": "HTMLModel",
          "state": {
            "_dom_classes": [],
            "_model_module": "@jupyter-widgets/controls",
            "_model_module_version": "1.5.0",
            "_model_name": "HTMLModel",
            "_view_count": null,
            "_view_module": "@jupyter-widgets/controls",
            "_view_module_version": "1.5.0",
            "_view_name": "HTMLView",
            "description": "",
            "description_tooltip": null,
            "layout": "IPY_MODEL_d4afbeaca1f2485dadbc11ba8ea676e5",
            "placeholder": "​",
            "style": "IPY_MODEL_0dafb7f8df40491589b40d3e2a64e4f0",
            "value": " 977M/977M [00:25&lt;00:00, 33.4MB/s]"
          }
        },
        "547ed23e024146d29f5da1381f5fa586": {
          "model_module": "@jupyter-widgets/base",
          "model_module_version": "1.2.0",
          "model_name": "LayoutModel",
          "state": {
            "_model_module": "@jupyter-widgets/base",
            "_model_module_version": "1.2.0",
            "_model_name": "LayoutModel",
            "_view_count": null,
            "_view_module": "@jupyter-widgets/base",
            "_view_module_version": "1.2.0",
            "_view_name": "LayoutView",
            "align_content": null,
            "align_items": null,
            "align_self": null,
            "border": null,
            "bottom": null,
            "display": null,
            "flex": null,
            "flex_flow": null,
            "grid_area": null,
            "grid_auto_columns": null,
            "grid_auto_flow": null,
            "grid_auto_rows": null,
            "grid_column": null,
            "grid_gap": null,
            "grid_row": null,
            "grid_template_areas": null,
            "grid_template_columns": null,
            "grid_template_rows": null,
            "height": null,
            "justify_content": null,
            "justify_items": null,
            "left": null,
            "margin": null,
            "max_height": null,
            "max_width": null,
            "min_height": null,
            "min_width": null,
            "object_fit": null,
            "object_position": null,
            "order": null,
            "overflow": null,
            "overflow_x": null,
            "overflow_y": null,
            "padding": null,
            "right": null,
            "top": null,
            "visibility": null,
            "width": null
          }
        },
        "54eb8c67de3e4af686bc84760f6fce42": {
          "model_module": "@jupyter-widgets/base",
          "model_module_version": "1.2.0",
          "model_name": "LayoutModel",
          "state": {
            "_model_module": "@jupyter-widgets/base",
            "_model_module_version": "1.2.0",
            "_model_name": "LayoutModel",
            "_view_count": null,
            "_view_module": "@jupyter-widgets/base",
            "_view_module_version": "1.2.0",
            "_view_name": "LayoutView",
            "align_content": null,
            "align_items": null,
            "align_self": null,
            "border": null,
            "bottom": null,
            "display": null,
            "flex": null,
            "flex_flow": null,
            "grid_area": null,
            "grid_auto_columns": null,
            "grid_auto_flow": null,
            "grid_auto_rows": null,
            "grid_column": null,
            "grid_gap": null,
            "grid_row": null,
            "grid_template_areas": null,
            "grid_template_columns": null,
            "grid_template_rows": null,
            "height": null,
            "justify_content": null,
            "justify_items": null,
            "left": null,
            "margin": null,
            "max_height": null,
            "max_width": null,
            "min_height": null,
            "min_width": null,
            "object_fit": null,
            "object_position": null,
            "order": null,
            "overflow": null,
            "overflow_x": null,
            "overflow_y": null,
            "padding": null,
            "right": null,
            "top": null,
            "visibility": null,
            "width": null
          }
        },
        "6ae737e941ed483ab3f3710b72dde55a": {
          "model_module": "@jupyter-widgets/base",
          "model_module_version": "1.2.0",
          "model_name": "LayoutModel",
          "state": {
            "_model_module": "@jupyter-widgets/base",
            "_model_module_version": "1.2.0",
            "_model_name": "LayoutModel",
            "_view_count": null,
            "_view_module": "@jupyter-widgets/base",
            "_view_module_version": "1.2.0",
            "_view_name": "LayoutView",
            "align_content": null,
            "align_items": null,
            "align_self": null,
            "border": null,
            "bottom": null,
            "display": null,
            "flex": null,
            "flex_flow": null,
            "grid_area": null,
            "grid_auto_columns": null,
            "grid_auto_flow": null,
            "grid_auto_rows": null,
            "grid_column": null,
            "grid_gap": null,
            "grid_row": null,
            "grid_template_areas": null,
            "grid_template_columns": null,
            "grid_template_rows": null,
            "height": null,
            "justify_content": null,
            "justify_items": null,
            "left": null,
            "margin": null,
            "max_height": null,
            "max_width": null,
            "min_height": null,
            "min_width": null,
            "object_fit": null,
            "object_position": null,
            "order": null,
            "overflow": null,
            "overflow_x": null,
            "overflow_y": null,
            "padding": null,
            "right": null,
            "top": null,
            "visibility": null,
            "width": null
          }
        },
        "6f95c83966cf489eb384a443d7cf09bf": {
          "model_module": "@jupyter-widgets/controls",
          "model_module_version": "1.5.0",
          "model_name": "HTMLModel",
          "state": {
            "_dom_classes": [],
            "_model_module": "@jupyter-widgets/controls",
            "_model_module_version": "1.5.0",
            "_model_name": "HTMLModel",
            "_view_count": null,
            "_view_module": "@jupyter-widgets/controls",
            "_view_module_version": "1.5.0",
            "_view_name": "HTMLView",
            "description": "",
            "description_tooltip": null,
            "layout": "IPY_MODEL_f6a45867f59f42e3b7da3d074a9f4d49",
            "placeholder": "​",
            "style": "IPY_MODEL_05001970c2b248bd9e78dbc3b19047ac",
            "value": "spiece.model: 100%"
          }
        },
        "771ad2f2a47f498286a3e58c6815f261": {
          "model_module": "@jupyter-widgets/controls",
          "model_module_version": "1.5.0",
          "model_name": "ProgressStyleModel",
          "state": {
            "_model_module": "@jupyter-widgets/controls",
            "_model_module_version": "1.5.0",
            "_model_name": "ProgressStyleModel",
            "_view_count": null,
            "_view_module": "@jupyter-widgets/base",
            "_view_module_version": "1.2.0",
            "_view_name": "StyleView",
            "bar_color": null,
            "description_width": ""
          }
        },
        "7f53891d0aa946818ef0ec7386dd1e2c": {
          "model_module": "@jupyter-widgets/controls",
          "model_module_version": "1.5.0",
          "model_name": "DescriptionStyleModel",
          "state": {
            "_model_module": "@jupyter-widgets/controls",
            "_model_module_version": "1.5.0",
            "_model_name": "DescriptionStyleModel",
            "_view_count": null,
            "_view_module": "@jupyter-widgets/base",
            "_view_module_version": "1.2.0",
            "_view_name": "StyleView",
            "description_width": ""
          }
        },
        "820c5b49d1184e97b08d09526ae5bb92": {
          "model_module": "@jupyter-widgets/controls",
          "model_module_version": "1.5.0",
          "model_name": "DescriptionStyleModel",
          "state": {
            "_model_module": "@jupyter-widgets/controls",
            "_model_module_version": "1.5.0",
            "_model_name": "DescriptionStyleModel",
            "_view_count": null,
            "_view_module": "@jupyter-widgets/base",
            "_view_module_version": "1.2.0",
            "_view_name": "StyleView",
            "description_width": ""
          }
        },
        "823cdaed77d44d33b410a7a109ba78b1": {
          "model_module": "@jupyter-widgets/controls",
          "model_module_version": "1.5.0",
          "model_name": "HTMLModel",
          "state": {
            "_dom_classes": [],
            "_model_module": "@jupyter-widgets/controls",
            "_model_module_version": "1.5.0",
            "_model_name": "HTMLModel",
            "_view_count": null,
            "_view_module": "@jupyter-widgets/controls",
            "_view_module_version": "1.5.0",
            "_view_name": "HTMLView",
            "description": "",
            "description_tooltip": null,
            "layout": "IPY_MODEL_6ae737e941ed483ab3f3710b72dde55a",
            "placeholder": "​",
            "style": "IPY_MODEL_f51e2c1fb3a049ccaf167cd081fe112f",
            "value": "special_tokens_map.json: 100%"
          }
        },
        "88e5209fd34a45b295fa2dac19f48bf0": {
          "model_module": "@jupyter-widgets/controls",
          "model_module_version": "1.5.0",
          "model_name": "HTMLModel",
          "state": {
            "_dom_classes": [],
            "_model_module": "@jupyter-widgets/controls",
            "_model_module_version": "1.5.0",
            "_model_name": "HTMLModel",
            "_view_count": null,
            "_view_module": "@jupyter-widgets/controls",
            "_view_module_version": "1.5.0",
            "_view_name": "HTMLView",
            "description": "",
            "description_tooltip": null,
            "layout": "IPY_MODEL_54eb8c67de3e4af686bc84760f6fce42",
            "placeholder": "​",
            "style": "IPY_MODEL_1e5215348f7a4383987bbf65a2b3f080",
            "value": " 828k/828k [00:00&lt;00:00, 24.0MB/s]"
          }
        },
        "9351057c58414f5aa13f13edf39401a6": {
          "model_module": "@jupyter-widgets/base",
          "model_module_version": "1.2.0",
          "model_name": "LayoutModel",
          "state": {
            "_model_module": "@jupyter-widgets/base",
            "_model_module_version": "1.2.0",
            "_model_name": "LayoutModel",
            "_view_count": null,
            "_view_module": "@jupyter-widgets/base",
            "_view_module_version": "1.2.0",
            "_view_name": "LayoutView",
            "align_content": null,
            "align_items": null,
            "align_self": null,
            "border": null,
            "bottom": null,
            "display": null,
            "flex": null,
            "flex_flow": null,
            "grid_area": null,
            "grid_auto_columns": null,
            "grid_auto_flow": null,
            "grid_auto_rows": null,
            "grid_column": null,
            "grid_gap": null,
            "grid_row": null,
            "grid_template_areas": null,
            "grid_template_columns": null,
            "grid_template_rows": null,
            "height": null,
            "justify_content": null,
            "justify_items": null,
            "left": null,
            "margin": null,
            "max_height": null,
            "max_width": null,
            "min_height": null,
            "min_width": null,
            "object_fit": null,
            "object_position": null,
            "order": null,
            "overflow": null,
            "overflow_x": null,
            "overflow_y": null,
            "padding": null,
            "right": null,
            "top": null,
            "visibility": null,
            "width": null
          }
        },
        "93976debd8874af98c9c18d1e695334c": {
          "model_module": "@jupyter-widgets/controls",
          "model_module_version": "1.5.0",
          "model_name": "HBoxModel",
          "state": {
            "_dom_classes": [],
            "_model_module": "@jupyter-widgets/controls",
            "_model_module_version": "1.5.0",
            "_model_name": "HBoxModel",
            "_view_count": null,
            "_view_module": "@jupyter-widgets/controls",
            "_view_module_version": "1.5.0",
            "_view_name": "HBoxView",
            "box_style": "",
            "children": [
              "IPY_MODEL_ebf850c975ef4293beaa25b57bc8f6bd",
              "IPY_MODEL_249dd0615bef4a1fb1cd32cc9d1c2c96",
              "IPY_MODEL_52970aa1f978402cb418ee7dbde45192"
            ],
            "layout": "IPY_MODEL_dff90fa24500441abded263e5fadb735"
          }
        },
        "a77252a94867482aa197aef1407150f2": {
          "model_module": "@jupyter-widgets/controls",
          "model_module_version": "1.5.0",
          "model_name": "FloatProgressModel",
          "state": {
            "_dom_classes": [],
            "_model_module": "@jupyter-widgets/controls",
            "_model_module_version": "1.5.0",
            "_model_name": "FloatProgressModel",
            "_view_count": null,
            "_view_module": "@jupyter-widgets/controls",
            "_view_module_version": "1.5.0",
            "_view_name": "ProgressView",
            "bar_style": "success",
            "description": "",
            "description_tooltip": null,
            "layout": "IPY_MODEL_efb94512beaa4e0d822bbd13aa60fe0b",
            "max": 827566,
            "min": 0,
            "orientation": "horizontal",
            "style": "IPY_MODEL_4c42f3042057400bb5b0e4bd45971315",
            "value": 827566
          }
        },
        "ad9c1700b545473bb69270d11e1d55dc": {
          "model_module": "@jupyter-widgets/base",
          "model_module_version": "1.2.0",
          "model_name": "LayoutModel",
          "state": {
            "_model_module": "@jupyter-widgets/base",
            "_model_module_version": "1.2.0",
            "_model_name": "LayoutModel",
            "_view_count": null,
            "_view_module": "@jupyter-widgets/base",
            "_view_module_version": "1.2.0",
            "_view_name": "LayoutView",
            "align_content": null,
            "align_items": null,
            "align_self": null,
            "border": null,
            "bottom": null,
            "display": null,
            "flex": null,
            "flex_flow": null,
            "grid_area": null,
            "grid_auto_columns": null,
            "grid_auto_flow": null,
            "grid_auto_rows": null,
            "grid_column": null,
            "grid_gap": null,
            "grid_row": null,
            "grid_template_areas": null,
            "grid_template_columns": null,
            "grid_template_rows": null,
            "height": null,
            "justify_content": null,
            "justify_items": null,
            "left": null,
            "margin": null,
            "max_height": null,
            "max_width": null,
            "min_height": null,
            "min_width": null,
            "object_fit": null,
            "object_position": null,
            "order": null,
            "overflow": null,
            "overflow_x": null,
            "overflow_y": null,
            "padding": null,
            "right": null,
            "top": null,
            "visibility": null,
            "width": null
          }
        },
        "ae36a363447543f78c527bd6fba29127": {
          "model_module": "@jupyter-widgets/controls",
          "model_module_version": "1.5.0",
          "model_name": "DescriptionStyleModel",
          "state": {
            "_model_module": "@jupyter-widgets/controls",
            "_model_module_version": "1.5.0",
            "_model_name": "DescriptionStyleModel",
            "_view_count": null,
            "_view_module": "@jupyter-widgets/base",
            "_view_module_version": "1.2.0",
            "_view_name": "StyleView",
            "description_width": ""
          }
        },
        "aeab30c4789f4f56b080f6bc50f53761": {
          "model_module": "@jupyter-widgets/controls",
          "model_module_version": "1.5.0",
          "model_name": "HBoxModel",
          "state": {
            "_dom_classes": [],
            "_model_module": "@jupyter-widgets/controls",
            "_model_module_version": "1.5.0",
            "_model_name": "HBoxModel",
            "_view_count": null,
            "_view_module": "@jupyter-widgets/controls",
            "_view_module_version": "1.5.0",
            "_view_name": "HBoxView",
            "box_style": "",
            "children": [
              "IPY_MODEL_be6d4c4ef7074041b70fc0e1acb607e4",
              "IPY_MODEL_0d7701765b1940888abb37817c4b7369",
              "IPY_MODEL_2d8fbad562f4463f986ec3ff51544735"
            ],
            "layout": "IPY_MODEL_f18b6613b81e4f3d869095e2644877a2"
          }
        },
        "b0a237ce8e214750aa9f5ae0e4ece395": {
          "model_module": "@jupyter-widgets/base",
          "model_module_version": "1.2.0",
          "model_name": "LayoutModel",
          "state": {
            "_model_module": "@jupyter-widgets/base",
            "_model_module_version": "1.2.0",
            "_model_name": "LayoutModel",
            "_view_count": null,
            "_view_module": "@jupyter-widgets/base",
            "_view_module_version": "1.2.0",
            "_view_name": "LayoutView",
            "align_content": null,
            "align_items": null,
            "align_self": null,
            "border": null,
            "bottom": null,
            "display": null,
            "flex": null,
            "flex_flow": null,
            "grid_area": null,
            "grid_auto_columns": null,
            "grid_auto_flow": null,
            "grid_auto_rows": null,
            "grid_column": null,
            "grid_gap": null,
            "grid_row": null,
            "grid_template_areas": null,
            "grid_template_columns": null,
            "grid_template_rows": null,
            "height": null,
            "justify_content": null,
            "justify_items": null,
            "left": null,
            "margin": null,
            "max_height": null,
            "max_width": null,
            "min_height": null,
            "min_width": null,
            "object_fit": null,
            "object_position": null,
            "order": null,
            "overflow": null,
            "overflow_x": null,
            "overflow_y": null,
            "padding": null,
            "right": null,
            "top": null,
            "visibility": null,
            "width": null
          }
        },
        "b133376e615243a2a6324f9738e91bae": {
          "model_module": "@jupyter-widgets/controls",
          "model_module_version": "1.5.0",
          "model_name": "HTMLModel",
          "state": {
            "_dom_classes": [],
            "_model_module": "@jupyter-widgets/controls",
            "_model_module_version": "1.5.0",
            "_model_name": "HTMLModel",
            "_view_count": null,
            "_view_module": "@jupyter-widgets/controls",
            "_view_module_version": "1.5.0",
            "_view_name": "HTMLView",
            "description": "",
            "description_tooltip": null,
            "layout": "IPY_MODEL_9351057c58414f5aa13f13edf39401a6",
            "placeholder": "​",
            "style": "IPY_MODEL_26fac4f0b2f04082bdb0f18059eb403c",
            "value": " 65.0/65.0 [00:00&lt;00:00, 4.11kB/s]"
          }
        },
        "be6d4c4ef7074041b70fc0e1acb607e4": {
          "model_module": "@jupyter-widgets/controls",
          "model_module_version": "1.5.0",
          "model_name": "HTMLModel",
          "state": {
            "_dom_classes": [],
            "_model_module": "@jupyter-widgets/controls",
            "_model_module_version": "1.5.0",
            "_model_name": "HTMLModel",
            "_view_count": null,
            "_view_module": "@jupyter-widgets/controls",
            "_view_module_version": "1.5.0",
            "_view_name": "HTMLView",
            "description": "",
            "description_tooltip": null,
            "layout": "IPY_MODEL_ad9c1700b545473bb69270d11e1d55dc",
            "placeholder": "​",
            "style": "IPY_MODEL_bf6ef6a8c6974ae488cb74dd35740dda",
            "value": "tokenizer_config.json: 100%"
          }
        },
        "be98515aa7c1432cadb715a208637603": {
          "model_module": "@jupyter-widgets/controls",
          "model_module_version": "1.5.0",
          "model_name": "ProgressStyleModel",
          "state": {
            "_model_module": "@jupyter-widgets/controls",
            "_model_module_version": "1.5.0",
            "_model_name": "ProgressStyleModel",
            "_view_count": null,
            "_view_module": "@jupyter-widgets/base",
            "_view_module_version": "1.2.0",
            "_view_name": "StyleView",
            "bar_color": null,
            "description_width": ""
          }
        },
        "bf6ef6a8c6974ae488cb74dd35740dda": {
          "model_module": "@jupyter-widgets/controls",
          "model_module_version": "1.5.0",
          "model_name": "DescriptionStyleModel",
          "state": {
            "_model_module": "@jupyter-widgets/controls",
            "_model_module_version": "1.5.0",
            "_model_name": "DescriptionStyleModel",
            "_view_count": null,
            "_view_module": "@jupyter-widgets/base",
            "_view_module_version": "1.2.0",
            "_view_name": "StyleView",
            "description_width": ""
          }
        },
        "c3a866ec1edf44269345c7d6b13e35f5": {
          "model_module": "@jupyter-widgets/base",
          "model_module_version": "1.2.0",
          "model_name": "LayoutModel",
          "state": {
            "_model_module": "@jupyter-widgets/base",
            "_model_module_version": "1.2.0",
            "_model_name": "LayoutModel",
            "_view_count": null,
            "_view_module": "@jupyter-widgets/base",
            "_view_module_version": "1.2.0",
            "_view_name": "LayoutView",
            "align_content": null,
            "align_items": null,
            "align_self": null,
            "border": null,
            "bottom": null,
            "display": null,
            "flex": null,
            "flex_flow": null,
            "grid_area": null,
            "grid_auto_columns": null,
            "grid_auto_flow": null,
            "grid_auto_rows": null,
            "grid_column": null,
            "grid_gap": null,
            "grid_row": null,
            "grid_template_areas": null,
            "grid_template_columns": null,
            "grid_template_rows": null,
            "height": null,
            "justify_content": null,
            "justify_items": null,
            "left": null,
            "margin": null,
            "max_height": null,
            "max_width": null,
            "min_height": null,
            "min_width": null,
            "object_fit": null,
            "object_position": null,
            "order": null,
            "overflow": null,
            "overflow_x": null,
            "overflow_y": null,
            "padding": null,
            "right": null,
            "top": null,
            "visibility": null,
            "width": null
          }
        },
        "ca121b61e53d447d80cbf7d890b8a1ce": {
          "model_module": "@jupyter-widgets/controls",
          "model_module_version": "1.5.0",
          "model_name": "ProgressStyleModel",
          "state": {
            "_model_module": "@jupyter-widgets/controls",
            "_model_module_version": "1.5.0",
            "_model_name": "ProgressStyleModel",
            "_view_count": null,
            "_view_module": "@jupyter-widgets/base",
            "_view_module_version": "1.2.0",
            "_view_name": "StyleView",
            "bar_color": null,
            "description_width": ""
          }
        },
        "cdbf6c026cb84d7d8fb4394c8b62156d": {
          "model_module": "@jupyter-widgets/base",
          "model_module_version": "1.2.0",
          "model_name": "LayoutModel",
          "state": {
            "_model_module": "@jupyter-widgets/base",
            "_model_module_version": "1.2.0",
            "_model_name": "LayoutModel",
            "_view_count": null,
            "_view_module": "@jupyter-widgets/base",
            "_view_module_version": "1.2.0",
            "_view_name": "LayoutView",
            "align_content": null,
            "align_items": null,
            "align_self": null,
            "border": null,
            "bottom": null,
            "display": null,
            "flex": null,
            "flex_flow": null,
            "grid_area": null,
            "grid_auto_columns": null,
            "grid_auto_flow": null,
            "grid_auto_rows": null,
            "grid_column": null,
            "grid_gap": null,
            "grid_row": null,
            "grid_template_areas": null,
            "grid_template_columns": null,
            "grid_template_rows": null,
            "height": null,
            "justify_content": null,
            "justify_items": null,
            "left": null,
            "margin": null,
            "max_height": null,
            "max_width": null,
            "min_height": null,
            "min_width": null,
            "object_fit": null,
            "object_position": null,
            "order": null,
            "overflow": null,
            "overflow_x": null,
            "overflow_y": null,
            "padding": null,
            "right": null,
            "top": null,
            "visibility": null,
            "width": null
          }
        },
        "d4afbeaca1f2485dadbc11ba8ea676e5": {
          "model_module": "@jupyter-widgets/base",
          "model_module_version": "1.2.0",
          "model_name": "LayoutModel",
          "state": {
            "_model_module": "@jupyter-widgets/base",
            "_model_module_version": "1.2.0",
            "_model_name": "LayoutModel",
            "_view_count": null,
            "_view_module": "@jupyter-widgets/base",
            "_view_module_version": "1.2.0",
            "_view_name": "LayoutView",
            "align_content": null,
            "align_items": null,
            "align_self": null,
            "border": null,
            "bottom": null,
            "display": null,
            "flex": null,
            "flex_flow": null,
            "grid_area": null,
            "grid_auto_columns": null,
            "grid_auto_flow": null,
            "grid_auto_rows": null,
            "grid_column": null,
            "grid_gap": null,
            "grid_row": null,
            "grid_template_areas": null,
            "grid_template_columns": null,
            "grid_template_rows": null,
            "height": null,
            "justify_content": null,
            "justify_items": null,
            "left": null,
            "margin": null,
            "max_height": null,
            "max_width": null,
            "min_height": null,
            "min_width": null,
            "object_fit": null,
            "object_position": null,
            "order": null,
            "overflow": null,
            "overflow_x": null,
            "overflow_y": null,
            "padding": null,
            "right": null,
            "top": null,
            "visibility": null,
            "width": null
          }
        },
        "d6ac4e8d0dc84119aadad2c08f426737": {
          "model_module": "@jupyter-widgets/controls",
          "model_module_version": "1.5.0",
          "model_name": "FloatProgressModel",
          "state": {
            "_dom_classes": [],
            "_model_module": "@jupyter-widgets/controls",
            "_model_module_version": "1.5.0",
            "_model_name": "FloatProgressModel",
            "_view_count": null,
            "_view_module": "@jupyter-widgets/controls",
            "_view_module_version": "1.5.0",
            "_view_name": "ProgressView",
            "bar_style": "success",
            "description": "",
            "description_tooltip": null,
            "layout": "IPY_MODEL_547ed23e024146d29f5da1381f5fa586",
            "max": 65,
            "min": 0,
            "orientation": "horizontal",
            "style": "IPY_MODEL_ca121b61e53d447d80cbf7d890b8a1ce",
            "value": 65
          }
        },
        "d7001747b9994451a00537f0ccdcf70d": {
          "model_module": "@jupyter-widgets/controls",
          "model_module_version": "1.5.0",
          "model_name": "HTMLModel",
          "state": {
            "_dom_classes": [],
            "_model_module": "@jupyter-widgets/controls",
            "_model_module_version": "1.5.0",
            "_model_name": "HTMLModel",
            "_view_count": null,
            "_view_module": "@jupyter-widgets/controls",
            "_view_module_version": "1.5.0",
            "_view_name": "HTMLView",
            "description": "",
            "description_tooltip": null,
            "layout": "IPY_MODEL_470287d02a3b4556972d3fd7195e4f72",
            "placeholder": "​",
            "style": "IPY_MODEL_12535503659d4d26bf6ea8fdcbf1724d",
            "value": " 664/664 [00:00&lt;00:00, 40.5kB/s]"
          }
        },
        "dff90fa24500441abded263e5fadb735": {
          "model_module": "@jupyter-widgets/base",
          "model_module_version": "1.2.0",
          "model_name": "LayoutModel",
          "state": {
            "_model_module": "@jupyter-widgets/base",
            "_model_module_version": "1.2.0",
            "_model_name": "LayoutModel",
            "_view_count": null,
            "_view_module": "@jupyter-widgets/base",
            "_view_module_version": "1.2.0",
            "_view_name": "LayoutView",
            "align_content": null,
            "align_items": null,
            "align_self": null,
            "border": null,
            "bottom": null,
            "display": null,
            "flex": null,
            "flex_flow": null,
            "grid_area": null,
            "grid_auto_columns": null,
            "grid_auto_flow": null,
            "grid_auto_rows": null,
            "grid_column": null,
            "grid_gap": null,
            "grid_row": null,
            "grid_template_areas": null,
            "grid_template_columns": null,
            "grid_template_rows": null,
            "height": null,
            "justify_content": null,
            "justify_items": null,
            "left": null,
            "margin": null,
            "max_height": null,
            "max_width": null,
            "min_height": null,
            "min_width": null,
            "object_fit": null,
            "object_position": null,
            "order": null,
            "overflow": null,
            "overflow_x": null,
            "overflow_y": null,
            "padding": null,
            "right": null,
            "top": null,
            "visibility": null,
            "width": null
          }
        },
        "e2f959cf10dc4b02880b91557aecc718": {
          "model_module": "@jupyter-widgets/base",
          "model_module_version": "1.2.0",
          "model_name": "LayoutModel",
          "state": {
            "_model_module": "@jupyter-widgets/base",
            "_model_module_version": "1.2.0",
            "_model_name": "LayoutModel",
            "_view_count": null,
            "_view_module": "@jupyter-widgets/base",
            "_view_module_version": "1.2.0",
            "_view_name": "LayoutView",
            "align_content": null,
            "align_items": null,
            "align_self": null,
            "border": null,
            "bottom": null,
            "display": null,
            "flex": null,
            "flex_flow": null,
            "grid_area": null,
            "grid_auto_columns": null,
            "grid_auto_flow": null,
            "grid_auto_rows": null,
            "grid_column": null,
            "grid_gap": null,
            "grid_row": null,
            "grid_template_areas": null,
            "grid_template_columns": null,
            "grid_template_rows": null,
            "height": null,
            "justify_content": null,
            "justify_items": null,
            "left": null,
            "margin": null,
            "max_height": null,
            "max_width": null,
            "min_height": null,
            "min_width": null,
            "object_fit": null,
            "object_position": null,
            "order": null,
            "overflow": null,
            "overflow_x": null,
            "overflow_y": null,
            "padding": null,
            "right": null,
            "top": null,
            "visibility": null,
            "width": null
          }
        },
        "e9700476f32a4fc9a4b79df56c826205": {
          "model_module": "@jupyter-widgets/controls",
          "model_module_version": "1.5.0",
          "model_name": "HBoxModel",
          "state": {
            "_dom_classes": [],
            "_model_module": "@jupyter-widgets/controls",
            "_model_module_version": "1.5.0",
            "_model_name": "HBoxModel",
            "_view_count": null,
            "_view_module": "@jupyter-widgets/controls",
            "_view_module_version": "1.5.0",
            "_view_name": "HBoxView",
            "box_style": "",
            "children": [
              "IPY_MODEL_6f95c83966cf489eb384a443d7cf09bf",
              "IPY_MODEL_a77252a94867482aa197aef1407150f2",
              "IPY_MODEL_88e5209fd34a45b295fa2dac19f48bf0"
            ],
            "layout": "IPY_MODEL_c3a866ec1edf44269345c7d6b13e35f5"
          }
        },
        "ebf850c975ef4293beaa25b57bc8f6bd": {
          "model_module": "@jupyter-widgets/controls",
          "model_module_version": "1.5.0",
          "model_name": "HTMLModel",
          "state": {
            "_dom_classes": [],
            "_model_module": "@jupyter-widgets/controls",
            "_model_module_version": "1.5.0",
            "_model_name": "HTMLModel",
            "_view_count": null,
            "_view_module": "@jupyter-widgets/controls",
            "_view_module_version": "1.5.0",
            "_view_name": "HTMLView",
            "description": "",
            "description_tooltip": null,
            "layout": "IPY_MODEL_f2debbf28e7449d1a17f28e05c3dad6f",
            "placeholder": "​",
            "style": "IPY_MODEL_820c5b49d1184e97b08d09526ae5bb92",
            "value": "model.safetensors: 100%"
          }
        },
        "efb94512beaa4e0d822bbd13aa60fe0b": {
          "model_module": "@jupyter-widgets/base",
          "model_module_version": "1.2.0",
          "model_name": "LayoutModel",
          "state": {
            "_model_module": "@jupyter-widgets/base",
            "_model_module_version": "1.2.0",
            "_model_name": "LayoutModel",
            "_view_count": null,
            "_view_module": "@jupyter-widgets/base",
            "_view_module_version": "1.2.0",
            "_view_name": "LayoutView",
            "align_content": null,
            "align_items": null,
            "align_self": null,
            "border": null,
            "bottom": null,
            "display": null,
            "flex": null,
            "flex_flow": null,
            "grid_area": null,
            "grid_auto_columns": null,
            "grid_auto_flow": null,
            "grid_auto_rows": null,
            "grid_column": null,
            "grid_gap": null,
            "grid_row": null,
            "grid_template_areas": null,
            "grid_template_columns": null,
            "grid_template_rows": null,
            "height": null,
            "justify_content": null,
            "justify_items": null,
            "left": null,
            "margin": null,
            "max_height": null,
            "max_width": null,
            "min_height": null,
            "min_width": null,
            "object_fit": null,
            "object_position": null,
            "order": null,
            "overflow": null,
            "overflow_x": null,
            "overflow_y": null,
            "padding": null,
            "right": null,
            "top": null,
            "visibility": null,
            "width": null
          }
        },
        "f18b6613b81e4f3d869095e2644877a2": {
          "model_module": "@jupyter-widgets/base",
          "model_module_version": "1.2.0",
          "model_name": "LayoutModel",
          "state": {
            "_model_module": "@jupyter-widgets/base",
            "_model_module_version": "1.2.0",
            "_model_name": "LayoutModel",
            "_view_count": null,
            "_view_module": "@jupyter-widgets/base",
            "_view_module_version": "1.2.0",
            "_view_name": "LayoutView",
            "align_content": null,
            "align_items": null,
            "align_self": null,
            "border": null,
            "bottom": null,
            "display": null,
            "flex": null,
            "flex_flow": null,
            "grid_area": null,
            "grid_auto_columns": null,
            "grid_auto_flow": null,
            "grid_auto_rows": null,
            "grid_column": null,
            "grid_gap": null,
            "grid_row": null,
            "grid_template_areas": null,
            "grid_template_columns": null,
            "grid_template_rows": null,
            "height": null,
            "justify_content": null,
            "justify_items": null,
            "left": null,
            "margin": null,
            "max_height": null,
            "max_width": null,
            "min_height": null,
            "min_width": null,
            "object_fit": null,
            "object_position": null,
            "order": null,
            "overflow": null,
            "overflow_x": null,
            "overflow_y": null,
            "padding": null,
            "right": null,
            "top": null,
            "visibility": null,
            "width": null
          }
        },
        "f2debbf28e7449d1a17f28e05c3dad6f": {
          "model_module": "@jupyter-widgets/base",
          "model_module_version": "1.2.0",
          "model_name": "LayoutModel",
          "state": {
            "_model_module": "@jupyter-widgets/base",
            "_model_module_version": "1.2.0",
            "_model_name": "LayoutModel",
            "_view_count": null,
            "_view_module": "@jupyter-widgets/base",
            "_view_module_version": "1.2.0",
            "_view_name": "LayoutView",
            "align_content": null,
            "align_items": null,
            "align_self": null,
            "border": null,
            "bottom": null,
            "display": null,
            "flex": null,
            "flex_flow": null,
            "grid_area": null,
            "grid_auto_columns": null,
            "grid_auto_flow": null,
            "grid_auto_rows": null,
            "grid_column": null,
            "grid_gap": null,
            "grid_row": null,
            "grid_template_areas": null,
            "grid_template_columns": null,
            "grid_template_rows": null,
            "height": null,
            "justify_content": null,
            "justify_items": null,
            "left": null,
            "margin": null,
            "max_height": null,
            "max_width": null,
            "min_height": null,
            "min_width": null,
            "object_fit": null,
            "object_position": null,
            "order": null,
            "overflow": null,
            "overflow_x": null,
            "overflow_y": null,
            "padding": null,
            "right": null,
            "top": null,
            "visibility": null,
            "width": null
          }
        },
        "f51e2c1fb3a049ccaf167cd081fe112f": {
          "model_module": "@jupyter-widgets/controls",
          "model_module_version": "1.5.0",
          "model_name": "DescriptionStyleModel",
          "state": {
            "_model_module": "@jupyter-widgets/controls",
            "_model_module_version": "1.5.0",
            "_model_name": "DescriptionStyleModel",
            "_view_count": null,
            "_view_module": "@jupyter-widgets/base",
            "_view_module_version": "1.2.0",
            "_view_name": "StyleView",
            "description_width": ""
          }
        },
        "f51f290426bd4d79b37b2fa4bac90e67": {
          "model_module": "@jupyter-widgets/base",
          "model_module_version": "1.2.0",
          "model_name": "LayoutModel",
          "state": {
            "_model_module": "@jupyter-widgets/base",
            "_model_module_version": "1.2.0",
            "_model_name": "LayoutModel",
            "_view_count": null,
            "_view_module": "@jupyter-widgets/base",
            "_view_module_version": "1.2.0",
            "_view_name": "LayoutView",
            "align_content": null,
            "align_items": null,
            "align_self": null,
            "border": null,
            "bottom": null,
            "display": null,
            "flex": null,
            "flex_flow": null,
            "grid_area": null,
            "grid_auto_columns": null,
            "grid_auto_flow": null,
            "grid_auto_rows": null,
            "grid_column": null,
            "grid_gap": null,
            "grid_row": null,
            "grid_template_areas": null,
            "grid_template_columns": null,
            "grid_template_rows": null,
            "height": null,
            "justify_content": null,
            "justify_items": null,
            "left": null,
            "margin": null,
            "max_height": null,
            "max_width": null,
            "min_height": null,
            "min_width": null,
            "object_fit": null,
            "object_position": null,
            "order": null,
            "overflow": null,
            "overflow_x": null,
            "overflow_y": null,
            "padding": null,
            "right": null,
            "top": null,
            "visibility": null,
            "width": null
          }
        },
        "f6a45867f59f42e3b7da3d074a9f4d49": {
          "model_module": "@jupyter-widgets/base",
          "model_module_version": "1.2.0",
          "model_name": "LayoutModel",
          "state": {
            "_model_module": "@jupyter-widgets/base",
            "_model_module_version": "1.2.0",
            "_model_name": "LayoutModel",
            "_view_count": null,
            "_view_module": "@jupyter-widgets/base",
            "_view_module_version": "1.2.0",
            "_view_name": "LayoutView",
            "align_content": null,
            "align_items": null,
            "align_self": null,
            "border": null,
            "bottom": null,
            "display": null,
            "flex": null,
            "flex_flow": null,
            "grid_area": null,
            "grid_auto_columns": null,
            "grid_auto_flow": null,
            "grid_auto_rows": null,
            "grid_column": null,
            "grid_gap": null,
            "grid_row": null,
            "grid_template_areas": null,
            "grid_template_columns": null,
            "grid_template_rows": null,
            "height": null,
            "justify_content": null,
            "justify_items": null,
            "left": null,
            "margin": null,
            "max_height": null,
            "max_width": null,
            "min_height": null,
            "min_width": null,
            "object_fit": null,
            "object_position": null,
            "order": null,
            "overflow": null,
            "overflow_x": null,
            "overflow_y": null,
            "padding": null,
            "right": null,
            "top": null,
            "visibility": null,
            "width": null
          }
        }
      }
    }
  },
  "nbformat": 4,
  "nbformat_minor": 0
}