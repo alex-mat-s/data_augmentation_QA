{
  "nbformat": 4,
  "nbformat_minor": 0,
  "metadata": {
    "colab": {
      "provenance": []
    },
    "kernelspec": {
      "name": "python3",
      "display_name": "Python 3"
    },
    "language_info": {
      "name": "python"
    }
  },
  "cells": [
    {
      "cell_type": "code",
      "execution_count": null,
      "metadata": {
        "id": "SefP9by8eanL"
      },
      "outputs": [],
      "source": [
        "!pip install transformers\n",
        "!pip install evaluate\n",
        "!pip install sentencepiece"
      ]
    },
    {
      "cell_type": "code",
      "source": [
        "import pandas as pd\n",
        "import torch\n",
        "from tqdm import tqdm\n",
        "import torch.nn as nn\n",
        "from torch.optim import Adam\n",
        "from torch.utils.data import Dataset, DataLoader, RandomSampler\n",
        "from transformers import T5Model, T5ForConditionalGeneration, T5TokenizerFast\n",
        "from sklearn.model_selection import train_test_split\n",
        "import warnings\n",
        "warnings.filterwarnings(\"ignore\")\n",
        "\n",
        "import locale\n",
        "locale.getpreferredencoding = lambda: \"UTF-8\"\n",
        "!pip install rouge-score\n",
        "from rouge_score import rouge_scorer"
      ],
      "metadata": {
        "colab": {
          "base_uri": "https://localhost:8080/"
        },
        "id": "nDwpK2oNe6fk",
        "outputId": "145a22b7-1103-4543-f590-9a38fadcd0a9"
      },
      "execution_count": 2,
      "outputs": [
        {
          "output_type": "stream",
          "name": "stdout",
          "text": [
            "Collecting rouge-score\n",
            "  Downloading rouge_score-0.1.2.tar.gz (17 kB)\n",
            "  Preparing metadata (setup.py) ... \u001b[?25l\u001b[?25hdone\n",
            "Requirement already satisfied: absl-py in /usr/local/lib/python3.10/dist-packages (from rouge-score) (1.4.0)\n",
            "Requirement already satisfied: nltk in /usr/local/lib/python3.10/dist-packages (from rouge-score) (3.8.1)\n",
            "Requirement already satisfied: numpy in /usr/local/lib/python3.10/dist-packages (from rouge-score) (1.23.5)\n",
            "Requirement already satisfied: six>=1.14.0 in /usr/local/lib/python3.10/dist-packages (from rouge-score) (1.16.0)\n",
            "Requirement already satisfied: click in /usr/local/lib/python3.10/dist-packages (from nltk->rouge-score) (8.1.7)\n",
            "Requirement already satisfied: joblib in /usr/local/lib/python3.10/dist-packages (from nltk->rouge-score) (1.3.2)\n",
            "Requirement already satisfied: regex>=2021.8.3 in /usr/local/lib/python3.10/dist-packages (from nltk->rouge-score) (2023.6.3)\n",
            "Requirement already satisfied: tqdm in /usr/local/lib/python3.10/dist-packages (from nltk->rouge-score) (4.66.1)\n",
            "Building wheels for collected packages: rouge-score\n",
            "  Building wheel for rouge-score (setup.py) ... \u001b[?25l\u001b[?25hdone\n",
            "  Created wheel for rouge-score: filename=rouge_score-0.1.2-py3-none-any.whl size=24933 sha256=5f72e898ad1694a974d49c3c2dd425f65edd6b5637aa1ad38c4f0d00134f6fe1\n",
            "  Stored in directory: /root/.cache/pip/wheels/5f/dd/89/461065a73be61a532ff8599a28e9beef17985c9e9c31e541b4\n",
            "Successfully built rouge-score\n",
            "Installing collected packages: rouge-score\n",
            "Successfully installed rouge-score-0.1.2\n"
          ]
        }
      ]
    },
    {
      "cell_type": "code",
      "source": [
        "from google.colab import drive\n",
        "drive.mount('/content/drive')"
      ],
      "metadata": {
        "colab": {
          "base_uri": "https://localhost:8080/"
        },
        "id": "4WoMfVB0fEbU",
        "outputId": "60a3a545-e7b9-486a-e690-33ccf5bf4001"
      },
      "execution_count": 3,
      "outputs": [
        {
          "output_type": "stream",
          "name": "stdout",
          "text": [
            "Mounted at /content/drive\n"
          ]
        }
      ]
    },
    {
      "cell_type": "markdown",
      "source": [
        "#### Import custom module"
      ],
      "metadata": {
        "id": "x1RtOoiHgWmZ"
      }
    },
    {
      "cell_type": "code",
      "source": [
        "%cd /content/drive/MyDrive/ITMO/T5QA/src\n",
        "%ls"
      ],
      "metadata": {
        "colab": {
          "base_uri": "https://localhost:8080/"
        },
        "id": "I8LRGSCigV0M",
        "outputId": "d1e1ab11-d8e4-44c3-88b3-23eda631894d"
      },
      "execution_count": 4,
      "outputs": [
        {
          "output_type": "stream",
          "name": "stdout",
          "text": [
            "/content/drive/MyDrive/ITMO/T5QA/src\n",
            "medqadataset.py  \u001b[0m\u001b[01;34m__pycache__\u001b[0m/  trainer.py\n"
          ]
        }
      ]
    },
    {
      "cell_type": "code",
      "source": [
        "from medqadataset import MedQADataset\n",
        "import trainer\n",
        "#from trainer import Trainer"
      ],
      "metadata": {
        "id": "-Z5CQeWEgq2O"
      },
      "execution_count": 79,
      "outputs": []
    },
    {
      "cell_type": "code",
      "source": [
        "# For debugging\n",
        "import importlib\n",
        "importlib.reload(trainer)"
      ],
      "metadata": {
        "colab": {
          "base_uri": "https://localhost:8080/"
        },
        "id": "kgl0LxpemYGg",
        "outputId": "36b9a1a5-db24-465b-a8bc-3895451492f3"
      },
      "execution_count": 80,
      "outputs": [
        {
          "output_type": "execute_result",
          "data": {
            "text/plain": [
              "<module 'trainer' from '/content/drive/MyDrive/ITMO/T5QA/src/trainer.py'>"
            ]
          },
          "metadata": {},
          "execution_count": 80
        }
      ]
    },
    {
      "cell_type": "code",
      "source": [
        "#MODEL_NAME = \"cointegrated/rut5-base\"    # pre-trained model (first iteration)\n",
        "MODEL_NAME = \"/content/drive/MyDrive/ITMO/T5QA/checkpoints/best_model/MedQAModel3\"\n",
        "TOKENIZER = T5TokenizerFast.from_pretrained(MODEL_NAME, local_files_only=True)\n",
        "#TOKENIZER = T5TokenizerFast.from_pretrained(MODEL_NAME)\n",
        "# Set up the T5 model\n",
        "MODEL = T5ForConditionalGeneration.from_pretrained(MODEL_NAME, return_dict=True)\n",
        "# Set up the optimizer\n",
        "OPTIMIZER = Adam(MODEL.parameters(), lr=0.0001)\n",
        "Q_LEN = 512    # Question Length\n",
        "T_LEN = 128    # Target Length\n",
        "BATCH_SIZE = 4\n",
        "DEVICE = 'cuda' if torch.cuda.is_available() else 'cpu'"
      ],
      "metadata": {
        "id": "5sCH7ZDZfGP5"
      },
      "execution_count": 24,
      "outputs": []
    },
    {
      "cell_type": "code",
      "source": [
        "DEVICE"
      ],
      "metadata": {
        "colab": {
          "base_uri": "https://localhost:8080/",
          "height": 35
        },
        "id": "mSpYDgUkkQOw",
        "outputId": "7b63863d-63dd-424c-8900-3bd583ba1f8f"
      },
      "execution_count": 7,
      "outputs": [
        {
          "output_type": "execute_result",
          "data": {
            "text/plain": [
              "'cpu'"
            ],
            "application/vnd.google.colaboratory.intrinsic+json": {
              "type": "string"
            }
          },
          "metadata": {},
          "execution_count": 7
        }
      ]
    },
    {
      "cell_type": "markdown",
      "source": [
        "### Read Data"
      ],
      "metadata": {
        "id": "t76j1C77fuDA"
      }
    },
    {
      "cell_type": "code",
      "source": [
        "PATH = '/content/drive/MyDrive/ITMO/T5QA'\n",
        "\n",
        "data = pd.read_csv(PATH + '/data/MedQuAD_clean.csv', index_col=0)\n",
        "data.index = [i for i in range(len(data))]\n",
        "\n",
        "data"
      ],
      "metadata": {
        "colab": {
          "base_uri": "https://localhost:8080/",
          "height": 424
        },
        "id": "TTfXAtrNfemH",
        "outputId": "342993ae-16e5-45e3-df29-bc7407f500e3"
      },
      "execution_count": 25,
      "outputs": [
        {
          "output_type": "execute_result",
          "data": {
            "text/plain": [
              "                                               question  \\\n",
              "0          что такое кератодермия с пушистыми волосами?   \n",
              "1     сколько людей с шерстяными волосами страдают к...   \n",
              "2     каковы генетические изменения, связанные с кер...   \n",
              "3      передается ли кератодермия с пушистыми волосами?   \n",
              "4                           что такое синдром кноблоха?   \n",
              "...                                                 ...   \n",
              "1108   есть ли у вас информация об измерении темпера...   \n",
              "1109   что такое дефицит аденозинмонофосфатдезаминаз...   \n",
              "1110   сколько людей страдают от дефицита аденозинмо...   \n",
              "1111   каковы генетические изменения, связанные с де...   \n",
              "1112   наследуется ли дефицит аденозинмонофосфатдеза...   \n",
              "\n",
              "                                                context  \\\n",
              "0      кератодермия с пушистыми волосами представляе...   \n",
              "1      кератодермия с пушистыми волосами представляе...   \n",
              "2      кератодермия с пушистыми волосами представляе...   \n",
              "3      кератодермия с пушистыми волосами представляе...   \n",
              "4      синдром кноблоха редкое заболевание, характер...   \n",
              "...                                                 ...   \n",
              "1108  измерение температуры тела может помочь обнару...   \n",
              "1109   дефицит аденозинмонофосфатдезаминазы амф это ...   \n",
              "1110   дефицит аденозинмонофосфатдезаминазы амф это ...   \n",
              "1111   дефицит аденозинмонофосфатдезаминазы амф это ...   \n",
              "1112   дефицит аденозинмонофосфатдезаминазы амф это ...   \n",
              "\n",
              "                                                 answer  answer_start  \n",
              "0     кератодермия с пушистыми волосами представляет...             9  \n",
              "1     кератодермия с пушистыми волосами встречается ...             9  \n",
              "2     мутации в генах jup, dsp, dsc2 и kank2 вызываю...          2551  \n",
              "3     большинство случаев кератодермии с курчавыми в...          4573  \n",
              "4     синдром кноблоха редкое заболевание, характери...             9  \n",
              "...                                                 ...           ...  \n",
              "1108   измерение температуры тела может помочь обнар...            -1  \n",
              "1109  дефицит аденозинмонофосфат амф дезаминазы это ...            12  \n",
              "1110  дефицит амфдезаминазы является одним из наибол...           174  \n",
              "1111  мутации в гене ampd1 вызывают дефицит ampдезам...          1495  \n",
              "1112  это состояние наследуется по аутосомнорецессив...          1346  \n",
              "\n",
              "[1113 rows x 4 columns]"
            ],
            "text/html": [
              "\n",
              "  <div id=\"df-68f4a654-fd79-4f71-b8a9-e35ce0dfdc4f\" class=\"colab-df-container\">\n",
              "    <div>\n",
              "<style scoped>\n",
              "    .dataframe tbody tr th:only-of-type {\n",
              "        vertical-align: middle;\n",
              "    }\n",
              "\n",
              "    .dataframe tbody tr th {\n",
              "        vertical-align: top;\n",
              "    }\n",
              "\n",
              "    .dataframe thead th {\n",
              "        text-align: right;\n",
              "    }\n",
              "</style>\n",
              "<table border=\"1\" class=\"dataframe\">\n",
              "  <thead>\n",
              "    <tr style=\"text-align: right;\">\n",
              "      <th></th>\n",
              "      <th>question</th>\n",
              "      <th>context</th>\n",
              "      <th>answer</th>\n",
              "      <th>answer_start</th>\n",
              "    </tr>\n",
              "  </thead>\n",
              "  <tbody>\n",
              "    <tr>\n",
              "      <th>0</th>\n",
              "      <td>что такое кератодермия с пушистыми волосами?</td>\n",
              "      <td>кератодермия с пушистыми волосами представляе...</td>\n",
              "      <td>кератодермия с пушистыми волосами представляет...</td>\n",
              "      <td>9</td>\n",
              "    </tr>\n",
              "    <tr>\n",
              "      <th>1</th>\n",
              "      <td>сколько людей с шерстяными волосами страдают к...</td>\n",
              "      <td>кератодермия с пушистыми волосами представляе...</td>\n",
              "      <td>кератодермия с пушистыми волосами встречается ...</td>\n",
              "      <td>9</td>\n",
              "    </tr>\n",
              "    <tr>\n",
              "      <th>2</th>\n",
              "      <td>каковы генетические изменения, связанные с кер...</td>\n",
              "      <td>кератодермия с пушистыми волосами представляе...</td>\n",
              "      <td>мутации в генах jup, dsp, dsc2 и kank2 вызываю...</td>\n",
              "      <td>2551</td>\n",
              "    </tr>\n",
              "    <tr>\n",
              "      <th>3</th>\n",
              "      <td>передается ли кератодермия с пушистыми волосами?</td>\n",
              "      <td>кератодермия с пушистыми волосами представляе...</td>\n",
              "      <td>большинство случаев кератодермии с курчавыми в...</td>\n",
              "      <td>4573</td>\n",
              "    </tr>\n",
              "    <tr>\n",
              "      <th>4</th>\n",
              "      <td>что такое синдром кноблоха?</td>\n",
              "      <td>синдром кноблоха редкое заболевание, характер...</td>\n",
              "      <td>синдром кноблоха редкое заболевание, характери...</td>\n",
              "      <td>9</td>\n",
              "    </tr>\n",
              "    <tr>\n",
              "      <th>...</th>\n",
              "      <td>...</td>\n",
              "      <td>...</td>\n",
              "      <td>...</td>\n",
              "      <td>...</td>\n",
              "    </tr>\n",
              "    <tr>\n",
              "      <th>1108</th>\n",
              "      <td>есть ли у вас информация об измерении темпера...</td>\n",
              "      <td>измерение температуры тела может помочь обнару...</td>\n",
              "      <td>измерение температуры тела может помочь обнар...</td>\n",
              "      <td>-1</td>\n",
              "    </tr>\n",
              "    <tr>\n",
              "      <th>1109</th>\n",
              "      <td>что такое дефицит аденозинмонофосфатдезаминаз...</td>\n",
              "      <td>дефицит аденозинмонофосфатдезаминазы амф это ...</td>\n",
              "      <td>дефицит аденозинмонофосфат амф дезаминазы это ...</td>\n",
              "      <td>12</td>\n",
              "    </tr>\n",
              "    <tr>\n",
              "      <th>1110</th>\n",
              "      <td>сколько людей страдают от дефицита аденозинмо...</td>\n",
              "      <td>дефицит аденозинмонофосфатдезаминазы амф это ...</td>\n",
              "      <td>дефицит амфдезаминазы является одним из наибол...</td>\n",
              "      <td>174</td>\n",
              "    </tr>\n",
              "    <tr>\n",
              "      <th>1111</th>\n",
              "      <td>каковы генетические изменения, связанные с де...</td>\n",
              "      <td>дефицит аденозинмонофосфатдезаминазы амф это ...</td>\n",
              "      <td>мутации в гене ampd1 вызывают дефицит ampдезам...</td>\n",
              "      <td>1495</td>\n",
              "    </tr>\n",
              "    <tr>\n",
              "      <th>1112</th>\n",
              "      <td>наследуется ли дефицит аденозинмонофосфатдеза...</td>\n",
              "      <td>дефицит аденозинмонофосфатдезаминазы амф это ...</td>\n",
              "      <td>это состояние наследуется по аутосомнорецессив...</td>\n",
              "      <td>1346</td>\n",
              "    </tr>\n",
              "  </tbody>\n",
              "</table>\n",
              "<p>1113 rows × 4 columns</p>\n",
              "</div>\n",
              "    <div class=\"colab-df-buttons\">\n",
              "\n",
              "  <div class=\"colab-df-container\">\n",
              "    <button class=\"colab-df-convert\" onclick=\"convertToInteractive('df-68f4a654-fd79-4f71-b8a9-e35ce0dfdc4f')\"\n",
              "            title=\"Convert this dataframe to an interactive table.\"\n",
              "            style=\"display:none;\">\n",
              "\n",
              "  <svg xmlns=\"http://www.w3.org/2000/svg\" height=\"24px\" viewBox=\"0 -960 960 960\">\n",
              "    <path d=\"M120-120v-720h720v720H120Zm60-500h600v-160H180v160Zm220 220h160v-160H400v160Zm0 220h160v-160H400v160ZM180-400h160v-160H180v160Zm440 0h160v-160H620v160ZM180-180h160v-160H180v160Zm440 0h160v-160H620v160Z\"/>\n",
              "  </svg>\n",
              "    </button>\n",
              "\n",
              "  <style>\n",
              "    .colab-df-container {\n",
              "      display:flex;\n",
              "      gap: 12px;\n",
              "    }\n",
              "\n",
              "    .colab-df-convert {\n",
              "      background-color: #E8F0FE;\n",
              "      border: none;\n",
              "      border-radius: 50%;\n",
              "      cursor: pointer;\n",
              "      display: none;\n",
              "      fill: #1967D2;\n",
              "      height: 32px;\n",
              "      padding: 0 0 0 0;\n",
              "      width: 32px;\n",
              "    }\n",
              "\n",
              "    .colab-df-convert:hover {\n",
              "      background-color: #E2EBFA;\n",
              "      box-shadow: 0px 1px 2px rgba(60, 64, 67, 0.3), 0px 1px 3px 1px rgba(60, 64, 67, 0.15);\n",
              "      fill: #174EA6;\n",
              "    }\n",
              "\n",
              "    .colab-df-buttons div {\n",
              "      margin-bottom: 4px;\n",
              "    }\n",
              "\n",
              "    [theme=dark] .colab-df-convert {\n",
              "      background-color: #3B4455;\n",
              "      fill: #D2E3FC;\n",
              "    }\n",
              "\n",
              "    [theme=dark] .colab-df-convert:hover {\n",
              "      background-color: #434B5C;\n",
              "      box-shadow: 0px 1px 3px 1px rgba(0, 0, 0, 0.15);\n",
              "      filter: drop-shadow(0px 1px 2px rgba(0, 0, 0, 0.3));\n",
              "      fill: #FFFFFF;\n",
              "    }\n",
              "  </style>\n",
              "\n",
              "    <script>\n",
              "      const buttonEl =\n",
              "        document.querySelector('#df-68f4a654-fd79-4f71-b8a9-e35ce0dfdc4f button.colab-df-convert');\n",
              "      buttonEl.style.display =\n",
              "        google.colab.kernel.accessAllowed ? 'block' : 'none';\n",
              "\n",
              "      async function convertToInteractive(key) {\n",
              "        const element = document.querySelector('#df-68f4a654-fd79-4f71-b8a9-e35ce0dfdc4f');\n",
              "        const dataTable =\n",
              "          await google.colab.kernel.invokeFunction('convertToInteractive',\n",
              "                                                    [key], {});\n",
              "        if (!dataTable) return;\n",
              "\n",
              "        const docLinkHtml = 'Like what you see? Visit the ' +\n",
              "          '<a target=\"_blank\" href=https://colab.research.google.com/notebooks/data_table.ipynb>data table notebook</a>'\n",
              "          + ' to learn more about interactive tables.';\n",
              "        element.innerHTML = '';\n",
              "        dataTable['output_type'] = 'display_data';\n",
              "        await google.colab.output.renderOutput(dataTable, element);\n",
              "        const docLink = document.createElement('div');\n",
              "        docLink.innerHTML = docLinkHtml;\n",
              "        element.appendChild(docLink);\n",
              "      }\n",
              "    </script>\n",
              "  </div>\n",
              "\n",
              "\n",
              "<div id=\"df-65bb899a-bf0c-4bd4-b7fb-69c83f58d587\">\n",
              "  <button class=\"colab-df-quickchart\" onclick=\"quickchart('df-65bb899a-bf0c-4bd4-b7fb-69c83f58d587')\"\n",
              "            title=\"Suggest charts\"\n",
              "            style=\"display:none;\">\n",
              "\n",
              "<svg xmlns=\"http://www.w3.org/2000/svg\" height=\"24px\"viewBox=\"0 0 24 24\"\n",
              "     width=\"24px\">\n",
              "    <g>\n",
              "        <path d=\"M19 3H5c-1.1 0-2 .9-2 2v14c0 1.1.9 2 2 2h14c1.1 0 2-.9 2-2V5c0-1.1-.9-2-2-2zM9 17H7v-7h2v7zm4 0h-2V7h2v10zm4 0h-2v-4h2v4z\"/>\n",
              "    </g>\n",
              "</svg>\n",
              "  </button>\n",
              "\n",
              "<style>\n",
              "  .colab-df-quickchart {\n",
              "      --bg-color: #E8F0FE;\n",
              "      --fill-color: #1967D2;\n",
              "      --hover-bg-color: #E2EBFA;\n",
              "      --hover-fill-color: #174EA6;\n",
              "      --disabled-fill-color: #AAA;\n",
              "      --disabled-bg-color: #DDD;\n",
              "  }\n",
              "\n",
              "  [theme=dark] .colab-df-quickchart {\n",
              "      --bg-color: #3B4455;\n",
              "      --fill-color: #D2E3FC;\n",
              "      --hover-bg-color: #434B5C;\n",
              "      --hover-fill-color: #FFFFFF;\n",
              "      --disabled-bg-color: #3B4455;\n",
              "      --disabled-fill-color: #666;\n",
              "  }\n",
              "\n",
              "  .colab-df-quickchart {\n",
              "    background-color: var(--bg-color);\n",
              "    border: none;\n",
              "    border-radius: 50%;\n",
              "    cursor: pointer;\n",
              "    display: none;\n",
              "    fill: var(--fill-color);\n",
              "    height: 32px;\n",
              "    padding: 0;\n",
              "    width: 32px;\n",
              "  }\n",
              "\n",
              "  .colab-df-quickchart:hover {\n",
              "    background-color: var(--hover-bg-color);\n",
              "    box-shadow: 0 1px 2px rgba(60, 64, 67, 0.3), 0 1px 3px 1px rgba(60, 64, 67, 0.15);\n",
              "    fill: var(--button-hover-fill-color);\n",
              "  }\n",
              "\n",
              "  .colab-df-quickchart-complete:disabled,\n",
              "  .colab-df-quickchart-complete:disabled:hover {\n",
              "    background-color: var(--disabled-bg-color);\n",
              "    fill: var(--disabled-fill-color);\n",
              "    box-shadow: none;\n",
              "  }\n",
              "\n",
              "  .colab-df-spinner {\n",
              "    border: 2px solid var(--fill-color);\n",
              "    border-color: transparent;\n",
              "    border-bottom-color: var(--fill-color);\n",
              "    animation:\n",
              "      spin 1s steps(1) infinite;\n",
              "  }\n",
              "\n",
              "  @keyframes spin {\n",
              "    0% {\n",
              "      border-color: transparent;\n",
              "      border-bottom-color: var(--fill-color);\n",
              "      border-left-color: var(--fill-color);\n",
              "    }\n",
              "    20% {\n",
              "      border-color: transparent;\n",
              "      border-left-color: var(--fill-color);\n",
              "      border-top-color: var(--fill-color);\n",
              "    }\n",
              "    30% {\n",
              "      border-color: transparent;\n",
              "      border-left-color: var(--fill-color);\n",
              "      border-top-color: var(--fill-color);\n",
              "      border-right-color: var(--fill-color);\n",
              "    }\n",
              "    40% {\n",
              "      border-color: transparent;\n",
              "      border-right-color: var(--fill-color);\n",
              "      border-top-color: var(--fill-color);\n",
              "    }\n",
              "    60% {\n",
              "      border-color: transparent;\n",
              "      border-right-color: var(--fill-color);\n",
              "    }\n",
              "    80% {\n",
              "      border-color: transparent;\n",
              "      border-right-color: var(--fill-color);\n",
              "      border-bottom-color: var(--fill-color);\n",
              "    }\n",
              "    90% {\n",
              "      border-color: transparent;\n",
              "      border-bottom-color: var(--fill-color);\n",
              "    }\n",
              "  }\n",
              "</style>\n",
              "\n",
              "  <script>\n",
              "    async function quickchart(key) {\n",
              "      const quickchartButtonEl =\n",
              "        document.querySelector('#' + key + ' button');\n",
              "      quickchartButtonEl.disabled = true;  // To prevent multiple clicks.\n",
              "      quickchartButtonEl.classList.add('colab-df-spinner');\n",
              "      try {\n",
              "        const charts = await google.colab.kernel.invokeFunction(\n",
              "            'suggestCharts', [key], {});\n",
              "      } catch (error) {\n",
              "        console.error('Error during call to suggestCharts:', error);\n",
              "      }\n",
              "      quickchartButtonEl.classList.remove('colab-df-spinner');\n",
              "      quickchartButtonEl.classList.add('colab-df-quickchart-complete');\n",
              "    }\n",
              "    (() => {\n",
              "      let quickchartButtonEl =\n",
              "        document.querySelector('#df-65bb899a-bf0c-4bd4-b7fb-69c83f58d587 button');\n",
              "      quickchartButtonEl.style.display =\n",
              "        google.colab.kernel.accessAllowed ? 'block' : 'none';\n",
              "    })();\n",
              "  </script>\n",
              "</div>\n",
              "    </div>\n",
              "  </div>\n"
            ]
          },
          "metadata": {},
          "execution_count": 25
        }
      ]
    },
    {
      "cell_type": "markdown",
      "source": [
        "### Example"
      ],
      "metadata": {
        "id": "sXYGVnpRgBSf"
      }
    },
    {
      "cell_type": "code",
      "source": [
        "sample = data.iloc[0]\n",
        "encoding = TOKENIZER(\n",
        "    sample[\"question\"],\n",
        "    sample[\"context\"],\n",
        "    max_length=512,\n",
        "    padding=\"max_length\",\n",
        "    truncation=\"only_second\",\n",
        "    return_attention_mask=True,\n",
        "    add_special_tokens=True,\n",
        "    return_tensors='pt'\n",
        ")\n",
        "\n",
        "answer_encoding = TOKENIZER(\n",
        "    sample[\"answer\"],\n",
        "    max_length=32,\n",
        "    padding=\"max_length\",\n",
        "    truncation=True,\n",
        "    return_attention_mask=True,\n",
        "    add_special_tokens=True,\n",
        "    return_tensors=\"pt\"\n",
        ")\n",
        "\n",
        "labels = answer_encoding[\"input_ids\"]\n",
        "\n",
        "output = MODEL(\n",
        "    input_ids=encoding[\"input_ids\"],\n",
        "    attention_mask=encoding[\"attention_mask\"],\n",
        "    labels=labels\n",
        ")"
      ],
      "metadata": {
        "id": "m3waLEsIgAhX"
      },
      "execution_count": 44,
      "outputs": []
    },
    {
      "cell_type": "code",
      "source": [
        "labels = TOKENIZER.decode(labels.flatten(), skip_special_tokens=True)"
      ],
      "metadata": {
        "id": "-vH_-iOW5XZ3"
      },
      "execution_count": 45,
      "outputs": []
    },
    {
      "cell_type": "code",
      "source": [
        "sample[\"answer\"]"
      ],
      "metadata": {
        "colab": {
          "base_uri": "https://localhost:8080/",
          "height": 122
        },
        "id": "XPXTo9vl5pf2",
        "outputId": "d037e887-3598-4d72-c4c3-e2e083c2079e"
      },
      "execution_count": 46,
      "outputs": [
        {
          "output_type": "execute_result",
          "data": {
            "text/plain": [
              "'кератодермия с пушистыми волосами представляет собой группу связанных состояний, которые поражают кожу и волосы и во многих случаях повышают риск потенциально опасных для жизни проблем с сердцем. у людей с такими заболеваниями волосы необычно грубые, сухие, тонкие и туго завитые. в некоторых случаях волосы также редкие. шерстистая текстура волос обычно поражает только волосы на коже головы и присутствует с рождения. начиная с раннего возраста, у пораженных людей также развивается ладонноподошвенная кератодермия состояние, при котором кожа на ладонях рук и подошвах ног становится толстой, чешуйчатой \\u200b\\u200bи мозолистой. кардиомиопатия, заболевание сердечной мышцы, представляет собой опасную для жизни проблему со здоровьем, которая может развиться у людей с кератодермией и пушистыми волосами. в отличие от других особенностей этого состояния, признаки и симптомы кардиомиопатии могут не проявляться до подросткового возраста или позже. осложнения кардиомиопатии могут включать нарушение сердечного ритма аритмию, сердечную недостаточность и внезапную смерть. кератодермия с пушистыми волосами включает в себя несколько связанных состояний с перекрывающимися признаками и симптомами. исследователи недавно предложили классифицировать кератодермию с пушистыми волосами на четыре типа в зависимости от основной генетической причины. тип i, также известный как болезнь наксоса, характеризуется ладонноподошвенной кератодермией, пушистыми волосами и формой кардиомиопатии, называемой аритмогенной кардиомиопатией правого желудочка адпж. тип ii, также известный как синдром карвахаля, имеет аномалии волос и кожи, аналогичные типу i, но характеризуется другой формой кардиомиопатии, называемой дилатационной кардиомиопатией левого желудочка. тип iii также имеет признаки и симптомы, сходные с симптомами типа i, включая орвк, хотя аномалии волос и кожи часто менее выражены. тип iv характеризуется ладонноподошвенной кератодермией, пушистыми и редкими волосами, а также аномальными ногтями на руках и ногах. тип iv, повидимому, не вызывает кардиомиопатию.'"
            ],
            "application/vnd.google.colaboratory.intrinsic+json": {
              "type": "string"
            }
          },
          "metadata": {},
          "execution_count": 46
        }
      ]
    },
    {
      "cell_type": "code",
      "source": [
        "labels"
      ],
      "metadata": {
        "colab": {
          "base_uri": "https://localhost:8080/",
          "height": 35
        },
        "id": "DU0BaWMu5lKe",
        "outputId": "1eeeaf1e-c20c-42dd-a3ea-ee0cfb41793a"
      },
      "execution_count": 47,
      "outputs": [
        {
          "output_type": "execute_result",
          "data": {
            "text/plain": [
              "'кератодермия с пушистыми волосами представляет собой группу связанных состояний, которые поражают кожу и волос'"
            ],
            "application/vnd.google.colaboratory.intrinsic+json": {
              "type": "string"
            }
          },
          "metadata": {},
          "execution_count": 47
        }
      ]
    },
    {
      "cell_type": "code",
      "source": [
        "output.loss"
      ],
      "metadata": {
        "colab": {
          "base_uri": "https://localhost:8080/"
        },
        "id": "qXqayqaZf8rR",
        "outputId": "14caf61e-9dc5-4e52-d346-5edcb6c00662"
      },
      "execution_count": 48,
      "outputs": [
        {
          "output_type": "execute_result",
          "data": {
            "text/plain": [
              "tensor(1.5536, grad_fn=<NllLossBackward0>)"
            ]
          },
          "metadata": {},
          "execution_count": 48
        }
      ]
    },
    {
      "cell_type": "code",
      "source": [
        "sample_q = data.iloc[0][\"question\"]\n",
        "sample_a = data.iloc[0][\"answer\"]\n",
        "\n",
        "sample_encoding = TOKENIZER(sample_q, sample_a)"
      ],
      "metadata": {
        "id": "YTjETWE7i7vb"
      },
      "execution_count": 49,
      "outputs": []
    },
    {
      "cell_type": "code",
      "source": [
        "sample_encoding.keys()"
      ],
      "metadata": {
        "colab": {
          "base_uri": "https://localhost:8080/"
        },
        "id": "XfqSz6QwjEHv",
        "outputId": "99b6bdb1-75c9-449b-878a-5b304655987a"
      },
      "execution_count": 50,
      "outputs": [
        {
          "output_type": "execute_result",
          "data": {
            "text/plain": [
              "dict_keys(['input_ids', 'attention_mask'])"
            ]
          },
          "metadata": {},
          "execution_count": 50
        }
      ]
    },
    {
      "cell_type": "code",
      "source": [
        "preds = [\n",
        "    TOKENIZER.decode(input_id, skip_special_tokens=True, clean_up_tokenization_spaces=True)\n",
        "    for input_id in sample_encoding[\"input_ids\"]\n",
        "]"
      ],
      "metadata": {
        "id": "JylVXiTnjGJl"
      },
      "execution_count": 51,
      "outputs": []
    },
    {
      "cell_type": "code",
      "source": [
        "\" \".join(preds)"
      ],
      "metadata": {
        "colab": {
          "base_uri": "https://localhost:8080/",
          "height": 122
        },
        "id": "4bJkhIIPjNW_",
        "outputId": "2f064452-8bf5-45b5-8c5f-9b84764aa02f"
      },
      "execution_count": 52,
      "outputs": [
        {
          "output_type": "execute_result",
          "data": {
            "text/plain": [
              "'что тако е  кера то дерм ия с пуш исты ми волос ами ?   кера то дерм ия с пуш исты ми волос ами представля ет с обой групп у связ анных состояни й ,  которые пора жают кож у  и волос ы  и во мног их случа ях по выш ают риск потенци ально опас ных  для жизни проблем с серд цем . у люд ей с так ими заболевани ями волос ы не обычн о  груб ые , сух ие , тон кие  и ту го зави тые . в не которы х случа ях волос ы так же ред кие . шер сти стая текст ура волос  обычн о пора жает  только волос ы на кож е голов ы  и присут ствует с  рождени я . начина я с ран него возраст а , у по ражен ных люд ей так же развива ется лад онно по дош вен ная  кера то дерм ия состояни е , при котор ом кожа на  ладо нях рук  и по дош вах  ног станов ится тол стой ,  чеш уй чат ой  и моз оли стой . кардио ми опати я , заболевани е  сердеч ной мыш цы , представля ет с обой опас ную  для жизни проблем у со здоровь ем , котор ая  может раз виться у люд ей с  кера то дерм ией  и пуш исты ми волос ами . в от личие от други х особен ностей это го состояни я , призна ки  и симптом ы кардио ми опати и могу т не прояв ляться до по дрост кового возраст а или поз же .  о сложн ения кардио ми опати и могу т включ ать  нарушени е  сердеч ного  ритм а  а ритм ию ,  сердеч ную не достаточно сть  и в незап ную смерт ь .  кера то дерм ия с пуш исты ми волос ами включ ает в себ я не сколько связ анных состояни й с пере крыва ющими ся призна ками  и симптом ами .  исследовател и не давно предлож или класс ифицир овать  кера то дерм ию с пуш исты ми волос ами на четыре  типа в  зависимост и от основ ной гене тической причин ы . тип  i , так же извест ный как болезн ь на кс оса ,  характериз уется лад онно по дош вен ной  кера то дерм ией , пуш исты ми волос ами  и форм ой кардио ми опати и , называ емой  а ритм ог енной кардио ми опати ей прав ого жел уд очка ад п ж . тип  i i , так же извест ный как си ндром кар ва хал я , име ет  аном али и волос  и кож и , аналог ичные тип у  i , но  характериз уется друг ой форм ой кардио ми опати и , называ емой дил ат ационной кардио ми опати ей лев ого жел уд очка . тип  i i i так же име ет призна ки  и симптом ы , сход ные с симптом ами  типа  i , включ ая ор в к , хот я  аном али и волос  и кож и  часто мене е выра жены . тип  i v  характериз уется лад онно по дош вен ной  кера то дерм ией , пуш исты ми  и ред кими волос ами ,  а так же  аном альными  ног тями на рук ах  и  ног ах . тип  i v , по видим ому , не вы зывает кардио ми опати ю . '"
            ],
            "application/vnd.google.colaboratory.intrinsic+json": {
              "type": "string"
            }
          },
          "metadata": {},
          "execution_count": 52
        }
      ]
    },
    {
      "cell_type": "markdown",
      "source": [
        "### Dataloaders"
      ],
      "metadata": {
        "id": "nU3X9lGRgzYQ"
      }
    },
    {
      "cell_type": "code",
      "source": [
        "train_data, test_data = train_test_split(data, test_size=0.02, random_state=42)\n",
        "train_data, val_data = train_test_split(train_data, test_size=0.2, random_state=42)\n",
        "\n",
        "print(f\"Train shape: {train_data.shape}\")\n",
        "print(f\"Validation shape: {val_data.shape}\")\n",
        "print(f\"Test shape: {test_data.shape}\")\n",
        "\n",
        "train_sampler = RandomSampler(train_data.index)\n",
        "val_sampler = RandomSampler(val_data.index)\n",
        "\n",
        "qa_dataset = MedQADataset(TOKENIZER, data, Q_LEN, T_LEN)\n",
        "\n",
        "train_loader = DataLoader(qa_dataset, batch_size=BATCH_SIZE, sampler=train_sampler)\n",
        "val_loader = DataLoader(qa_dataset, batch_size=BATCH_SIZE, sampler=val_sampler)\n",
        "\n",
        "scheduler = torch.optim.lr_scheduler.ReduceLROnPlateau(OPTIMIZER, patience=5, verbose=True)"
      ],
      "metadata": {
        "colab": {
          "base_uri": "https://localhost:8080/"
        },
        "id": "SCyfe2zVgF_O",
        "outputId": "1edd914c-502c-4d20-fb5e-272c493ee5bd"
      },
      "execution_count": 32,
      "outputs": [
        {
          "output_type": "stream",
          "name": "stdout",
          "text": [
            "Train shape: (872, 4)\n",
            "Validation shape: (218, 4)\n",
            "Test shape: (23, 4)\n"
          ]
        }
      ]
    },
    {
      "cell_type": "markdown",
      "source": [
        "### Train and validation loop"
      ],
      "metadata": {
        "id": "NPQnONuwiFwU"
      }
    },
    {
      "cell_type": "code",
      "source": [
        "N_EPOCHS = 100\n",
        "STATE_DICT_PATH = '/content/drive/MyDrive/ITMO/T5QA/checkpoints/best_model/MedQAModel3'\n",
        "\n",
        "trainer_module = trainer.Trainer(\n",
        "    MODEL,\n",
        "    N_EPOCHS,\n",
        "    STATE_DICT_PATH,\n",
        "    train_loader,\n",
        "    val_loader,\n",
        "    OPTIMIZER,\n",
        "    DEVICE,\n",
        "    TOKENIZER,\n",
        "    Q_LEN,\n",
        "    T_LEN,\n",
        "    scheduler\n",
        ")"
      ],
      "metadata": {
        "id": "KKAD0xWwhH9H"
      },
      "execution_count": 81,
      "outputs": []
    },
    {
      "cell_type": "code",
      "source": [
        "trainer_module.fit()"
      ],
      "metadata": {
        "colab": {
          "base_uri": "https://localhost:8080/"
        },
        "id": "-bKNmyhUlOrJ",
        "outputId": "8b483638-6b6d-44f8-a291-764ff4bb4c36"
      },
      "execution_count": null,
      "outputs": [
        {
          "output_type": "stream",
          "name": "stderr",
          "text": [
            "Training batches: 100%|██████████| 218/218 [02:42<00:00,  1.34it/s]\n",
            "Validation batches: 100%|██████████| 55/55 [00:13<00:00,  3.94it/s]\n"
          ]
        },
        {
          "output_type": "stream",
          "name": "stdout",
          "text": [
            "Epoch: 0\t\tTrain loss: 7.016373126878651\t\tValidation loss: 2.3615150755101983\n"
          ]
        },
        {
          "output_type": "stream",
          "name": "stderr",
          "text": [
            "Training batches: 100%|██████████| 218/218 [02:40<00:00,  1.35it/s]\n",
            "Validation batches: 100%|██████████| 55/55 [00:14<00:00,  3.93it/s]\n"
          ]
        },
        {
          "output_type": "stream",
          "name": "stdout",
          "text": [
            "Epoch: 1\t\tTrain loss: 3.3960999720687166\t\tValidation loss: 1.7168846878138455\n"
          ]
        },
        {
          "output_type": "stream",
          "name": "stderr",
          "text": [
            "Training batches: 100%|██████████| 218/218 [02:41<00:00,  1.35it/s]\n",
            "Validation batches: 100%|██████████| 55/55 [00:13<00:00,  3.94it/s]\n"
          ]
        },
        {
          "output_type": "stream",
          "name": "stdout",
          "text": [
            "Epoch: 2\t\tTrain loss: 2.661731048461494\t\tValidation loss: 1.5555862871083346\n"
          ]
        },
        {
          "output_type": "stream",
          "name": "stderr",
          "text": [
            "Training batches: 100%|██████████| 218/218 [02:40<00:00,  1.36it/s]\n",
            "Validation batches: 100%|██████████| 55/55 [00:14<00:00,  3.91it/s]\n"
          ]
        },
        {
          "output_type": "stream",
          "name": "stdout",
          "text": [
            "Epoch: 3\t\tTrain loss: 2.360789400175077\t\tValidation loss: 1.3750935153527692\n"
          ]
        },
        {
          "output_type": "stream",
          "name": "stderr",
          "text": [
            "Training batches: 100%|██████████| 218/218 [02:40<00:00,  1.35it/s]\n",
            "Validation batches: 100%|██████████| 55/55 [00:14<00:00,  3.91it/s]\n"
          ]
        },
        {
          "output_type": "stream",
          "name": "stdout",
          "text": [
            "Epoch: 4\t\tTrain loss: 2.1427760928049002\t\tValidation loss: 1.3211386490951884\n"
          ]
        },
        {
          "output_type": "stream",
          "name": "stderr",
          "text": [
            "Training batches: 100%|██████████| 218/218 [02:41<00:00,  1.35it/s]\n",
            "Validation batches: 100%|██████████| 55/55 [00:13<00:00,  3.94it/s]\n"
          ]
        },
        {
          "output_type": "stream",
          "name": "stdout",
          "text": [
            "Epoch: 5\t\tTrain loss: 1.9717522679118935\t\tValidation loss: 1.203144223581661\n"
          ]
        },
        {
          "output_type": "stream",
          "name": "stderr",
          "text": [
            "Training batches: 100%|██████████| 218/218 [02:40<00:00,  1.35it/s]\n",
            "Validation batches: 100%|██████████| 55/55 [00:14<00:00,  3.91it/s]\n"
          ]
        },
        {
          "output_type": "stream",
          "name": "stdout",
          "text": [
            "Epoch: 6\t\tTrain loss: 1.847736416606728\t\tValidation loss: 1.167675848982551\n"
          ]
        },
        {
          "output_type": "stream",
          "name": "stderr",
          "text": [
            "Training batches: 100%|██████████| 218/218 [02:40<00:00,  1.36it/s]\n",
            "Validation batches: 100%|██████████| 55/55 [00:13<00:00,  3.93it/s]\n"
          ]
        },
        {
          "output_type": "stream",
          "name": "stdout",
          "text": [
            "Epoch: 7\t\tTrain loss: 1.756336672863829\t\tValidation loss: 1.0729331054470757\n"
          ]
        },
        {
          "output_type": "stream",
          "name": "stderr",
          "text": [
            "Training batches: 100%|██████████| 218/218 [02:41<00:00,  1.35it/s]\n",
            "Validation batches: 100%|██████████| 55/55 [00:13<00:00,  3.93it/s]\n"
          ]
        },
        {
          "output_type": "stream",
          "name": "stdout",
          "text": [
            "Epoch: 8\t\tTrain loss: 1.6561887436503664\t\tValidation loss: 1.038423918052153\n"
          ]
        },
        {
          "output_type": "stream",
          "name": "stderr",
          "text": [
            "Training batches: 100%|██████████| 218/218 [02:43<00:00,  1.34it/s]\n",
            "Validation batches: 100%|██████████| 55/55 [00:14<00:00,  3.92it/s]\n"
          ]
        },
        {
          "output_type": "stream",
          "name": "stdout",
          "text": [
            "Epoch: 9\t\tTrain loss: 1.5884226951577247\t\tValidation loss: 0.9876343786716462\n"
          ]
        },
        {
          "output_type": "stream",
          "name": "stderr",
          "text": [
            "Training batches: 100%|██████████| 218/218 [02:40<00:00,  1.35it/s]\n",
            "Validation batches: 100%|██████████| 55/55 [00:14<00:00,  3.93it/s]\n"
          ]
        },
        {
          "output_type": "stream",
          "name": "stdout",
          "text": [
            "Epoch: 10\t\tTrain loss: 1.501112841411468\t\tValidation loss: 0.9787870762023059\n"
          ]
        },
        {
          "output_type": "stream",
          "name": "stderr",
          "text": [
            "Training batches: 100%|██████████| 218/218 [02:40<00:00,  1.35it/s]\n",
            "Validation batches: 100%|██████████| 55/55 [00:14<00:00,  3.90it/s]\n"
          ]
        },
        {
          "output_type": "stream",
          "name": "stdout",
          "text": [
            "Epoch: 11\t\tTrain loss: 1.4531734662318447\t\tValidation loss: 0.8676019099625674\n"
          ]
        },
        {
          "output_type": "stream",
          "name": "stderr",
          "text": [
            "Training batches: 100%|██████████| 218/218 [02:41<00:00,  1.35it/s]\n",
            "Validation batches: 100%|██████████| 55/55 [00:13<00:00,  3.95it/s]\n"
          ]
        },
        {
          "output_type": "stream",
          "name": "stdout",
          "text": [
            "Epoch: 12\t\tTrain loss: 1.3672378149327882\t\tValidation loss: 0.8429842003367164\n"
          ]
        },
        {
          "output_type": "stream",
          "name": "stderr",
          "text": [
            "Training batches: 100%|██████████| 218/218 [02:42<00:00,  1.34it/s]\n",
            "Validation batches: 100%|██████████| 55/55 [00:14<00:00,  3.91it/s]\n"
          ]
        },
        {
          "output_type": "stream",
          "name": "stdout",
          "text": [
            "Epoch: 13\t\tTrain loss: 1.3367681726129776\t\tValidation loss: 0.8125459637154232\n"
          ]
        },
        {
          "output_type": "stream",
          "name": "stderr",
          "text": [
            "Training batches: 100%|██████████| 218/218 [02:41<00:00,  1.35it/s]\n",
            "Validation batches: 100%|██████████| 55/55 [00:14<00:00,  3.92it/s]\n"
          ]
        },
        {
          "output_type": "stream",
          "name": "stdout",
          "text": [
            "Epoch: 14\t\tTrain loss: 1.2618366237900673\t\tValidation loss: 0.7737625584006309\n"
          ]
        },
        {
          "output_type": "stream",
          "name": "stderr",
          "text": [
            "Training batches: 100%|██████████| 218/218 [02:41<00:00,  1.35it/s]\n",
            "Validation batches: 100%|██████████| 55/55 [00:14<00:00,  3.91it/s]\n"
          ]
        },
        {
          "output_type": "stream",
          "name": "stdout",
          "text": [
            "Epoch: 15\t\tTrain loss: 1.2317714542150497\t\tValidation loss: 0.7394590152935548\n"
          ]
        },
        {
          "output_type": "stream",
          "name": "stderr",
          "text": [
            "Training batches: 100%|██████████| 218/218 [02:41<00:00,  1.35it/s]\n",
            "Validation batches: 100%|██████████| 55/55 [00:14<00:00,  3.87it/s]\n"
          ]
        },
        {
          "output_type": "stream",
          "name": "stdout",
          "text": [
            "Epoch: 16\t\tTrain loss: 1.1760119026133773\t\tValidation loss: 0.7073039877143773\n"
          ]
        },
        {
          "output_type": "stream",
          "name": "stderr",
          "text": [
            "Training batches: 100%|██████████| 218/218 [02:41<00:00,  1.35it/s]\n",
            "Validation batches: 100%|██████████| 55/55 [00:14<00:00,  3.92it/s]\n"
          ]
        },
        {
          "output_type": "stream",
          "name": "stdout",
          "text": [
            "Epoch: 17\t\tTrain loss: 1.1208988347458184\t\tValidation loss: 0.6809544379060919\n"
          ]
        },
        {
          "output_type": "stream",
          "name": "stderr",
          "text": [
            "Training batches: 100%|██████████| 218/218 [02:40<00:00,  1.35it/s]\n",
            "Validation batches: 100%|██████████| 55/55 [00:14<00:00,  3.92it/s]\n"
          ]
        },
        {
          "output_type": "stream",
          "name": "stdout",
          "text": [
            "Epoch: 18\t\tTrain loss: 1.0882178606516724\t\tValidation loss: 0.6421917565844276\n"
          ]
        },
        {
          "output_type": "stream",
          "name": "stderr",
          "text": [
            "Training batches: 100%|██████████| 218/218 [02:40<00:00,  1.35it/s]\n",
            "Validation batches: 100%|██████████| 55/55 [00:13<00:00,  3.93it/s]\n"
          ]
        },
        {
          "output_type": "stream",
          "name": "stdout",
          "text": [
            "Epoch: 19\t\tTrain loss: 1.0474738492331375\t\tValidation loss: 0.6243547713214701\n"
          ]
        },
        {
          "output_type": "stream",
          "name": "stderr",
          "text": [
            "Training batches: 100%|██████████| 218/218 [02:40<00:00,  1.35it/s]\n",
            "Validation batches: 100%|██████████| 55/55 [00:14<00:00,  3.93it/s]\n"
          ]
        },
        {
          "output_type": "stream",
          "name": "stdout",
          "text": [
            "Epoch: 20\t\tTrain loss: 1.005937987784727\t\tValidation loss: 0.5904996573925019\n"
          ]
        },
        {
          "output_type": "stream",
          "name": "stderr",
          "text": [
            "Training batches: 100%|██████████| 218/218 [02:40<00:00,  1.36it/s]\n",
            "Validation batches: 100%|██████████| 55/55 [00:13<00:00,  3.95it/s]\n"
          ]
        },
        {
          "output_type": "stream",
          "name": "stdout",
          "text": [
            "Epoch: 21\t\tTrain loss: 0.9817934256354603\t\tValidation loss: 0.5581791234287349\n"
          ]
        },
        {
          "output_type": "stream",
          "name": "stderr",
          "text": [
            "Training batches: 100%|██████████| 218/218 [02:40<00:00,  1.36it/s]\n",
            "Validation batches: 100%|██████████| 55/55 [00:14<00:00,  3.92it/s]\n"
          ]
        },
        {
          "output_type": "stream",
          "name": "stdout",
          "text": [
            "Epoch: 22\t\tTrain loss: 0.9493187270853498\t\tValidation loss: 0.5358443449844014\n"
          ]
        },
        {
          "output_type": "stream",
          "name": "stderr",
          "text": [
            "Training batches: 100%|██████████| 218/218 [02:40<00:00,  1.36it/s]\n",
            "Validation batches: 100%|██████████| 55/55 [00:14<00:00,  3.91it/s]\n"
          ]
        },
        {
          "output_type": "stream",
          "name": "stdout",
          "text": [
            "Epoch: 23\t\tTrain loss: 0.9153839173393512\t\tValidation loss: 0.5067341804504395\n"
          ]
        },
        {
          "output_type": "stream",
          "name": "stderr",
          "text": [
            "Training batches: 100%|██████████| 218/218 [02:40<00:00,  1.36it/s]\n",
            "Validation batches: 100%|██████████| 55/55 [00:14<00:00,  3.92it/s]\n"
          ]
        },
        {
          "output_type": "stream",
          "name": "stdout",
          "text": [
            "Epoch: 24\t\tTrain loss: 0.8911329873521393\t\tValidation loss: 0.4887789546088739\n"
          ]
        },
        {
          "output_type": "stream",
          "name": "stderr",
          "text": [
            "Training batches: 100%|██████████| 218/218 [02:40<00:00,  1.36it/s]\n",
            "Validation batches: 100%|██████████| 55/55 [00:14<00:00,  3.92it/s]\n"
          ]
        },
        {
          "output_type": "stream",
          "name": "stdout",
          "text": [
            "Epoch: 25\t\tTrain loss: 0.8472283140098283\t\tValidation loss: 0.44827344221147625\n"
          ]
        },
        {
          "output_type": "stream",
          "name": "stderr",
          "text": [
            "Training batches: 100%|██████████| 218/218 [02:40<00:00,  1.35it/s]\n",
            "Validation batches: 100%|██████████| 55/55 [00:14<00:00,  3.92it/s]\n"
          ]
        },
        {
          "output_type": "stream",
          "name": "stdout",
          "text": [
            "Epoch: 26\t\tTrain loss: 0.8012247503897466\t\tValidation loss: 0.43442924483255907\n"
          ]
        },
        {
          "output_type": "stream",
          "name": "stderr",
          "text": [
            "Training batches: 100%|██████████| 218/218 [02:41<00:00,  1.35it/s]\n",
            "Validation batches: 100%|██████████| 55/55 [00:14<00:00,  3.91it/s]\n"
          ]
        },
        {
          "output_type": "stream",
          "name": "stdout",
          "text": [
            "Epoch: 27\t\tTrain loss: 0.7831716166313635\t\tValidation loss: 0.39953811358321795\n"
          ]
        },
        {
          "output_type": "stream",
          "name": "stderr",
          "text": [
            "Training batches: 100%|██████████| 218/218 [02:41<00:00,  1.35it/s]\n",
            "Validation batches: 100%|██████████| 55/55 [00:14<00:00,  3.91it/s]\n"
          ]
        },
        {
          "output_type": "stream",
          "name": "stdout",
          "text": [
            "Epoch: 28\t\tTrain loss: 0.7394674301420877\t\tValidation loss: 0.38175388205457816\n"
          ]
        },
        {
          "output_type": "stream",
          "name": "stderr",
          "text": [
            "Training batches: 100%|██████████| 218/218 [02:41<00:00,  1.35it/s]\n",
            "Validation batches: 100%|██████████| 55/55 [00:14<00:00,  3.91it/s]\n"
          ]
        },
        {
          "output_type": "stream",
          "name": "stdout",
          "text": [
            "Epoch: 29\t\tTrain loss: 0.7333991496114556\t\tValidation loss: 0.34817520607770847\n"
          ]
        },
        {
          "output_type": "stream",
          "name": "stderr",
          "text": [
            "Training batches: 100%|██████████| 218/218 [02:41<00:00,  1.35it/s]\n",
            "Validation batches: 100%|██████████| 55/55 [00:14<00:00,  3.91it/s]\n"
          ]
        },
        {
          "output_type": "stream",
          "name": "stdout",
          "text": [
            "Epoch: 30\t\tTrain loss: 0.6786868645373835\t\tValidation loss: 0.33678333688188683\n"
          ]
        },
        {
          "output_type": "stream",
          "name": "stderr",
          "text": [
            "Training batches: 100%|██████████| 218/218 [02:41<00:00,  1.35it/s]\n",
            "Validation batches: 100%|██████████| 55/55 [00:14<00:00,  3.92it/s]\n"
          ]
        },
        {
          "output_type": "stream",
          "name": "stdout",
          "text": [
            "Epoch: 31\t\tTrain loss: 0.6622114128202473\t\tValidation loss: 0.30449923541058194\n"
          ]
        },
        {
          "output_type": "stream",
          "name": "stderr",
          "text": [
            "Training batches: 100%|██████████| 218/218 [02:41<00:00,  1.35it/s]\n",
            "Validation batches: 100%|██████████| 55/55 [00:14<00:00,  3.92it/s]\n"
          ]
        },
        {
          "output_type": "stream",
          "name": "stdout",
          "text": [
            "Epoch: 32\t\tTrain loss: 0.6406802033339072\t\tValidation loss: 0.2887589044191621\n"
          ]
        },
        {
          "output_type": "stream",
          "name": "stderr",
          "text": [
            "Training batches: 100%|██████████| 218/218 [02:41<00:00,  1.35it/s]\n",
            "Validation batches: 100%|██████████| 55/55 [00:13<00:00,  3.95it/s]\n"
          ]
        },
        {
          "output_type": "stream",
          "name": "stdout",
          "text": [
            "Epoch: 33\t\tTrain loss: 0.6003301253696101\t\tValidation loss: 0.2619425811889497\n"
          ]
        },
        {
          "output_type": "stream",
          "name": "stderr",
          "text": [
            "Training batches: 100%|██████████| 218/218 [02:41<00:00,  1.35it/s]\n",
            "Validation batches: 100%|██████████| 55/55 [00:14<00:00,  3.89it/s]\n"
          ]
        },
        {
          "output_type": "stream",
          "name": "stdout",
          "text": [
            "Epoch: 34\t\tTrain loss: 0.5716920935232704\t\tValidation loss: 0.2550882634791461\n"
          ]
        },
        {
          "output_type": "stream",
          "name": "stderr",
          "text": [
            "Training batches: 100%|██████████| 218/218 [02:41<00:00,  1.35it/s]\n",
            "Validation batches: 100%|██████████| 55/55 [00:14<00:00,  3.92it/s]\n"
          ]
        },
        {
          "output_type": "stream",
          "name": "stdout",
          "text": [
            "Epoch: 35\t\tTrain loss: 0.5527737256857234\t\tValidation loss: 0.22402521026405423\n"
          ]
        },
        {
          "output_type": "stream",
          "name": "stderr",
          "text": [
            "Training batches: 100%|██████████| 218/218 [02:41<00:00,  1.35it/s]\n",
            "Validation batches: 100%|██████████| 55/55 [00:14<00:00,  3.93it/s]\n"
          ]
        },
        {
          "output_type": "stream",
          "name": "stdout",
          "text": [
            "Epoch: 36\t\tTrain loss: 0.524507232864789\t\tValidation loss: 0.20969609970396216\n"
          ]
        },
        {
          "output_type": "stream",
          "name": "stderr",
          "text": [
            "Training batches: 100%|██████████| 218/218 [02:40<00:00,  1.35it/s]\n",
            "Validation batches: 100%|██████████| 55/55 [00:13<00:00,  3.94it/s]\n"
          ]
        },
        {
          "output_type": "stream",
          "name": "stdout",
          "text": [
            "Epoch: 37\t\tTrain loss: 0.5036992791595809\t\tValidation loss: 0.18768135590309445\n"
          ]
        },
        {
          "output_type": "stream",
          "name": "stderr",
          "text": [
            "Training batches: 100%|██████████| 218/218 [02:40<00:00,  1.35it/s]\n",
            "Validation batches: 100%|██████████| 55/55 [00:14<00:00,  3.91it/s]\n"
          ]
        },
        {
          "output_type": "stream",
          "name": "stdout",
          "text": [
            "Epoch: 38\t\tTrain loss: 0.4747566448849276\t\tValidation loss: 0.1867657953280617\n"
          ]
        },
        {
          "output_type": "stream",
          "name": "stderr",
          "text": [
            "Training batches: 100%|██████████| 218/218 [02:40<00:00,  1.35it/s]\n",
            "Validation batches: 100%|██████████| 55/55 [00:14<00:00,  3.92it/s]\n"
          ]
        },
        {
          "output_type": "stream",
          "name": "stdout",
          "text": [
            "Epoch: 39\t\tTrain loss: 0.45431306978704733\t\tValidation loss: 0.16319265595891258\n"
          ]
        },
        {
          "output_type": "stream",
          "name": "stderr",
          "text": [
            "Training batches: 100%|██████████| 218/218 [02:40<00:00,  1.36it/s]\n",
            "Validation batches: 100%|██████████| 55/55 [00:14<00:00,  3.91it/s]\n"
          ]
        },
        {
          "output_type": "stream",
          "name": "stdout",
          "text": [
            "Epoch: 40\t\tTrain loss: 0.4209287616193568\t\tValidation loss: 0.154988224753602\n"
          ]
        },
        {
          "output_type": "stream",
          "name": "stderr",
          "text": [
            "Training batches: 100%|██████████| 218/218 [02:40<00:00,  1.35it/s]\n",
            "Validation batches: 100%|██████████| 55/55 [00:14<00:00,  3.93it/s]\n"
          ]
        },
        {
          "output_type": "stream",
          "name": "stdout",
          "text": [
            "Epoch: 41\t\tTrain loss: 0.40675739995246635\t\tValidation loss: 0.14080272455784407\n"
          ]
        },
        {
          "output_type": "stream",
          "name": "stderr",
          "text": [
            "Training batches: 100%|██████████| 218/218 [02:41<00:00,  1.35it/s]\n",
            "Validation batches: 100%|██████████| 55/55 [00:14<00:00,  3.93it/s]\n"
          ]
        },
        {
          "output_type": "stream",
          "name": "stdout",
          "text": [
            "Epoch: 42\t\tTrain loss: 0.3822286089352511\t\tValidation loss: 0.12732739763503725\n"
          ]
        },
        {
          "output_type": "stream",
          "name": "stderr",
          "text": [
            "Training batches: 100%|██████████| 218/218 [02:41<00:00,  1.35it/s]\n",
            "Validation batches: 100%|██████████| 55/55 [00:13<00:00,  3.95it/s]\n"
          ]
        },
        {
          "output_type": "stream",
          "name": "stdout",
          "text": [
            "Epoch: 43\t\tTrain loss: 0.3624053074371651\t\tValidation loss: 0.11265571068295023\n"
          ]
        },
        {
          "output_type": "stream",
          "name": "stderr",
          "text": [
            "Training batches: 100%|██████████| 218/218 [02:40<00:00,  1.35it/s]\n",
            "Validation batches: 100%|██████████| 55/55 [00:14<00:00,  3.92it/s]\n"
          ]
        },
        {
          "output_type": "stream",
          "name": "stdout",
          "text": [
            "Epoch: 44\t\tTrain loss: 0.3460619931681714\t\tValidation loss: 0.09845480537888679\n"
          ]
        },
        {
          "output_type": "stream",
          "name": "stderr",
          "text": [
            "Training batches: 100%|██████████| 218/218 [02:40<00:00,  1.36it/s]\n",
            "Validation batches: 100%|██████████| 55/55 [00:14<00:00,  3.91it/s]\n"
          ]
        },
        {
          "output_type": "stream",
          "name": "stdout",
          "text": [
            "Epoch: 45\t\tTrain loss: 0.32579200643054934\t\tValidation loss: 0.09433334232731298\n"
          ]
        },
        {
          "output_type": "stream",
          "name": "stderr",
          "text": [
            "Training batches: 100%|██████████| 218/218 [02:40<00:00,  1.35it/s]\n",
            "Validation batches: 100%|██████████| 55/55 [00:14<00:00,  3.91it/s]\n"
          ]
        },
        {
          "output_type": "stream",
          "name": "stdout",
          "text": [
            "Epoch: 46\t\tTrain loss: 0.3113319884062907\t\tValidation loss: 0.07864285963164135\n"
          ]
        },
        {
          "output_type": "stream",
          "name": "stderr",
          "text": [
            "Training batches: 100%|██████████| 218/218 [02:41<00:00,  1.35it/s]\n",
            "Validation batches: 100%|██████████| 55/55 [00:14<00:00,  3.92it/s]\n"
          ]
        },
        {
          "output_type": "stream",
          "name": "stdout",
          "text": [
            "Epoch: 47\t\tTrain loss: 0.29065619996928294\t\tValidation loss: 0.06739234053741464\n"
          ]
        },
        {
          "output_type": "stream",
          "name": "stderr",
          "text": [
            "Training batches: 100%|██████████| 218/218 [02:40<00:00,  1.35it/s]\n",
            "Validation batches: 100%|██████████| 55/55 [00:14<00:00,  3.93it/s]\n"
          ]
        },
        {
          "output_type": "stream",
          "name": "stdout",
          "text": [
            "Epoch: 48\t\tTrain loss: 0.27269989017978175\t\tValidation loss: 0.06462691772559827\n"
          ]
        },
        {
          "output_type": "stream",
          "name": "stderr",
          "text": [
            "Training batches: 100%|██████████| 218/218 [02:40<00:00,  1.35it/s]\n",
            "Validation batches: 100%|██████████| 55/55 [00:14<00:00,  3.92it/s]\n"
          ]
        },
        {
          "output_type": "stream",
          "name": "stdout",
          "text": [
            "Epoch: 49\t\tTrain loss: 0.2595604911890872\t\tValidation loss: 0.05486350643702529\n"
          ]
        },
        {
          "output_type": "stream",
          "name": "stderr",
          "text": [
            "Training batches: 100%|██████████| 218/218 [02:41<00:00,  1.35it/s]\n",
            "Validation batches: 100%|██████████| 55/55 [00:13<00:00,  3.95it/s]\n"
          ]
        },
        {
          "output_type": "stream",
          "name": "stdout",
          "text": [
            "Epoch: 50\t\tTrain loss: 0.23980237989592443\t\tValidation loss: 0.047681367341746494\n"
          ]
        },
        {
          "output_type": "stream",
          "name": "stderr",
          "text": [
            "Training batches: 100%|██████████| 218/218 [02:41<00:00,  1.35it/s]\n",
            "Validation batches: 100%|██████████| 55/55 [00:14<00:00,  3.92it/s]\n"
          ]
        },
        {
          "output_type": "stream",
          "name": "stdout",
          "text": [
            "Epoch: 51\t\tTrain loss: 0.23236140089297513\t\tValidation loss: 0.04192263735458255\n"
          ]
        },
        {
          "output_type": "stream",
          "name": "stderr",
          "text": [
            "Training batches: 100%|██████████| 218/218 [02:40<00:00,  1.36it/s]\n",
            "Validation batches: 100%|██████████| 55/55 [00:13<00:00,  3.94it/s]\n"
          ]
        },
        {
          "output_type": "stream",
          "name": "stdout",
          "text": [
            "Epoch: 52\t\tTrain loss: 0.21994978710667257\t\tValidation loss: 0.0386517718794163\n"
          ]
        },
        {
          "output_type": "stream",
          "name": "stderr",
          "text": [
            "Training batches: 100%|██████████| 218/218 [02:40<00:00,  1.35it/s]\n",
            "Validation batches: 100%|██████████| 55/55 [00:14<00:00,  3.92it/s]\n"
          ]
        },
        {
          "output_type": "stream",
          "name": "stdout",
          "text": [
            "Epoch: 53\t\tTrain loss: 0.21024843366867904\t\tValidation loss: 0.0354534462295388\n"
          ]
        },
        {
          "output_type": "stream",
          "name": "stderr",
          "text": [
            "Training batches: 100%|██████████| 218/218 [02:40<00:00,  1.35it/s]\n",
            "Validation batches: 100%|██████████| 55/55 [00:13<00:00,  3.93it/s]\n"
          ]
        },
        {
          "output_type": "stream",
          "name": "stdout",
          "text": [
            "Epoch: 54\t\tTrain loss: 0.19351190330306872\t\tValidation loss: 0.026983649299522353\n"
          ]
        },
        {
          "output_type": "stream",
          "name": "stderr",
          "text": [
            "Training batches: 100%|██████████| 218/218 [02:40<00:00,  1.36it/s]\n",
            "Validation batches: 100%|██████████| 55/55 [00:14<00:00,  3.90it/s]\n"
          ]
        },
        {
          "output_type": "stream",
          "name": "stdout",
          "text": [
            "Epoch: 55\t\tTrain loss: 0.18246328625657143\t\tValidation loss: 0.02457245309117504\n"
          ]
        },
        {
          "output_type": "stream",
          "name": "stderr",
          "text": [
            "Training batches: 100%|██████████| 218/218 [02:40<00:00,  1.35it/s]\n",
            "Validation batches: 100%|██████████| 55/55 [00:14<00:00,  3.92it/s]\n"
          ]
        },
        {
          "output_type": "stream",
          "name": "stdout",
          "text": [
            "Epoch: 56\t\tTrain loss: 0.17391982740389372\t\tValidation loss: 0.022952449476261707\n"
          ]
        },
        {
          "output_type": "stream",
          "name": "stderr",
          "text": [
            "Training batches: 100%|██████████| 218/218 [02:40<00:00,  1.35it/s]\n",
            "Validation batches: 100%|██████████| 55/55 [00:13<00:00,  3.94it/s]\n"
          ]
        },
        {
          "output_type": "stream",
          "name": "stdout",
          "text": [
            "Epoch: 57\t\tTrain loss: 0.16462273766722427\t\tValidation loss: 0.019547783079377205\n"
          ]
        },
        {
          "output_type": "stream",
          "name": "stderr",
          "text": [
            "Training batches: 100%|██████████| 218/218 [02:40<00:00,  1.36it/s]\n",
            "Validation batches: 100%|██████████| 55/55 [00:14<00:00,  3.90it/s]\n"
          ]
        },
        {
          "output_type": "stream",
          "name": "stdout",
          "text": [
            "Epoch: 58\t\tTrain loss: 0.158390792701906\t\tValidation loss: 0.0171981972520536\n"
          ]
        },
        {
          "output_type": "stream",
          "name": "stderr",
          "text": [
            "Training batches: 100%|██████████| 218/218 [02:40<00:00,  1.35it/s]\n",
            "Validation batches: 100%|██████████| 55/55 [00:14<00:00,  3.88it/s]\n"
          ]
        },
        {
          "output_type": "stream",
          "name": "stdout",
          "text": [
            "Epoch: 59\t\tTrain loss: 0.1438447203179565\t\tValidation loss: 0.012895204620012505\n"
          ]
        },
        {
          "output_type": "stream",
          "name": "stderr",
          "text": [
            "Training batches: 100%|██████████| 218/218 [02:40<00:00,  1.35it/s]\n",
            "Validation batches: 100%|██████████| 55/55 [00:14<00:00,  3.92it/s]\n"
          ]
        },
        {
          "output_type": "stream",
          "name": "stdout",
          "text": [
            "Epoch: 60\t\tTrain loss: 0.13670548501877336\t\tValidation loss: 0.012270324895243075\n"
          ]
        },
        {
          "output_type": "stream",
          "name": "stderr",
          "text": [
            "Training batches: 100%|██████████| 218/218 [02:40<00:00,  1.36it/s]\n",
            "Validation batches: 100%|██████████| 55/55 [00:13<00:00,  3.93it/s]\n"
          ]
        },
        {
          "output_type": "stream",
          "name": "stdout",
          "text": [
            "Epoch: 61\t\tTrain loss: 0.13381354026325526\t\tValidation loss: 0.010368240555875341\n"
          ]
        },
        {
          "output_type": "stream",
          "name": "stderr",
          "text": [
            "Training batches: 100%|██████████| 218/218 [02:41<00:00,  1.35it/s]\n",
            "Validation batches: 100%|██████████| 55/55 [00:13<00:00,  3.93it/s]\n"
          ]
        },
        {
          "output_type": "stream",
          "name": "stdout",
          "text": [
            "Epoch: 62\t\tTrain loss: 0.1274188597421717\t\tValidation loss: 0.008820866508771856\n"
          ]
        },
        {
          "output_type": "stream",
          "name": "stderr",
          "text": [
            "Training batches:  98%|█████████▊| 213/218 [02:37<00:03,  1.35it/s]"
          ]
        }
      ]
    },
    {
      "cell_type": "markdown",
      "source": [
        "### Evaluate the results"
      ],
      "metadata": {
        "id": "Du3Y56JuoHaf"
      }
    },
    {
      "cell_type": "code",
      "source": [
        "test_sample = test_data.iloc[3]\n",
        "test_context = f\"Контекст: {test_sample['context']}\"\n",
        "test_question = f\"Вопрос: {test_sample['question']}\"\n",
        "test_answer = f\"{test_sample['answer']}\"\n",
        "\n",
        "pred = trainer_module.predict_answer(\n",
        "   test_context,\n",
        "   test_question,\n",
        "   test_answer,\n",
        "   print_text=True\n",
        ")\n",
        "\n",
        "pred"
      ],
      "metadata": {
        "id": "rM14g4lXoGcO",
        "colab": {
          "base_uri": "https://localhost:8080/"
        },
        "outputId": "6faeae1d-5f4e-4d4e-d444-8e4d86e089fb"
      },
      "execution_count": 88,
      "outputs": [
        {
          "output_type": "stream",
          "name": "stdout",
          "text": [
            "Контекст: боль в половом члене это любая боль или дискомфорт в половом члене. причины причины могут включать в себя: камни в мочевом пузыре. укусы человека или насекомых. рак полового члена. непроходящая эрекция приапизм. генитальный герпес. инфицированные волосяные фолликулы. инфицированный протез полового члена. инфекция под крайней плотью у необрезанных мужчин баланит. воспаление предстательной железы простатиттравма болезнь пейрони синдром рейтерасерповидноклеточная анемиясифилисуретрит, вызванный хламидиями или гонореей инфекция мочевого пузыря тромб в вене полового члена перелом полового члена уход на дому как лечить боль в половом члене дома зависит от ее причины. поговорите со своим врачом о лечении. пакеты со льдом могут помочь облегчить боль. не прикладывайте лед непосредственно к пенису. вместо этого поместите лед в полотенце или мочалку и приложите завернутый лед, чтобы облегчить боль. если боль в половом члене вызвана заболеванием, передающимся половым путем, важно, чтобы ваш сексуальный партнер также прошел лечение. эрекция, которая не проходит. приапизм требует неотложной медицинской помощи. немедленно обратитесь в отделение неотложной помощи больницы. спросите своего врача о лечении состояния, вызывающего приапизм. для решения проблемы вам могут потребоваться лекарства или, возможно, процедура или операция. когда обращаться к медицинскому работнику свяжитесь со своим врачом, если вы заметили чтолибо из следующего: уходи приапизм. немедленно обратитесь за медицинской помощью. боль, которая длится более 4 часов. боль с другими необъяснимыми симптомами. чего ожидать при посещении вашего офиса? ваш врач проведет медицинский осмотр и соберет историю болезни, которая может включать следующие вопросы: когда произошел боль началась? всегда ли присутствует боль? это болезненная, непроходящая эрекция приапизм? чувствуете ли вы боль, когда половой член не эрегирован? боль во всем половом члене или только в одной его части? были ли у вас такие боли? открытые язвы? были ли какиелибо травмы в этой области? подвергаетесь ли вы риску заражения какимилибо заболеваниями, передающимися половым путем? какие еще симптомы у вас есть? физический осмотр будет включать детальный осмотр полового члена, яичек, мошонки и паха. боль можно лечить, как только будет установлена ​​ее причина. лечение зависит от причины: инфекция: антибиотики, противовирусные препараты или другие лекарства в редких случаях рекомендуется обрезание при длительной инфекции под крайней плотью. приапизм: эрекция должна уменьшиться. мочевой катетер вводится для облегчения задержки мочи; могут потребоваться лекарства или хирургическое вмешательство.\n",
            "Вопрос:  что вызывает боль в пенисе? также называется: боль пенис\n",
            "Ответ: причинами могут быть: камни в мочевом пузыре\n"
          ]
        },
        {
          "output_type": "execute_result",
          "data": {
            "text/plain": [
              "{'Reference Answer: ': 'причинами могут быть: камни в мочевом пузыре укусы человека или насекомых рак полового члена непроходящая эрекция приапизм генитальный герпес инфицированные волосяные фолликулы инфицированный протез полового члена инфекция под крайней плотью у необрезанных мужчин баланит воспаление предстательной железы простатит травма болезнь пейрони синдром рейтера серповидноклеточная анемия сифилис уретрит, вызванный хламидиями или гонореей',\n",
              " 'Predicted Answer: ': 'Ответ: причинами могут быть: камни в мочевом пузыре',\n",
              " 'BLEU Score: ': {'google_bleu': 0.1262135922330097},\n",
              " 'RougeL (precision): ': 0}"
            ]
          },
          "metadata": {},
          "execution_count": 88
        }
      ]
    },
    {
      "cell_type": "code",
      "source": [
        "# Calculate metrics on test\n",
        "bleu_avg, rouge_avg = trainer_module.calc_avg_metrics(test_data)\n",
        "print(\"Test:\")\n",
        "print(\"BLEU:\", bleu_avg)\n",
        "print(\"RougeL:\", rouge_avg)"
      ],
      "metadata": {
        "id": "NONpRvUJlRyZ",
        "colab": {
          "base_uri": "https://localhost:8080/"
        },
        "outputId": "3e7bf497-4d7d-4ebb-af8d-9109ac02890b"
      },
      "execution_count": 67,
      "outputs": [
        {
          "output_type": "stream",
          "name": "stdout",
          "text": [
            "Test:\n",
            "BLEU: 0.14117568971024988\n",
            "RougeL: 0.06521739130434782\n"
          ]
        }
      ]
    },
    {
      "cell_type": "code",
      "source": [
        "loss_filepath = \"/content/drive/MyDrive/ITMO/T5QA/data/t5_MedQAD_loss_63.csv\"\n",
        "# Plot loss\n",
        "trainer_module.plot_loss(filepath=loss_filepath)"
      ],
      "metadata": {
        "id": "1kxLmu5NnccQ",
        "colab": {
          "base_uri": "https://localhost:8080/",
          "height": 430
        },
        "outputId": "8505a961-751d-4215-dd6e-5850a61623f2"
      },
      "execution_count": 103,
      "outputs": [
        {
          "output_type": "display_data",
          "data": {
            "text/plain": [
              "<Figure size 640x480 with 1 Axes>"
            ],
            "image/png": "[encoded data removed]"
          },
          "metadata": {}
        }
      ]
    },
    {
      "cell_type": "markdown",
      "source": [
        "### Inference"
      ],
      "metadata": {
        "id": "7imgUQ9nCQeK"
      }
    },
    {
      "cell_type": "code",
      "source": [
        "test_sample = test_data.iloc[12]\n",
        "test_context = f\"Контекст: {test_sample['context']}\"\n",
        "test_question = f\"Вопрос: {test_sample['question']}\"\n",
        "\n",
        "pred = trainer_module.predict_answer(\n",
        "   test_context,\n",
        "   test_question\n",
        ")\n",
        "\n",
        "print(test_question)\n",
        "print(test_context)\n",
        "print(pred)"
      ],
      "metadata": {
        "id": "OWgw8gq3paaj",
        "colab": {
          "base_uri": "https://localhost:8080/"
        },
        "outputId": "b1184da6-6840-4dc0-a17c-c3805cd4926d"
      },
      "execution_count": 94,
      "outputs": [
        {
          "output_type": "stream",
          "name": "stdout",
          "text": [
            "Вопрос:  что вызывает отек лица? также называется: одутловатое лицо; отек лица; лунное лицо; отек лица\n",
            "Контекст: отек лица это скопление жидкости в тканях лица. отек также может возникнуть на шее и плечах. соображения если отек лица легкий, его может быть трудно обнаружить. сообщите врачу следующее: боль и места, где она болит. как долго сохраняется отек. что делает его лучше или хуже? если у вас есть другие симптомы. причины причины отека лица могут включать в себя: аллергическую реакцию аллергический ринит, сенная лихорадка или укус пчелы. отек квинке реакция на переливание крови целлюлит конъюнктивит воспаление глаз реакция на лекарства, в том числе вызванные аспирином, пенициллином, сульфаниламидами, глюкокортикоидами и др. операции на голове, носу или челюсти травма или травма лица например, ожог недоедание в тяжелых случаях ожирение слюны заболевания желез синусит ячмень с отеком вокруг инфицированного глаза абсцесс зуба уход на дому применяйте холодные компрессы, чтобы уменьшить отек от травмы. поднимите изголовье кровати или используйте дополнительные подушки, чтобы уменьшить отек лица. когда обращаться к медицинскому работнику обратитесь к своему врачу, если у вас есть: внезапный, болезненный или сильный отек лица. отек лица, который длится некоторое время, особенно если он усиливается. со временем ухудшается. затрудненное дыхание. жар, болезненность или покраснение, указывающие на инфекцию. чего ожидать при посещении врача. если отек лица вызван ожогами или у вас проблемы с дыханием, необходима неотложная помощь. врач спросит о вашей медицинской и личной истории. это помогает определить лечение или необходимость проведения какихлибо медицинских исследований. вопросы могут включать в себя: как долго сохраняется отек лица? когда он начался? что ухудшает состояние? что улучшает его? вступали ли вы в контакт с чемто, на что у вас может быть аллергия? какие лекарства вы принимаете? вы недавно получили травму? ваше лицо? проходили ли вы недавно медицинское обследование или операцию? какие еще симптомы у вас есть? например: лицевая боль, чихание, затрудненное дыхание, крапивница или сыпь, покраснение глаз, лихорадка.\n",
            "Ответ: причинами отека лица могут быть: аллергическая реакция \n"
          ]
        }
      ]
    },
    {
      "cell_type": "code",
      "source": [
        "test_sample = test_data.iloc[15]\n",
        "test_context = f\"Контекст: {test_sample['context']}\"\n",
        "test_question = f\"Вопрос: {test_sample['question']}\"\n",
        "\n",
        "pred = trainer_module.predict_answer(\n",
        "   test_context,\n",
        "   test_question\n",
        ")\n",
        "\n",
        "print(test_question)\n",
        "print(test_context)\n",
        "print(pred)"
      ],
      "metadata": {
        "colab": {
          "base_uri": "https://localhost:8080/"
        },
        "id": "UtTTBrwKCbmX",
        "outputId": "d3d80d04-72ce-45d8-89e0-49160f978f95"
      },
      "execution_count": 97,
      "outputs": [
        {
          "output_type": "stream",
          "name": "stdout",
          "text": [
            "Вопрос:  что такое путаница? также называется: дезориентация; мышление неясное; мысли затуманенное\n",
            "Контекст: замешательство это неспособность думать так ясно и быстро, как обычно. вы можете чувствовать дезориентацию и испытывать трудности с концентрацией внимания, запоминанием и принятием решений. соображения замешательство может нарастать быстро или медленно с течением времени, в зависимости от причины. во многих случаях спутанность сознания длится недолго и проходит. в других случаях это навсегда и неизлечимо. это может быть связано с бредом или деменцией. спутанность сознания чаще встречается у пожилых людей и часто возникает во время пребывания в больнице. некоторые люди с растерянностью могут вести себя странно или необычно или вести себя агрессивно. причины спутанность сознания может быть вызвана различными проблемами со здоровьем, например :алкогольная или наркотическая интоксикация опухоль головного мозга травма головы или травма головы сотрясение мозгалихорадкадисбаланс жидкости и электролитовзаболевания у пожилых людей, такие как потеря функции мозга деменция заболевания у людей с существующими неврологическими заболеваниями, такими как инсультинфекциинедостаток сна депривация сна низкий уровень сахара в кровинизкий уровень кислорода например, изза хронических заболеваний легкихлекарстванедостаток питательных веществ, особенно ниацина, тиамина или витамина b12судорогивнезапное падение температуры тела гипотермияуход на дому хороший способ узнать, не сбит ли ктото с толку, спросить этого человека его или ее имя, возраст и дату. если он не уверен или отвечает неправильно, он находится в замешательстве. если у человека обычно нет замешательства, обратитесь к врачу. сбитого с толку человека нельзя оставлять одного. в целях безопасности человеку может понадобиться ктото рядом, чтобы успокоить его и защитить от травм. в редких случаях медицинский работник может назначить физическое ограничение. чтобы помочь запутавшемуся человеку: всегда представляйтесь, независимо от того, насколько хорошо человек вас когдато знал. часто напоминайте человеку о его или ее местонахождении. поместите календарь и часы рядом с человек. поговорите о текущих событиях и планах на день. старайтесь, чтобы обстановка была спокойной, тихой и мирной. при внезапном замешательстве изза низкого уровня сахара в крови например, изза лекарства от диабета человеку следует выпить сладкий напиток или поесть. сладкая закуска. если спутанность сознания длится более 10 минут, обратитесь к врачу. когда обращаться к медицинскому работнику позвоните по номеру 911 или местному номеру службы экстренной помощи, если спутанность сознания возникла внезапно или есть другие симптомы, такие как: холодная или липкая кожа головокружение или чувство обморока учащенный пульс лихорадка головная боль медленная или учащенное дыхание неконтролируемая дрожь. также позвоните в службу 911 или по местному номеру службы экстренной помощи, если: это первый раз, когда ктото теряет сознание без причины. спутанность сознания внезапно возникла у человека с диабетом. спутанность сознания возникла после травмы головы. человек находится в опасности причинить вред себе или другим. человек теряет сознание при в любое время. если вы испытываете спутанность сознания, обратитесь к своему врачу и запишитесь на прием. чего ожидать при посещении врача? врач проведет медицинский осмотр и задаст вопросы о спутанности сознания. врач задаст вопросы, чтобы узнать, знает ли человек дату, время и где он или она находится. помимо прочего, также будут заданы вопросы о недавних и текущих заболеваниях. могут быть назначены следующие анализы: анализы крови. кт головы. электроэнцефалограмма ээг. тесты психического статуса. нейропсихологические тесты. анализы мочи. лечение зависит от причины спутанности сознания. например, если спутанность сознания вызывает инфекция, лечение инфекции, скорее всего, устранит спутанность сознания.\n",
            "Ответ: замешательство это неспособность думать так ясно и быстро,\n"
          ]
        }
      ]
    },
    {
      "cell_type": "code",
      "source": [
        "test_sample = test_data.iloc[22]\n",
        "test_context = f\"Контекст: {test_sample['context']}\"\n",
        "test_question = f\"Вопрос: {test_sample['question']}\"\n",
        "\n",
        "pred = trainer_module.predict_answer(\n",
        "   test_context,\n",
        "   test_question\n",
        ")\n",
        "\n",
        "print(test_question)\n",
        "print(test_context)\n",
        "print(pred)"
      ],
      "metadata": {
        "colab": {
          "base_uri": "https://localhost:8080/"
        },
        "id": "P-USmGsQIQnU",
        "outputId": "15dbb5be-4bd8-448b-ec17-04fe163f8ad6"
      },
      "execution_count": 99,
      "outputs": [
        {
          "output_type": "stream",
          "name": "stdout",
          "text": [
            "Вопрос:  каковы симптомы дивертикулеза? также называется: дивертикула дивертикулез; дивертикулит дивертикулез; дивертикулярная болезнь дивертикулез; желудочнокишечное кровотечение дивертикулез; желудочнокишечное кровотечение дивертикулез; желудочнокишечное кровотечение дивертикулез\n",
            "Контекст: дивертикулез возникает, когда на внутренней стенке кишечника образуются маленькие выпуклые мешочки или мешочки. эти мешочки называются дивертикулами. чаще всего эти мешочки образуются в толстой кишке толстой кишке. они также могут возникать в тощей кишке и тонкой кишке, хотя это встречается реже. причины дивертикулез реже встречается у людей в возрасте 40 лет и моложе. это чаще встречается у пожилых людей. около половины американцев старше 60 лет страдают этим заболеванием. у большинства людей это случается к 80 годам. никто точно не знает, что вызывает образование этих мешочков. в течение многих лет считалось, что диета с низким содержанием клетчатки может сыграть свою роль. недостаток клетчатки может вызвать запор твердый стул. напряжение при дефекации кал увеличивает давление в толстой кишке. это может привести к образованию мешочков в слабых местах стенки толстой кишки. однако не совсем доказано, приводит ли диета с низким содержанием клетчатки к этой проблеме. другими возможными факторами риска, которые также недостаточно доказаны, являются отсутствие физических упражнений и ожирение. употребление орехов, попкорна или кукурузы, повидимому, не приводит к воспалению этих тканей. мешочки дивертикулит. симптомы у большинства людей с дивертикулезом симптомы отсутствуют. при появлении симптомов они могут включать в себя: боль и спазмы в желудке, особенно в левой нижней части живота. запор иногда диарея. вздутие живота или газы. отсутствие чувства голода и отказ от еды. вы можете заметить небольшое количество крови в кале или на туалетной бумаге. редко может возникнуть более сильное кровотечение. обследования и анализы дивертикулез часто обнаруживается во время обследования по поводу другой проблемы со здоровьем. например, его часто обнаруживают во время колоноскопии. если у вас есть симптомы, вы можете пройти один или несколько из следующих анализов: анализы крови, чтобы определить, есть ли у вас инфекция или вы потеряли слишком много крови. кт или узи брюшной полости, если у вас кровотечение, жидкий стул или боль. для постановки диагноза необходима колоноскопия: колоноскопия это обследование, при котором осматривается внутренняя часть толстой и прямой кишки. этот тест не следует проводить, если у вас есть симптомы острого дивертикулита. небольшая камера, прикрепленная к трубке, может достигать длины толстой кишки. ангиография: ангиография это визуализирующий тест, в котором используются рентгеновские лучи и специальный краситель, чтобы увидеть внутреннюю часть толстой кишки. кровеносные сосуды. этот тест можно использовать, если во время колоноскопии не видна область кровотечения. лечение. поскольку у большинства людей симптомы отсутствуют, в большинстве случаев лечение не требуется. ваш врач может порекомендовать вам включить в свой рацион больше клетчатки. . диета с высоким содержанием клетчатки имеет много преимуществ для здоровья. большинство людей не получают достаточного количества клетчатки. чтобы предотвратить запор, вам следует: ешьте много цельнозерновых продуктов, бобовых, фруктов и овощей. ограничьте употребление обработанных пищевых продуктов. пейте много жидкости. регулярно занимайтесь спортом. поговорите со своим врачом о приеме пищевых добавок с клетчаткой. вам следует избегать приема нпвп, таких как аспирин, ибупрофен мотрин и напроксен алив. эти лекарства могут повысить вероятность кровотечения. при кровотечении, которое не останавливается или повторяется: можно использовать колоноскопию для инъекции лекарств или прижигания определенного участка кишечника, чтобы остановить кровотечение. ангиографию можно использовать для введения лекарств или блокирования кровеносного сосуда. . если кровотечение не останавливается или повторяется много раз, может потребоваться удаление части толстой кишки. прогноз прогноз у большинства людей, страдающих дивертикулезом, симптомы отсутствуют. как только эти мешочки сформируются, они останутся с вами на всю жизнь. до 25% людей с этим заболеванием развивается дивертикулит. это происходит, когда небольшие кусочки стула попадают в мешочки, вызывая инфекцию или отек. возможные осложнения. более серьезные проблемы, которые могут развиться, включают в себя: аномальные связи, которые образуются между частями толстой кишки или между толстой кишкой и другой частью тела свищ. отверстие или разрыв в толстой кишке перфорация суженный участок толстой кишки стриктура карманы, заполненные гноем или инфекцией абсцесс когда следует обращаться к медицинскому работнику позвоните своему врачу, если возникнут симптомы дивертикулита.\n",
            "Ответ: у большинства людей с дивертикулезом симптомы отсутствуют.\n"
          ]
        }
      ]
    },
    {
      "cell_type": "code",
      "source": [
        "test_sample = test_data.iloc[9]\n",
        "test_context = f\"Контекст: {test_sample['context']}\"\n",
        "test_question = f\"Вопрос: {test_sample['question']}\"\n",
        "\n",
        "pred = trainer_module.predict_answer(\n",
        "   test_context,\n",
        "   test_question\n",
        ")\n",
        "\n",
        "print(test_question)\n",
        "print(test_context)\n",
        "print(pred)"
      ],
      "metadata": {
        "colab": {
          "base_uri": "https://localhost:8080/"
        },
        "id": "fSGlDl3pIpWH",
        "outputId": "aacd4861-f590-4386-e5db-27d9ad5a04b0"
      },
      "execution_count": 104,
      "outputs": [
        {
          "output_type": "stream",
          "name": "stdout",
          "text": [
            "Вопрос:  что вызывает абсцесс?\n",
            "Контекст: абсцесс это скопление гноя в любой части тела. в большинстве случаев область вокруг абсцесса опухает и воспаляется. причины абсцессы возникают, когда участок ткани заражается, и иммунная система организма пытается бороться с ним и сдерживать его. лейкоциты лейкоциты перемещаются через стенки кровеносных сосудов в область инфекции и собираются в поврежденной ткани. в ходе этого процесса образуется гной. гной это скопление жидкости, живых и мертвых лейкоцитов, мертвых тканей, бактерий или других посторонних веществ. абсцессы могут образовываться практически в любой части тела. кожа, под кожей и зубы являются наиболее распространенными местами. абсцессы могут быть вызваны бактериями, паразитами и инородными веществами. абсцессы на коже легко увидеть. они красные, приподнятые и болезненные. абсцессы в других частях тела могут быть не видны, но они могут вызывать повреждение органов. некоторые типы и локализации абсцессов включают: абдоминальный абсцесс амебный абсцесс печени аноректальный абсцесс абсцесс бартолиновой железы абсцесс головного мозга эпидуральный абсцесс перитонзиллярный абсцесс пиогенный абсцесс печени абсцесс спинного мозга подкожный кожный абсцесс зубной абсцесс scessэкзамены и тесты здоровье поставщик медицинских услуг проведет медицинский осмотр, сосредоточив внимание на симптомах абсцесса. тесты для обнаружения абсцесса включают в себя: ультразвуковое сканирование, кт, мрт, рентген в основном при абсцессе зуба. часто из абсцесса берут образец жидкости и анализируют его, чтобы увидеть какой тип микроба вызывает проблему. лечение лечение варьируется, но часто требуется хирургическое вмешательство для дренирования абсцесса. также можно использовать антибиотики. когда обращаться к медицинскому работнику если вы считаете, что у вас абсцесс какоголибо типа, обратитесь к своему врачу. если вы подозреваете, что у вас абсцесс зуба, обратитесь к стоматологу. профилактика профилактика абсцессов зависит от того, где они развиваются. например, хорошая гигиена может помочь предотвратить абсцессы кожи. гигиена зубов и регулярный уход предотвратят абсцессы зубов. изображения пиогенный абсцесс абсцесс зуба внутрибрюшной абсцесс кт\n",
            "Ответ: абсцесс возникает, когда участок ткани заражается,\n"
          ]
        }
      ]
    },
    {
      "cell_type": "code",
      "source": [],
      "metadata": {
        "id": "KDECflEEIy37"
      },
      "execution_count": null,
      "outputs": []
    }
  ]
}