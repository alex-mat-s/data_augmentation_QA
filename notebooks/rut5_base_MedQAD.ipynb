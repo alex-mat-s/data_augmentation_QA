{
  "nbformat": 4,
  "nbformat_minor": 0,
  "metadata": {
    "colab": {
      "provenance": [],
      "gpuType": "T4"
    },
    "kernelspec": {
      "name": "python3",
      "display_name": "Python 3"
    },
    "language_info": {
      "name": "python"
    },
    "accelerator": "GPU"
  },
  "cells": [
    {
      "cell_type": "code",
      "execution_count": null,
      "metadata": {
        "id": "SefP9by8eanL"
      },
      "outputs": [],
      "source": [
        "!pip install transformers\n",
        "!pip install evaluate\n",
        "!pip install sentencepiece"
      ]
    },
    {
      "cell_type": "code",
      "source": [
        "import pandas as pd\n",
        "import torch\n",
        "from tqdm import tqdm\n",
        "import torch.nn as nn\n",
        "from torch.optim import Adam\n",
        "from torch.utils.data import Dataset, DataLoader, RandomSampler\n",
        "from transformers import T5Model, T5ForConditionalGeneration, T5TokenizerFast\n",
        "from sklearn.model_selection import train_test_split\n",
        "import warnings\n",
        "warnings.filterwarnings(\"ignore\")\n",
        "\n",
        "import locale\n",
        "locale.getpreferredencoding = lambda: \"UTF-8\"\n",
        "!pip install rouge-score\n",
        "from rouge_score import rouge_scorer"
      ],
      "metadata": {
        "colab": {
          "base_uri": "https://localhost:8080/"
        },
        "id": "nDwpK2oNe6fk",
        "outputId": "d98306a4-40f7-490d-be79-9e70df64be75"
      },
      "execution_count": 1,
      "outputs": [
        {
          "output_type": "stream",
          "name": "stdout",
          "text": [
            "Requirement already satisfied: rouge-score in /usr/local/lib/python3.10/dist-packages (0.1.2)\n",
            "Requirement already satisfied: absl-py in /usr/local/lib/python3.10/dist-packages (from rouge-score) (1.4.0)\n",
            "Requirement already satisfied: nltk in /usr/local/lib/python3.10/dist-packages (from rouge-score) (3.8.1)\n",
            "Requirement already satisfied: numpy in /usr/local/lib/python3.10/dist-packages (from rouge-score) (1.23.5)\n",
            "Requirement already satisfied: six>=1.14.0 in /usr/local/lib/python3.10/dist-packages (from rouge-score) (1.16.0)\n",
            "Requirement already satisfied: click in /usr/local/lib/python3.10/dist-packages (from nltk->rouge-score) (8.1.7)\n",
            "Requirement already satisfied: joblib in /usr/local/lib/python3.10/dist-packages (from nltk->rouge-score) (1.3.2)\n",
            "Requirement already satisfied: regex>=2021.8.3 in /usr/local/lib/python3.10/dist-packages (from nltk->rouge-score) (2023.6.3)\n",
            "Requirement already satisfied: tqdm in /usr/local/lib/python3.10/dist-packages (from nltk->rouge-score) (4.66.1)\n"
          ]
        }
      ]
    },
    {
      "cell_type": "code",
      "source": [
        "from google.colab import drive\n",
        "drive.mount('/content/drive')"
      ],
      "metadata": {
        "colab": {
          "base_uri": "https://localhost:8080/"
        },
        "id": "4WoMfVB0fEbU",
        "outputId": "62062162-845e-40af-9f50-99cd91010c94"
      },
      "execution_count": 2,
      "outputs": [
        {
          "output_type": "stream",
          "name": "stdout",
          "text": [
            "Drive already mounted at /content/drive; to attempt to forcibly remount, call drive.mount(\"/content/drive\", force_remount=True).\n"
          ]
        }
      ]
    },
    {
      "cell_type": "markdown",
      "source": [
        "#### Import custom module"
      ],
      "metadata": {
        "id": "x1RtOoiHgWmZ"
      }
    },
    {
      "cell_type": "code",
      "source": [
        "%cd /content/drive/MyDrive/ITMO/src\n",
        "%ls"
      ],
      "metadata": {
        "colab": {
          "base_uri": "https://localhost:8080/"
        },
        "id": "I8LRGSCigV0M",
        "outputId": "d0255edb-977c-4804-b594-2b52426e6364"
      },
      "execution_count": 3,
      "outputs": [
        {
          "output_type": "stream",
          "name": "stdout",
          "text": [
            "/content/drive/MyDrive/ITMO/src\n",
            "medqadataset.py  \u001b[0m\u001b[01;34m__pycache__\u001b[0m/  trainer.py\n"
          ]
        }
      ]
    },
    {
      "cell_type": "code",
      "source": [
        "from medqadataset import MedQADataset\n",
        "import trainer\n",
        "#from trainer import Trainer"
      ],
      "metadata": {
        "id": "-Z5CQeWEgq2O"
      },
      "execution_count": 4,
      "outputs": []
    },
    {
      "cell_type": "code",
      "source": [
        "# For debugging\n",
        "import importlib\n",
        "importlib.reload(trainer)"
      ],
      "metadata": {
        "colab": {
          "base_uri": "https://localhost:8080/"
        },
        "id": "kgl0LxpemYGg",
        "outputId": "36b9a1a5-db24-465b-a8bc-3895451492f3"
      },
      "execution_count": null,
      "outputs": [
        {
          "output_type": "execute_result",
          "data": {
            "text/plain": [
              "<module 'trainer' from '/content/drive/MyDrive/ITMO/T5QA/src/trainer.py'>"
            ]
          },
          "metadata": {},
          "execution_count": 80
        }
      ]
    },
    {
      "cell_type": "code",
      "source": [
        "#MODEL_NAME = \"cointegrated/rut5-base\"    # pre-trained model (first iteration)\n",
        "#MODEL_NAME = \"/content/drive/MyDrive/ITMO/checkpoints/best_model/MedQAModel3\"\n",
        "MODEL_NAME = \"/content/drive/MyDrive/ITMO/checkpoints/best_model/MedQAModel4\"\n",
        "TOKENIZER = T5TokenizerFast.from_pretrained(MODEL_NAME, local_files_only=True)\n",
        "#TOKENIZER = T5TokenizerFast.from_pretrained(MODEL_NAME)\n",
        "# Set up the T5 model\n",
        "MODEL = T5ForConditionalGeneration.from_pretrained(MODEL_NAME, return_dict=True)\n",
        "# Set up the optimizer\n",
        "OPTIMIZER = Adam(MODEL.parameters(), lr=0.0001)\n",
        "Q_LEN = 512    # Question Length\n",
        "T_LEN = 128    # Target Length\n",
        "BATCH_SIZE = 4\n",
        "DEVICE = 'cuda' if torch.cuda.is_available() else 'cpu'\n",
        "DEVICE = 'cpu'"
      ],
      "metadata": {
        "id": "5sCH7ZDZfGP5"
      },
      "execution_count": 15,
      "outputs": []
    },
    {
      "cell_type": "code",
      "source": [
        "DEVICE"
      ],
      "metadata": {
        "colab": {
          "base_uri": "https://localhost:8080/",
          "height": 35
        },
        "id": "mSpYDgUkkQOw",
        "outputId": "3f6a4b82-d9d2-4fb8-be9d-1f59cf25d28d"
      },
      "execution_count": 16,
      "outputs": [
        {
          "output_type": "execute_result",
          "data": {
            "text/plain": [
              "'cpu'"
            ],
            "application/vnd.google.colaboratory.intrinsic+json": {
              "type": "string"
            }
          },
          "metadata": {},
          "execution_count": 16
        }
      ]
    },
    {
      "cell_type": "markdown",
      "source": [
        "### Read Data"
      ],
      "metadata": {
        "id": "t76j1C77fuDA"
      }
    },
    {
      "cell_type": "code",
      "source": [
        "PATH = '/content/drive/MyDrive/ITMO'\n",
        "\n",
        "data = pd.read_csv(PATH + '/data/MedQuAD_clean.csv', index_col=0)\n",
        "data.index = [i for i in range(len(data))]\n",
        "\n",
        "data"
      ],
      "metadata": {
        "colab": {
          "base_uri": "https://localhost:8080/",
          "height": 597
        },
        "id": "TTfXAtrNfemH",
        "outputId": "17b456d4-c415-4114-9f20-8efa0e9b363b"
      },
      "execution_count": 17,
      "outputs": [
        {
          "output_type": "execute_result",
          "data": {
            "text/plain": [
              "                                               question  \\\n",
              "0          что такое кератодермия с пушистыми волосами?   \n",
              "1     сколько людей с шерстяными волосами страдают к...   \n",
              "2     каковы генетические изменения, связанные с кер...   \n",
              "3      передается ли кератодермия с пушистыми волосами?   \n",
              "4                           что такое синдром кноблоха?   \n",
              "...                                                 ...   \n",
              "1108   есть ли у вас информация об измерении темпера...   \n",
              "1109   что такое дефицит аденозинмонофосфатдезаминаз...   \n",
              "1110   сколько людей страдают от дефицита аденозинмо...   \n",
              "1111   каковы генетические изменения, связанные с де...   \n",
              "1112   наследуется ли дефицит аденозинмонофосфатдеза...   \n",
              "\n",
              "                                                context  \\\n",
              "0      кератодермия с пушистыми волосами представляе...   \n",
              "1      кератодермия с пушистыми волосами представляе...   \n",
              "2      кератодермия с пушистыми волосами представляе...   \n",
              "3      кератодермия с пушистыми волосами представляе...   \n",
              "4      синдром кноблоха редкое заболевание, характер...   \n",
              "...                                                 ...   \n",
              "1108  измерение температуры тела может помочь обнару...   \n",
              "1109   дефицит аденозинмонофосфатдезаминазы амф это ...   \n",
              "1110   дефицит аденозинмонофосфатдезаминазы амф это ...   \n",
              "1111   дефицит аденозинмонофосфатдезаминазы амф это ...   \n",
              "1112   дефицит аденозинмонофосфатдезаминазы амф это ...   \n",
              "\n",
              "                                                 answer  answer_start  \n",
              "0     кератодермия с пушистыми волосами представляет...             9  \n",
              "1     кератодермия с пушистыми волосами встречается ...             9  \n",
              "2     мутации в генах jup, dsp, dsc2 и kank2 вызываю...          2551  \n",
              "3     большинство случаев кератодермии с курчавыми в...          4573  \n",
              "4     синдром кноблоха редкое заболевание, характери...             9  \n",
              "...                                                 ...           ...  \n",
              "1108   измерение температуры тела может помочь обнар...            -1  \n",
              "1109  дефицит аденозинмонофосфат амф дезаминазы это ...            12  \n",
              "1110  дефицит амфдезаминазы является одним из наибол...           174  \n",
              "1111  мутации в гене ampd1 вызывают дефицит ampдезам...          1495  \n",
              "1112  это состояние наследуется по аутосомнорецессив...          1346  \n",
              "\n",
              "[1113 rows x 4 columns]"
            ],
            "text/html": [
              "\n",
              "  <div id=\"df-90497bff-6a66-4d96-a11b-20740267cdee\" class=\"colab-df-container\">\n",
              "    <div>\n",
              "<style scoped>\n",
              "    .dataframe tbody tr th:only-of-type {\n",
              "        vertical-align: middle;\n",
              "    }\n",
              "\n",
              "    .dataframe tbody tr th {\n",
              "        vertical-align: top;\n",
              "    }\n",
              "\n",
              "    .dataframe thead th {\n",
              "        text-align: right;\n",
              "    }\n",
              "</style>\n",
              "<table border=\"1\" class=\"dataframe\">\n",
              "  <thead>\n",
              "    <tr style=\"text-align: right;\">\n",
              "      <th></th>\n",
              "      <th>question</th>\n",
              "      <th>context</th>\n",
              "      <th>answer</th>\n",
              "      <th>answer_start</th>\n",
              "    </tr>\n",
              "  </thead>\n",
              "  <tbody>\n",
              "    <tr>\n",
              "      <th>0</th>\n",
              "      <td>что такое кератодермия с пушистыми волосами?</td>\n",
              "      <td>кератодермия с пушистыми волосами представляе...</td>\n",
              "      <td>кератодермия с пушистыми волосами представляет...</td>\n",
              "      <td>9</td>\n",
              "    </tr>\n",
              "    <tr>\n",
              "      <th>1</th>\n",
              "      <td>сколько людей с шерстяными волосами страдают к...</td>\n",
              "      <td>кератодермия с пушистыми волосами представляе...</td>\n",
              "      <td>кератодермия с пушистыми волосами встречается ...</td>\n",
              "      <td>9</td>\n",
              "    </tr>\n",
              "    <tr>\n",
              "      <th>2</th>\n",
              "      <td>каковы генетические изменения, связанные с кер...</td>\n",
              "      <td>кератодермия с пушистыми волосами представляе...</td>\n",
              "      <td>мутации в генах jup, dsp, dsc2 и kank2 вызываю...</td>\n",
              "      <td>2551</td>\n",
              "    </tr>\n",
              "    <tr>\n",
              "      <th>3</th>\n",
              "      <td>передается ли кератодермия с пушистыми волосами?</td>\n",
              "      <td>кератодермия с пушистыми волосами представляе...</td>\n",
              "      <td>большинство случаев кератодермии с курчавыми в...</td>\n",
              "      <td>4573</td>\n",
              "    </tr>\n",
              "    <tr>\n",
              "      <th>4</th>\n",
              "      <td>что такое синдром кноблоха?</td>\n",
              "      <td>синдром кноблоха редкое заболевание, характер...</td>\n",
              "      <td>синдром кноблоха редкое заболевание, характери...</td>\n",
              "      <td>9</td>\n",
              "    </tr>\n",
              "    <tr>\n",
              "      <th>...</th>\n",
              "      <td>...</td>\n",
              "      <td>...</td>\n",
              "      <td>...</td>\n",
              "      <td>...</td>\n",
              "    </tr>\n",
              "    <tr>\n",
              "      <th>1108</th>\n",
              "      <td>есть ли у вас информация об измерении темпера...</td>\n",
              "      <td>измерение температуры тела может помочь обнару...</td>\n",
              "      <td>измерение температуры тела может помочь обнар...</td>\n",
              "      <td>-1</td>\n",
              "    </tr>\n",
              "    <tr>\n",
              "      <th>1109</th>\n",
              "      <td>что такое дефицит аденозинмонофосфатдезаминаз...</td>\n",
              "      <td>дефицит аденозинмонофосфатдезаминазы амф это ...</td>\n",
              "      <td>дефицит аденозинмонофосфат амф дезаминазы это ...</td>\n",
              "      <td>12</td>\n",
              "    </tr>\n",
              "    <tr>\n",
              "      <th>1110</th>\n",
              "      <td>сколько людей страдают от дефицита аденозинмо...</td>\n",
              "      <td>дефицит аденозинмонофосфатдезаминазы амф это ...</td>\n",
              "      <td>дефицит амфдезаминазы является одним из наибол...</td>\n",
              "      <td>174</td>\n",
              "    </tr>\n",
              "    <tr>\n",
              "      <th>1111</th>\n",
              "      <td>каковы генетические изменения, связанные с де...</td>\n",
              "      <td>дефицит аденозинмонофосфатдезаминазы амф это ...</td>\n",
              "      <td>мутации в гене ampd1 вызывают дефицит ampдезам...</td>\n",
              "      <td>1495</td>\n",
              "    </tr>\n",
              "    <tr>\n",
              "      <th>1112</th>\n",
              "      <td>наследуется ли дефицит аденозинмонофосфатдеза...</td>\n",
              "      <td>дефицит аденозинмонофосфатдезаминазы амф это ...</td>\n",
              "      <td>это состояние наследуется по аутосомнорецессив...</td>\n",
              "      <td>1346</td>\n",
              "    </tr>\n",
              "  </tbody>\n",
              "</table>\n",
              "<p>1113 rows × 4 columns</p>\n",
              "</div>\n",
              "    <div class=\"colab-df-buttons\">\n",
              "\n",
              "  <div class=\"colab-df-container\">\n",
              "    <button class=\"colab-df-convert\" onclick=\"convertToInteractive('df-90497bff-6a66-4d96-a11b-20740267cdee')\"\n",
              "            title=\"Convert this dataframe to an interactive table.\"\n",
              "            style=\"display:none;\">\n",
              "\n",
              "  <svg xmlns=\"http://www.w3.org/2000/svg\" height=\"24px\" viewBox=\"0 -960 960 960\">\n",
              "    <path d=\"M120-120v-720h720v720H120Zm60-500h600v-160H180v160Zm220 220h160v-160H400v160Zm0 220h160v-160H400v160ZM180-400h160v-160H180v160Zm440 0h160v-160H620v160ZM180-180h160v-160H180v160Zm440 0h160v-160H620v160Z\"/>\n",
              "  </svg>\n",
              "    </button>\n",
              "\n",
              "  <style>\n",
              "    .colab-df-container {\n",
              "      display:flex;\n",
              "      gap: 12px;\n",
              "    }\n",
              "\n",
              "    .colab-df-convert {\n",
              "      background-color: #E8F0FE;\n",
              "      border: none;\n",
              "      border-radius: 50%;\n",
              "      cursor: pointer;\n",
              "      display: none;\n",
              "      fill: #1967D2;\n",
              "      height: 32px;\n",
              "      padding: 0 0 0 0;\n",
              "      width: 32px;\n",
              "    }\n",
              "\n",
              "    .colab-df-convert:hover {\n",
              "      background-color: #E2EBFA;\n",
              "      box-shadow: 0px 1px 2px rgba(60, 64, 67, 0.3), 0px 1px 3px 1px rgba(60, 64, 67, 0.15);\n",
              "      fill: #174EA6;\n",
              "    }\n",
              "\n",
              "    .colab-df-buttons div {\n",
              "      margin-bottom: 4px;\n",
              "    }\n",
              "\n",
              "    [theme=dark] .colab-df-convert {\n",
              "      background-color: #3B4455;\n",
              "      fill: #D2E3FC;\n",
              "    }\n",
              "\n",
              "    [theme=dark] .colab-df-convert:hover {\n",
              "      background-color: #434B5C;\n",
              "      box-shadow: 0px 1px 3px 1px rgba(0, 0, 0, 0.15);\n",
              "      filter: drop-shadow(0px 1px 2px rgba(0, 0, 0, 0.3));\n",
              "      fill: #FFFFFF;\n",
              "    }\n",
              "  </style>\n",
              "\n",
              "    <script>\n",
              "      const buttonEl =\n",
              "        document.querySelector('#df-90497bff-6a66-4d96-a11b-20740267cdee button.colab-df-convert');\n",
              "      buttonEl.style.display =\n",
              "        google.colab.kernel.accessAllowed ? 'block' : 'none';\n",
              "\n",
              "      async function convertToInteractive(key) {\n",
              "        const element = document.querySelector('#df-90497bff-6a66-4d96-a11b-20740267cdee');\n",
              "        const dataTable =\n",
              "          await google.colab.kernel.invokeFunction('convertToInteractive',\n",
              "                                                    [key], {});\n",
              "        if (!dataTable) return;\n",
              "\n",
              "        const docLinkHtml = 'Like what you see? Visit the ' +\n",
              "          '<a target=\"_blank\" href=https://colab.research.google.com/notebooks/data_table.ipynb>data table notebook</a>'\n",
              "          + ' to learn more about interactive tables.';\n",
              "        element.innerHTML = '';\n",
              "        dataTable['output_type'] = 'display_data';\n",
              "        await google.colab.output.renderOutput(dataTable, element);\n",
              "        const docLink = document.createElement('div');\n",
              "        docLink.innerHTML = docLinkHtml;\n",
              "        element.appendChild(docLink);\n",
              "      }\n",
              "    </script>\n",
              "  </div>\n",
              "\n",
              "\n",
              "<div id=\"df-afe77ee3-cc15-4a40-b4d6-36c24c2cf672\">\n",
              "  <button class=\"colab-df-quickchart\" onclick=\"quickchart('df-afe77ee3-cc15-4a40-b4d6-36c24c2cf672')\"\n",
              "            title=\"Suggest charts\"\n",
              "            style=\"display:none;\">\n",
              "\n",
              "<svg xmlns=\"http://www.w3.org/2000/svg\" height=\"24px\"viewBox=\"0 0 24 24\"\n",
              "     width=\"24px\">\n",
              "    <g>\n",
              "        <path d=\"M19 3H5c-1.1 0-2 .9-2 2v14c0 1.1.9 2 2 2h14c1.1 0 2-.9 2-2V5c0-1.1-.9-2-2-2zM9 17H7v-7h2v7zm4 0h-2V7h2v10zm4 0h-2v-4h2v4z\"/>\n",
              "    </g>\n",
              "</svg>\n",
              "  </button>\n",
              "\n",
              "<style>\n",
              "  .colab-df-quickchart {\n",
              "      --bg-color: #E8F0FE;\n",
              "      --fill-color: #1967D2;\n",
              "      --hover-bg-color: #E2EBFA;\n",
              "      --hover-fill-color: #174EA6;\n",
              "      --disabled-fill-color: #AAA;\n",
              "      --disabled-bg-color: #DDD;\n",
              "  }\n",
              "\n",
              "  [theme=dark] .colab-df-quickchart {\n",
              "      --bg-color: #3B4455;\n",
              "      --fill-color: #D2E3FC;\n",
              "      --hover-bg-color: #434B5C;\n",
              "      --hover-fill-color: #FFFFFF;\n",
              "      --disabled-bg-color: #3B4455;\n",
              "      --disabled-fill-color: #666;\n",
              "  }\n",
              "\n",
              "  .colab-df-quickchart {\n",
              "    background-color: var(--bg-color);\n",
              "    border: none;\n",
              "    border-radius: 50%;\n",
              "    cursor: pointer;\n",
              "    display: none;\n",
              "    fill: var(--fill-color);\n",
              "    height: 32px;\n",
              "    padding: 0;\n",
              "    width: 32px;\n",
              "  }\n",
              "\n",
              "  .colab-df-quickchart:hover {\n",
              "    background-color: var(--hover-bg-color);\n",
              "    box-shadow: 0 1px 2px rgba(60, 64, 67, 0.3), 0 1px 3px 1px rgba(60, 64, 67, 0.15);\n",
              "    fill: var(--button-hover-fill-color);\n",
              "  }\n",
              "\n",
              "  .colab-df-quickchart-complete:disabled,\n",
              "  .colab-df-quickchart-complete:disabled:hover {\n",
              "    background-color: var(--disabled-bg-color);\n",
              "    fill: var(--disabled-fill-color);\n",
              "    box-shadow: none;\n",
              "  }\n",
              "\n",
              "  .colab-df-spinner {\n",
              "    border: 2px solid var(--fill-color);\n",
              "    border-color: transparent;\n",
              "    border-bottom-color: var(--fill-color);\n",
              "    animation:\n",
              "      spin 1s steps(1) infinite;\n",
              "  }\n",
              "\n",
              "  @keyframes spin {\n",
              "    0% {\n",
              "      border-color: transparent;\n",
              "      border-bottom-color: var(--fill-color);\n",
              "      border-left-color: var(--fill-color);\n",
              "    }\n",
              "    20% {\n",
              "      border-color: transparent;\n",
              "      border-left-color: var(--fill-color);\n",
              "      border-top-color: var(--fill-color);\n",
              "    }\n",
              "    30% {\n",
              "      border-color: transparent;\n",
              "      border-left-color: var(--fill-color);\n",
              "      border-top-color: var(--fill-color);\n",
              "      border-right-color: var(--fill-color);\n",
              "    }\n",
              "    40% {\n",
              "      border-color: transparent;\n",
              "      border-right-color: var(--fill-color);\n",
              "      border-top-color: var(--fill-color);\n",
              "    }\n",
              "    60% {\n",
              "      border-color: transparent;\n",
              "      border-right-color: var(--fill-color);\n",
              "    }\n",
              "    80% {\n",
              "      border-color: transparent;\n",
              "      border-right-color: var(--fill-color);\n",
              "      border-bottom-color: var(--fill-color);\n",
              "    }\n",
              "    90% {\n",
              "      border-color: transparent;\n",
              "      border-bottom-color: var(--fill-color);\n",
              "    }\n",
              "  }\n",
              "</style>\n",
              "\n",
              "  <script>\n",
              "    async function quickchart(key) {\n",
              "      const quickchartButtonEl =\n",
              "        document.querySelector('#' + key + ' button');\n",
              "      quickchartButtonEl.disabled = true;  // To prevent multiple clicks.\n",
              "      quickchartButtonEl.classList.add('colab-df-spinner');\n",
              "      try {\n",
              "        const charts = await google.colab.kernel.invokeFunction(\n",
              "            'suggestCharts', [key], {});\n",
              "      } catch (error) {\n",
              "        console.error('Error during call to suggestCharts:', error);\n",
              "      }\n",
              "      quickchartButtonEl.classList.remove('colab-df-spinner');\n",
              "      quickchartButtonEl.classList.add('colab-df-quickchart-complete');\n",
              "    }\n",
              "    (() => {\n",
              "      let quickchartButtonEl =\n",
              "        document.querySelector('#df-afe77ee3-cc15-4a40-b4d6-36c24c2cf672 button');\n",
              "      quickchartButtonEl.style.display =\n",
              "        google.colab.kernel.accessAllowed ? 'block' : 'none';\n",
              "    })();\n",
              "  </script>\n",
              "</div>\n",
              "    </div>\n",
              "  </div>\n"
            ]
          },
          "metadata": {},
          "execution_count": 17
        }
      ]
    },
    {
      "cell_type": "markdown",
      "source": [
        "### Example"
      ],
      "metadata": {
        "id": "sXYGVnpRgBSf"
      }
    },
    {
      "cell_type": "code",
      "source": [
        "sample = data.iloc[0]\n",
        "encoding = TOKENIZER(\n",
        "    sample[\"question\"],\n",
        "    sample[\"context\"],\n",
        "    max_length=512,\n",
        "    padding=\"max_length\",\n",
        "    truncation=\"only_second\",\n",
        "    return_attention_mask=True,\n",
        "    add_special_tokens=True,\n",
        "    return_tensors='pt'\n",
        ")\n",
        "\n",
        "answer_encoding = TOKENIZER(\n",
        "    sample[\"answer\"],\n",
        "    max_length=32,\n",
        "    padding=\"max_length\",\n",
        "    truncation=True,\n",
        "    return_attention_mask=True,\n",
        "    add_special_tokens=True,\n",
        "    return_tensors=\"pt\"\n",
        ")\n",
        "\n",
        "labels = answer_encoding[\"input_ids\"]\n",
        "\n",
        "output = MODEL(\n",
        "    input_ids=encoding[\"input_ids\"],\n",
        "    attention_mask=encoding[\"attention_mask\"],\n",
        "    labels=labels\n",
        ")"
      ],
      "metadata": {
        "id": "m3waLEsIgAhX"
      },
      "execution_count": 11,
      "outputs": []
    },
    {
      "cell_type": "code",
      "source": [
        "labels = TOKENIZER.decode(labels.flatten(), skip_special_tokens=True)"
      ],
      "metadata": {
        "id": "-vH_-iOW5XZ3"
      },
      "execution_count": 12,
      "outputs": []
    },
    {
      "cell_type": "code",
      "source": [
        "sample[\"answer\"]"
      ],
      "metadata": {
        "colab": {
          "base_uri": "https://localhost:8080/",
          "height": 139
        },
        "id": "XPXTo9vl5pf2",
        "outputId": "25c5bfe3-da76-4fd8-fb3c-98a431510a59"
      },
      "execution_count": 13,
      "outputs": [
        {
          "output_type": "execute_result",
          "data": {
            "text/plain": [
              "'кератодермия с пушистыми волосами представляет собой группу связанных состояний, которые поражают кожу и волосы и во многих случаях повышают риск потенциально опасных для жизни проблем с сердцем. у людей с такими заболеваниями волосы необычно грубые, сухие, тонкие и туго завитые. в некоторых случаях волосы также редкие. шерстистая текстура волос обычно поражает только волосы на коже головы и присутствует с рождения. начиная с раннего возраста, у пораженных людей также развивается ладонноподошвенная кератодермия состояние, при котором кожа на ладонях рук и подошвах ног становится толстой, чешуйчатой \\u200b\\u200bи мозолистой. кардиомиопатия, заболевание сердечной мышцы, представляет собой опасную для жизни проблему со здоровьем, которая может развиться у людей с кератодермией и пушистыми волосами. в отличие от других особенностей этого состояния, признаки и симптомы кардиомиопатии могут не проявляться до подросткового возраста или позже. осложнения кардиомиопатии могут включать нарушение сердечного ритма аритмию, сердечную недостаточность и внезапную смерть. кератодермия с пушистыми волосами включает в себя несколько связанных состояний с перекрывающимися признаками и симптомами. исследователи недавно предложили классифицировать кератодермию с пушистыми волосами на четыре типа в зависимости от основной генетической причины. тип i, также известный как болезнь наксоса, характеризуется ладонноподошвенной кератодермией, пушистыми волосами и формой кардиомиопатии, называемой аритмогенной кардиомиопатией правого желудочка адпж. тип ii, также известный как синдром карвахаля, имеет аномалии волос и кожи, аналогичные типу i, но характеризуется другой формой кардиомиопатии, называемой дилатационной кардиомиопатией левого желудочка. тип iii также имеет признаки и симптомы, сходные с симптомами типа i, включая орвк, хотя аномалии волос и кожи часто менее выражены. тип iv характеризуется ладонноподошвенной кератодермией, пушистыми и редкими волосами, а также аномальными ногтями на руках и ногах. тип iv, повидимому, не вызывает кардиомиопатию.'"
            ],
            "application/vnd.google.colaboratory.intrinsic+json": {
              "type": "string"
            }
          },
          "metadata": {},
          "execution_count": 13
        }
      ]
    },
    {
      "cell_type": "code",
      "source": [
        "labels"
      ],
      "metadata": {
        "colab": {
          "base_uri": "https://localhost:8080/",
          "height": 35
        },
        "id": "DU0BaWMu5lKe",
        "outputId": "041754e6-95a8-498f-eabe-a53b1e96492c"
      },
      "execution_count": 17,
      "outputs": [
        {
          "output_type": "execute_result",
          "data": {
            "text/plain": [
              "'кератодермия с пушистыми волосами представляет собой группу связанных состояний, которые поражают кожу и волос'"
            ],
            "application/vnd.google.colaboratory.intrinsic+json": {
              "type": "string"
            }
          },
          "metadata": {},
          "execution_count": 17
        }
      ]
    },
    {
      "cell_type": "code",
      "source": [
        "output.loss"
      ],
      "metadata": {
        "colab": {
          "base_uri": "https://localhost:8080/"
        },
        "id": "qXqayqaZf8rR",
        "outputId": "97160a15-6b8d-4dad-ca7d-4aee8a9c72a7"
      },
      "execution_count": 14,
      "outputs": [
        {
          "output_type": "execute_result",
          "data": {
            "text/plain": [
              "tensor(1.5536, grad_fn=<NllLossBackward0>)"
            ]
          },
          "metadata": {},
          "execution_count": 14
        }
      ]
    },
    {
      "cell_type": "code",
      "source": [
        "sample_q = data.iloc[0][\"question\"]\n",
        "sample_a = data.iloc[0][\"answer\"]\n",
        "\n",
        "sample_encoding = TOKENIZER(sample_q, sample_a)"
      ],
      "metadata": {
        "id": "YTjETWE7i7vb"
      },
      "execution_count": 15,
      "outputs": []
    },
    {
      "cell_type": "code",
      "source": [
        "sample_encoding.keys()"
      ],
      "metadata": {
        "colab": {
          "base_uri": "https://localhost:8080/"
        },
        "id": "XfqSz6QwjEHv",
        "outputId": "a051e7f4-91b3-4ad1-9254-6e0866e79053"
      },
      "execution_count": 16,
      "outputs": [
        {
          "output_type": "execute_result",
          "data": {
            "text/plain": [
              "dict_keys(['input_ids', 'attention_mask'])"
            ]
          },
          "metadata": {},
          "execution_count": 16
        }
      ]
    },
    {
      "cell_type": "code",
      "source": [
        "preds = [\n",
        "    TOKENIZER.decode(input_id, skip_special_tokens=True, clean_up_tokenization_spaces=True)\n",
        "    for input_id in sample_encoding[\"input_ids\"]\n",
        "]"
      ],
      "metadata": {
        "id": "JylVXiTnjGJl"
      },
      "execution_count": 18,
      "outputs": []
    },
    {
      "cell_type": "code",
      "source": [
        "\" \".join(preds)"
      ],
      "metadata": {
        "colab": {
          "base_uri": "https://localhost:8080/",
          "height": 139
        },
        "id": "4bJkhIIPjNW_",
        "outputId": "ed10d707-2269-47b8-dd9c-8d10a8eb4901"
      },
      "execution_count": 19,
      "outputs": [
        {
          "output_type": "execute_result",
          "data": {
            "text/plain": [
              "'что тако е  кера то дерм ия с пуш исты ми волос ами ?   кера то дерм ия с пуш исты ми волос ами представля ет с обой групп у связ анных состояни й ,  которые пора жают кож у  и волос ы  и во мног их случа ях по выш ают риск потенци ально опас ных  для жизни проблем с серд цем . у люд ей с так ими заболевани ями волос ы не обычн о  груб ые , сух ие , тон кие  и ту го зави тые . в не которы х случа ях волос ы так же ред кие . шер сти стая текст ура волос  обычн о пора жает  только волос ы на кож е голов ы  и присут ствует с  рождени я . начина я с ран него возраст а , у по ражен ных люд ей так же развива ется лад онно по дош вен ная  кера то дерм ия состояни е , при котор ом кожа на  ладо нях рук  и по дош вах  ног станов ится тол стой ,  чеш уй чат ой  и моз оли стой . кардио ми опати я , заболевани е  сердеч ной мыш цы , представля ет с обой опас ную  для жизни проблем у со здоровь ем , котор ая  может раз виться у люд ей с  кера то дерм ией  и пуш исты ми волос ами . в от личие от други х особен ностей это го состояни я , призна ки  и симптом ы кардио ми опати и могу т не прояв ляться до по дрост кового возраст а или поз же .  о сложн ения кардио ми опати и могу т включ ать  нарушени е  сердеч ного  ритм а  а ритм ию ,  сердеч ную не достаточно сть  и в незап ную смерт ь .  кера то дерм ия с пуш исты ми волос ами включ ает в себ я не сколько связ анных состояни й с пере крыва ющими ся призна ками  и симптом ами .  исследовател и не давно предлож или класс ифицир овать  кера то дерм ию с пуш исты ми волос ами на четыре  типа в  зависимост и от основ ной гене тической причин ы . тип  i , так же извест ный как болезн ь на кс оса ,  характериз уется лад онно по дош вен ной  кера то дерм ией , пуш исты ми волос ами  и форм ой кардио ми опати и , называ емой  а ритм ог енной кардио ми опати ей прав ого жел уд очка ад п ж . тип  i i , так же извест ный как си ндром кар ва хал я , име ет  аном али и волос  и кож и , аналог ичные тип у  i , но  характериз уется друг ой форм ой кардио ми опати и , называ емой дил ат ационной кардио ми опати ей лев ого жел уд очка . тип  i i i так же име ет призна ки  и симптом ы , сход ные с симптом ами  типа  i , включ ая ор в к , хот я  аном али и волос  и кож и  часто мене е выра жены . тип  i v  характериз уется лад онно по дош вен ной  кера то дерм ией , пуш исты ми  и ред кими волос ами ,  а так же  аном альными  ног тями на рук ах  и  ног ах . тип  i v , по видим ому , не вы зывает кардио ми опати ю . '"
            ],
            "application/vnd.google.colaboratory.intrinsic+json": {
              "type": "string"
            }
          },
          "metadata": {},
          "execution_count": 19
        }
      ]
    },
    {
      "cell_type": "markdown",
      "source": [
        "### Dataloaders"
      ],
      "metadata": {
        "id": "nU3X9lGRgzYQ"
      }
    },
    {
      "cell_type": "code",
      "source": [
        "train_data, test_data = train_test_split(data, test_size=0.02, random_state=42)\n",
        "train_data, val_data = train_test_split(train_data, test_size=0.2, random_state=42)\n",
        "\n",
        "print(f\"Train shape: {train_data.shape}\")\n",
        "print(f\"Validation shape: {val_data.shape}\")\n",
        "print(f\"Test shape: {test_data.shape}\")\n",
        "\n",
        "train_sampler = RandomSampler(train_data.index)\n",
        "val_sampler = RandomSampler(val_data.index)\n",
        "\n",
        "qa_dataset = MedQADataset(TOKENIZER, data, Q_LEN, T_LEN)\n",
        "\n",
        "train_loader = DataLoader(qa_dataset, batch_size=BATCH_SIZE, sampler=train_sampler)\n",
        "val_loader = DataLoader(qa_dataset, batch_size=BATCH_SIZE, sampler=val_sampler)\n",
        "\n",
        "scheduler = torch.optim.lr_scheduler.ReduceLROnPlateau(OPTIMIZER, patience=5, verbose=True)"
      ],
      "metadata": {
        "colab": {
          "base_uri": "https://localhost:8080/"
        },
        "id": "SCyfe2zVgF_O",
        "outputId": "7362befd-973c-49d7-8dec-ee171f624871"
      },
      "execution_count": 18,
      "outputs": [
        {
          "output_type": "stream",
          "name": "stdout",
          "text": [
            "Train shape: (872, 4)\n",
            "Validation shape: (218, 4)\n",
            "Test shape: (23, 4)\n"
          ]
        }
      ]
    },
    {
      "cell_type": "markdown",
      "source": [
        "### Train and validation loop"
      ],
      "metadata": {
        "id": "NPQnONuwiFwU"
      }
    },
    {
      "cell_type": "code",
      "source": [
        "N_EPOCHS = 37\n",
        "STATE_DICT_PATH = '/content/drive/MyDrive/ITMO/checkpoints/best_model/MedQAModel4'\n",
        "\n",
        "trainer_module = trainer.Trainer(\n",
        "    MODEL,\n",
        "    N_EPOCHS,\n",
        "    STATE_DICT_PATH,\n",
        "    train_loader,\n",
        "    val_loader,\n",
        "    OPTIMIZER,\n",
        "    DEVICE,\n",
        "    TOKENIZER,\n",
        "    Q_LEN,\n",
        "    T_LEN,\n",
        "    scheduler\n",
        ")"
      ],
      "metadata": {
        "id": "KKAD0xWwhH9H"
      },
      "execution_count": 19,
      "outputs": []
    },
    {
      "cell_type": "code",
      "source": [
        "trainer_module.fit()"
      ],
      "metadata": {
        "colab": {
          "base_uri": "https://localhost:8080/"
        },
        "id": "-bKNmyhUlOrJ",
        "outputId": "f4b3fdd4-8094-4e95-b83a-b21a31ebce0d"
      },
      "execution_count": 25,
      "outputs": [
        {
          "metadata": {
            "tags": null
          },
          "name": "stderr",
          "output_type": "stream",
          "text": [
            "Training batches: 100%|██████████| 218/218 [02:46<00:00,  1.31it/s]\n",
            "Validation batches: 100%|██████████| 55/55 [00:14<00:00,  3.78it/s]\n"
          ]
        },
        {
          "metadata": {
            "tags": null
          },
          "name": "stdout",
          "output_type": "stream",
          "text": [
            "Epoch: 0\t\tTrain loss: 0.1214014205808213\t\tValidation loss: 0.009366396986561913\n"
          ]
        },
        {
          "metadata": {
            "tags": null
          },
          "name": "stderr",
          "output_type": "stream",
          "text": [
            "Training batches: 100%|██████████| 218/218 [02:46<00:00,  1.31it/s]\n",
            "Validation batches: 100%|██████████| 55/55 [00:14<00:00,  3.77it/s]\n"
          ]
        },
        {
          "metadata": {
            "tags": null
          },
          "name": "stdout",
          "output_type": "stream",
          "text": [
            "Epoch: 1\t\tTrain loss: 0.11457332212973488\t\tValidation loss: 0.007902634957678277\n"
          ]
        },
        {
          "metadata": {
            "tags": null
          },
          "name": "stderr",
          "output_type": "stream",
          "text": [
            "Training batches: 100%|██████████| 218/218 [02:46<00:00,  1.31it/s]\n",
            "Validation batches: 100%|██████████| 55/55 [00:14<00:00,  3.78it/s]\n"
          ]
        },
        {
          "metadata": {
            "tags": null
          },
          "name": "stdout",
          "output_type": "stream",
          "text": [
            "Epoch: 2\t\tTrain loss: 0.10887308992496735\t\tValidation loss: 0.006774727787441489\n"
          ]
        },
        {
          "metadata": {
            "tags": null
          },
          "name": "stderr",
          "output_type": "stream",
          "text": [
            "Training batches: 100%|██████████| 218/218 [02:46<00:00,  1.31it/s]\n",
            "Validation batches: 100%|██████████| 55/55 [00:14<00:00,  3.77it/s]\n"
          ]
        },
        {
          "metadata": {
            "tags": null
          },
          "name": "stdout",
          "output_type": "stream",
          "text": [
            "Epoch: 3\t\tTrain loss: 0.10355034462013922\t\tValidation loss: 0.005876047231801997\n"
          ]
        },
        {
          "metadata": {
            "tags": null
          },
          "name": "stderr",
          "output_type": "stream",
          "text": [
            "Training batches: 100%|██████████| 218/218 [02:46<00:00,  1.31it/s]\n",
            "Validation batches: 100%|██████████| 55/55 [00:14<00:00,  3.78it/s]\n"
          ]
        },
        {
          "metadata": {
            "tags": null
          },
          "name": "stdout",
          "output_type": "stream",
          "text": [
            "Epoch: 4\t\tTrain loss: 0.09896352518896717\t\tValidation loss: 0.0072079424090175466\n"
          ]
        },
        {
          "metadata": {
            "tags": null
          },
          "name": "stderr",
          "output_type": "stream",
          "text": [
            "Training batches: 100%|██████████| 218/218 [02:45<00:00,  1.31it/s]\n",
            "Validation batches: 100%|██████████| 55/55 [00:14<00:00,  3.80it/s]\n"
          ]
        },
        {
          "metadata": {
            "tags": null
          },
          "name": "stdout",
          "output_type": "stream",
          "text": [
            "Epoch: 5\t\tTrain loss: 0.09241083514270022\t\tValidation loss: 0.005782534084970724\n"
          ]
        },
        {
          "metadata": {
            "tags": null
          },
          "name": "stderr",
          "output_type": "stream",
          "text": [
            "Training batches: 100%|██████████| 218/218 [02:46<00:00,  1.31it/s]\n",
            "Validation batches: 100%|██████████| 55/55 [00:14<00:00,  3.81it/s]\n"
          ]
        },
        {
          "metadata": {
            "tags": null
          },
          "name": "stdout",
          "output_type": "stream",
          "text": [
            "Epoch: 6\t\tTrain loss: 0.08889204959615792\t\tValidation loss: 0.004678105151635298\n"
          ]
        },
        {
          "metadata": {
            "tags": null
          },
          "name": "stderr",
          "output_type": "stream",
          "text": [
            "Training batches: 100%|██████████| 218/218 [02:46<00:00,  1.31it/s]\n",
            "Validation batches: 100%|██████████| 55/55 [00:14<00:00,  3.78it/s]\n"
          ]
        },
        {
          "metadata": {
            "tags": null
          },
          "name": "stdout",
          "output_type": "stream",
          "text": [
            "Epoch: 7\t\tTrain loss: 0.08598040111807234\t\tValidation loss: 0.0029932227395792405\n"
          ]
        },
        {
          "metadata": {
            "tags": null
          },
          "name": "stderr",
          "output_type": "stream",
          "text": [
            "Training batches: 100%|██████████| 218/218 [02:46<00:00,  1.31it/s]\n",
            "Validation batches: 100%|██████████| 55/55 [00:14<00:00,  3.79it/s]\n"
          ]
        },
        {
          "metadata": {
            "tags": null
          },
          "name": "stdout",
          "output_type": "stream",
          "text": [
            "Epoch: 8\t\tTrain loss: 0.09562905321598326\t\tValidation loss: 0.01254015933743424\n"
          ]
        },
        {
          "metadata": {
            "tags": null
          },
          "name": "stderr",
          "output_type": "stream",
          "text": [
            "Training batches: 100%|██████████| 218/218 [02:45<00:00,  1.32it/s]\n",
            "Validation batches: 100%|██████████| 55/55 [00:14<00:00,  3.77it/s]\n"
          ]
        },
        {
          "metadata": {
            "tags": null
          },
          "name": "stdout",
          "output_type": "stream",
          "text": [
            "Epoch: 9\t\tTrain loss: 0.08649398819457979\t\tValidation loss: 0.006393559731077403\n"
          ]
        },
        {
          "metadata": {
            "tags": null
          },
          "name": "stderr",
          "output_type": "stream",
          "text": [
            "Training batches: 100%|██████████| 218/218 [02:45<00:00,  1.32it/s]\n",
            "Validation batches: 100%|██████████| 55/55 [00:14<00:00,  3.78it/s]\n"
          ]
        },
        {
          "metadata": {
            "tags": null
          },
          "name": "stdout",
          "output_type": "stream",
          "text": [
            "Epoch: 10\t\tTrain loss: 0.07465845214015027\t\tValidation loss: 0.005661979599178515\n"
          ]
        },
        {
          "metadata": {
            "tags": null
          },
          "name": "stderr",
          "output_type": "stream",
          "text": [
            "Training batches: 100%|██████████| 218/218 [02:45<00:00,  1.31it/s]\n",
            "Validation batches: 100%|██████████| 55/55 [00:14<00:00,  3.78it/s]\n"
          ]
        },
        {
          "metadata": {
            "tags": null
          },
          "name": "stdout",
          "output_type": "stream",
          "text": [
            "Epoch: 11\t\tTrain loss: 0.07383507154796512\t\tValidation loss: 0.0047653055796135135\n"
          ]
        },
        {
          "metadata": {
            "tags": null
          },
          "name": "stderr",
          "output_type": "stream",
          "text": [
            "Training batches: 100%|██████████| 218/218 [02:45<00:00,  1.32it/s]\n",
            "Validation batches: 100%|██████████| 55/55 [00:14<00:00,  3.80it/s]\n"
          ]
        },
        {
          "metadata": {
            "tags": null
          },
          "name": "stdout",
          "output_type": "stream",
          "text": [
            "Epoch: 12\t\tTrain loss: 0.07072968678890702\t\tValidation loss: 0.0037282879764626905\n"
          ]
        },
        {
          "metadata": {
            "tags": null
          },
          "name": "stderr",
          "output_type": "stream",
          "text": [
            "Training batches: 100%|██████████| 218/218 [02:45<00:00,  1.31it/s]\n",
            "Validation batches: 100%|██████████| 55/55 [00:14<00:00,  3.80it/s]\n"
          ]
        },
        {
          "metadata": {
            "tags": null
          },
          "name": "stdout",
          "output_type": "stream",
          "text": [
            "Epoch: 13\t\tTrain loss: 0.06680618225246532\t\tValidation loss: 0.003838314023265742\n"
          ]
        },
        {
          "metadata": {
            "tags": null
          },
          "name": "stderr",
          "output_type": "stream",
          "text": [
            "Training batches: 100%|██████████| 218/218 [02:45<00:00,  1.32it/s]\n",
            "Validation batches: 100%|██████████| 55/55 [00:14<00:00,  3.79it/s]\n"
          ]
        },
        {
          "metadata": {
            "tags": null
          },
          "name": "stdout",
          "output_type": "stream",
          "text": [
            "Epoch: 14\t\tTrain loss: 0.0669631302813837\t\tValidation loss: 0.002109370292104855\n"
          ]
        },
        {
          "metadata": {
            "tags": null
          },
          "name": "stderr",
          "output_type": "stream",
          "text": [
            "Training batches: 100%|██████████| 218/218 [02:46<00:00,  1.31it/s]\n",
            "Validation batches: 100%|██████████| 55/55 [00:14<00:00,  3.79it/s]\n"
          ]
        },
        {
          "metadata": {
            "tags": null
          },
          "name": "stdout",
          "output_type": "stream",
          "text": [
            "Epoch: 15\t\tTrain loss: 0.061146007788820414\t\tValidation loss: 0.002160477655574637\n"
          ]
        },
        {
          "metadata": {
            "tags": null
          },
          "name": "stderr",
          "output_type": "stream",
          "text": [
            "Training batches: 100%|██████████| 218/218 [02:45<00:00,  1.32it/s]\n",
            "Validation batches: 100%|██████████| 55/55 [00:14<00:00,  3.78it/s]\n"
          ]
        },
        {
          "metadata": {
            "tags": null
          },
          "name": "stdout",
          "output_type": "stream",
          "text": [
            "Epoch: 16\t\tTrain loss: 0.061281820532754744\t\tValidation loss: 0.002832902892524461\n"
          ]
        },
        {
          "metadata": {
            "tags": null
          },
          "name": "stderr",
          "output_type": "stream",
          "text": [
            "Training batches: 100%|██████████| 218/218 [02:45<00:00,  1.31it/s]\n",
            "Validation batches: 100%|██████████| 55/55 [00:14<00:00,  3.80it/s]\n"
          ]
        },
        {
          "metadata": {
            "tags": null
          },
          "name": "stdout",
          "output_type": "stream",
          "text": [
            "Epoch: 17\t\tTrain loss: 0.053759366721384774\t\tValidation loss: 0.002129980523088968\n"
          ]
        },
        {
          "metadata": {
            "tags": null
          },
          "name": "stderr",
          "output_type": "stream",
          "text": [
            "Training batches: 100%|██████████| 218/218 [02:45<00:00,  1.31it/s]\n",
            "Validation batches: 100%|██████████| 55/55 [00:14<00:00,  3.78it/s]\n"
          ]
        },
        {
          "metadata": {
            "tags": null
          },
          "name": "stdout",
          "output_type": "stream",
          "text": [
            "Epoch: 18\t\tTrain loss: 0.051679256428759375\t\tValidation loss: 0.0026568113375105896\n"
          ]
        },
        {
          "metadata": {
            "tags": null
          },
          "name": "stderr",
          "output_type": "stream",
          "text": [
            "Training batches: 100%|██████████| 218/218 [02:45<00:00,  1.32it/s]\n",
            "Validation batches: 100%|██████████| 55/55 [00:14<00:00,  3.79it/s]\n"
          ]
        },
        {
          "metadata": {
            "tags": null
          },
          "name": "stdout",
          "output_type": "stream",
          "text": [
            "Epoch: 19\t\tTrain loss: 0.052785891283371855\t\tValidation loss: 0.0014574374657968293\n"
          ]
        },
        {
          "metadata": {
            "tags": null
          },
          "name": "stderr",
          "output_type": "stream",
          "text": [
            "Training batches: 100%|██████████| 218/218 [02:46<00:00,  1.31it/s]\n",
            "Validation batches: 100%|██████████| 55/55 [00:14<00:00,  3.79it/s]\n"
          ]
        },
        {
          "metadata": {
            "tags": null
          },
          "name": "stdout",
          "output_type": "stream",
          "text": [
            "Epoch: 20\t\tTrain loss: 0.051283802516724264\t\tValidation loss: 0.001816654977698239\n"
          ]
        },
        {
          "metadata": {
            "tags": null
          },
          "name": "stderr",
          "output_type": "stream",
          "text": [
            "Training batches: 100%|██████████| 218/218 [02:45<00:00,  1.32it/s]\n",
            "Validation batches: 100%|██████████| 55/55 [00:14<00:00,  3.79it/s]\n"
          ]
        },
        {
          "metadata": {
            "tags": null
          },
          "name": "stdout",
          "output_type": "stream",
          "text": [
            "Epoch: 21\t\tTrain loss: 0.047756792627138285\t\tValidation loss: 0.0012066539770537268\n"
          ]
        },
        {
          "metadata": {
            "tags": null
          },
          "name": "stderr",
          "output_type": "stream",
          "text": [
            "Training batches: 100%|██████████| 218/218 [02:46<00:00,  1.31it/s]\n",
            "Validation batches: 100%|██████████| 55/55 [00:14<00:00,  3.79it/s]\n"
          ]
        },
        {
          "metadata": {
            "tags": null
          },
          "name": "stdout",
          "output_type": "stream",
          "text": [
            "Epoch: 22\t\tTrain loss: 0.04655631142988835\t\tValidation loss: 0.0023723642450353176\n"
          ]
        },
        {
          "metadata": {
            "tags": null
          },
          "name": "stderr",
          "output_type": "stream",
          "text": [
            "Training batches: 100%|██████████| 218/218 [02:45<00:00,  1.32it/s]\n",
            "Validation batches: 100%|██████████| 55/55 [00:14<00:00,  3.79it/s]\n"
          ]
        },
        {
          "metadata": {
            "tags": null
          },
          "name": "stdout",
          "output_type": "stream",
          "text": [
            "Epoch: 23\t\tTrain loss: 0.04347933534054308\t\tValidation loss: 0.001504657046800937\n"
          ]
        },
        {
          "metadata": {
            "tags": null
          },
          "name": "stderr",
          "output_type": "stream",
          "text": [
            "Training batches: 100%|██████████| 218/218 [02:45<00:00,  1.32it/s]\n",
            "Validation batches: 100%|██████████| 55/55 [00:14<00:00,  3.78it/s]\n"
          ]
        },
        {
          "metadata": {
            "tags": null
          },
          "name": "stdout",
          "output_type": "stream",
          "text": [
            "Epoch: 24\t\tTrain loss: 0.04577233105333983\t\tValidation loss: 0.0011494661617854778\n"
          ]
        },
        {
          "metadata": {
            "tags": null
          },
          "name": "stderr",
          "output_type": "stream",
          "text": [
            "Training batches: 100%|██████████| 218/218 [02:46<00:00,  1.31it/s]\n",
            "Validation batches: 100%|██████████| 55/55 [00:14<00:00,  3.79it/s]\n"
          ]
        },
        {
          "metadata": {
            "tags": null
          },
          "name": "stdout",
          "output_type": "stream",
          "text": [
            "Epoch: 25\t\tTrain loss: 0.04397678179474154\t\tValidation loss: 0.000750768919698947\n"
          ]
        },
        {
          "metadata": {
            "tags": null
          },
          "name": "stderr",
          "output_type": "stream",
          "text": [
            "Training batches: 100%|██████████| 218/218 [02:46<00:00,  1.31it/s]\n",
            "Validation batches: 100%|██████████| 55/55 [00:14<00:00,  3.80it/s]\n"
          ]
        },
        {
          "metadata": {
            "tags": null
          },
          "name": "stdout",
          "output_type": "stream",
          "text": [
            "Epoch: 26\t\tTrain loss: 0.04278173942520463\t\tValidation loss: 0.0012762644967469069\n"
          ]
        },
        {
          "output_type": "stream",
          "name": "stderr",
          "text": [
            "Training batches: 100%|██████████| 218/218 [02:45<00:00,  1.32it/s]\n",
            "Validation batches: 100%|██████████| 55/55 [00:14<00:00,  3.79it/s]\n"
          ]
        },
        {
          "output_type": "stream",
          "name": "stdout",
          "text": [
            "Epoch: 27\t\tTrain loss: 0.040376329600144555\t\tValidation loss: 0.0014146036913933297\n"
          ]
        },
        {
          "output_type": "stream",
          "name": "stderr",
          "text": [
            "Training batches: 100%|██████████| 218/218 [02:45<00:00,  1.32it/s]\n",
            "Validation batches: 100%|██████████| 55/55 [00:14<00:00,  3.80it/s]\n"
          ]
        },
        {
          "output_type": "stream",
          "name": "stdout",
          "text": [
            "Epoch: 28\t\tTrain loss: 0.03801842284316214\t\tValidation loss: 0.0006965783958135448\n"
          ]
        },
        {
          "output_type": "stream",
          "name": "stderr",
          "text": [
            "Training batches: 100%|██████████| 218/218 [02:46<00:00,  1.31it/s]\n",
            "Validation batches: 100%|██████████| 55/55 [00:14<00:00,  3.79it/s]\n"
          ]
        },
        {
          "output_type": "stream",
          "name": "stdout",
          "text": [
            "Epoch: 29\t\tTrain loss: 0.039124075964161564\t\tValidation loss: 0.0008388026120387208\n"
          ]
        },
        {
          "output_type": "stream",
          "name": "stderr",
          "text": [
            "Training batches: 100%|██████████| 218/218 [02:45<00:00,  1.32it/s]\n",
            "Validation batches: 100%|██████████| 55/55 [00:14<00:00,  3.79it/s]\n"
          ]
        },
        {
          "output_type": "stream",
          "name": "stdout",
          "text": [
            "Epoch: 30\t\tTrain loss: 0.03473591282344295\t\tValidation loss: 0.001569336096773358\n"
          ]
        },
        {
          "output_type": "stream",
          "name": "stderr",
          "text": [
            "Training batches: 100%|██████████| 218/218 [02:45<00:00,  1.31it/s]\n",
            "Validation batches: 100%|██████████| 55/55 [00:14<00:00,  3.81it/s]\n"
          ]
        },
        {
          "output_type": "stream",
          "name": "stdout",
          "text": [
            "Epoch: 31\t\tTrain loss: 0.037272214588875786\t\tValidation loss: 0.0010872721089816135\n"
          ]
        },
        {
          "output_type": "stream",
          "name": "stderr",
          "text": [
            "Training batches: 100%|██████████| 218/218 [02:45<00:00,  1.32it/s]\n",
            "Validation batches: 100%|██████████| 55/55 [00:14<00:00,  3.79it/s]\n"
          ]
        },
        {
          "output_type": "stream",
          "name": "stdout",
          "text": [
            "Epoch: 32\t\tTrain loss: 0.03565104447471815\t\tValidation loss: 0.0021218705602223053\n"
          ]
        },
        {
          "output_type": "stream",
          "name": "stderr",
          "text": [
            "Training batches: 100%|██████████| 218/218 [02:45<00:00,  1.32it/s]\n",
            "Validation batches: 100%|██████████| 55/55 [00:14<00:00,  3.79it/s]\n"
          ]
        },
        {
          "output_type": "stream",
          "name": "stdout",
          "text": [
            "Epoch: 33\t\tTrain loss: 0.03183175212011562\t\tValidation loss: 0.0006791100531121297\n"
          ]
        },
        {
          "output_type": "stream",
          "name": "stderr",
          "text": [
            "Training batches: 100%|██████████| 218/218 [02:46<00:00,  1.31it/s]\n",
            "Validation batches: 100%|██████████| 55/55 [00:14<00:00,  3.79it/s]\n"
          ]
        },
        {
          "output_type": "stream",
          "name": "stdout",
          "text": [
            "Epoch: 34\t\tTrain loss: 0.03419455012264918\t\tValidation loss: 0.003119756375037303\n"
          ]
        },
        {
          "output_type": "stream",
          "name": "stderr",
          "text": [
            "Training batches: 100%|██████████| 218/218 [02:45<00:00,  1.32it/s]\n",
            "Validation batches: 100%|██████████| 55/55 [00:14<00:00,  3.79it/s]\n"
          ]
        },
        {
          "output_type": "stream",
          "name": "stdout",
          "text": [
            "Epoch: 35\t\tTrain loss: 0.03378107345186669\t\tValidation loss: 0.0004376128768936641\n"
          ]
        },
        {
          "output_type": "stream",
          "name": "stderr",
          "text": [
            "Training batches: 100%|██████████| 218/218 [02:46<00:00,  1.31it/s]\n",
            "Validation batches: 100%|██████████| 55/55 [00:14<00:00,  3.78it/s]"
          ]
        },
        {
          "output_type": "stream",
          "name": "stdout",
          "text": [
            "Epoch: 36\t\tTrain loss: 0.03519640636919793\t\tValidation loss: 0.0005505113186121558\n"
          ]
        },
        {
          "output_type": "stream",
          "name": "stderr",
          "text": [
            "\n"
          ]
        }
      ]
    },
    {
      "cell_type": "markdown",
      "source": [
        "### Evaluate the results"
      ],
      "metadata": {
        "id": "Du3Y56JuoHaf"
      }
    },
    {
      "cell_type": "code",
      "source": [
        "test_sample = test_data.iloc[3]\n",
        "test_context = f\"Контекст: {test_sample['context']}\"\n",
        "test_question = f\"Вопрос: {test_sample['question']}\"\n",
        "test_answer = f\"{test_sample['answer']}\"\n",
        "\n",
        "pred = trainer_module.predict_answer(\n",
        "   test_context,\n",
        "   test_question,\n",
        "   test_answer,\n",
        "   print_text=True\n",
        ")\n",
        "\n",
        "pred"
      ],
      "metadata": {
        "id": "rM14g4lXoGcO",
        "colab": {
          "base_uri": "https://localhost:8080/"
        },
        "outputId": "4df5dc44-e8b1-4071-c9ba-c1252c2ffc65"
      },
      "execution_count": 20,
      "outputs": [
        {
          "output_type": "stream",
          "name": "stdout",
          "text": [
            "Контекст: боль в половом члене это любая боль или дискомфорт в половом члене. причины причины могут включать в себя: камни в мочевом пузыре. укусы человека или насекомых. рак полового члена. непроходящая эрекция приапизм. генитальный герпес. инфицированные волосяные фолликулы. инфицированный протез полового члена. инфекция под крайней плотью у необрезанных мужчин баланит. воспаление предстательной железы простатиттравма болезнь пейрони синдром рейтерасерповидноклеточная анемиясифилисуретрит, вызванный хламидиями или гонореей инфекция мочевого пузыря тромб в вене полового члена перелом полового члена уход на дому как лечить боль в половом члене дома зависит от ее причины. поговорите со своим врачом о лечении. пакеты со льдом могут помочь облегчить боль. не прикладывайте лед непосредственно к пенису. вместо этого поместите лед в полотенце или мочалку и приложите завернутый лед, чтобы облегчить боль. если боль в половом члене вызвана заболеванием, передающимся половым путем, важно, чтобы ваш сексуальный партнер также прошел лечение. эрекция, которая не проходит. приапизм требует неотложной медицинской помощи. немедленно обратитесь в отделение неотложной помощи больницы. спросите своего врача о лечении состояния, вызывающего приапизм. для решения проблемы вам могут потребоваться лекарства или, возможно, процедура или операция. когда обращаться к медицинскому работнику свяжитесь со своим врачом, если вы заметили чтолибо из следующего: уходи приапизм. немедленно обратитесь за медицинской помощью. боль, которая длится более 4 часов. боль с другими необъяснимыми симптомами. чего ожидать при посещении вашего офиса? ваш врач проведет медицинский осмотр и соберет историю болезни, которая может включать следующие вопросы: когда произошел боль началась? всегда ли присутствует боль? это болезненная, непроходящая эрекция приапизм? чувствуете ли вы боль, когда половой член не эрегирован? боль во всем половом члене или только в одной его части? были ли у вас такие боли? открытые язвы? были ли какиелибо травмы в этой области? подвергаетесь ли вы риску заражения какимилибо заболеваниями, передающимися половым путем? какие еще симптомы у вас есть? физический осмотр будет включать детальный осмотр полового члена, яичек, мошонки и паха. боль можно лечить, как только будет установлена ​​ее причина. лечение зависит от причины: инфекция: антибиотики, противовирусные препараты или другие лекарства в редких случаях рекомендуется обрезание при длительной инфекции под крайней плотью. приапизм: эрекция должна уменьшиться. мочевой катетер вводится для облегчения задержки мочи; могут потребоваться лекарства или хирургическое вмешательство.\n",
            "Вопрос:  что вызывает боль в пенисе? также называется: боль пенис\n",
            "Ответ: причинами могут быть: камни в мочевом пузыре\n"
          ]
        },
        {
          "output_type": "execute_result",
          "data": {
            "text/plain": [
              "{'Reference Answer: ': 'причинами могут быть: камни в мочевом пузыре укусы человека или насекомых рак полового члена непроходящая эрекция приапизм генитальный герпес инфицированные волосяные фолликулы инфицированный протез полового члена инфекция под крайней плотью у необрезанных мужчин баланит воспаление предстательной железы простатит травма болезнь пейрони синдром рейтера серповидноклеточная анемия сифилис уретрит, вызванный хламидиями или гонореей',\n",
              " 'Predicted Answer: ': 'Ответ: причинами могут быть: камни в мочевом пузыре',\n",
              " 'BLEU Score: ': {'google_bleu': 0.1262135922330097},\n",
              " 'RougeL (precision): ': 0}"
            ]
          },
          "metadata": {},
          "execution_count": 20
        }
      ]
    },
    {
      "cell_type": "code",
      "source": [
        "# Calculate metrics on test\n",
        "bleu_avg, rouge_avg = trainer_module.calc_avg_metrics(test_data)\n",
        "print(\"Test:\")\n",
        "print(\"BLEU:\", bleu_avg)\n",
        "print(\"RougeL:\", rouge_avg)"
      ],
      "metadata": {
        "id": "NONpRvUJlRyZ",
        "colab": {
          "base_uri": "https://localhost:8080/"
        },
        "outputId": "d4372021-9eda-4746-f254-06b44b9d191d"
      },
      "execution_count": 21,
      "outputs": [
        {
          "output_type": "stream",
          "name": "stdout",
          "text": [
            "Test:\n",
            "BLEU: 0.14194473035391136\n",
            "RougeL: 0.06521739130434782\n"
          ]
        }
      ]
    },
    {
      "cell_type": "code",
      "source": [
        "loss_filepath = \"/content/drive/MyDrive/ITMO/data/t5_MedQAD_loss_100.csv\"\n",
        "# Plot loss\n",
        "# General loss with previous steps of fine-tuning\n",
        "trainer_module.plot_loss(filepath=loss_filepath)\n",
        "#trainer_module.plot_loss()"
      ],
      "metadata": {
        "id": "1kxLmu5NnccQ",
        "colab": {
          "base_uri": "https://localhost:8080/",
          "height": 430
        },
        "outputId": "3dc5480e-5406-45a2-a4a2-1ee0dbc8c006"
      },
      "execution_count": 33,
      "outputs": [
        {
          "output_type": "display_data",
          "data": {
            "text/plain": [
              "<Figure size 640x480 with 1 Axes>"
            ],
            "image/png": "[encoded data removed]"
          },
          "metadata": {}
        }
      ]
    },
    {
      "cell_type": "markdown",
      "source": [
        "### Inference"
      ],
      "metadata": {
        "id": "7imgUQ9nCQeK"
      }
    },
    {
      "cell_type": "code",
      "source": [
        "test_sample = test_data.iloc[3]\n",
        "test_context = f\"Контекст: {test_sample['context']}\"\n",
        "test_question = f\"Вопрос: {test_sample['question']}\"\n",
        "\n",
        "pred = trainer_module.predict_answer(\n",
        "   test_context,\n",
        "   test_question\n",
        ")\n",
        "\n",
        "print(test_question)\n",
        "print(test_context)\n",
        "print(pred)"
      ],
      "metadata": {
        "id": "OWgw8gq3paaj",
        "colab": {
          "base_uri": "https://localhost:8080/"
        },
        "outputId": "97977062-dc9d-4773-a2b8-31f505f92864"
      },
      "execution_count": 28,
      "outputs": [
        {
          "output_type": "stream",
          "name": "stdout",
          "text": [
            "Вопрос:  что вызывает боль в пенисе? также называется: боль пенис\n",
            "Контекст: боль в половом члене это любая боль или дискомфорт в половом члене. причины причины могут включать в себя: камни в мочевом пузыре. укусы человека или насекомых. рак полового члена. непроходящая эрекция приапизм. генитальный герпес. инфицированные волосяные фолликулы. инфицированный протез полового члена. инфекция под крайней плотью у необрезанных мужчин баланит. воспаление предстательной железы простатиттравма болезнь пейрони синдром рейтерасерповидноклеточная анемиясифилисуретрит, вызванный хламидиями или гонореей инфекция мочевого пузыря тромб в вене полового члена перелом полового члена уход на дому как лечить боль в половом члене дома зависит от ее причины. поговорите со своим врачом о лечении. пакеты со льдом могут помочь облегчить боль. не прикладывайте лед непосредственно к пенису. вместо этого поместите лед в полотенце или мочалку и приложите завернутый лед, чтобы облегчить боль. если боль в половом члене вызвана заболеванием, передающимся половым путем, важно, чтобы ваш сексуальный партнер также прошел лечение. эрекция, которая не проходит. приапизм требует неотложной медицинской помощи. немедленно обратитесь в отделение неотложной помощи больницы. спросите своего врача о лечении состояния, вызывающего приапизм. для решения проблемы вам могут потребоваться лекарства или, возможно, процедура или операция. когда обращаться к медицинскому работнику свяжитесь со своим врачом, если вы заметили чтолибо из следующего: уходи приапизм. немедленно обратитесь за медицинской помощью. боль, которая длится более 4 часов. боль с другими необъяснимыми симптомами. чего ожидать при посещении вашего офиса? ваш врач проведет медицинский осмотр и соберет историю болезни, которая может включать следующие вопросы: когда произошел боль началась? всегда ли присутствует боль? это болезненная, непроходящая эрекция приапизм? чувствуете ли вы боль, когда половой член не эрегирован? боль во всем половом члене или только в одной его части? были ли у вас такие боли? открытые язвы? были ли какиелибо травмы в этой области? подвергаетесь ли вы риску заражения какимилибо заболеваниями, передающимися половым путем? какие еще симптомы у вас есть? физический осмотр будет включать детальный осмотр полового члена, яичек, мошонки и паха. боль можно лечить, как только будет установлена ​​ее причина. лечение зависит от причины: инфекция: антибиотики, противовирусные препараты или другие лекарства в редких случаях рекомендуется обрезание при длительной инфекции под крайней плотью. приапизм: эрекция должна уменьшиться. мочевой катетер вводится для облегчения задержки мочи; могут потребоваться лекарства или хирургическое вмешательство.\n",
            "Ответ: причинами могут быть: камни в мочевом пузыре\n"
          ]
        }
      ]
    },
    {
      "cell_type": "code",
      "source": [
        "test_sample = test_data.iloc[15]\n",
        "test_context = f\"Контекст: {test_sample['context']}\"\n",
        "test_question = f\"Вопрос: {test_sample['question']}\"\n",
        "\n",
        "pred = trainer_module.predict_answer(\n",
        "   test_context,\n",
        "   test_question\n",
        ")\n",
        "\n",
        "print(test_question)\n",
        "print(test_context)\n",
        "print(pred)"
      ],
      "metadata": {
        "colab": {
          "base_uri": "https://localhost:8080/"
        },
        "id": "UtTTBrwKCbmX",
        "outputId": "2aa9db1f-31a9-4548-999b-e837f432566f"
      },
      "execution_count": 25,
      "outputs": [
        {
          "output_type": "stream",
          "name": "stdout",
          "text": [
            "Вопрос:  что такое путаница? также называется: дезориентация; мышление неясное; мысли затуманенное\n",
            "Контекст: замешательство это неспособность думать так ясно и быстро, как обычно. вы можете чувствовать дезориентацию и испытывать трудности с концентрацией внимания, запоминанием и принятием решений. соображения замешательство может нарастать быстро или медленно с течением времени, в зависимости от причины. во многих случаях спутанность сознания длится недолго и проходит. в других случаях это навсегда и неизлечимо. это может быть связано с бредом или деменцией. спутанность сознания чаще встречается у пожилых людей и часто возникает во время пребывания в больнице. некоторые люди с растерянностью могут вести себя странно или необычно или вести себя агрессивно. причины спутанность сознания может быть вызвана различными проблемами со здоровьем, например :алкогольная или наркотическая интоксикация опухоль головного мозга травма головы или травма головы сотрясение мозгалихорадкадисбаланс жидкости и электролитовзаболевания у пожилых людей, такие как потеря функции мозга деменция заболевания у людей с существующими неврологическими заболеваниями, такими как инсультинфекциинедостаток сна депривация сна низкий уровень сахара в кровинизкий уровень кислорода например, изза хронических заболеваний легкихлекарстванедостаток питательных веществ, особенно ниацина, тиамина или витамина b12судорогивнезапное падение температуры тела гипотермияуход на дому хороший способ узнать, не сбит ли ктото с толку, спросить этого человека его или ее имя, возраст и дату. если он не уверен или отвечает неправильно, он находится в замешательстве. если у человека обычно нет замешательства, обратитесь к врачу. сбитого с толку человека нельзя оставлять одного. в целях безопасности человеку может понадобиться ктото рядом, чтобы успокоить его и защитить от травм. в редких случаях медицинский работник может назначить физическое ограничение. чтобы помочь запутавшемуся человеку: всегда представляйтесь, независимо от того, насколько хорошо человек вас когдато знал. часто напоминайте человеку о его или ее местонахождении. поместите календарь и часы рядом с человек. поговорите о текущих событиях и планах на день. старайтесь, чтобы обстановка была спокойной, тихой и мирной. при внезапном замешательстве изза низкого уровня сахара в крови например, изза лекарства от диабета человеку следует выпить сладкий напиток или поесть. сладкая закуска. если спутанность сознания длится более 10 минут, обратитесь к врачу. когда обращаться к медицинскому работнику позвоните по номеру 911 или местному номеру службы экстренной помощи, если спутанность сознания возникла внезапно или есть другие симптомы, такие как: холодная или липкая кожа головокружение или чувство обморока учащенный пульс лихорадка головная боль медленная или учащенное дыхание неконтролируемая дрожь. также позвоните в службу 911 или по местному номеру службы экстренной помощи, если: это первый раз, когда ктото теряет сознание без причины. спутанность сознания внезапно возникла у человека с диабетом. спутанность сознания возникла после травмы головы. человек находится в опасности причинить вред себе или другим. человек теряет сознание при в любое время. если вы испытываете спутанность сознания, обратитесь к своему врачу и запишитесь на прием. чего ожидать при посещении врача? врач проведет медицинский осмотр и задаст вопросы о спутанности сознания. врач задаст вопросы, чтобы узнать, знает ли человек дату, время и где он или она находится. помимо прочего, также будут заданы вопросы о недавних и текущих заболеваниях. могут быть назначены следующие анализы: анализы крови. кт головы. электроэнцефалограмма ээг. тесты психического статуса. нейропсихологические тесты. анализы мочи. лечение зависит от причины спутанности сознания. например, если спутанность сознания вызывает инфекция, лечение инфекции, скорее всего, устранит спутанность сознания.\n",
            "Ответ: замешательство это неспособность думать так ясно и быстро,\n"
          ]
        }
      ]
    },
    {
      "cell_type": "code",
      "source": [
        "test_sample = test_data.iloc[22]\n",
        "test_context = f\"Контекст: {test_sample['context']}\"\n",
        "test_question = f\"Вопрос: {test_sample['question']}\"\n",
        "\n",
        "pred = trainer_module.predict_answer(\n",
        "   test_context,\n",
        "   test_question\n",
        ")\n",
        "\n",
        "print(test_question)\n",
        "print(test_context)\n",
        "print(pred)"
      ],
      "metadata": {
        "colab": {
          "base_uri": "https://localhost:8080/"
        },
        "id": "P-USmGsQIQnU",
        "outputId": "ab7d2bb7-1bdd-47a8-e854-f9663066242e"
      },
      "execution_count": 26,
      "outputs": [
        {
          "output_type": "stream",
          "name": "stdout",
          "text": [
            "Вопрос:  каковы симптомы дивертикулеза? также называется: дивертикула дивертикулез; дивертикулит дивертикулез; дивертикулярная болезнь дивертикулез; желудочнокишечное кровотечение дивертикулез; желудочнокишечное кровотечение дивертикулез; желудочнокишечное кровотечение дивертикулез\n",
            "Контекст: дивертикулез возникает, когда на внутренней стенке кишечника образуются маленькие выпуклые мешочки или мешочки. эти мешочки называются дивертикулами. чаще всего эти мешочки образуются в толстой кишке толстой кишке. они также могут возникать в тощей кишке и тонкой кишке, хотя это встречается реже. причины дивертикулез реже встречается у людей в возрасте 40 лет и моложе. это чаще встречается у пожилых людей. около половины американцев старше 60 лет страдают этим заболеванием. у большинства людей это случается к 80 годам. никто точно не знает, что вызывает образование этих мешочков. в течение многих лет считалось, что диета с низким содержанием клетчатки может сыграть свою роль. недостаток клетчатки может вызвать запор твердый стул. напряжение при дефекации кал увеличивает давление в толстой кишке. это может привести к образованию мешочков в слабых местах стенки толстой кишки. однако не совсем доказано, приводит ли диета с низким содержанием клетчатки к этой проблеме. другими возможными факторами риска, которые также недостаточно доказаны, являются отсутствие физических упражнений и ожирение. употребление орехов, попкорна или кукурузы, повидимому, не приводит к воспалению этих тканей. мешочки дивертикулит. симптомы у большинства людей с дивертикулезом симптомы отсутствуют. при появлении симптомов они могут включать в себя: боль и спазмы в желудке, особенно в левой нижней части живота. запор иногда диарея. вздутие живота или газы. отсутствие чувства голода и отказ от еды. вы можете заметить небольшое количество крови в кале или на туалетной бумаге. редко может возникнуть более сильное кровотечение. обследования и анализы дивертикулез часто обнаруживается во время обследования по поводу другой проблемы со здоровьем. например, его часто обнаруживают во время колоноскопии. если у вас есть симптомы, вы можете пройти один или несколько из следующих анализов: анализы крови, чтобы определить, есть ли у вас инфекция или вы потеряли слишком много крови. кт или узи брюшной полости, если у вас кровотечение, жидкий стул или боль. для постановки диагноза необходима колоноскопия: колоноскопия это обследование, при котором осматривается внутренняя часть толстой и прямой кишки. этот тест не следует проводить, если у вас есть симптомы острого дивертикулита. небольшая камера, прикрепленная к трубке, может достигать длины толстой кишки. ангиография: ангиография это визуализирующий тест, в котором используются рентгеновские лучи и специальный краситель, чтобы увидеть внутреннюю часть толстой кишки. кровеносные сосуды. этот тест можно использовать, если во время колоноскопии не видна область кровотечения. лечение. поскольку у большинства людей симптомы отсутствуют, в большинстве случаев лечение не требуется. ваш врач может порекомендовать вам включить в свой рацион больше клетчатки. . диета с высоким содержанием клетчатки имеет много преимуществ для здоровья. большинство людей не получают достаточного количества клетчатки. чтобы предотвратить запор, вам следует: ешьте много цельнозерновых продуктов, бобовых, фруктов и овощей. ограничьте употребление обработанных пищевых продуктов. пейте много жидкости. регулярно занимайтесь спортом. поговорите со своим врачом о приеме пищевых добавок с клетчаткой. вам следует избегать приема нпвп, таких как аспирин, ибупрофен мотрин и напроксен алив. эти лекарства могут повысить вероятность кровотечения. при кровотечении, которое не останавливается или повторяется: можно использовать колоноскопию для инъекции лекарств или прижигания определенного участка кишечника, чтобы остановить кровотечение. ангиографию можно использовать для введения лекарств или блокирования кровеносного сосуда. . если кровотечение не останавливается или повторяется много раз, может потребоваться удаление части толстой кишки. прогноз прогноз у большинства людей, страдающих дивертикулезом, симптомы отсутствуют. как только эти мешочки сформируются, они останутся с вами на всю жизнь. до 25% людей с этим заболеванием развивается дивертикулит. это происходит, когда небольшие кусочки стула попадают в мешочки, вызывая инфекцию или отек. возможные осложнения. более серьезные проблемы, которые могут развиться, включают в себя: аномальные связи, которые образуются между частями толстой кишки или между толстой кишкой и другой частью тела свищ. отверстие или разрыв в толстой кишке перфорация суженный участок толстой кишки стриктура карманы, заполненные гноем или инфекцией абсцесс когда следует обращаться к медицинскому работнику позвоните своему врачу, если возникнут симптомы дивертикулита.\n",
            "Ответ: у большинства людей с дивертикулезом симптомы отсутствуют.\n"
          ]
        }
      ]
    },
    {
      "cell_type": "code",
      "source": [
        "test_sample = test_data.iloc[9]\n",
        "test_context = f\"Контекст: {test_sample['context']}\"\n",
        "test_question = f\"Вопрос: {test_sample['question']}\"\n",
        "\n",
        "pred = trainer_module.predict_answer(\n",
        "   test_context,\n",
        "   test_question\n",
        ")\n",
        "\n",
        "print(test_question)\n",
        "print(test_context)\n",
        "print(pred)"
      ],
      "metadata": {
        "colab": {
          "base_uri": "https://localhost:8080/"
        },
        "id": "fSGlDl3pIpWH",
        "outputId": "7d1cae04-352b-4539-8610-d609eea49a05"
      },
      "execution_count": 27,
      "outputs": [
        {
          "output_type": "stream",
          "name": "stdout",
          "text": [
            "Вопрос:  что вызывает абсцесс?\n",
            "Контекст: абсцесс это скопление гноя в любой части тела. в большинстве случаев область вокруг абсцесса опухает и воспаляется. причины абсцессы возникают, когда участок ткани заражается, и иммунная система организма пытается бороться с ним и сдерживать его. лейкоциты лейкоциты перемещаются через стенки кровеносных сосудов в область инфекции и собираются в поврежденной ткани. в ходе этого процесса образуется гной. гной это скопление жидкости, живых и мертвых лейкоцитов, мертвых тканей, бактерий или других посторонних веществ. абсцессы могут образовываться практически в любой части тела. кожа, под кожей и зубы являются наиболее распространенными местами. абсцессы могут быть вызваны бактериями, паразитами и инородными веществами. абсцессы на коже легко увидеть. они красные, приподнятые и болезненные. абсцессы в других частях тела могут быть не видны, но они могут вызывать повреждение органов. некоторые типы и локализации абсцессов включают: абдоминальный абсцесс амебный абсцесс печени аноректальный абсцесс абсцесс бартолиновой железы абсцесс головного мозга эпидуральный абсцесс перитонзиллярный абсцесс пиогенный абсцесс печени абсцесс спинного мозга подкожный кожный абсцесс зубной абсцесс scessэкзамены и тесты здоровье поставщик медицинских услуг проведет медицинский осмотр, сосредоточив внимание на симптомах абсцесса. тесты для обнаружения абсцесса включают в себя: ультразвуковое сканирование, кт, мрт, рентген в основном при абсцессе зуба. часто из абсцесса берут образец жидкости и анализируют его, чтобы увидеть какой тип микроба вызывает проблему. лечение лечение варьируется, но часто требуется хирургическое вмешательство для дренирования абсцесса. также можно использовать антибиотики. когда обращаться к медицинскому работнику если вы считаете, что у вас абсцесс какоголибо типа, обратитесь к своему врачу. если вы подозреваете, что у вас абсцесс зуба, обратитесь к стоматологу. профилактика профилактика абсцессов зависит от того, где они развиваются. например, хорошая гигиена может помочь предотвратить абсцессы кожи. гигиена зубов и регулярный уход предотвратят абсцессы зубов. изображения пиогенный абсцесс абсцесс зуба внутрибрюшной абсцесс кт\n",
            "Ответ: абсцессы возникают, когда участок ткани заражается\n"
          ]
        }
      ]
    },
    {
      "cell_type": "code",
      "source": [],
      "metadata": {
        "id": "KDECflEEIy37"
      },
      "execution_count": null,
      "outputs": []
    }
  ]
}