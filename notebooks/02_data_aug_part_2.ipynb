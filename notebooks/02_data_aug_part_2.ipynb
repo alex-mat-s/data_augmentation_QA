{
 "cells": [
  {
   "cell_type": "markdown",
   "metadata": {},
   "source": [
    "# Data Augmentation. Context Summarization\n",
    "\n",
    "\n",
    "## I METHOD (for English) \n",
    "### Context summarization + Q-A pairs generation\n",
    "\n",
    "- Context: abstractive summarization: t5-base \n",
    "- Question generation: t5-base-finetuned-question-generation-ap\n",
    "- Question answering: t5-base\n",
    "- Translation: google API"
   ]
  },
  {
   "cell_type": "code",
   "execution_count": null,
   "metadata": {},
   "outputs": [],
   "source": [
    "import pandas as pd\n",
    "from transformers import T5Tokenizer, T5ForConditionalGeneration\n",
    "from deep_translator import GoogleTranslator\n",
    "\n",
    "\n",
    "df = pd.read_csv('./MedQuAD.csv')\n",
    "\n",
    "# Load T5-base model and tokenizer for summarization\n",
    "summarization_model_name = \"t5-base\"\n",
    "summarization_tokenizer = T5Tokenizer.from_pretrained(summarization_model_name)\n",
    "summarization_model = T5ForConditionalGeneration.from_pretrained(summarization_model_name)\n",
    "\n",
    "# Load T5-base-finetuned-question-generation-ap model and tokenizer\n",
    "question_generation_model_name = \"valhalla/t5-base-finetuned-question-generation-ap\"\n",
    "question_generation_tokenizer = T5Tokenizer.from_pretrained(question_generation_model_name)\n",
    "question_generation_model = T5ForConditionalGeneration.from_pretrained(question_generation_model_name)\n",
    "\n",
    "# Load T5-base model for answer generation\n",
    "answer_generation_model_name = \"t5-base\"\n",
    "answer_generation_tokenizer = T5Tokenizer.from_pretrained(answer_generation_model_name)\n",
    "answer_generation_model = T5ForConditionalGeneration.from_pretrained(answer_generation_model_name)\n",
    "\n",
    "# Function to generate summaries\n",
    "def generate_summary(text):\n",
    "    input_ids = summarization_tokenizer.encode(\"summarize: \" + text, return_tensors=\"pt\", max_length=2000, truncation=True)\n",
    "    summary_ids = summarization_model.generate(input_ids, max_length=2000, length_penalty=2.0, num_beams=4, early_stopping=True)\n",
    "    summary = summarization_tokenizer.decode(summary_ids[0], skip_special_tokens=True)\n",
    "    return summary\n",
    "\n",
    "# Function to generate questions\n",
    "def generate_question(context):\n",
    "    input_ids = question_generation_tokenizer.encode(\"generate question: \" + context, return_tensors=\"pt\", max_length=2000, truncation=True)\n",
    "    question_ids = question_generation_model.generate(input_ids, max_length=2000, length_penalty=2.0, num_beams=4, early_stopping=True)\n",
    "    question = question_generation_tokenizer.decode(question_ids[0], skip_special_tokens=True)\n",
    "    return question\n",
    "\n",
    "# Function to generate answers\n",
    "def generate_answer(question):\n",
    "    input_ids = answer_generation_tokenizer.encode(\"answer: \" + question, return_tensors=\"pt\", max_length=2000, truncation=True)\n",
    "    answer_ids = answer_generation_model.generate(input_ids, max_length=2000, length_penalty=2.0, num_beams=4, early_stopping=True)\n",
    "    answer = answer_generation_tokenizer.decode(answer_ids[0], skip_special_tokens=True)\n",
    "    return answer\n",
    "\n",
    "# Apply the functions to create new columns 'summary', 'generated_question', and 'generated_answer'\n",
    "df['summary'] = df['context'].apply(generate_summary)\n",
    "df['generated_question'] = df['context'].apply(generate_question)\n",
    "df['generated_answer'] = df['generated_question'].apply(generate_answer)\n",
    "\n",
    "\n",
    "def translate(s):\n",
    "  return GoogleTranslator('en', 'ru').translate(s)\n",
    "\n",
    "# translate df with augmented answers \n",
    "df['summary'] = df.summary.apply(translate)\n",
    "df['generated_question'] = df.generated_question.apply(translate)\n",
    "df['generated_answer'] = df.generated_answer.apply(translate)\n",
    "\n",
    "df.to_csv('./MedQA_generated.csv')\n"
   ]
  }
 ],
 "metadata": {
  "kernelspec": {
   "display_name": "Python 3",
   "language": "python",
   "name": "python3"
  },
  "language_info": {
   "codemirror_mode": {
    "name": "ipython",
    "version": 3
   },
   "file_extension": ".py",
   "mimetype": "text/x-python",
   "name": "python",
   "nbconvert_exporter": "python",
   "pygments_lexer": "ipython3",
   "version": "3.11.4"
  }
 },
 "nbformat": 4,
 "nbformat_minor": 2
}
