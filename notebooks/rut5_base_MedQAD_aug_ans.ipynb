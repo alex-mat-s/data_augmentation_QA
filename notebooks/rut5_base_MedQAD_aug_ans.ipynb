{
  "nbformat": 4,
  "nbformat_minor": 0,
  "metadata": {
    "colab": {
      "provenance": [],
      "gpuType": "T4"
    },
    "kernelspec": {
      "name": "python3",
      "display_name": "Python 3"
    },
    "language_info": {
      "name": "python"
    },
    "accelerator": "GPU",
    "widgets": {
      "application/vnd.jupyter.widget-state+json": {
        "e9b78721b9144d609097ab7b60fdb86a": {
          "model_module": "@jupyter-widgets/controls",
          "model_name": "HBoxModel",
          "model_module_version": "1.5.0",
          "state": {
            "_dom_classes": [],
            "_model_module": "@jupyter-widgets/controls",
            "_model_module_version": "1.5.0",
            "_model_name": "HBoxModel",
            "_view_count": null,
            "_view_module": "@jupyter-widgets/controls",
            "_view_module_version": "1.5.0",
            "_view_name": "HBoxView",
            "box_style": "",
            "children": [
              "IPY_MODEL_d4bcf1534dd74ca9b020dd8385f02175",
              "IPY_MODEL_4dda467ea21440559c90942d0adaa246",
              "IPY_MODEL_79ffa2aa4760406fa65ff487d491d6f9"
            ],
            "layout": "IPY_MODEL_6f7dfc7e30f84ac982a4e123d3fa4f00"
          }
        },
        "d4bcf1534dd74ca9b020dd8385f02175": {
          "model_module": "@jupyter-widgets/controls",
          "model_name": "HTMLModel",
          "model_module_version": "1.5.0",
          "state": {
            "_dom_classes": [],
            "_model_module": "@jupyter-widgets/controls",
            "_model_module_version": "1.5.0",
            "_model_name": "HTMLModel",
            "_view_count": null,
            "_view_module": "@jupyter-widgets/controls",
            "_view_module_version": "1.5.0",
            "_view_name": "HTMLView",
            "description": "",
            "description_tooltip": null,
            "layout": "IPY_MODEL_e08c1129aa3644fca6e0ad211280a327",
            "placeholder": "​",
            "style": "IPY_MODEL_4b7bf13ca7984ce0aee028ca5faefabc",
            "value": "Downloading builder script: 100%"
          }
        },
        "4dda467ea21440559c90942d0adaa246": {
          "model_module": "@jupyter-widgets/controls",
          "model_name": "FloatProgressModel",
          "model_module_version": "1.5.0",
          "state": {
            "_dom_classes": [],
            "_model_module": "@jupyter-widgets/controls",
            "_model_module_version": "1.5.0",
            "_model_name": "FloatProgressModel",
            "_view_count": null,
            "_view_module": "@jupyter-widgets/controls",
            "_view_module_version": "1.5.0",
            "_view_name": "ProgressView",
            "bar_style": "success",
            "description": "",
            "description_tooltip": null,
            "layout": "IPY_MODEL_26ad7c223ea14318b1ef6ef802e03773",
            "max": 8645,
            "min": 0,
            "orientation": "horizontal",
            "style": "IPY_MODEL_f307faabbd1647c2b96c74788579e18c",
            "value": 8645
          }
        },
        "79ffa2aa4760406fa65ff487d491d6f9": {
          "model_module": "@jupyter-widgets/controls",
          "model_name": "HTMLModel",
          "model_module_version": "1.5.0",
          "state": {
            "_dom_classes": [],
            "_model_module": "@jupyter-widgets/controls",
            "_model_module_version": "1.5.0",
            "_model_name": "HTMLModel",
            "_view_count": null,
            "_view_module": "@jupyter-widgets/controls",
            "_view_module_version": "1.5.0",
            "_view_name": "HTMLView",
            "description": "",
            "description_tooltip": null,
            "layout": "IPY_MODEL_32c569a97e444b218718aa637efa68e6",
            "placeholder": "​",
            "style": "IPY_MODEL_d6b67c4e9af34541affbace54ab29971",
            "value": " 8.64k/8.64k [00:00&lt;00:00, 479kB/s]"
          }
        },
        "6f7dfc7e30f84ac982a4e123d3fa4f00": {
          "model_module": "@jupyter-widgets/base",
          "model_name": "LayoutModel",
          "model_module_version": "1.2.0",
          "state": {
            "_model_module": "@jupyter-widgets/base",
            "_model_module_version": "1.2.0",
            "_model_name": "LayoutModel",
            "_view_count": null,
            "_view_module": "@jupyter-widgets/base",
            "_view_module_version": "1.2.0",
            "_view_name": "LayoutView",
            "align_content": null,
            "align_items": null,
            "align_self": null,
            "border": null,
            "bottom": null,
            "display": null,
            "flex": null,
            "flex_flow": null,
            "grid_area": null,
            "grid_auto_columns": null,
            "grid_auto_flow": null,
            "grid_auto_rows": null,
            "grid_column": null,
            "grid_gap": null,
            "grid_row": null,
            "grid_template_areas": null,
            "grid_template_columns": null,
            "grid_template_rows": null,
            "height": null,
            "justify_content": null,
            "justify_items": null,
            "left": null,
            "margin": null,
            "max_height": null,
            "max_width": null,
            "min_height": null,
            "min_width": null,
            "object_fit": null,
            "object_position": null,
            "order": null,
            "overflow": null,
            "overflow_x": null,
            "overflow_y": null,
            "padding": null,
            "right": null,
            "top": null,
            "visibility": null,
            "width": null
          }
        },
        "e08c1129aa3644fca6e0ad211280a327": {
          "model_module": "@jupyter-widgets/base",
          "model_name": "LayoutModel",
          "model_module_version": "1.2.0",
          "state": {
            "_model_module": "@jupyter-widgets/base",
            "_model_module_version": "1.2.0",
            "_model_name": "LayoutModel",
            "_view_count": null,
            "_view_module": "@jupyter-widgets/base",
            "_view_module_version": "1.2.0",
            "_view_name": "LayoutView",
            "align_content": null,
            "align_items": null,
            "align_self": null,
            "border": null,
            "bottom": null,
            "display": null,
            "flex": null,
            "flex_flow": null,
            "grid_area": null,
            "grid_auto_columns": null,
            "grid_auto_flow": null,
            "grid_auto_rows": null,
            "grid_column": null,
            "grid_gap": null,
            "grid_row": null,
            "grid_template_areas": null,
            "grid_template_columns": null,
            "grid_template_rows": null,
            "height": null,
            "justify_content": null,
            "justify_items": null,
            "left": null,
            "margin": null,
            "max_height": null,
            "max_width": null,
            "min_height": null,
            "min_width": null,
            "object_fit": null,
            "object_position": null,
            "order": null,
            "overflow": null,
            "overflow_x": null,
            "overflow_y": null,
            "padding": null,
            "right": null,
            "top": null,
            "visibility": null,
            "width": null
          }
        },
        "4b7bf13ca7984ce0aee028ca5faefabc": {
          "model_module": "@jupyter-widgets/controls",
          "model_name": "DescriptionStyleModel",
          "model_module_version": "1.5.0",
          "state": {
            "_model_module": "@jupyter-widgets/controls",
            "_model_module_version": "1.5.0",
            "_model_name": "DescriptionStyleModel",
            "_view_count": null,
            "_view_module": "@jupyter-widgets/base",
            "_view_module_version": "1.2.0",
            "_view_name": "StyleView",
            "description_width": ""
          }
        },
        "26ad7c223ea14318b1ef6ef802e03773": {
          "model_module": "@jupyter-widgets/base",
          "model_name": "LayoutModel",
          "model_module_version": "1.2.0",
          "state": {
            "_model_module": "@jupyter-widgets/base",
            "_model_module_version": "1.2.0",
            "_model_name": "LayoutModel",
            "_view_count": null,
            "_view_module": "@jupyter-widgets/base",
            "_view_module_version": "1.2.0",
            "_view_name": "LayoutView",
            "align_content": null,
            "align_items": null,
            "align_self": null,
            "border": null,
            "bottom": null,
            "display": null,
            "flex": null,
            "flex_flow": null,
            "grid_area": null,
            "grid_auto_columns": null,
            "grid_auto_flow": null,
            "grid_auto_rows": null,
            "grid_column": null,
            "grid_gap": null,
            "grid_row": null,
            "grid_template_areas": null,
            "grid_template_columns": null,
            "grid_template_rows": null,
            "height": null,
            "justify_content": null,
            "justify_items": null,
            "left": null,
            "margin": null,
            "max_height": null,
            "max_width": null,
            "min_height": null,
            "min_width": null,
            "object_fit": null,
            "object_position": null,
            "order": null,
            "overflow": null,
            "overflow_x": null,
            "overflow_y": null,
            "padding": null,
            "right": null,
            "top": null,
            "visibility": null,
            "width": null
          }
        },
        "f307faabbd1647c2b96c74788579e18c": {
          "model_module": "@jupyter-widgets/controls",
          "model_name": "ProgressStyleModel",
          "model_module_version": "1.5.0",
          "state": {
            "_model_module": "@jupyter-widgets/controls",
            "_model_module_version": "1.5.0",
            "_model_name": "ProgressStyleModel",
            "_view_count": null,
            "_view_module": "@jupyter-widgets/base",
            "_view_module_version": "1.2.0",
            "_view_name": "StyleView",
            "bar_color": null,
            "description_width": ""
          }
        },
        "32c569a97e444b218718aa637efa68e6": {
          "model_module": "@jupyter-widgets/base",
          "model_name": "LayoutModel",
          "model_module_version": "1.2.0",
          "state": {
            "_model_module": "@jupyter-widgets/base",
            "_model_module_version": "1.2.0",
            "_model_name": "LayoutModel",
            "_view_count": null,
            "_view_module": "@jupyter-widgets/base",
            "_view_module_version": "1.2.0",
            "_view_name": "LayoutView",
            "align_content": null,
            "align_items": null,
            "align_self": null,
            "border": null,
            "bottom": null,
            "display": null,
            "flex": null,
            "flex_flow": null,
            "grid_area": null,
            "grid_auto_columns": null,
            "grid_auto_flow": null,
            "grid_auto_rows": null,
            "grid_column": null,
            "grid_gap": null,
            "grid_row": null,
            "grid_template_areas": null,
            "grid_template_columns": null,
            "grid_template_rows": null,
            "height": null,
            "justify_content": null,
            "justify_items": null,
            "left": null,
            "margin": null,
            "max_height": null,
            "max_width": null,
            "min_height": null,
            "min_width": null,
            "object_fit": null,
            "object_position": null,
            "order": null,
            "overflow": null,
            "overflow_x": null,
            "overflow_y": null,
            "padding": null,
            "right": null,
            "top": null,
            "visibility": null,
            "width": null
          }
        },
        "d6b67c4e9af34541affbace54ab29971": {
          "model_module": "@jupyter-widgets/controls",
          "model_name": "DescriptionStyleModel",
          "model_module_version": "1.5.0",
          "state": {
            "_model_module": "@jupyter-widgets/controls",
            "_model_module_version": "1.5.0",
            "_model_name": "DescriptionStyleModel",
            "_view_count": null,
            "_view_module": "@jupyter-widgets/base",
            "_view_module_version": "1.2.0",
            "_view_name": "StyleView",
            "description_width": ""
          }
        },
        "2dc81bf728434e11b6568689ace7913f": {
          "model_module": "@jupyter-widgets/controls",
          "model_name": "HBoxModel",
          "model_module_version": "1.5.0",
          "state": {
            "_dom_classes": [],
            "_model_module": "@jupyter-widgets/controls",
            "_model_module_version": "1.5.0",
            "_model_name": "HBoxModel",
            "_view_count": null,
            "_view_module": "@jupyter-widgets/controls",
            "_view_module_version": "1.5.0",
            "_view_name": "HBoxView",
            "box_style": "",
            "children": [
              "IPY_MODEL_c2fb1dfcae0c4725aab9c1404d301f85",
              "IPY_MODEL_7cddc3a6c714452f9ddfff24b096f49b",
              "IPY_MODEL_c67f42449aed44d0b0c743736cb9f387"
            ],
            "layout": "IPY_MODEL_7273d74e26fa4d41b027274946b4e5e8"
          }
        },
        "c2fb1dfcae0c4725aab9c1404d301f85": {
          "model_module": "@jupyter-widgets/controls",
          "model_name": "HTMLModel",
          "model_module_version": "1.5.0",
          "state": {
            "_dom_classes": [],
            "_model_module": "@jupyter-widgets/controls",
            "_model_module_version": "1.5.0",
            "_model_name": "HTMLModel",
            "_view_count": null,
            "_view_module": "@jupyter-widgets/controls",
            "_view_module_version": "1.5.0",
            "_view_name": "HTMLView",
            "description": "",
            "description_tooltip": null,
            "layout": "IPY_MODEL_27b06a878f0d4b768c319426cb98d2d6",
            "placeholder": "​",
            "style": "IPY_MODEL_bccb6f6a70ed4d398553d4b60a6cf535",
            "value": "Downloading extra modules: 100%"
          }
        },
        "7cddc3a6c714452f9ddfff24b096f49b": {
          "model_module": "@jupyter-widgets/controls",
          "model_name": "FloatProgressModel",
          "model_module_version": "1.5.0",
          "state": {
            "_dom_classes": [],
            "_model_module": "@jupyter-widgets/controls",
            "_model_module_version": "1.5.0",
            "_model_name": "FloatProgressModel",
            "_view_count": null,
            "_view_module": "@jupyter-widgets/controls",
            "_view_module_version": "1.5.0",
            "_view_name": "ProgressView",
            "bar_style": "success",
            "description": "",
            "description_tooltip": null,
            "layout": "IPY_MODEL_d0ce47bd44114df0bdb43635a4f13ca5",
            "max": 3344,
            "min": 0,
            "orientation": "horizontal",
            "style": "IPY_MODEL_9c0926666b854b67b414e6579559a60c",
            "value": 3344
          }
        },
        "c67f42449aed44d0b0c743736cb9f387": {
          "model_module": "@jupyter-widgets/controls",
          "model_name": "HTMLModel",
          "model_module_version": "1.5.0",
          "state": {
            "_dom_classes": [],
            "_model_module": "@jupyter-widgets/controls",
            "_model_module_version": "1.5.0",
            "_model_name": "HTMLModel",
            "_view_count": null,
            "_view_module": "@jupyter-widgets/controls",
            "_view_module_version": "1.5.0",
            "_view_name": "HTMLView",
            "description": "",
            "description_tooltip": null,
            "layout": "IPY_MODEL_f57b744bdd934a2489aba85572b61c9b",
            "placeholder": "​",
            "style": "IPY_MODEL_57a42bd86f5c4b44bccefcd6aea1a3ed",
            "value": " 3.34k/3.34k [00:00&lt;00:00, 139kB/s]"
          }
        },
        "7273d74e26fa4d41b027274946b4e5e8": {
          "model_module": "@jupyter-widgets/base",
          "model_name": "LayoutModel",
          "model_module_version": "1.2.0",
          "state": {
            "_model_module": "@jupyter-widgets/base",
            "_model_module_version": "1.2.0",
            "_model_name": "LayoutModel",
            "_view_count": null,
            "_view_module": "@jupyter-widgets/base",
            "_view_module_version": "1.2.0",
            "_view_name": "LayoutView",
            "align_content": null,
            "align_items": null,
            "align_self": null,
            "border": null,
            "bottom": null,
            "display": null,
            "flex": null,
            "flex_flow": null,
            "grid_area": null,
            "grid_auto_columns": null,
            "grid_auto_flow": null,
            "grid_auto_rows": null,
            "grid_column": null,
            "grid_gap": null,
            "grid_row": null,
            "grid_template_areas": null,
            "grid_template_columns": null,
            "grid_template_rows": null,
            "height": null,
            "justify_content": null,
            "justify_items": null,
            "left": null,
            "margin": null,
            "max_height": null,
            "max_width": null,
            "min_height": null,
            "min_width": null,
            "object_fit": null,
            "object_position": null,
            "order": null,
            "overflow": null,
            "overflow_x": null,
            "overflow_y": null,
            "padding": null,
            "right": null,
            "top": null,
            "visibility": null,
            "width": null
          }
        },
        "27b06a878f0d4b768c319426cb98d2d6": {
          "model_module": "@jupyter-widgets/base",
          "model_name": "LayoutModel",
          "model_module_version": "1.2.0",
          "state": {
            "_model_module": "@jupyter-widgets/base",
            "_model_module_version": "1.2.0",
            "_model_name": "LayoutModel",
            "_view_count": null,
            "_view_module": "@jupyter-widgets/base",
            "_view_module_version": "1.2.0",
            "_view_name": "LayoutView",
            "align_content": null,
            "align_items": null,
            "align_self": null,
            "border": null,
            "bottom": null,
            "display": null,
            "flex": null,
            "flex_flow": null,
            "grid_area": null,
            "grid_auto_columns": null,
            "grid_auto_flow": null,
            "grid_auto_rows": null,
            "grid_column": null,
            "grid_gap": null,
            "grid_row": null,
            "grid_template_areas": null,
            "grid_template_columns": null,
            "grid_template_rows": null,
            "height": null,
            "justify_content": null,
            "justify_items": null,
            "left": null,
            "margin": null,
            "max_height": null,
            "max_width": null,
            "min_height": null,
            "min_width": null,
            "object_fit": null,
            "object_position": null,
            "order": null,
            "overflow": null,
            "overflow_x": null,
            "overflow_y": null,
            "padding": null,
            "right": null,
            "top": null,
            "visibility": null,
            "width": null
          }
        },
        "bccb6f6a70ed4d398553d4b60a6cf535": {
          "model_module": "@jupyter-widgets/controls",
          "model_name": "DescriptionStyleModel",
          "model_module_version": "1.5.0",
          "state": {
            "_model_module": "@jupyter-widgets/controls",
            "_model_module_version": "1.5.0",
            "_model_name": "DescriptionStyleModel",
            "_view_count": null,
            "_view_module": "@jupyter-widgets/base",
            "_view_module_version": "1.2.0",
            "_view_name": "StyleView",
            "description_width": ""
          }
        },
        "d0ce47bd44114df0bdb43635a4f13ca5": {
          "model_module": "@jupyter-widgets/base",
          "model_name": "LayoutModel",
          "model_module_version": "1.2.0",
          "state": {
            "_model_module": "@jupyter-widgets/base",
            "_model_module_version": "1.2.0",
            "_model_name": "LayoutModel",
            "_view_count": null,
            "_view_module": "@jupyter-widgets/base",
            "_view_module_version": "1.2.0",
            "_view_name": "LayoutView",
            "align_content": null,
            "align_items": null,
            "align_self": null,
            "border": null,
            "bottom": null,
            "display": null,
            "flex": null,
            "flex_flow": null,
            "grid_area": null,
            "grid_auto_columns": null,
            "grid_auto_flow": null,
            "grid_auto_rows": null,
            "grid_column": null,
            "grid_gap": null,
            "grid_row": null,
            "grid_template_areas": null,
            "grid_template_columns": null,
            "grid_template_rows": null,
            "height": null,
            "justify_content": null,
            "justify_items": null,
            "left": null,
            "margin": null,
            "max_height": null,
            "max_width": null,
            "min_height": null,
            "min_width": null,
            "object_fit": null,
            "object_position": null,
            "order": null,
            "overflow": null,
            "overflow_x": null,
            "overflow_y": null,
            "padding": null,
            "right": null,
            "top": null,
            "visibility": null,
            "width": null
          }
        },
        "9c0926666b854b67b414e6579559a60c": {
          "model_module": "@jupyter-widgets/controls",
          "model_name": "ProgressStyleModel",
          "model_module_version": "1.5.0",
          "state": {
            "_model_module": "@jupyter-widgets/controls",
            "_model_module_version": "1.5.0",
            "_model_name": "ProgressStyleModel",
            "_view_count": null,
            "_view_module": "@jupyter-widgets/base",
            "_view_module_version": "1.2.0",
            "_view_name": "StyleView",
            "bar_color": null,
            "description_width": ""
          }
        },
        "f57b744bdd934a2489aba85572b61c9b": {
          "model_module": "@jupyter-widgets/base",
          "model_name": "LayoutModel",
          "model_module_version": "1.2.0",
          "state": {
            "_model_module": "@jupyter-widgets/base",
            "_model_module_version": "1.2.0",
            "_model_name": "LayoutModel",
            "_view_count": null,
            "_view_module": "@jupyter-widgets/base",
            "_view_module_version": "1.2.0",
            "_view_name": "LayoutView",
            "align_content": null,
            "align_items": null,
            "align_self": null,
            "border": null,
            "bottom": null,
            "display": null,
            "flex": null,
            "flex_flow": null,
            "grid_area": null,
            "grid_auto_columns": null,
            "grid_auto_flow": null,
            "grid_auto_rows": null,
            "grid_column": null,
            "grid_gap": null,
            "grid_row": null,
            "grid_template_areas": null,
            "grid_template_columns": null,
            "grid_template_rows": null,
            "height": null,
            "justify_content": null,
            "justify_items": null,
            "left": null,
            "margin": null,
            "max_height": null,
            "max_width": null,
            "min_height": null,
            "min_width": null,
            "object_fit": null,
            "object_position": null,
            "order": null,
            "overflow": null,
            "overflow_x": null,
            "overflow_y": null,
            "padding": null,
            "right": null,
            "top": null,
            "visibility": null,
            "width": null
          }
        },
        "57a42bd86f5c4b44bccefcd6aea1a3ed": {
          "model_module": "@jupyter-widgets/controls",
          "model_name": "DescriptionStyleModel",
          "model_module_version": "1.5.0",
          "state": {
            "_model_module": "@jupyter-widgets/controls",
            "_model_module_version": "1.5.0",
            "_model_name": "DescriptionStyleModel",
            "_view_count": null,
            "_view_module": "@jupyter-widgets/base",
            "_view_module_version": "1.2.0",
            "_view_name": "StyleView",
            "description_width": ""
          }
        }
      }
    }
  },
  "cells": [
    {
      "cell_type": "code",
      "execution_count": null,
      "metadata": {
        "id": "gPJFQAwUvs7R"
      },
      "outputs": [],
      "source": [
        "!pip install transformers\n",
        "!pip install evaluate\n",
        "!pip install sentencepiece"
      ]
    },
    {
      "cell_type": "code",
      "source": [
        "import pandas as pd\n",
        "import torch\n",
        "from tqdm import tqdm\n",
        "import torch.nn as nn\n",
        "from torch.optim import Adam\n",
        "from torch.utils.data import Dataset, DataLoader, RandomSampler\n",
        "from transformers import T5Model, T5ForConditionalGeneration, T5TokenizerFast\n",
        "from sklearn.model_selection import train_test_split\n",
        "import warnings\n",
        "warnings.filterwarnings(\"ignore\")\n",
        "\n",
        "import locale\n",
        "locale.getpreferredencoding = lambda: \"UTF-8\"\n",
        "!pip install rouge-score\n",
        "from rouge_score import rouge_scorer"
      ],
      "metadata": {
        "colab": {
          "base_uri": "https://localhost:8080/"
        },
        "id": "-aY4l0upv66N",
        "outputId": "c0e57ec4-8ce3-4763-f4c1-ffda8c72c4a9"
      },
      "execution_count": 2,
      "outputs": [
        {
          "output_type": "stream",
          "name": "stdout",
          "text": [
            "Collecting rouge-score\n",
            "  Downloading rouge_score-0.1.2.tar.gz (17 kB)\n",
            "  Preparing metadata (setup.py) ... \u001b[?25l\u001b[?25hdone\n",
            "Requirement already satisfied: absl-py in /usr/local/lib/python3.10/dist-packages (from rouge-score) (1.4.0)\n",
            "Requirement already satisfied: nltk in /usr/local/lib/python3.10/dist-packages (from rouge-score) (3.8.1)\n",
            "Requirement already satisfied: numpy in /usr/local/lib/python3.10/dist-packages (from rouge-score) (1.23.5)\n",
            "Requirement already satisfied: six>=1.14.0 in /usr/local/lib/python3.10/dist-packages (from rouge-score) (1.16.0)\n",
            "Requirement already satisfied: click in /usr/local/lib/python3.10/dist-packages (from nltk->rouge-score) (8.1.7)\n",
            "Requirement already satisfied: joblib in /usr/local/lib/python3.10/dist-packages (from nltk->rouge-score) (1.3.2)\n",
            "Requirement already satisfied: regex>=2021.8.3 in /usr/local/lib/python3.10/dist-packages (from nltk->rouge-score) (2023.6.3)\n",
            "Requirement already satisfied: tqdm in /usr/local/lib/python3.10/dist-packages (from nltk->rouge-score) (4.66.1)\n",
            "Building wheels for collected packages: rouge-score\n",
            "  Building wheel for rouge-score (setup.py) ... \u001b[?25l\u001b[?25hdone\n",
            "  Created wheel for rouge-score: filename=rouge_score-0.1.2-py3-none-any.whl size=24933 sha256=07c4a4e77fc31ce8c3f0bcc13710aee97217a057a164836705f917d0b730fb6c\n",
            "  Stored in directory: /root/.cache/pip/wheels/5f/dd/89/461065a73be61a532ff8599a28e9beef17985c9e9c31e541b4\n",
            "Successfully built rouge-score\n",
            "Installing collected packages: rouge-score\n",
            "Successfully installed rouge-score-0.1.2\n"
          ]
        }
      ]
    },
    {
      "cell_type": "code",
      "source": [
        "from google.colab import drive\n",
        "drive.mount('/content/drive')"
      ],
      "metadata": {
        "colab": {
          "base_uri": "https://localhost:8080/"
        },
        "id": "eF07lue_wClC",
        "outputId": "0ccf8e36-12f4-47b0-c9f6-5d3f3d4dd503"
      },
      "execution_count": 3,
      "outputs": [
        {
          "output_type": "stream",
          "name": "stdout",
          "text": [
            "Mounted at /content/drive\n"
          ]
        }
      ]
    },
    {
      "cell_type": "markdown",
      "source": [
        "### Import custom module"
      ],
      "metadata": {
        "id": "DmrJXKTjwSxb"
      }
    },
    {
      "cell_type": "code",
      "source": [
        "%cd /content/drive/MyDrive/ITMO/T5QA/src\n",
        "%ls"
      ],
      "metadata": {
        "colab": {
          "base_uri": "https://localhost:8080/"
        },
        "id": "s3gzpzlLwKjk",
        "outputId": "f16df666-304b-491d-c6d1-5f8e1646c575"
      },
      "execution_count": 4,
      "outputs": [
        {
          "output_type": "stream",
          "name": "stdout",
          "text": [
            "/content/drive/MyDrive/ITMO/T5QA/src\n",
            "medqadataset.py  \u001b[0m\u001b[01;34m__pycache__\u001b[0m/  trainer.py\n"
          ]
        }
      ]
    },
    {
      "cell_type": "code",
      "source": [
        "from medqadataset import MedQADataset\n",
        "import trainer"
      ],
      "metadata": {
        "id": "32GPJPFrwX6b"
      },
      "execution_count": 5,
      "outputs": []
    },
    {
      "cell_type": "code",
      "source": [
        "# For debugging\n",
        "import importlib\n",
        "importlib.reload(trainer)"
      ],
      "metadata": {
        "colab": {
          "base_uri": "https://localhost:8080/"
        },
        "id": "GaUzV2I9yXps",
        "outputId": "988a83be-284e-4f7d-c7f2-60eb64e64c28"
      },
      "execution_count": 6,
      "outputs": [
        {
          "output_type": "execute_result",
          "data": {
            "text/plain": [
              "<module 'trainer' from '/content/drive/MyDrive/ITMO/T5QA/src/trainer.py'>"
            ]
          },
          "metadata": {},
          "execution_count": 6
        }
      ]
    },
    {
      "cell_type": "code",
      "source": [
        "#MODEL_NAME = \"cointegrated/rut5-base\"    # pre-trained model (first iteration)\n",
        "MODEL_NAME = \"/content/drive/MyDrive/ITMO/T5QA/checkpoints/best_model/MedQAModel_aug_ans2\"\n",
        "TOKENIZER = T5TokenizerFast.from_pretrained(MODEL_NAME, local_files_only=True)\n",
        "#TOKENIZER = T5TokenizerFast.from_pretrained(MODEL_NAME)\n",
        "# Set up the T5 model\n",
        "MODEL = T5ForConditionalGeneration.from_pretrained(MODEL_NAME, return_dict=True)\n",
        "# Set up the optimizer\n",
        "OPTIMIZER = Adam(MODEL.parameters(), lr=0.0001)\n",
        "Q_LEN = 512    # Question Length\n",
        "T_LEN = 128    # Target Length\n",
        "BATCH_SIZE = 4\n",
        "DEVICE = 'cuda' if torch.cuda.is_available() else 'cpu'"
      ],
      "metadata": {
        "id": "3dbmxiAYwaAY"
      },
      "execution_count": 6,
      "outputs": []
    },
    {
      "cell_type": "code",
      "source": [
        "DEVICE"
      ],
      "metadata": {
        "colab": {
          "base_uri": "https://localhost:8080/",
          "height": 35
        },
        "id": "_urV2Yb2wcgr",
        "outputId": "44c67b6b-fe16-4821-cc2d-8ab4c8d25fec"
      },
      "execution_count": 8,
      "outputs": [
        {
          "output_type": "execute_result",
          "data": {
            "text/plain": [
              "'cuda'"
            ],
            "application/vnd.google.colaboratory.intrinsic+json": {
              "type": "string"
            }
          },
          "metadata": {},
          "execution_count": 8
        }
      ]
    },
    {
      "cell_type": "markdown",
      "source": [
        "### Read Data"
      ],
      "metadata": {
        "id": "l4bCRR_dwhVg"
      }
    },
    {
      "cell_type": "code",
      "source": [
        "PATH = '/content/drive/MyDrive/ITMO/T5QA'\n",
        "\n",
        "data = pd.read_csv(PATH + '/data/MedQuAD_answers_augmented_concat.csv', index_col=0)\n",
        "data.index = [i for i in range(len(data))]\n",
        "\n",
        "data"
      ],
      "metadata": {
        "colab": {
          "base_uri": "https://localhost:8080/",
          "height": 424
        },
        "id": "DaF73c8RwfL8",
        "outputId": "f76a2f45-7245-4e47-c6a4-4928b9004ccb"
      },
      "execution_count": 9,
      "outputs": [
        {
          "output_type": "execute_result",
          "data": {
            "text/plain": [
              "                                               question  \\\n",
              "0          что такое кератодермия с пушистыми волосами?   \n",
              "1     сколько людей с шерстяными волосами страдают к...   \n",
              "2     каковы генетические изменения, связанные с кер...   \n",
              "3      передается ли кератодермия с пушистыми волосами?   \n",
              "4                           что такое синдром кноблоха?   \n",
              "...                                                 ...   \n",
              "1317  какие генетические изменения связаны с атаксие...   \n",
              "1318          что такое являются редкими заболеваниями?   \n",
              "1319    что такое являются гранулематоз с полиангиитом?   \n",
              "1320                      что такое мальформация киари?   \n",
              "1321                 что такое являются кисты яичников?   \n",
              "\n",
              "                                                context  \\\n",
              "0      кератодермия с пушистыми волосами представляе...   \n",
              "1      кератодермия с пушистыми волосами представляе...   \n",
              "2      кератодермия с пушистыми волосами представляе...   \n",
              "3      кератодермия с пушистыми волосами представляе...   \n",
              "4      синдром кноблоха редкое заболевание, характер...   \n",
              "...                                                 ...   \n",
              "1317   атаксия фридрейха это генетическое заболевани...   \n",
              "1318   редкое заболевание это заболевание, которым с...   \n",
              "1319   гранулематоз с полиангиитом гпа, ранее извест...   \n",
              "1320   мальформации киари мк представляют собой стру...   \n",
              "1321   яичники являются частью женской репродуктивно...   \n",
              "\n",
              "                                                 answer  \n",
              "0     кератодермия с пушистыми волосами представляет...  \n",
              "1     кератодермия с пушистыми волосами встречается ...  \n",
              "2     мутации в генах jup, dsp, dsc2 и kank2 вызываю...  \n",
              "3     большинство случаев кератодермии с курчавыми в...  \n",
              "4     синдром кноблоха редкое заболевание, характери...  \n",
              "...                                                 ...  \n",
              "1317   мутации в гене fxn вызывают атаксию фридрейха...  \n",
              "1318  более 25 миллионов американцев имеют один. сущ...  \n",
              "1319   гранулематоз вегенера редкое заболевание. вос...  \n",
              "1320   км это структурные дефекты мозжечка. часть че...  \n",
              "1321  киста это заполненный жидкостью мешок на яични...  \n",
              "\n",
              "[1322 rows x 3 columns]"
            ],
            "text/html": [
              "\n",
              "  <div id=\"df-3f6100ed-248e-47b6-91ea-9fa40e854a7b\" class=\"colab-df-container\">\n",
              "    <div>\n",
              "<style scoped>\n",
              "    .dataframe tbody tr th:only-of-type {\n",
              "        vertical-align: middle;\n",
              "    }\n",
              "\n",
              "    .dataframe tbody tr th {\n",
              "        vertical-align: top;\n",
              "    }\n",
              "\n",
              "    .dataframe thead th {\n",
              "        text-align: right;\n",
              "    }\n",
              "</style>\n",
              "<table border=\"1\" class=\"dataframe\">\n",
              "  <thead>\n",
              "    <tr style=\"text-align: right;\">\n",
              "      <th></th>\n",
              "      <th>question</th>\n",
              "      <th>context</th>\n",
              "      <th>answer</th>\n",
              "    </tr>\n",
              "  </thead>\n",
              "  <tbody>\n",
              "    <tr>\n",
              "      <th>0</th>\n",
              "      <td>что такое кератодермия с пушистыми волосами?</td>\n",
              "      <td>кератодермия с пушистыми волосами представляе...</td>\n",
              "      <td>кератодермия с пушистыми волосами представляет...</td>\n",
              "    </tr>\n",
              "    <tr>\n",
              "      <th>1</th>\n",
              "      <td>сколько людей с шерстяными волосами страдают к...</td>\n",
              "      <td>кератодермия с пушистыми волосами представляе...</td>\n",
              "      <td>кератодермия с пушистыми волосами встречается ...</td>\n",
              "    </tr>\n",
              "    <tr>\n",
              "      <th>2</th>\n",
              "      <td>каковы генетические изменения, связанные с кер...</td>\n",
              "      <td>кератодермия с пушистыми волосами представляе...</td>\n",
              "      <td>мутации в генах jup, dsp, dsc2 и kank2 вызываю...</td>\n",
              "    </tr>\n",
              "    <tr>\n",
              "      <th>3</th>\n",
              "      <td>передается ли кератодермия с пушистыми волосами?</td>\n",
              "      <td>кератодермия с пушистыми волосами представляе...</td>\n",
              "      <td>большинство случаев кератодермии с курчавыми в...</td>\n",
              "    </tr>\n",
              "    <tr>\n",
              "      <th>4</th>\n",
              "      <td>что такое синдром кноблоха?</td>\n",
              "      <td>синдром кноблоха редкое заболевание, характер...</td>\n",
              "      <td>синдром кноблоха редкое заболевание, характери...</td>\n",
              "    </tr>\n",
              "    <tr>\n",
              "      <th>...</th>\n",
              "      <td>...</td>\n",
              "      <td>...</td>\n",
              "      <td>...</td>\n",
              "    </tr>\n",
              "    <tr>\n",
              "      <th>1317</th>\n",
              "      <td>какие генетические изменения связаны с атаксие...</td>\n",
              "      <td>атаксия фридрейха это генетическое заболевани...</td>\n",
              "      <td>мутации в гене fxn вызывают атаксию фридрейха...</td>\n",
              "    </tr>\n",
              "    <tr>\n",
              "      <th>1318</th>\n",
              "      <td>что такое являются редкими заболеваниями?</td>\n",
              "      <td>редкое заболевание это заболевание, которым с...</td>\n",
              "      <td>более 25 миллионов американцев имеют один. сущ...</td>\n",
              "    </tr>\n",
              "    <tr>\n",
              "      <th>1319</th>\n",
              "      <td>что такое являются гранулематоз с полиангиитом?</td>\n",
              "      <td>гранулематоз с полиангиитом гпа, ранее извест...</td>\n",
              "      <td>гранулематоз вегенера редкое заболевание. вос...</td>\n",
              "    </tr>\n",
              "    <tr>\n",
              "      <th>1320</th>\n",
              "      <td>что такое мальформация киари?</td>\n",
              "      <td>мальформации киари мк представляют собой стру...</td>\n",
              "      <td>км это структурные дефекты мозжечка. часть че...</td>\n",
              "    </tr>\n",
              "    <tr>\n",
              "      <th>1321</th>\n",
              "      <td>что такое являются кисты яичников?</td>\n",
              "      <td>яичники являются частью женской репродуктивно...</td>\n",
              "      <td>киста это заполненный жидкостью мешок на яични...</td>\n",
              "    </tr>\n",
              "  </tbody>\n",
              "</table>\n",
              "<p>1322 rows × 3 columns</p>\n",
              "</div>\n",
              "    <div class=\"colab-df-buttons\">\n",
              "\n",
              "  <div class=\"colab-df-container\">\n",
              "    <button class=\"colab-df-convert\" onclick=\"convertToInteractive('df-3f6100ed-248e-47b6-91ea-9fa40e854a7b')\"\n",
              "            title=\"Convert this dataframe to an interactive table.\"\n",
              "            style=\"display:none;\">\n",
              "\n",
              "  <svg xmlns=\"http://www.w3.org/2000/svg\" height=\"24px\" viewBox=\"0 -960 960 960\">\n",
              "    <path d=\"M120-120v-720h720v720H120Zm60-500h600v-160H180v160Zm220 220h160v-160H400v160Zm0 220h160v-160H400v160ZM180-400h160v-160H180v160Zm440 0h160v-160H620v160ZM180-180h160v-160H180v160Zm440 0h160v-160H620v160Z\"/>\n",
              "  </svg>\n",
              "    </button>\n",
              "\n",
              "  <style>\n",
              "    .colab-df-container {\n",
              "      display:flex;\n",
              "      gap: 12px;\n",
              "    }\n",
              "\n",
              "    .colab-df-convert {\n",
              "      background-color: #E8F0FE;\n",
              "      border: none;\n",
              "      border-radius: 50%;\n",
              "      cursor: pointer;\n",
              "      display: none;\n",
              "      fill: #1967D2;\n",
              "      height: 32px;\n",
              "      padding: 0 0 0 0;\n",
              "      width: 32px;\n",
              "    }\n",
              "\n",
              "    .colab-df-convert:hover {\n",
              "      background-color: #E2EBFA;\n",
              "      box-shadow: 0px 1px 2px rgba(60, 64, 67, 0.3), 0px 1px 3px 1px rgba(60, 64, 67, 0.15);\n",
              "      fill: #174EA6;\n",
              "    }\n",
              "\n",
              "    .colab-df-buttons div {\n",
              "      margin-bottom: 4px;\n",
              "    }\n",
              "\n",
              "    [theme=dark] .colab-df-convert {\n",
              "      background-color: #3B4455;\n",
              "      fill: #D2E3FC;\n",
              "    }\n",
              "\n",
              "    [theme=dark] .colab-df-convert:hover {\n",
              "      background-color: #434B5C;\n",
              "      box-shadow: 0px 1px 3px 1px rgba(0, 0, 0, 0.15);\n",
              "      filter: drop-shadow(0px 1px 2px rgba(0, 0, 0, 0.3));\n",
              "      fill: #FFFFFF;\n",
              "    }\n",
              "  </style>\n",
              "\n",
              "    <script>\n",
              "      const buttonEl =\n",
              "        document.querySelector('#df-3f6100ed-248e-47b6-91ea-9fa40e854a7b button.colab-df-convert');\n",
              "      buttonEl.style.display =\n",
              "        google.colab.kernel.accessAllowed ? 'block' : 'none';\n",
              "\n",
              "      async function convertToInteractive(key) {\n",
              "        const element = document.querySelector('#df-3f6100ed-248e-47b6-91ea-9fa40e854a7b');\n",
              "        const dataTable =\n",
              "          await google.colab.kernel.invokeFunction('convertToInteractive',\n",
              "                                                    [key], {});\n",
              "        if (!dataTable) return;\n",
              "\n",
              "        const docLinkHtml = 'Like what you see? Visit the ' +\n",
              "          '<a target=\"_blank\" href=https://colab.research.google.com/notebooks/data_table.ipynb>data table notebook</a>'\n",
              "          + ' to learn more about interactive tables.';\n",
              "        element.innerHTML = '';\n",
              "        dataTable['output_type'] = 'display_data';\n",
              "        await google.colab.output.renderOutput(dataTable, element);\n",
              "        const docLink = document.createElement('div');\n",
              "        docLink.innerHTML = docLinkHtml;\n",
              "        element.appendChild(docLink);\n",
              "      }\n",
              "    </script>\n",
              "  </div>\n",
              "\n",
              "\n",
              "<div id=\"df-533d48da-c26c-4c6a-8bdc-cb44cdd1e8e9\">\n",
              "  <button class=\"colab-df-quickchart\" onclick=\"quickchart('df-533d48da-c26c-4c6a-8bdc-cb44cdd1e8e9')\"\n",
              "            title=\"Suggest charts\"\n",
              "            style=\"display:none;\">\n",
              "\n",
              "<svg xmlns=\"http://www.w3.org/2000/svg\" height=\"24px\"viewBox=\"0 0 24 24\"\n",
              "     width=\"24px\">\n",
              "    <g>\n",
              "        <path d=\"M19 3H5c-1.1 0-2 .9-2 2v14c0 1.1.9 2 2 2h14c1.1 0 2-.9 2-2V5c0-1.1-.9-2-2-2zM9 17H7v-7h2v7zm4 0h-2V7h2v10zm4 0h-2v-4h2v4z\"/>\n",
              "    </g>\n",
              "</svg>\n",
              "  </button>\n",
              "\n",
              "<style>\n",
              "  .colab-df-quickchart {\n",
              "      --bg-color: #E8F0FE;\n",
              "      --fill-color: #1967D2;\n",
              "      --hover-bg-color: #E2EBFA;\n",
              "      --hover-fill-color: #174EA6;\n",
              "      --disabled-fill-color: #AAA;\n",
              "      --disabled-bg-color: #DDD;\n",
              "  }\n",
              "\n",
              "  [theme=dark] .colab-df-quickchart {\n",
              "      --bg-color: #3B4455;\n",
              "      --fill-color: #D2E3FC;\n",
              "      --hover-bg-color: #434B5C;\n",
              "      --hover-fill-color: #FFFFFF;\n",
              "      --disabled-bg-color: #3B4455;\n",
              "      --disabled-fill-color: #666;\n",
              "  }\n",
              "\n",
              "  .colab-df-quickchart {\n",
              "    background-color: var(--bg-color);\n",
              "    border: none;\n",
              "    border-radius: 50%;\n",
              "    cursor: pointer;\n",
              "    display: none;\n",
              "    fill: var(--fill-color);\n",
              "    height: 32px;\n",
              "    padding: 0;\n",
              "    width: 32px;\n",
              "  }\n",
              "\n",
              "  .colab-df-quickchart:hover {\n",
              "    background-color: var(--hover-bg-color);\n",
              "    box-shadow: 0 1px 2px rgba(60, 64, 67, 0.3), 0 1px 3px 1px rgba(60, 64, 67, 0.15);\n",
              "    fill: var(--button-hover-fill-color);\n",
              "  }\n",
              "\n",
              "  .colab-df-quickchart-complete:disabled,\n",
              "  .colab-df-quickchart-complete:disabled:hover {\n",
              "    background-color: var(--disabled-bg-color);\n",
              "    fill: var(--disabled-fill-color);\n",
              "    box-shadow: none;\n",
              "  }\n",
              "\n",
              "  .colab-df-spinner {\n",
              "    border: 2px solid var(--fill-color);\n",
              "    border-color: transparent;\n",
              "    border-bottom-color: var(--fill-color);\n",
              "    animation:\n",
              "      spin 1s steps(1) infinite;\n",
              "  }\n",
              "\n",
              "  @keyframes spin {\n",
              "    0% {\n",
              "      border-color: transparent;\n",
              "      border-bottom-color: var(--fill-color);\n",
              "      border-left-color: var(--fill-color);\n",
              "    }\n",
              "    20% {\n",
              "      border-color: transparent;\n",
              "      border-left-color: var(--fill-color);\n",
              "      border-top-color: var(--fill-color);\n",
              "    }\n",
              "    30% {\n",
              "      border-color: transparent;\n",
              "      border-left-color: var(--fill-color);\n",
              "      border-top-color: var(--fill-color);\n",
              "      border-right-color: var(--fill-color);\n",
              "    }\n",
              "    40% {\n",
              "      border-color: transparent;\n",
              "      border-right-color: var(--fill-color);\n",
              "      border-top-color: var(--fill-color);\n",
              "    }\n",
              "    60% {\n",
              "      border-color: transparent;\n",
              "      border-right-color: var(--fill-color);\n",
              "    }\n",
              "    80% {\n",
              "      border-color: transparent;\n",
              "      border-right-color: var(--fill-color);\n",
              "      border-bottom-color: var(--fill-color);\n",
              "    }\n",
              "    90% {\n",
              "      border-color: transparent;\n",
              "      border-bottom-color: var(--fill-color);\n",
              "    }\n",
              "  }\n",
              "</style>\n",
              "\n",
              "  <script>\n",
              "    async function quickchart(key) {\n",
              "      const quickchartButtonEl =\n",
              "        document.querySelector('#' + key + ' button');\n",
              "      quickchartButtonEl.disabled = true;  // To prevent multiple clicks.\n",
              "      quickchartButtonEl.classList.add('colab-df-spinner');\n",
              "      try {\n",
              "        const charts = await google.colab.kernel.invokeFunction(\n",
              "            'suggestCharts', [key], {});\n",
              "      } catch (error) {\n",
              "        console.error('Error during call to suggestCharts:', error);\n",
              "      }\n",
              "      quickchartButtonEl.classList.remove('colab-df-spinner');\n",
              "      quickchartButtonEl.classList.add('colab-df-quickchart-complete');\n",
              "    }\n",
              "    (() => {\n",
              "      let quickchartButtonEl =\n",
              "        document.querySelector('#df-533d48da-c26c-4c6a-8bdc-cb44cdd1e8e9 button');\n",
              "      quickchartButtonEl.style.display =\n",
              "        google.colab.kernel.accessAllowed ? 'block' : 'none';\n",
              "    })();\n",
              "  </script>\n",
              "</div>\n",
              "    </div>\n",
              "  </div>\n"
            ]
          },
          "metadata": {},
          "execution_count": 9
        }
      ]
    },
    {
      "cell_type": "markdown",
      "source": [
        "### Example"
      ],
      "metadata": {
        "id": "arCfQwdVxBdS"
      }
    },
    {
      "cell_type": "code",
      "source": [
        "sample = data.iloc[2]\n",
        "encoding = TOKENIZER(\n",
        "    sample[\"question\"],\n",
        "    sample[\"context\"],\n",
        "    max_length=512,\n",
        "    padding=\"max_length\",\n",
        "    truncation=\"only_second\",\n",
        "    return_attention_mask=True,\n",
        "    add_special_tokens=True,\n",
        "    return_tensors='pt'\n",
        ")\n",
        "\n",
        "answer_encoding = TOKENIZER(\n",
        "    sample[\"answer\"],\n",
        "    max_length=128,\n",
        "    padding=\"max_length\",\n",
        "    truncation=True,\n",
        "    return_attention_mask=True,\n",
        "    add_special_tokens=True,\n",
        "    return_tensors=\"pt\"\n",
        ")\n",
        "\n",
        "labels = answer_encoding[\"input_ids\"]\n",
        "\n",
        "output = MODEL(\n",
        "    input_ids=encoding[\"input_ids\"],\n",
        "    attention_mask=encoding[\"attention_mask\"],\n",
        "    labels=labels\n",
        ")"
      ],
      "metadata": {
        "id": "AYp2BXE4wmTv"
      },
      "execution_count": 10,
      "outputs": []
    },
    {
      "cell_type": "code",
      "source": [
        "output.loss"
      ],
      "metadata": {
        "colab": {
          "base_uri": "https://localhost:8080/"
        },
        "id": "TFdJLYOdxFx4",
        "outputId": "3885e893-aafe-41fe-b495-ac58ec59b217"
      },
      "execution_count": 11,
      "outputs": [
        {
          "output_type": "execute_result",
          "data": {
            "text/plain": [
              "tensor(0.6124, grad_fn=<NllLossBackward0>)"
            ]
          },
          "metadata": {},
          "execution_count": 11
        }
      ]
    },
    {
      "cell_type": "code",
      "source": [
        "sample_q = data.iloc[2][\"question\"]\n",
        "sample_a = data.iloc[2][\"answer\"]\n",
        "\n",
        "sample_encoding = TOKENIZER(sample_q, sample_a)"
      ],
      "metadata": {
        "id": "Low3aUE1xQGt"
      },
      "execution_count": 12,
      "outputs": []
    },
    {
      "cell_type": "code",
      "source": [
        "sample_encoding.keys()"
      ],
      "metadata": {
        "colab": {
          "base_uri": "https://localhost:8080/"
        },
        "id": "t2Ohqv2VxI-G",
        "outputId": "63a877c0-f5d4-4b91-b048-c1040bb29199"
      },
      "execution_count": 13,
      "outputs": [
        {
          "output_type": "execute_result",
          "data": {
            "text/plain": [
              "dict_keys(['input_ids', 'attention_mask'])"
            ]
          },
          "metadata": {},
          "execution_count": 13
        }
      ]
    },
    {
      "cell_type": "code",
      "source": [
        "preds = [\n",
        "    TOKENIZER.decode(input_id, skip_special_tokens=True, clean_up_tokenization_spaces=True)\n",
        "    for input_id in sample_encoding[\"input_ids\"]\n",
        "]"
      ],
      "metadata": {
        "id": "Qh6Sn07FxM1p"
      },
      "execution_count": 14,
      "outputs": []
    },
    {
      "cell_type": "code",
      "source": [
        "\" \".join(preds)"
      ],
      "metadata": {
        "colab": {
          "base_uri": "https://localhost:8080/",
          "height": 104
        },
        "id": "vEXvOR_UxVyH",
        "outputId": "fd927f05-302a-47bd-8ea7-413ab0090fc8"
      },
      "execution_count": 15,
      "outputs": [
        {
          "output_type": "execute_result",
          "data": {
            "text/plain": [
              "'как овы гене тические измен ения , связ анные с  кера то дерм ией с пуш исты ми волос ами ?  му тации в  ген ах ju p , d s p , d s c 2  и kan k 2 выз ывают  кера то дерм ию с шер стис тыми тип ами волос от  i до  i v со ответственно .  ген ы ju p , d s p  и d s c 2 предостав ляют инструкци и по созда нию компонент ов  специализ ированных клет очных структур , называ емых дес м осом ами . дес м осом ы  расположен ы в  м ембран е , окруж ающей определен ные клет ки , в том  числе клет ки кож и  и  сердеч ной мыш цы . дес м осом ы помог ают при креп лять клет ки друг к друг у , что обеспеч ивает про чность  и стабил ьность ткан ей .  они так же игра ют  роль в  передач е сигнал ов между клет ками . му тации  ген ов ju p , d s p или d s c 2 измен яют структур у  и наруш ают функци ю дес м осом .  аном альные или от сутств ующие дес м осом ы пре пят ствуют эффектив ному с лип анию клет ок друг с друг ом , что ,  вероятно , дела ет волос ы , кож у  и  сердеч ную мыш цу  более  х руп кими . со времен ем ,  когда эти ткан и под верг аются  механическ им воз действия м  например , тр ению  о поверхност ь кож и или  постоянн ому со кращ ению  и рас слаб лению  сердеч ной мыш цы ,  они пов режда ются  и перест ают  нормально функцион ировать . это т механизм ,  вероятно ,  лежи т в основ е проблем с кож ей , волос ами  и серд цем , в озник ающих при  кера то дерм ии с пуш исты ми волос ами . не которые исследовани я показ ывают , что  аном альная  передач а сигнал ов клет ками так же  может способ ствовать кардио ми опати и у люд ей с это й групп ой заболевани й . в от личие от други х  ген ов , связ анных с  кера то дерм ией с пуш исты ми волос ами ,  ген kan k 2 обеспеч ивает инструкци и по созда нию бел ка , котор ый не  я вляется част ью дес м осом . в место это го он регул ирует други е бел ки , называ емые ко актив аторами  стероид ных рецепт оров  s r c , функция котор ых заключ ается в том , что бы помо чь включ ить актив ировать определен ные  ген ы .  s r c игра ют важн ую  роль в ткан ях в сего организм а , включ ая кож у . исследовани я показ ывают , что му тации в гене kan k 2 наруш ают регуля цию  s r c , что при водит к  аном альной активност и  ген ов .  о днако не ясно , как эти измен ения  лежа т в основ е  аном алий кож и  и волос при  кера то дерм ии с шер сти стым тип ом волос  i v . '"
            ],
            "application/vnd.google.colaboratory.intrinsic+json": {
              "type": "string"
            }
          },
          "metadata": {},
          "execution_count": 15
        }
      ]
    },
    {
      "cell_type": "markdown",
      "source": [
        "### Dataloaders"
      ],
      "metadata": {
        "id": "vXkQAieXxq1D"
      }
    },
    {
      "cell_type": "code",
      "source": [
        "train_data, test_data = train_test_split(data, test_size=0.02, random_state=42)\n",
        "train_data, val_data = train_test_split(train_data, test_size=0.2, random_state=42)\n",
        "\n",
        "print(f\"Train shape: {train_data.shape}\")\n",
        "print(f\"Validation shape: {val_data.shape}\")\n",
        "print(f\"Test shape: {test_data.shape}\")\n",
        "\n",
        "train_sampler = RandomSampler(train_data.index)\n",
        "val_sampler = RandomSampler(val_data.index)\n",
        "\n",
        "qa_dataset = MedQADataset(TOKENIZER, data, Q_LEN, T_LEN)\n",
        "\n",
        "train_loader = DataLoader(qa_dataset, batch_size=BATCH_SIZE, sampler=train_sampler)\n",
        "val_loader = DataLoader(qa_dataset, batch_size=BATCH_SIZE, sampler=val_sampler)\n",
        "\n",
        "scheduler = torch.optim.lr_scheduler.ReduceLROnPlateau(OPTIMIZER, patience=5, verbose=True)"
      ],
      "metadata": {
        "colab": {
          "base_uri": "https://localhost:8080/"
        },
        "id": "nPo6aqwWxYwf",
        "outputId": "997bed97-c939-46db-b4d9-ccf68312ea9c"
      },
      "execution_count": 10,
      "outputs": [
        {
          "output_type": "stream",
          "name": "stdout",
          "text": [
            "Train shape: (1036, 3)\n",
            "Validation shape: (259, 3)\n",
            "Test shape: (27, 3)\n"
          ]
        }
      ]
    },
    {
      "cell_type": "markdown",
      "source": [
        "### Train and validation loop"
      ],
      "metadata": {
        "id": "BlnKLIQ4x0UX"
      }
    },
    {
      "cell_type": "code",
      "source": [
        "N_EPOCHS = 100\n",
        "STATE_DICT_PATH = '/content/drive/MyDrive/ITMO/T5QA/checkpoints/best_model/MedQAModel_aug_ans2'\n",
        "\n",
        "trainer_module = trainer.Trainer(\n",
        "    MODEL,\n",
        "    N_EPOCHS,\n",
        "    STATE_DICT_PATH,\n",
        "    train_loader,\n",
        "    val_loader,\n",
        "    OPTIMIZER,\n",
        "    DEVICE,\n",
        "    TOKENIZER,\n",
        "    Q_LEN,\n",
        "    T_LEN,\n",
        "    scheduler\n",
        ")"
      ],
      "metadata": {
        "id": "N8h6wrhPxulI"
      },
      "execution_count": 11,
      "outputs": []
    },
    {
      "cell_type": "code",
      "source": [
        "trainer_module.fit()"
      ],
      "metadata": {
        "colab": {
          "base_uri": "https://localhost:8080/"
        },
        "id": "H0KY-Fgex344",
        "outputId": "434bf26b-8fad-4ba8-e4e9-0d4045cb81a2"
      },
      "execution_count": 19,
      "outputs": [
        {
          "output_type": "stream",
          "name": "stderr",
          "text": [
            "Training batches: 100%|██████████| 259/259 [03:09<00:00,  1.37it/s]\n",
            "Validation batches: 100%|██████████| 65/65 [00:17<00:00,  3.70it/s]\n"
          ]
        },
        {
          "output_type": "stream",
          "name": "stdout",
          "text": [
            "Epoch: 0\t\tTrain loss: 0.2024981445025178\t\tValidation loss: 0.030454317796885823\n"
          ]
        },
        {
          "output_type": "stream",
          "name": "stderr",
          "text": [
            "Training batches: 100%|██████████| 259/259 [03:10<00:00,  1.36it/s]\n",
            "Validation batches: 100%|██████████| 65/65 [00:16<00:00,  3.92it/s]\n"
          ]
        },
        {
          "output_type": "stream",
          "name": "stdout",
          "text": [
            "Epoch: 1\t\tTrain loss: 0.1852891953611696\t\tValidation loss: 0.028455495902408773\n"
          ]
        },
        {
          "output_type": "stream",
          "name": "stderr",
          "text": [
            "Training batches: 100%|██████████| 259/259 [03:10<00:00,  1.36it/s]\n",
            "Validation batches: 100%|██████████| 65/65 [00:16<00:00,  3.91it/s]\n"
          ]
        },
        {
          "output_type": "stream",
          "name": "stdout",
          "text": [
            "Epoch: 2\t\tTrain loss: 0.17757154025252492\t\tValidation loss: 0.024573275848076892\n"
          ]
        },
        {
          "output_type": "stream",
          "name": "stderr",
          "text": [
            "Training batches: 100%|██████████| 259/259 [03:10<00:00,  1.36it/s]\n",
            "Validation batches: 100%|██████████| 65/65 [00:16<00:00,  3.92it/s]\n"
          ]
        },
        {
          "output_type": "stream",
          "name": "stdout",
          "text": [
            "Epoch: 3\t\tTrain loss: 0.16825514243606435\t\tValidation loss: 0.017657398597265665\n"
          ]
        },
        {
          "output_type": "stream",
          "name": "stderr",
          "text": [
            "Training batches: 100%|██████████| 259/259 [03:10<00:00,  1.36it/s]\n",
            "Validation batches: 100%|██████████| 65/65 [00:16<00:00,  3.91it/s]\n"
          ]
        },
        {
          "output_type": "stream",
          "name": "stdout",
          "text": [
            "Epoch: 4\t\tTrain loss: 0.14716448191855405\t\tValidation loss: 0.014214146979009875\n"
          ]
        },
        {
          "output_type": "stream",
          "name": "stderr",
          "text": [
            "Training batches: 100%|██████████| 259/259 [03:10<00:00,  1.36it/s]\n",
            "Validation batches: 100%|██████████| 65/65 [00:16<00:00,  3.90it/s]\n"
          ]
        },
        {
          "output_type": "stream",
          "name": "stdout",
          "text": [
            "Epoch: 5\t\tTrain loss: 0.13981835811639845\t\tValidation loss: 0.015084314797646724\n"
          ]
        },
        {
          "output_type": "stream",
          "name": "stderr",
          "text": [
            "Training batches: 100%|██████████| 259/259 [03:10<00:00,  1.36it/s]\n",
            "Validation batches: 100%|██████████| 65/65 [00:16<00:00,  3.91it/s]\n"
          ]
        },
        {
          "output_type": "stream",
          "name": "stdout",
          "text": [
            "Epoch: 6\t\tTrain loss: 0.13158210784081786\t\tValidation loss: 0.01170049054780975\n"
          ]
        },
        {
          "output_type": "stream",
          "name": "stderr",
          "text": [
            "Training batches: 100%|██████████| 259/259 [03:10<00:00,  1.36it/s]\n",
            "Validation batches: 100%|██████████| 65/65 [00:16<00:00,  3.91it/s]\n"
          ]
        },
        {
          "output_type": "stream",
          "name": "stdout",
          "text": [
            "Epoch: 7\t\tTrain loss: 0.124101558045761\t\tValidation loss: 0.011570283456239849\n"
          ]
        },
        {
          "output_type": "stream",
          "name": "stderr",
          "text": [
            "Training batches: 100%|██████████| 259/259 [03:10<00:00,  1.36it/s]\n",
            "Validation batches: 100%|██████████| 65/65 [00:16<00:00,  3.90it/s]\n"
          ]
        },
        {
          "output_type": "stream",
          "name": "stdout",
          "text": [
            "Epoch: 8\t\tTrain loss: 0.11779266553409541\t\tValidation loss: 0.008755221010785765\n"
          ]
        },
        {
          "output_type": "stream",
          "name": "stderr",
          "text": [
            "Training batches: 100%|██████████| 259/259 [03:11<00:00,  1.36it/s]\n",
            "Validation batches: 100%|██████████| 65/65 [00:16<00:00,  3.89it/s]\n"
          ]
        },
        {
          "output_type": "stream",
          "name": "stdout",
          "text": [
            "Epoch: 9\t\tTrain loss: 0.11076146024225358\t\tValidation loss: 0.008191969129928532\n"
          ]
        },
        {
          "output_type": "stream",
          "name": "stderr",
          "text": [
            "Training batches: 100%|██████████| 259/259 [03:10<00:00,  1.36it/s]\n",
            "Validation batches: 100%|██████████| 65/65 [00:16<00:00,  3.91it/s]\n"
          ]
        },
        {
          "output_type": "stream",
          "name": "stdout",
          "text": [
            "Epoch: 10\t\tTrain loss: 0.10380977975801496\t\tValidation loss: 0.006792586669325829\n"
          ]
        },
        {
          "output_type": "stream",
          "name": "stderr",
          "text": [
            "Training batches: 100%|██████████| 259/259 [03:11<00:00,  1.36it/s]\n",
            "Validation batches: 100%|██████████| 65/65 [00:16<00:00,  3.90it/s]\n"
          ]
        },
        {
          "output_type": "stream",
          "name": "stdout",
          "text": [
            "Epoch: 11\t\tTrain loss: 0.09993192054058019\t\tValidation loss: 0.006444187310989946\n"
          ]
        },
        {
          "output_type": "stream",
          "name": "stderr",
          "text": [
            "Training batches: 100%|██████████| 259/259 [03:10<00:00,  1.36it/s]\n",
            "Validation batches: 100%|██████████| 65/65 [00:16<00:00,  3.91it/s]\n"
          ]
        },
        {
          "output_type": "stream",
          "name": "stdout",
          "text": [
            "Epoch: 12\t\tTrain loss: 0.09177442574981441\t\tValidation loss: 0.005298939450921562\n"
          ]
        },
        {
          "output_type": "stream",
          "name": "stderr",
          "text": [
            "Training batches: 100%|██████████| 259/259 [03:10<00:00,  1.36it/s]\n",
            "Validation batches: 100%|██████████| 65/65 [00:16<00:00,  3.91it/s]\n"
          ]
        },
        {
          "output_type": "stream",
          "name": "stdout",
          "text": [
            "Epoch: 13\t\tTrain loss: 0.0882356535826727\t\tValidation loss: 0.004705643127761924\n"
          ]
        },
        {
          "output_type": "stream",
          "name": "stderr",
          "text": [
            "Training batches: 100%|██████████| 259/259 [03:10<00:00,  1.36it/s]\n",
            "Validation batches: 100%|██████████| 65/65 [00:16<00:00,  3.91it/s]\n"
          ]
        },
        {
          "output_type": "stream",
          "name": "stdout",
          "text": [
            "Epoch: 14\t\tTrain loss: 0.08261675443356446\t\tValidation loss: 0.004540244832437915\n"
          ]
        },
        {
          "output_type": "stream",
          "name": "stderr",
          "text": [
            "Training batches: 100%|██████████| 259/259 [03:10<00:00,  1.36it/s]\n",
            "Validation batches: 100%|██████████| 65/65 [00:16<00:00,  3.84it/s]\n"
          ]
        },
        {
          "output_type": "stream",
          "name": "stdout",
          "text": [
            "Epoch: 15\t\tTrain loss: 0.08039999011414967\t\tValidation loss: 0.003922152255164782\n"
          ]
        },
        {
          "output_type": "stream",
          "name": "stderr",
          "text": [
            "Training batches: 100%|██████████| 259/259 [03:10<00:00,  1.36it/s]\n",
            "Validation batches: 100%|██████████| 65/65 [00:16<00:00,  3.92it/s]\n"
          ]
        },
        {
          "output_type": "stream",
          "name": "stdout",
          "text": [
            "Epoch: 16\t\tTrain loss: 0.07628899963364062\t\tValidation loss: 0.004201784890252524\n"
          ]
        },
        {
          "output_type": "stream",
          "name": "stderr",
          "text": [
            "Training batches: 100%|██████████| 259/259 [03:10<00:00,  1.36it/s]\n",
            "Validation batches: 100%|██████████| 65/65 [00:16<00:00,  3.92it/s]\n"
          ]
        },
        {
          "output_type": "stream",
          "name": "stdout",
          "text": [
            "Epoch: 17\t\tTrain loss: 0.07248154616263842\t\tValidation loss: 0.004108540152307026\n"
          ]
        },
        {
          "output_type": "stream",
          "name": "stderr",
          "text": [
            "Training batches: 100%|██████████| 259/259 [03:10<00:00,  1.36it/s]\n",
            "Validation batches: 100%|██████████| 65/65 [00:16<00:00,  3.93it/s]\n"
          ]
        },
        {
          "output_type": "stream",
          "name": "stdout",
          "text": [
            "Epoch: 18\t\tTrain loss: 0.0715139486025084\t\tValidation loss: 0.004831126384166194\n"
          ]
        },
        {
          "output_type": "stream",
          "name": "stderr",
          "text": [
            "Training batches: 100%|██████████| 259/259 [03:10<00:00,  1.36it/s]\n",
            "Validation batches: 100%|██████████| 65/65 [00:16<00:00,  3.92it/s]\n"
          ]
        },
        {
          "output_type": "stream",
          "name": "stdout",
          "text": [
            "Epoch: 19\t\tTrain loss: 0.06503353782293016\t\tValidation loss: 0.0017893162405995938\n"
          ]
        },
        {
          "output_type": "stream",
          "name": "stderr",
          "text": [
            "Training batches: 100%|██████████| 259/259 [03:10<00:00,  1.36it/s]\n",
            "Validation batches: 100%|██████████| 65/65 [00:16<00:00,  3.91it/s]\n"
          ]
        },
        {
          "output_type": "stream",
          "name": "stdout",
          "text": [
            "Epoch: 20\t\tTrain loss: 0.061767029685676676\t\tValidation loss: 0.002961613536172081\n"
          ]
        },
        {
          "output_type": "stream",
          "name": "stderr",
          "text": [
            "Training batches: 100%|██████████| 259/259 [03:10<00:00,  1.36it/s]\n",
            "Validation batches: 100%|██████████| 65/65 [00:16<00:00,  3.91it/s]\n"
          ]
        },
        {
          "output_type": "stream",
          "name": "stdout",
          "text": [
            "Epoch: 21\t\tTrain loss: 0.061880221313520056\t\tValidation loss: 0.001994807503069751\n"
          ]
        },
        {
          "output_type": "stream",
          "name": "stderr",
          "text": [
            "Training batches: 100%|██████████| 259/259 [03:10<00:00,  1.36it/s]\n",
            "Validation batches: 100%|██████████| 65/65 [00:16<00:00,  3.90it/s]\n"
          ]
        },
        {
          "output_type": "stream",
          "name": "stdout",
          "text": [
            "Epoch: 22\t\tTrain loss: 0.058047380504237925\t\tValidation loss: 0.0018120413046115293\n"
          ]
        },
        {
          "output_type": "stream",
          "name": "stderr",
          "text": [
            "Training batches: 100%|██████████| 259/259 [03:10<00:00,  1.36it/s]\n",
            "Validation batches: 100%|██████████| 65/65 [00:16<00:00,  3.91it/s]\n"
          ]
        },
        {
          "output_type": "stream",
          "name": "stdout",
          "text": [
            "Epoch: 23\t\tTrain loss: 0.0567449153145653\t\tValidation loss: 0.0014204685321041884\n"
          ]
        },
        {
          "output_type": "stream",
          "name": "stderr",
          "text": [
            "Training batches: 100%|██████████| 259/259 [03:10<00:00,  1.36it/s]\n",
            "Validation batches: 100%|██████████| 65/65 [00:16<00:00,  3.91it/s]\n"
          ]
        },
        {
          "output_type": "stream",
          "name": "stdout",
          "text": [
            "Epoch: 24\t\tTrain loss: 0.052580463367381265\t\tValidation loss: 0.0020287046740682293\n"
          ]
        },
        {
          "output_type": "stream",
          "name": "stderr",
          "text": [
            "Training batches: 100%|██████████| 259/259 [03:10<00:00,  1.36it/s]\n",
            "Validation batches: 100%|██████████| 65/65 [00:16<00:00,  3.90it/s]\n"
          ]
        },
        {
          "output_type": "stream",
          "name": "stdout",
          "text": [
            "Epoch: 25\t\tTrain loss: 0.05235340873958924\t\tValidation loss: 0.0014479299370577792\n"
          ]
        },
        {
          "output_type": "stream",
          "name": "stderr",
          "text": [
            "Training batches: 100%|██████████| 259/259 [03:10<00:00,  1.36it/s]\n",
            "Validation batches: 100%|██████████| 65/65 [00:16<00:00,  3.90it/s]\n"
          ]
        },
        {
          "output_type": "stream",
          "name": "stdout",
          "text": [
            "Epoch: 26\t\tTrain loss: 0.05052054605471927\t\tValidation loss: 0.0014802902427898236\n"
          ]
        },
        {
          "output_type": "stream",
          "name": "stderr",
          "text": [
            "Training batches: 100%|██████████| 259/259 [03:10<00:00,  1.36it/s]\n",
            "Validation batches: 100%|██████████| 65/65 [00:16<00:00,  3.91it/s]\n"
          ]
        },
        {
          "output_type": "stream",
          "name": "stdout",
          "text": [
            "Epoch: 27\t\tTrain loss: 0.05106424989491615\t\tValidation loss: 0.0017180956500501801\n"
          ]
        },
        {
          "output_type": "stream",
          "name": "stderr",
          "text": [
            "Training batches: 100%|██████████| 259/259 [03:10<00:00,  1.36it/s]\n",
            "Validation batches: 100%|██████████| 65/65 [00:16<00:00,  3.91it/s]\n"
          ]
        },
        {
          "output_type": "stream",
          "name": "stdout",
          "text": [
            "Epoch: 28\t\tTrain loss: 0.04810638972342331\t\tValidation loss: 0.0023176843054758278\n"
          ]
        },
        {
          "output_type": "stream",
          "name": "stderr",
          "text": [
            "Training batches: 100%|██████████| 259/259 [03:10<00:00,  1.36it/s]\n",
            "Validation batches: 100%|██████████| 65/65 [00:16<00:00,  3.91it/s]\n"
          ]
        },
        {
          "output_type": "stream",
          "name": "stdout",
          "text": [
            "Epoch: 29\t\tTrain loss: 0.046259984424388084\t\tValidation loss: 0.0013159478704507749\n"
          ]
        },
        {
          "output_type": "stream",
          "name": "stderr",
          "text": [
            "Training batches: 100%|██████████| 259/259 [03:10<00:00,  1.36it/s]\n",
            "Validation batches: 100%|██████████| 65/65 [00:16<00:00,  3.91it/s]\n"
          ]
        },
        {
          "output_type": "stream",
          "name": "stdout",
          "text": [
            "Epoch: 30\t\tTrain loss: 0.045694260189173073\t\tValidation loss: 0.0013852957966334473\n"
          ]
        },
        {
          "output_type": "stream",
          "name": "stderr",
          "text": [
            "Training batches: 100%|██████████| 259/259 [03:10<00:00,  1.36it/s]\n",
            "Validation batches: 100%|██████████| 65/65 [00:16<00:00,  3.92it/s]\n"
          ]
        },
        {
          "output_type": "stream",
          "name": "stdout",
          "text": [
            "Epoch: 31\t\tTrain loss: 0.06511649496234867\t\tValidation loss: 0.0013670604438280301\n"
          ]
        },
        {
          "output_type": "stream",
          "name": "stderr",
          "text": [
            "Training batches: 100%|██████████| 259/259 [03:10<00:00,  1.36it/s]\n",
            "Validation batches: 100%|██████████| 65/65 [00:16<00:00,  3.90it/s]\n"
          ]
        },
        {
          "output_type": "stream",
          "name": "stdout",
          "text": [
            "Epoch: 32\t\tTrain loss: 0.04617987815596336\t\tValidation loss: 0.001477223149749289\n"
          ]
        },
        {
          "output_type": "stream",
          "name": "stderr",
          "text": [
            "Training batches: 100%|██████████| 259/259 [03:10<00:00,  1.36it/s]\n",
            "Validation batches: 100%|██████████| 65/65 [00:16<00:00,  3.91it/s]\n"
          ]
        },
        {
          "output_type": "stream",
          "name": "stdout",
          "text": [
            "Epoch: 33\t\tTrain loss: 0.039971626987572915\t\tValidation loss: 0.0015069510918692686\n"
          ]
        },
        {
          "output_type": "stream",
          "name": "stderr",
          "text": [
            "Training batches: 100%|██████████| 259/259 [03:10<00:00,  1.36it/s]\n",
            "Validation batches: 100%|██████████| 65/65 [00:16<00:00,  3.91it/s]\n"
          ]
        },
        {
          "output_type": "stream",
          "name": "stdout",
          "text": [
            "Epoch: 34\t\tTrain loss: 0.03986040613223874\t\tValidation loss: 0.0006301515498517592\n"
          ]
        },
        {
          "output_type": "stream",
          "name": "stderr",
          "text": [
            "Training batches: 100%|██████████| 259/259 [03:10<00:00,  1.36it/s]\n",
            "Validation batches: 100%|██████████| 65/65 [00:16<00:00,  3.91it/s]\n"
          ]
        },
        {
          "output_type": "stream",
          "name": "stdout",
          "text": [
            "Epoch: 35\t\tTrain loss: 0.04471271745429076\t\tValidation loss: 0.0009798525442350253\n"
          ]
        },
        {
          "output_type": "stream",
          "name": "stderr",
          "text": [
            "Training batches: 100%|██████████| 259/259 [03:10<00:00,  1.36it/s]\n",
            "Validation batches: 100%|██████████| 65/65 [00:16<00:00,  3.93it/s]\n"
          ]
        },
        {
          "output_type": "stream",
          "name": "stdout",
          "text": [
            "Epoch: 36\t\tTrain loss: 0.040110040704169556\t\tValidation loss: 0.0013131328756291903\n"
          ]
        },
        {
          "output_type": "stream",
          "name": "stderr",
          "text": [
            "Training batches: 100%|██████████| 259/259 [03:10<00:00,  1.36it/s]\n",
            "Validation batches: 100%|██████████| 65/65 [00:16<00:00,  3.89it/s]\n"
          ]
        },
        {
          "output_type": "stream",
          "name": "stdout",
          "text": [
            "Epoch: 37\t\tTrain loss: 0.0395028359476031\t\tValidation loss: 0.0012146004334891375\n"
          ]
        },
        {
          "output_type": "stream",
          "name": "stderr",
          "text": [
            "Training batches: 100%|██████████| 259/259 [03:10<00:00,  1.36it/s]\n",
            "Validation batches: 100%|██████████| 65/65 [00:16<00:00,  3.91it/s]\n"
          ]
        },
        {
          "output_type": "stream",
          "name": "stdout",
          "text": [
            "Epoch: 38\t\tTrain loss: 0.03375079175664119\t\tValidation loss: 0.0007886902518154014\n"
          ]
        },
        {
          "output_type": "stream",
          "name": "stderr",
          "text": [
            "Training batches: 100%|██████████| 259/259 [03:10<00:00,  1.36it/s]\n",
            "Validation batches: 100%|██████████| 65/65 [00:16<00:00,  3.88it/s]\n"
          ]
        },
        {
          "output_type": "stream",
          "name": "stdout",
          "text": [
            "Epoch: 39\t\tTrain loss: 0.03415055052398858\t\tValidation loss: 0.0012248957882128218\n"
          ]
        },
        {
          "output_type": "stream",
          "name": "stderr",
          "text": [
            "Training batches: 100%|██████████| 259/259 [03:10<00:00,  1.36it/s]\n",
            "Validation batches: 100%|██████████| 65/65 [00:16<00:00,  3.91it/s]\n"
          ]
        },
        {
          "output_type": "stream",
          "name": "stdout",
          "text": [
            "Epoch: 40\t\tTrain loss: 0.03396750835595746\t\tValidation loss: 0.0009158180285129884\n"
          ]
        },
        {
          "output_type": "stream",
          "name": "stderr",
          "text": [
            "Training batches: 100%|██████████| 259/259 [03:10<00:00,  1.36it/s]\n",
            "Validation batches: 100%|██████████| 65/65 [00:16<00:00,  3.89it/s]\n"
          ]
        },
        {
          "output_type": "stream",
          "name": "stdout",
          "text": [
            "Epoch: 41\t\tTrain loss: 0.033564631168912146\t\tValidation loss: 0.0010370468579332316\n"
          ]
        },
        {
          "output_type": "stream",
          "name": "stderr",
          "text": [
            "Training batches: 100%|██████████| 259/259 [03:10<00:00,  1.36it/s]\n",
            "Validation batches: 100%|██████████| 65/65 [00:16<00:00,  3.90it/s]\n"
          ]
        },
        {
          "output_type": "stream",
          "name": "stdout",
          "text": [
            "Epoch: 42\t\tTrain loss: 0.03471931498533683\t\tValidation loss: 0.0008757711958913625\n"
          ]
        },
        {
          "output_type": "stream",
          "name": "stderr",
          "text": [
            "Training batches: 100%|██████████| 259/259 [03:10<00:00,  1.36it/s]\n",
            "Validation batches: 100%|██████████| 65/65 [00:16<00:00,  3.92it/s]\n"
          ]
        },
        {
          "output_type": "stream",
          "name": "stdout",
          "text": [
            "Epoch: 43\t\tTrain loss: 0.033182100897644104\t\tValidation loss: 0.0010956121730067445\n"
          ]
        },
        {
          "output_type": "stream",
          "name": "stderr",
          "text": [
            "Training batches: 100%|██████████| 259/259 [03:10<00:00,  1.36it/s]\n",
            "Validation batches: 100%|██████████| 65/65 [00:16<00:00,  3.92it/s]\n"
          ]
        },
        {
          "output_type": "stream",
          "name": "stdout",
          "text": [
            "Epoch: 44\t\tTrain loss: 0.029151328507645423\t\tValidation loss: 0.0006759604552756242\n"
          ]
        },
        {
          "output_type": "stream",
          "name": "stderr",
          "text": [
            "Training batches: 100%|██████████| 259/259 [03:10<00:00,  1.36it/s]\n",
            "Validation batches: 100%|██████████| 65/65 [00:16<00:00,  3.92it/s]\n"
          ]
        },
        {
          "output_type": "stream",
          "name": "stdout",
          "text": [
            "Epoch: 45\t\tTrain loss: 0.029162858567437926\t\tValidation loss: 0.0006164524849457219\n"
          ]
        },
        {
          "output_type": "stream",
          "name": "stderr",
          "text": [
            "Training batches: 100%|██████████| 259/259 [03:10<00:00,  1.36it/s]\n",
            "Validation batches: 100%|██████████| 65/65 [00:16<00:00,  3.90it/s]\n"
          ]
        },
        {
          "output_type": "stream",
          "name": "stdout",
          "text": [
            "Epoch: 46\t\tTrain loss: 0.02917026650272022\t\tValidation loss: 0.002853567812850927\n"
          ]
        },
        {
          "output_type": "stream",
          "name": "stderr",
          "text": [
            "Training batches: 100%|██████████| 259/259 [03:10<00:00,  1.36it/s]\n",
            "Validation batches: 100%|██████████| 65/65 [00:16<00:00,  3.92it/s]\n"
          ]
        },
        {
          "output_type": "stream",
          "name": "stdout",
          "text": [
            "Epoch: 47\t\tTrain loss: 0.03039196241758476\t\tValidation loss: 0.0003945450183611963\n"
          ]
        },
        {
          "output_type": "stream",
          "name": "stderr",
          "text": [
            "Training batches: 100%|██████████| 259/259 [03:10<00:00,  1.36it/s]\n",
            "Validation batches: 100%|██████████| 65/65 [00:16<00:00,  3.92it/s]\n"
          ]
        },
        {
          "output_type": "stream",
          "name": "stdout",
          "text": [
            "Epoch: 48\t\tTrain loss: 0.028630096979554324\t\tValidation loss: 0.0012985831411172581\n"
          ]
        },
        {
          "output_type": "stream",
          "name": "stderr",
          "text": [
            "Training batches: 100%|██████████| 259/259 [03:10<00:00,  1.36it/s]\n",
            "Validation batches: 100%|██████████| 65/65 [00:16<00:00,  3.92it/s]\n"
          ]
        },
        {
          "output_type": "stream",
          "name": "stdout",
          "text": [
            "Epoch: 49\t\tTrain loss: 0.028881759415821148\t\tValidation loss: 0.0009694852412884267\n"
          ]
        },
        {
          "output_type": "stream",
          "name": "stderr",
          "text": [
            "Training batches: 100%|██████████| 259/259 [03:10<00:00,  1.36it/s]\n",
            "Validation batches: 100%|██████████| 65/65 [00:16<00:00,  3.92it/s]\n"
          ]
        },
        {
          "output_type": "stream",
          "name": "stdout",
          "text": [
            "Epoch: 50\t\tTrain loss: 0.027650529276004285\t\tValidation loss: 0.0008888436491710868\n"
          ]
        },
        {
          "output_type": "stream",
          "name": "stderr",
          "text": [
            "Training batches: 100%|██████████| 259/259 [03:10<00:00,  1.36it/s]\n",
            "Validation batches: 100%|██████████| 65/65 [00:16<00:00,  3.92it/s]\n"
          ]
        },
        {
          "output_type": "stream",
          "name": "stdout",
          "text": [
            "Epoch: 51\t\tTrain loss: 0.025282055480696952\t\tValidation loss: 0.00037618149070532615\n"
          ]
        },
        {
          "output_type": "stream",
          "name": "stderr",
          "text": [
            "Training batches: 100%|██████████| 259/259 [03:10<00:00,  1.36it/s]\n",
            "Validation batches: 100%|██████████| 65/65 [00:16<00:00,  3.85it/s]\n"
          ]
        },
        {
          "output_type": "stream",
          "name": "stdout",
          "text": [
            "Epoch: 52\t\tTrain loss: 0.02654513475596617\t\tValidation loss: 0.0005866487773066463\n"
          ]
        },
        {
          "output_type": "stream",
          "name": "stderr",
          "text": [
            "Training batches: 100%|██████████| 259/259 [03:10<00:00,  1.36it/s]\n",
            "Validation batches: 100%|██████████| 65/65 [00:16<00:00,  3.91it/s]\n"
          ]
        },
        {
          "output_type": "stream",
          "name": "stdout",
          "text": [
            "Epoch: 53\t\tTrain loss: 0.027422009394629986\t\tValidation loss: 0.0006437592452060086\n"
          ]
        },
        {
          "output_type": "stream",
          "name": "stderr",
          "text": [
            "Training batches: 100%|██████████| 259/259 [03:10<00:00,  1.36it/s]\n",
            "Validation batches: 100%|██████████| 65/65 [00:16<00:00,  3.91it/s]\n"
          ]
        },
        {
          "output_type": "stream",
          "name": "stdout",
          "text": [
            "Epoch: 54\t\tTrain loss: 0.02665277646976329\t\tValidation loss: 0.001095616828213399\n"
          ]
        },
        {
          "output_type": "stream",
          "name": "stderr",
          "text": [
            "Training batches: 100%|██████████| 259/259 [03:10<00:00,  1.36it/s]\n",
            "Validation batches: 100%|██████████| 65/65 [00:16<00:00,  3.90it/s]\n"
          ]
        },
        {
          "output_type": "stream",
          "name": "stdout",
          "text": [
            "Epoch: 55\t\tTrain loss: 0.022329966747112084\t\tValidation loss: 0.0005446491082903566\n"
          ]
        },
        {
          "output_type": "stream",
          "name": "stderr",
          "text": [
            "Training batches: 100%|██████████| 259/259 [03:10<00:00,  1.36it/s]\n",
            "Validation batches: 100%|██████████| 65/65 [00:16<00:00,  3.92it/s]\n"
          ]
        },
        {
          "output_type": "stream",
          "name": "stdout",
          "text": [
            "Epoch: 56\t\tTrain loss: 0.02408397652911792\t\tValidation loss: 0.0006075462340539581\n"
          ]
        },
        {
          "output_type": "stream",
          "name": "stderr",
          "text": [
            "Training batches: 100%|██████████| 259/259 [03:10<00:00,  1.36it/s]\n",
            "Validation batches: 100%|██████████| 65/65 [00:16<00:00,  3.93it/s]\n"
          ]
        },
        {
          "output_type": "stream",
          "name": "stdout",
          "text": [
            "Epoch: 57\t\tTrain loss: 0.022488786507681963\t\tValidation loss: 0.00023435340888052172\n"
          ]
        },
        {
          "output_type": "stream",
          "name": "stderr",
          "text": [
            "Training batches: 100%|██████████| 259/259 [03:10<00:00,  1.36it/s]\n",
            "Validation batches: 100%|██████████| 65/65 [00:16<00:00,  3.91it/s]\n"
          ]
        },
        {
          "output_type": "stream",
          "name": "stdout",
          "text": [
            "Epoch: 58\t\tTrain loss: 0.02242489329909611\t\tValidation loss: 0.0012628490146303544\n"
          ]
        },
        {
          "output_type": "stream",
          "name": "stderr",
          "text": [
            "Training batches: 100%|██████████| 259/259 [03:10<00:00,  1.36it/s]\n",
            "Validation batches: 100%|██████████| 65/65 [00:16<00:00,  3.93it/s]\n"
          ]
        },
        {
          "output_type": "stream",
          "name": "stdout",
          "text": [
            "Epoch: 59\t\tTrain loss: 0.02412052370983618\t\tValidation loss: 0.00039880751797821944\n"
          ]
        },
        {
          "output_type": "stream",
          "name": "stderr",
          "text": [
            "Training batches: 100%|██████████| 259/259 [03:10<00:00,  1.36it/s]\n",
            "Validation batches: 100%|██████████| 65/65 [00:16<00:00,  3.91it/s]\n"
          ]
        },
        {
          "output_type": "stream",
          "name": "stdout",
          "text": [
            "Epoch: 60\t\tTrain loss: 0.022131614509968152\t\tValidation loss: 0.0004247228549432363\n"
          ]
        },
        {
          "output_type": "stream",
          "name": "stderr",
          "text": [
            "Training batches: 100%|██████████| 259/259 [03:10<00:00,  1.36it/s]\n",
            "Validation batches: 100%|██████████| 65/65 [00:16<00:00,  3.92it/s]\n"
          ]
        },
        {
          "output_type": "stream",
          "name": "stdout",
          "text": [
            "Epoch: 61\t\tTrain loss: 0.025752301722527644\t\tValidation loss: 0.0002201741731474053\n"
          ]
        },
        {
          "output_type": "stream",
          "name": "stderr",
          "text": [
            "Training batches: 100%|██████████| 259/259 [03:10<00:00,  1.36it/s]\n",
            "Validation batches: 100%|██████████| 65/65 [00:16<00:00,  3.91it/s]\n"
          ]
        },
        {
          "output_type": "stream",
          "name": "stdout",
          "text": [
            "Epoch: 62\t\tTrain loss: 0.021031373655549378\t\tValidation loss: 0.0012306180468420699\n"
          ]
        },
        {
          "output_type": "stream",
          "name": "stderr",
          "text": [
            "Training batches: 100%|██████████| 259/259 [03:10<00:00,  1.36it/s]\n",
            "Validation batches: 100%|██████████| 65/65 [00:16<00:00,  3.92it/s]\n"
          ]
        },
        {
          "output_type": "stream",
          "name": "stdout",
          "text": [
            "Epoch: 63\t\tTrain loss: 0.022667696190239235\t\tValidation loss: 0.00353681540864972\n"
          ]
        },
        {
          "output_type": "stream",
          "name": "stderr",
          "text": [
            "Training batches: 100%|██████████| 259/259 [03:10<00:00,  1.36it/s]\n",
            "Validation batches: 100%|██████████| 65/65 [00:16<00:00,  3.92it/s]\n"
          ]
        },
        {
          "output_type": "stream",
          "name": "stdout",
          "text": [
            "Epoch: 64\t\tTrain loss: 0.022614947273207175\t\tValidation loss: 0.0003118122955898938\n"
          ]
        },
        {
          "output_type": "stream",
          "name": "stderr",
          "text": [
            "Training batches: 100%|██████████| 259/259 [03:10<00:00,  1.36it/s]\n",
            "Validation batches: 100%|██████████| 65/65 [00:16<00:00,  3.91it/s]\n"
          ]
        },
        {
          "output_type": "stream",
          "name": "stdout",
          "text": [
            "Epoch: 65\t\tTrain loss: 0.02076836661381726\t\tValidation loss: 0.00017600280290515423\n"
          ]
        },
        {
          "output_type": "stream",
          "name": "stderr",
          "text": [
            "Training batches: 100%|██████████| 259/259 [03:10<00:00,  1.36it/s]\n",
            "Validation batches: 100%|██████████| 65/65 [00:16<00:00,  3.91it/s]\n"
          ]
        },
        {
          "output_type": "stream",
          "name": "stdout",
          "text": [
            "Epoch: 66\t\tTrain loss: 0.020046866255718856\t\tValidation loss: 0.00021440966639742188\n"
          ]
        },
        {
          "output_type": "stream",
          "name": "stderr",
          "text": [
            "Training batches: 100%|██████████| 259/259 [03:10<00:00,  1.36it/s]\n",
            "Validation batches: 100%|██████████| 65/65 [00:16<00:00,  3.90it/s]\n"
          ]
        },
        {
          "output_type": "stream",
          "name": "stdout",
          "text": [
            "Epoch: 67\t\tTrain loss: 0.0199654226997709\t\tValidation loss: 0.0007046658515754154\n"
          ]
        },
        {
          "output_type": "stream",
          "name": "stderr",
          "text": [
            "Training batches: 100%|██████████| 259/259 [03:10<00:00,  1.36it/s]\n",
            "Validation batches: 100%|██████████| 65/65 [00:16<00:00,  3.91it/s]\n"
          ]
        },
        {
          "output_type": "stream",
          "name": "stdout",
          "text": [
            "Epoch: 68\t\tTrain loss: 0.020365322462703787\t\tValidation loss: 0.00011064645915701896\n"
          ]
        },
        {
          "output_type": "stream",
          "name": "stderr",
          "text": [
            "Training batches: 100%|██████████| 259/259 [03:10<00:00,  1.36it/s]\n",
            "Validation batches: 100%|██████████| 65/65 [00:16<00:00,  3.91it/s]\n"
          ]
        },
        {
          "output_type": "stream",
          "name": "stdout",
          "text": [
            "Epoch: 69\t\tTrain loss: 0.019571746272505998\t\tValidation loss: 0.000198317303850742\n"
          ]
        },
        {
          "output_type": "stream",
          "name": "stderr",
          "text": [
            "Training batches: 100%|██████████| 259/259 [03:10<00:00,  1.36it/s]\n",
            "Validation batches: 100%|██████████| 65/65 [00:16<00:00,  3.91it/s]\n"
          ]
        },
        {
          "output_type": "stream",
          "name": "stdout",
          "text": [
            "Epoch: 70\t\tTrain loss: 0.018524404723039005\t\tValidation loss: 0.0006986234924310198\n"
          ]
        },
        {
          "output_type": "stream",
          "name": "stderr",
          "text": [
            "Training batches: 100%|██████████| 259/259 [03:10<00:00,  1.36it/s]\n",
            "Validation batches: 100%|██████████| 65/65 [00:16<00:00,  3.90it/s]\n"
          ]
        },
        {
          "output_type": "stream",
          "name": "stdout",
          "text": [
            "Epoch: 71\t\tTrain loss: 0.020495550301776386\t\tValidation loss: 0.0006068500144920108\n"
          ]
        },
        {
          "output_type": "stream",
          "name": "stderr",
          "text": [
            "Training batches: 100%|██████████| 259/259 [03:10<00:00,  1.36it/s]\n",
            "Validation batches: 100%|██████████| 65/65 [00:16<00:00,  3.86it/s]\n"
          ]
        },
        {
          "output_type": "stream",
          "name": "stdout",
          "text": [
            "Epoch: 72\t\tTrain loss: 0.018843606677810702\t\tValidation loss: 0.001148960977806942\n"
          ]
        },
        {
          "output_type": "stream",
          "name": "stderr",
          "text": [
            "Training batches: 100%|██████████| 259/259 [03:10<00:00,  1.36it/s]\n",
            "Validation batches: 100%|██████████| 65/65 [00:16<00:00,  3.91it/s]\n"
          ]
        },
        {
          "output_type": "stream",
          "name": "stdout",
          "text": [
            "Epoch: 73\t\tTrain loss: 0.01878788516026091\t\tValidation loss: 0.0008095647227754363\n"
          ]
        },
        {
          "output_type": "stream",
          "name": "stderr",
          "text": [
            "Training batches: 100%|██████████| 259/259 [03:10<00:00,  1.36it/s]\n",
            "Validation batches: 100%|██████████| 65/65 [00:16<00:00,  3.91it/s]\n"
          ]
        },
        {
          "output_type": "stream",
          "name": "stdout",
          "text": [
            "Epoch: 74\t\tTrain loss: 0.01863934550199273\t\tValidation loss: 0.0004263044481096865\n"
          ]
        },
        {
          "output_type": "stream",
          "name": "stderr",
          "text": [
            "Training batches: 100%|██████████| 259/259 [03:10<00:00,  1.36it/s]\n",
            "Validation batches: 100%|██████████| 65/65 [00:16<00:00,  3.91it/s]\n"
          ]
        },
        {
          "output_type": "stream",
          "name": "stdout",
          "text": [
            "Epoch: 75\t\tTrain loss: 0.01793148525993692\t\tValidation loss: 0.0005062152328998939\n"
          ]
        },
        {
          "output_type": "stream",
          "name": "stderr",
          "text": [
            "Training batches: 100%|██████████| 259/259 [03:10<00:00,  1.36it/s]\n",
            "Validation batches: 100%|██████████| 65/65 [00:16<00:00,  3.92it/s]\n"
          ]
        },
        {
          "output_type": "stream",
          "name": "stdout",
          "text": [
            "Epoch: 76\t\tTrain loss: 0.016644834570225298\t\tValidation loss: 0.0005248253864255485\n"
          ]
        },
        {
          "output_type": "stream",
          "name": "stderr",
          "text": [
            "Training batches: 100%|██████████| 259/259 [03:10<00:00,  1.36it/s]\n",
            "Validation batches: 100%|██████████| 65/65 [00:16<00:00,  3.90it/s]\n"
          ]
        },
        {
          "output_type": "stream",
          "name": "stdout",
          "text": [
            "Epoch: 77\t\tTrain loss: 0.01788818963347578\t\tValidation loss: 0.0009446665116579075\n"
          ]
        },
        {
          "output_type": "stream",
          "name": "stderr",
          "text": [
            "Training batches: 100%|██████████| 259/259 [03:10<00:00,  1.36it/s]\n",
            "Validation batches: 100%|██████████| 65/65 [00:16<00:00,  3.91it/s]\n"
          ]
        },
        {
          "output_type": "stream",
          "name": "stdout",
          "text": [
            "Epoch: 78\t\tTrain loss: 0.017392306533753583\t\tValidation loss: 0.0011678825558122368\n"
          ]
        },
        {
          "output_type": "stream",
          "name": "stderr",
          "text": [
            "Training batches: 100%|██████████| 259/259 [03:10<00:00,  1.36it/s]\n",
            "Validation batches: 100%|██████████| 65/65 [00:16<00:00,  3.91it/s]\n"
          ]
        },
        {
          "output_type": "stream",
          "name": "stdout",
          "text": [
            "Epoch: 79\t\tTrain loss: 0.017409158927549403\t\tValidation loss: 0.00019999432764122431\n"
          ]
        },
        {
          "output_type": "stream",
          "name": "stderr",
          "text": [
            "Training batches: 100%|██████████| 259/259 [03:10<00:00,  1.36it/s]\n",
            "Validation batches: 100%|██████████| 65/65 [00:16<00:00,  3.91it/s]\n"
          ]
        },
        {
          "output_type": "stream",
          "name": "stdout",
          "text": [
            "Epoch: 80\t\tTrain loss: 0.017107066231699747\t\tValidation loss: 0.00021692609109672607\n"
          ]
        },
        {
          "output_type": "stream",
          "name": "stderr",
          "text": [
            "Training batches: 100%|██████████| 259/259 [03:10<00:00,  1.36it/s]\n",
            "Validation batches: 100%|██████████| 65/65 [00:16<00:00,  3.90it/s]\n"
          ]
        },
        {
          "output_type": "stream",
          "name": "stdout",
          "text": [
            "Epoch: 81\t\tTrain loss: 0.016872754615361165\t\tValidation loss: 0.00041880948404538615\n"
          ]
        },
        {
          "output_type": "stream",
          "name": "stderr",
          "text": [
            "Training batches: 100%|██████████| 259/259 [03:10<00:00,  1.36it/s]\n",
            "Validation batches: 100%|██████████| 65/65 [00:16<00:00,  3.89it/s]\n"
          ]
        },
        {
          "output_type": "stream",
          "name": "stdout",
          "text": [
            "Epoch: 82\t\tTrain loss: 0.01623838153801693\t\tValidation loss: 0.0005871668084322524\n"
          ]
        },
        {
          "output_type": "stream",
          "name": "stderr",
          "text": [
            "Training batches: 100%|██████████| 259/259 [03:10<00:00,  1.36it/s]\n",
            "Validation batches: 100%|██████████| 65/65 [00:16<00:00,  3.90it/s]\n"
          ]
        },
        {
          "output_type": "stream",
          "name": "stdout",
          "text": [
            "Epoch: 83\t\tTrain loss: 0.016622508623193172\t\tValidation loss: 0.0005932378742849883\n"
          ]
        },
        {
          "output_type": "stream",
          "name": "stderr",
          "text": [
            "Training batches: 100%|██████████| 259/259 [03:10<00:00,  1.36it/s]\n",
            "Validation batches: 100%|██████████| 65/65 [00:16<00:00,  3.90it/s]\n"
          ]
        },
        {
          "output_type": "stream",
          "name": "stdout",
          "text": [
            "Epoch: 84\t\tTrain loss: 0.015371576869414408\t\tValidation loss: 0.0004421699587020647\n"
          ]
        },
        {
          "output_type": "stream",
          "name": "stderr",
          "text": [
            "Training batches: 100%|██████████| 259/259 [03:10<00:00,  1.36it/s]\n",
            "Validation batches: 100%|██████████| 65/65 [00:16<00:00,  3.91it/s]\n"
          ]
        },
        {
          "output_type": "stream",
          "name": "stdout",
          "text": [
            "Epoch: 85\t\tTrain loss: 0.016308080614679296\t\tValidation loss: 0.00042109311117516113\n"
          ]
        },
        {
          "output_type": "stream",
          "name": "stderr",
          "text": [
            "Training batches: 100%|██████████| 259/259 [03:10<00:00,  1.36it/s]\n",
            "Validation batches: 100%|██████████| 65/65 [00:16<00:00,  3.91it/s]\n"
          ]
        },
        {
          "output_type": "stream",
          "name": "stdout",
          "text": [
            "Epoch: 86\t\tTrain loss: 0.016364287014405197\t\tValidation loss: 0.000282852210935184\n"
          ]
        },
        {
          "output_type": "stream",
          "name": "stderr",
          "text": [
            "Training batches: 100%|██████████| 259/259 [03:10<00:00,  1.36it/s]\n",
            "Validation batches: 100%|██████████| 65/65 [00:16<00:00,  3.89it/s]\n"
          ]
        },
        {
          "output_type": "stream",
          "name": "stdout",
          "text": [
            "Epoch: 87\t\tTrain loss: 0.01438288254320395\t\tValidation loss: 0.0004186841225558825\n"
          ]
        },
        {
          "output_type": "stream",
          "name": "stderr",
          "text": [
            "Training batches: 100%|██████████| 259/259 [03:10<00:00,  1.36it/s]\n",
            "Validation batches: 100%|██████████| 65/65 [00:16<00:00,  3.93it/s]\n"
          ]
        },
        {
          "output_type": "stream",
          "name": "stdout",
          "text": [
            "Epoch: 88\t\tTrain loss: 0.014900546745238934\t\tValidation loss: 0.0007787548933807696\n"
          ]
        },
        {
          "output_type": "stream",
          "name": "stderr",
          "text": [
            "Training batches: 100%|██████████| 259/259 [03:10<00:00,  1.36it/s]\n",
            "Validation batches: 100%|██████████| 65/65 [00:16<00:00,  3.91it/s]\n"
          ]
        },
        {
          "output_type": "stream",
          "name": "stdout",
          "text": [
            "Epoch: 89\t\tTrain loss: 0.014624225937142882\t\tValidation loss: 0.0005630396431063043\n"
          ]
        },
        {
          "output_type": "stream",
          "name": "stderr",
          "text": [
            "Training batches: 100%|██████████| 259/259 [03:10<00:00,  1.36it/s]\n",
            "Validation batches: 100%|██████████| 65/65 [00:16<00:00,  3.92it/s]\n"
          ]
        },
        {
          "output_type": "stream",
          "name": "stdout",
          "text": [
            "Epoch: 90\t\tTrain loss: 0.016135871654100405\t\tValidation loss: 0.0006673738054657336\n"
          ]
        },
        {
          "output_type": "stream",
          "name": "stderr",
          "text": [
            "Training batches: 100%|██████████| 259/259 [03:10<00:00,  1.36it/s]\n",
            "Validation batches: 100%|██████████| 65/65 [00:16<00:00,  3.90it/s]\n"
          ]
        },
        {
          "output_type": "stream",
          "name": "stdout",
          "text": [
            "Epoch: 91\t\tTrain loss: 0.015474860473719343\t\tValidation loss: 0.0005812159703509678\n"
          ]
        },
        {
          "output_type": "stream",
          "name": "stderr",
          "text": [
            "Training batches: 100%|██████████| 259/259 [03:10<00:00,  1.36it/s]\n",
            "Validation batches: 100%|██████████| 65/65 [00:16<00:00,  3.91it/s]\n"
          ]
        },
        {
          "output_type": "stream",
          "name": "stdout",
          "text": [
            "Epoch: 92\t\tTrain loss: 0.015418372127433346\t\tValidation loss: 0.0007715748195918282\n"
          ]
        },
        {
          "output_type": "stream",
          "name": "stderr",
          "text": [
            "Training batches: 100%|██████████| 259/259 [03:10<00:00,  1.36it/s]\n",
            "Validation batches: 100%|██████████| 65/65 [00:16<00:00,  3.91it/s]\n"
          ]
        },
        {
          "output_type": "stream",
          "name": "stdout",
          "text": [
            "Epoch: 93\t\tTrain loss: 0.012780192154518089\t\tValidation loss: 4.4119728674839e-05\n"
          ]
        },
        {
          "output_type": "stream",
          "name": "stderr",
          "text": [
            "Training batches: 100%|██████████| 259/259 [03:10<00:00,  1.36it/s]\n",
            "Validation batches: 100%|██████████| 65/65 [00:16<00:00,  3.93it/s]\n"
          ]
        },
        {
          "output_type": "stream",
          "name": "stdout",
          "text": [
            "Epoch: 94\t\tTrain loss: 0.012727525899219093\t\tValidation loss: 9.388876636386647e-05\n"
          ]
        },
        {
          "output_type": "stream",
          "name": "stderr",
          "text": [
            "Training batches: 100%|██████████| 259/259 [03:10<00:00,  1.36it/s]\n",
            "Validation batches: 100%|██████████| 65/65 [00:16<00:00,  3.92it/s]\n"
          ]
        },
        {
          "output_type": "stream",
          "name": "stdout",
          "text": [
            "Epoch: 95\t\tTrain loss: 0.015492507789313657\t\tValidation loss: 0.0006303928597425021\n"
          ]
        },
        {
          "output_type": "stream",
          "name": "stderr",
          "text": [
            "Training batches: 100%|██████████| 259/259 [03:10<00:00,  1.36it/s]\n",
            "Validation batches: 100%|██████████| 65/65 [00:16<00:00,  3.92it/s]\n"
          ]
        },
        {
          "output_type": "stream",
          "name": "stdout",
          "text": [
            "Epoch: 96\t\tTrain loss: 0.014263334268642028\t\tValidation loss: 4.2533719689485084e-05\n"
          ]
        },
        {
          "output_type": "stream",
          "name": "stderr",
          "text": [
            "Training batches: 100%|██████████| 259/259 [03:10<00:00,  1.36it/s]\n",
            "Validation batches: 100%|██████████| 65/65 [00:16<00:00,  3.91it/s]\n"
          ]
        },
        {
          "output_type": "stream",
          "name": "stdout",
          "text": [
            "Epoch: 97\t\tTrain loss: 0.013343936364116097\t\tValidation loss: 0.00017003711576797707\n"
          ]
        },
        {
          "output_type": "stream",
          "name": "stderr",
          "text": [
            "Training batches: 100%|██████████| 259/259 [03:10<00:00,  1.36it/s]\n",
            "Validation batches: 100%|██████████| 65/65 [00:16<00:00,  3.92it/s]\n"
          ]
        },
        {
          "output_type": "stream",
          "name": "stdout",
          "text": [
            "Epoch: 98\t\tTrain loss: 0.013628688648252741\t\tValidation loss: 0.0004267399332399271\n"
          ]
        },
        {
          "output_type": "stream",
          "name": "stderr",
          "text": [
            "Training batches: 100%|██████████| 259/259 [03:10<00:00,  1.36it/s]\n",
            "Validation batches: 100%|██████████| 65/65 [00:16<00:00,  3.92it/s]"
          ]
        },
        {
          "output_type": "stream",
          "name": "stdout",
          "text": [
            "Epoch: 99\t\tTrain loss: 0.014692238017352132\t\tValidation loss: 0.00023114995432164365\n"
          ]
        },
        {
          "output_type": "stream",
          "name": "stderr",
          "text": [
            "\n"
          ]
        }
      ]
    },
    {
      "cell_type": "markdown",
      "source": [
        "### Evaluate the results"
      ],
      "metadata": {
        "id": "HOz4A6hX1r_0"
      }
    },
    {
      "cell_type": "code",
      "source": [
        "test_sample = test_data.iloc[0]\n",
        "test_context = f\"Контекст: {test_sample['context']}\"\n",
        "test_question = f\"Вопрос: {test_sample['question']}\"\n",
        "test_answer = f\"{test_sample['answer']}\"\n",
        "\n",
        "pred = trainer_module.predict_answer(\n",
        "    test_context,\n",
        "    test_question,\n",
        "    test_answer,\n",
        "    print_text=True\n",
        ")\n",
        "\n",
        "pred"
      ],
      "metadata": {
        "id": "Ip8WptdQx-WI",
        "colab": {
          "base_uri": "https://localhost:8080/",
          "height": 222,
          "referenced_widgets": [
            "e9b78721b9144d609097ab7b60fdb86a",
            "d4bcf1534dd74ca9b020dd8385f02175",
            "4dda467ea21440559c90942d0adaa246",
            "79ffa2aa4760406fa65ff487d491d6f9",
            "6f7dfc7e30f84ac982a4e123d3fa4f00",
            "e08c1129aa3644fca6e0ad211280a327",
            "4b7bf13ca7984ce0aee028ca5faefabc",
            "26ad7c223ea14318b1ef6ef802e03773",
            "f307faabbd1647c2b96c74788579e18c",
            "32c569a97e444b218718aa637efa68e6",
            "d6b67c4e9af34541affbace54ab29971",
            "2dc81bf728434e11b6568689ace7913f",
            "c2fb1dfcae0c4725aab9c1404d301f85",
            "7cddc3a6c714452f9ddfff24b096f49b",
            "c67f42449aed44d0b0c743736cb9f387",
            "7273d74e26fa4d41b027274946b4e5e8",
            "27b06a878f0d4b768c319426cb98d2d6",
            "bccb6f6a70ed4d398553d4b60a6cf535",
            "d0ce47bd44114df0bdb43635a4f13ca5",
            "9c0926666b854b67b414e6579559a60c",
            "f57b744bdd934a2489aba85572b61c9b",
            "57a42bd86f5c4b44bccefcd6aea1a3ed"
          ]
        },
        "outputId": "f7c44774-f0d7-4dc8-b04b-3c5e96bd3018"
      },
      "execution_count": 12,
      "outputs": [
        {
          "output_type": "display_data",
          "data": {
            "text/plain": [
              "Downloading builder script:   0%|          | 0.00/8.64k [00:00<?, ?B/s]"
            ],
            "application/vnd.jupyter.widget-view+json": {
              "version_major": 2,
              "version_minor": 0,
              "model_id": "e9b78721b9144d609097ab7b60fdb86a"
            }
          },
          "metadata": {}
        },
        {
          "output_type": "display_data",
          "data": {
            "text/plain": [
              "Downloading extra modules:   0%|          | 0.00/3.34k [00:00<?, ?B/s]"
            ],
            "application/vnd.jupyter.widget-view+json": {
              "version_major": 2,
              "version_minor": 0,
              "model_id": "2dc81bf728434e11b6568689ace7913f"
            }
          },
          "metadata": {}
        },
        {
          "output_type": "stream",
          "name": "stdout",
          "text": [
            "Контекст: перелом ребра это трещина или перелом одной или нескольких реберных костей. ребра это кости грудной клетки, которые охватывают верхнюю часть тела. они соединяют грудную кость с позвоночником. риск перелома ребер после травмы увеличивается с возрастом. подробнее о травме перелом ребер может быть очень болезненным, потому что ребра двигаются, когда вы дышите, кашляете и двигаете верхней частью тела. ребра в середине грудной клетки ломаются чаще всего. переломы ребер часто возникают при других травмах грудной клетки и органов. поэтому ваши медицинские работники также проверят, есть ли у вас какиелибо другие травмы. чего ожидать? заживление займет не менее 6 недель. если вы повредили другие органы тела, вам, возможно, придется остаться в больнице. в противном случае вы можете лечиться дома. большинству людей со сломанными ребрами хирургическое вмешательство не требуется. в отделении неотложной помощи вам, возможно, дали сильнодействующее лекарство например, блокаду нерва или наркотики, если вы испытывали сильную боль. вам не наденут пояс или повязку на грудь. потому что они не позволят вашим ребрам двигаться, когда вы дышите или кашляете. это может привести к легочной инфекции пневмонии. облегчение боли прикладывайте пакет со льдом каждые 20 минут каждый час бодрствования в течение первых 2 дней, затем по 1020 минут 3 раза в день по мере необходимости, чтобы уменьшить боль и отек. оберните пакет со льдом тканью, прежде чем прикладывать его к поврежденному участку. вам могут потребоваться отпускаемые по рецепту обезболивающие наркотики, чтобы держать боль под контролем во время заживления костей. принимайте эти лекарства по графику, предписанному вашим лечащим врачом. не употребляйте алкоголь, не водите машину. или работайте с тяжелой техникой во время приема этих лекарств. чтобы избежать запора, пейте больше жидкости, ешьте продукты с высоким содержанием клетчатки и используйте размягчители стула. чтобы избежать тошноты или рвоты, попробуйте принимать обезболивающие лекарства во время еды. если ваша боль не сильная, вы можете использовать ибупрофен адвил, мотрин или напроксен алив, напросин. вы можете купить эти обезболивающие в магазине. следует избегать приема этих лекарств в течение первых 24 часов после травмы, поскольку они могут привести к кровотечению. поговорите со своим врачом перед использованием этих лекарств, если у вас есть заболевания сердца, высокое кровяное давление, заболевание почек. , заболевание печени или в прошлом у вас были язвы желудка или внутренние кровотечения. не принимайте больше, чем рекомендовано на бутылке или врачом. ацетаминофен тайленол также может использоваться большинством людей при боли. если у вас заболевание печени, поговорите со своим врачом, прежде чем принимать это лекарство. расскажите своему врачу о любых других лекарствах, которые вы принимаете, поскольку может возникнуть взаимодействие с лекарствами. действия чтобы предотвратить коллапс легкого или легочную инфекцию, выполняйте упражнения на медленное глубокое дыхание и легкий кашель. каждые 2 часа. если приложить подушку или одеяло к поврежденному ребру, боль станет менее болезненной. возможно, сначала вам придется принять обезболивающее. ваш врач может посоветовать вам использовать устройство, называемое спирометром, для облегчения дыхательных упражнений. эти упражнения помогают предотвратить частичный коллапс легких и пневмонию. важно сохранять активность. не отдыхайте в постели весь день. ваш врач обсудит с вами, когда вы сможете вернуться к: вашей повседневной деятельности; работе, которая будет зависеть от типа вашей работы; спорту или другой деятельности с высокой нагрузкой. во время выздоровления избегайте движений, которые оказывают болезненное давление на ребра. к ним относятся скручивания, а также толкания, тяги или подъем тяжелых предметов. последующие действия ваш врач позаботится о том, чтобы вы выполняли упражнения и что ваша боль находится под контролем, чтобы вы могли вести активный образ жизни. обычно во время выздоровления нет необходимости делать рентген, если только у вас не появится жар, кашель, усиление боли или затруднение дыхания. прогноз прогноз большинство людей с изолированными переломами ребер выздоравливают без серьезных побочных эффектов. однако, если другие органы также были повреждены, выздоровление будет зависеть от степени этих травм и основного заболевания. когда звонить врачу позвоните своему врачу, если у вас есть: боль, которая не позволяет глубоко дышать или кашель, несмотря на использование обезболивающих. лихорадкакашель или увеличение количества слизи, которую вы откашливаете, особенно если она кровянистая. одышка. побочные эффекты обезболивающих, такие как тошнота, рвота или запор, или аллергические реакции, такие как кожная сыпь, отек лица или затрудненное дыхание. люди, страдающие астмой или эмфиземой, подвергаются повышенному риску развитие осложнений в результате перелома ребра, таких как проблемы с дыханием или инфекции.\n",
            "Вопрос:  что такое перелом ребра уход за ним?\n",
            "Ответ: перелом ребра это трещина или перелом одной или нескольких\n"
          ]
        },
        {
          "output_type": "execute_result",
          "data": {
            "text/plain": [
              "{'Reference Answer: ': 'перелом ребра это трещина или перелом одной или нескольких реберных костей. ребра это круглые плоские кости в груди, которые охватывают верхнюю часть тела. они соединяют вашу грудину с позвоночником.',\n",
              " 'Predicted Answer: ': 'Ответ: перелом ребра это трещина или перелом одной или нескольких',\n",
              " 'BLEU Score: ': {'google_bleu': 0.23809523809523808},\n",
              " 'RougeL (precision): ': 0}"
            ]
          },
          "metadata": {},
          "execution_count": 12
        }
      ]
    },
    {
      "cell_type": "code",
      "source": [
        "# Calculate metrics on test\n",
        "bleu_avg, rouge_avg = trainer_module.calc_avg_metrics(test_data)\n",
        "print(\"Test:\")\n",
        "print(\"BLEU:\", bleu_avg)\n",
        "print(\"RougeL:\", rouge_avg)"
      ],
      "metadata": {
        "id": "U_yy4ps91xOI",
        "colab": {
          "base_uri": "https://localhost:8080/"
        },
        "outputId": "e217b81d-8d25-482b-ecb7-d924499e6b19"
      },
      "execution_count": 13,
      "outputs": [
        {
          "output_type": "stream",
          "name": "stdout",
          "text": [
            "Test:\n",
            "BLEU: 0.2691745561041313\n",
            "RougeL: 0.07037037037037036\n"
          ]
        }
      ]
    },
    {
      "cell_type": "code",
      "source": [
        "loss_filepath = \"/content/drive/MyDrive/ITMO/T5QA/data/t5_MedQA_ans_aug_loss_156.csv\"\n",
        "# Plot loss\n",
        "trainer_module.plot_loss(filepath=loss_filepath)"
      ],
      "metadata": {
        "id": "6HXK3hKP1-Bn",
        "colab": {
          "base_uri": "https://localhost:8080/",
          "height": 430
        },
        "outputId": "1dfa373d-a765-407f-8876-18fb60077c68"
      },
      "execution_count": 23,
      "outputs": [
        {
          "output_type": "display_data",
          "data": {
            "text/plain": [
              "<Figure size 640x480 with 1 Axes>"
            ],
            "image/png": "[encoded data removed]"
          },
          "metadata": {}
        }
      ]
    },
    {
      "cell_type": "markdown",
      "source": [
        "### Inference"
      ],
      "metadata": {
        "id": "1_PhywBEK_V3"
      }
    },
    {
      "cell_type": "code",
      "source": [
        "test_sample = test_data.iloc[3]\n",
        "test_context = f\"Контекст: {test_sample['context']}\"\n",
        "test_question = f\"Вопрос: {test_sample['question']}\"\n",
        "\n",
        "pred = trainer_module.predict_answer(\n",
        "   test_context,\n",
        "   test_question\n",
        ")\n",
        "\n",
        "print(test_question)\n",
        "print(test_context)\n",
        "print(pred)"
      ],
      "metadata": {
        "id": "r0ilNMPH2M__",
        "colab": {
          "base_uri": "https://localhost:8080/"
        },
        "outputId": "4859dca9-05c9-44fb-9042-27b52c6fbc3b"
      },
      "execution_count": 14,
      "outputs": [
        {
          "output_type": "stream",
          "name": "stdout",
          "text": [
            "Вопрос:  как диагностировать выпотной средний отит? также называется: оме; секреторный средний отит; серозный средний отит; тихий средний отит; тихая инфекция уха; клеевое ухо\n",
            "Контекст: средний отит с выпотом соме представляет собой густую или липкую жидкость за барабанной перепонкой в ​​среднем ухе. это происходит без ушной инфекции. причины евстахиева труба соединяет внутреннюю часть уха с задней частью горла. эта трубка помогает отводить жидкость, предотвращая ее скопление в ухе. жидкость вытекает из трубки и проглатывается. соме и ушные инфекции связаны двумя способами: после лечения большинства ушных инфекций жидкость выпот остается в среднем ухе в течение нескольких дней или недель. частично заблокирован, в среднем ухе скапливается жидкость. бактерии внутри уха попадают в ловушку и начинают расти. это может привести к ушной инфекции. следующие факторы могут вызвать отек слизистой оболочки евстахиевой трубы, что приводит к увеличению количества жидкости в среднем ухе: аллергия раздражающие вещества особенно сигаретный дым респираторные инфекции следующие факторы могут привести к закрытию или закупорке евстахиевой трубы: питьё в положении лежа на спине внезапное повышение давления воздуха например, при спуске на самолете или по горной дороге попадание воды в уши ребенка не приведет к закупорке евстахиевой трубы. оме чаще всего возникает зимой или ранней весной, но может возникнуть в любое время года. это может повлиять на людей любого возраста. чаще всего это происходит у детей в возрасте до 2 лет, но редко у новорожденных. дети младшего возраста получают оме чаще, чем дети старшего возраста или взрослые, по нескольким причинам: трубка короче, более горизонтальна и прямее, что облегчает проникновение бактерий. трубка более гибкая, с более мелким отверстием, которое легко заблокировать. маленькие дети болеют чаще простудными заболеваниями, потому что иммунной системе требуется время, чтобы распознать и отразить вирусы простуды. жидкость в оме часто жидкая и водянистая. раньше считалось, что жидкость становится гуще, чем дольше она находится в ухе. «клеевое ухо» это общее название оме с густой жидкостью. однако теперь считается, что толщина жидкости связана с самим ухом, а не с тем, как долго жидкость присутствует. симптомы в отличие от детей с ушной инфекцией, дети с оме не ведут себя больными. оме часто не имеет явных симптомов. дети старшего возраста и взрослые часто жалуются на приглушенный слух или ощущение заложенности в ухе. дети младшего возраста могут увеличивать громкость телевизора изза потери слуха. обследования и анализы. медицинский работник может обнаружить ome при проверке ушей вашего ребенка после лечения ушной инфекции. поставщик медицинских услуг исследует барабанную перепонку и будет искать определенные изменения, такие как : пузырьки воздуха на поверхности барабанной перепонки. тупость барабанной перепонки при использовании света. барабанная перепонка, кажется, не движется, когда на нее дуют небольшими порциями воздуха. жидкость за барабанной перепонкой. тест, называемый тимпанометрия, является точным инструментом для диагностики оме. результаты этого теста могут помочь определить количество и толщину жидкости. жидкость в среднем ухе можно точно обнаружить с помощью: акустического отоскопа рефлектометра портативного устройства можно провести аудиометр или другой тип формального теста слуха. это может помочь поставщику услуг принять решение о лечении. лечение большинство поставщиков медицинских услуг поначалу не будут лечить оме, если только не появятся признаки инфекции. вместо этого они повторно проверят проблему через 23 месяца. вы можете внести следующие изменения, чтобы помочь очистить барабанную перепонку от жидкости: избегайте сигаретного дыма. побуждайте младенцев кормить грудью. лечите аллергию, избегая провоцирующих факторов например, пыли. взрослым и детям старшего возраста можно давать лекарства от аллергии. чаще всего жидкость очищается сама по себе. ваш врач может предложить некоторое время понаблюдать за состоянием, чтобы увидеть, не ухудшается ли оно, прежде чем рекомендовать лечение. если жидкость все еще присутствует через 6 недель, врач может порекомендовать: продолжить наблюдение за проблемой. проверка слуха. однократное испытание антибиотиков если они есть. ранее не вводились если жидкость все еще присутствует на сроке от 8 до 12 недель, можно попробовать антибиотики. эти лекарства не всегда помогают. в какойто момент следует проверить слух ребенка. если наблюдается значительная потеря слуха более 20 децибел, могут потребоваться антибиотики или ушные трубки. если жидкость все еще присутствует через 46 месяцев , вероятно, необходимы трубки, даже если нет серьезной потери слуха. иногда для правильной работы евстахиевой трубы необходимо удалить аденоиды. прогноз прогноз оме чаще всего проходит сам по себе в течение нескольких недель или месяцев. лечение может ускорить этот процесс. клей в ухе может не очиститься так быстро, как ome с более жидкой жидкостью. ome чаще всего не опасен для жизни. у большинства детей не наблюдается долгосрочного нарушения слуха или способности говорить, даже если жидкость остается в течение многих месяцев. когда следует обращаться к медицинскому работнику обратитесь к своему врачу, если: вы считаете, что у вас или вашего ребенка может быть оме. вам следует продолжать наблюдать за состоянием до тех пор, пока жидкость не исчезнет. новые симптомы развиваются во время или после лечения этого заболевания. профилактика. помощь вашему ребенку в снижении риска ушных инфекций может помочь предотвратить оме. â\n",
            "Ответ: врач или медсестра могут обнаружить оме при проверке\n"
          ]
        }
      ]
    },
    {
      "cell_type": "code",
      "source": [
        "test_sample = test_data.iloc[19]\n",
        "test_context = f\"Контекст: {test_sample['context']}\"\n",
        "test_question = f\"Вопрос: {test_sample['question']}\"\n",
        "\n",
        "pred = trainer_module.predict_answer(\n",
        "   test_context,\n",
        "   test_question\n",
        ")\n",
        "\n",
        "print(test_question)\n",
        "print(test_context)\n",
        "print(pred)"
      ],
      "metadata": {
        "colab": {
          "base_uri": "https://localhost:8080/"
        },
        "id": "IW8j0d9YLD1y",
        "outputId": "d055f473-9448-4010-efea-bef054cb2cba"
      },
      "execution_count": 19,
      "outputs": [
        {
          "output_type": "stream",
          "name": "stdout",
          "text": [
            "Вопрос:  что делать при передозировке ацетаминофеном? также называется: передозировка тайленола; передозировка парацетамола\n",
            "Контекст: ацетаминофен наиболее распространенное торговое название тайленол обезболивающее. передозировка ацетаминофеном происходит, когда ктото принимает больше рекомендуемого количества этого лекарства. передозировка ацетаминофеном является одним из наиболее распространенных отравлений. люди часто думают, что это лекарство очень безопасно. однако при приеме в больших дозах он может быть смертельным. эта статья предназначена только для информации. не используйте его для лечения или контроля фактической передозировки. если у вас или у когото из вас произошла передозировка, позвоните по местному номеру службы экстренной помощи например, 911 или в местный токсикологический центр можно связаться напрямую, позвонив по национальной бесплатной горячей линии помощи при отравлениях 18002221222 по телефону где угодно в соединенных штатах. где найден ацетаминофен содержится в различных безрецептурных и отпускаемых по рецепту обезболивающих. тайленол это торговая марка ацетаминофена. другие лекарства, содержащие ацетаминофен, включают: анацин3, ликвиприн, панадол, перкоцет, темпра. различные лекарства от простуды и гриппа. примечание. этот список не является полным. общие лекарственные формы и сильные стороны: суппозитории: 120 мг, 125 мг, 325 мг, 650 мг. жевательные таблетки: 80 мг. младшие таблетки: 160 мг. обычная дозировка. : 325 мгдополнительная дозировка: 500 мгжидкость: 160 мг/чайная ложка 5 миллилитров капли: 100 мг/мл, 120 мг/2,5 млвзрослым не следует принимать более 3000 мг однокомпонентного ацетаминофена в день. вам следует принимать меньше, если вам 65 лет и старше. прием большего количества, особенно 7000 мг и более, может привести к серьезной передозировке. если у вас заболевание печени или почек, вам следует обсудить использование этого препарата со своим врачом. симптомы симптомы могут включать: боль в животе, расстройство желудка потеря аппетита кома судороги диарея раздражительность желтуха желтая кожа и белки глаз тошнота, рвота потливость примечание: симптомы могут проявиться только через 12 или более часов после проглатывания ацетаминофена. уход на дому лечение в домашних условиях не проводится. немедленно обратитесь за медицинской помощью. прежде чем вызывать скорую помощь. для оказания неотложной помощи полезна следующая информация: возраст, вес и состояние человека. название продукта ингредиенты и дозировка, если известны. время проглатывания. количество проглоченного продукта. однако не откладывайте обращение за помощью, если эта информация не доступна немедленно. контроль отравлений с вашим местным токсикологическим центром можно связаться напрямую, позвонив по национальной бесплатной горячей линии помощи при отравлениях 18002221222 из ​​любой точки соединенных штатов. эта национальная горячая линия позволит вам поговорить со специалистами по отравлениям. они дадут вам дальнейшие инструкции. это бесплатная и конфиденциальная услуга. все местные токсикологические центры в сша используют этот национальный номер. вам следует позвонить, если у вас возникнут вопросы об отравлении или его профилактике. это не обязательно должна быть чрезвычайная ситуация. вы можете позвонить по любой причине 24 часа в сутки, 7 дней в неделю. чего ожидать в отделении неотложной помощи? поставщик будет измерять и контролировать жизненно важные показатели человека, включая температуру, пульс, частоту дыхания и артериальное давление. будут проведены анализы крови, чтобы проверить, сколько ацетаминофена в крови. человек может получить: активированный уголь. поддержка дыхательных путей, включая кислород, дыхательную трубку через рот интубацию и аппарат искусственной вентиляции легких дыхательный аппарат. анализы крови и мочи. рентген грудной клетки. кт компьютерная аксиальная томография. экг электрокардиограмма или исследование сердца. введение жидкостей через дыхательные пути. венозное внутривенное или внутривенное слабительное. лекарства для лечения симптомов, включая антидот нацетилцистеин nac, для противодействия действию препарата. у людей с заболеваниями печени чаще развиваются серьезные осложнения при передозировке ацетаминофена. передозировка может быть либо острой внезапной или кратковременной, либо хронической долговременной, в зависимости от принятых доз, поэтому симптомы могут различаться. прогноз прогноз если лечение получено в течение 8 часов после передозировки, возникает очень хорошие шансы на выздоровление. однако без быстрого лечения очень большая передозировка ацетаминофена может привести к печеночной недостаточности и смерти в течение нескольких дней.\n",
            "Ответ: домашнего лечения нет. немедленно обратитесь за медицинской помощ\n"
          ]
        }
      ]
    },
    {
      "cell_type": "code",
      "source": [
        "test_sample = test_data.iloc[22]\n",
        "test_context = f\"Контекст: {test_sample['context']}\"\n",
        "test_question = f\"Вопрос: {test_sample['question']}\"\n",
        "\n",
        "pred = trainer_module.predict_answer(\n",
        "   test_context,\n",
        "   test_question\n",
        ")\n",
        "\n",
        "print(test_question)\n",
        "print(test_context)\n",
        "print(pred)"
      ],
      "metadata": {
        "colab": {
          "base_uri": "https://localhost:8080/"
        },
        "id": "pvDnxNjrLJah",
        "outputId": "8fdc8274-d62a-4d4c-f68a-dae5bfed4096"
      },
      "execution_count": 20,
      "outputs": [
        {
          "output_type": "stream",
          "name": "stdout",
          "text": [
            "Вопрос:  каковы методы лечения зуда джока? также называется: грибковая инфекция пах; инфекция грибковая пах; зуд в паху; стригущий лишай пах; tinea cruris; tinea паха\n",
            "Контекст: зуд спортсмена это инфекция паховой области, вызванная грибком. медицинский термин tinea cruris или стригущий лишай в паху. причины: зуд спортсмена возникает, когда определенный тип грибка растет и распространяется в области паха. зуд спортсмена возникает в основном у взрослых мужчин и мальчиковподростков. у некоторых людей, страдающих этой инфекцией, также имеется микоз стопы или другой вид стригущего лишая. грибок, вызывающий зуд спортсмена, процветает в теплых и влажных местах. зуд спортсмена может быть вызван трением одежды и длительной влажностью в области паха, например, изза потоотделения. грибковая инфекция стоп может распространиться на паховую область при натягивании брюк, если пояс загрязнен грибком с ног. спортивный зуд может передаваться от одного человека к другому при прямом контакте кожа к коже или при контакте с нестиранной одеждой. симптомы. зуд спортсмена обычно локализуется вокруг складок верхней части бедра и не затрагивает мошонку или половой член. зуд спортсмена может распространиться на область ануса, вызывая анальный зуд и дискомфорт. симптомы включают в себя: красные, приподнятые, чешуйчатые пятна, которые могут образовывать волдыри и сочиться. пятна часто имеют четко очерченные края с чешуйками по краям. аномально темная или светлая кожа. иногда эти изменения являются постоянными. обследования и анализы ваш лечащий врач обычно может диагностировать зуд на основании внешнего вида вашей кожи. обычно анализы не требуются. если необходимы тесты, они могут включать в себя: простой офисный тест, называемый экзаменом koh, для проверки на грибок. культура кожи. биопсия кожи также может быть выполнена с использованием специального красителя, называемого pas, для выявления грибков и дрожжевых грибков. лечение зуд спортсмена обычно реагирует на самообслуживание в пределах пару недель: держите кожу чистой и сухой в области паха. не носите одежду, которая натирает и раздражает эту область. носите свободное нижнее белье. часто мойте спортивные болельщики. продаваемые без рецепта противогрибковые или подсушивающие порошки могут помочь контролировать инфекцию. они содержат лекарства, такие как миконазол, клотримазол, тербинафин или толнафтат. вам может потребоваться лечение у врача, если инфекция длится более 2 недель, носит тяжелый характер или часто возвращается. врач может прописать: более сильные местные наносимые на кожу противогрибковые препараты или пероральные противогрибковые препараты. антибиотики могут потребоваться для лечения бактериальных инфекций, возникающих в результате расчесывания пораженного участка. если вы склонны к кожному зуду, продолжайте наносить противогрибковые или подсушивающие порошки даже после купания. когда у вас нет зуда. зуд чаще встречается у людей с избыточным весом и глубокими влажными складками кожи. потеря веса может помочь предотвратить возвращение заболевания. перспективы прогноз зуд спортсмена обычно быстро поддается лечению. это часто менее серьезно, чем другие инфекции опоясывающего дерматита, такие как микоз спортсмена, но может длиться долгое время. когда следует обращаться к медицинскому работнику обратитесь к своему врачу, если зуд спортсмена не поддается лечению на дому через 2 недели или у вас есть другие симптомы.\n",
            "Ответ: зуд спортсмена обычно проходит при уходе за собой в\n"
          ]
        }
      ]
    },
    {
      "cell_type": "code",
      "source": [
        "test_sample = test_data.iloc[14]\n",
        "test_context = f\"Контекст: {test_sample['context']}\"\n",
        "test_question = f\"Вопрос: {test_sample['question']}\"\n",
        "\n",
        "pred = trainer_module.predict_answer(\n",
        "   test_context,\n",
        "   test_question\n",
        ")\n",
        "\n",
        "print(test_question)\n",
        "print(test_context)\n",
        "print(pred)"
      ],
      "metadata": {
        "colab": {
          "base_uri": "https://localhost:8080/"
        },
        "id": "gFCW-AFCLMi7",
        "outputId": "6d7f2c50-8085-41f1-fe85-e042016192ad"
      },
      "execution_count": 21,
      "outputs": [
        {
          "output_type": "stream",
          "name": "stdout",
          "text": [
            "Вопрос:  нужно ли мне обращаться к врачу по поводу проблем с глотанием?\n",
            "Контекст: затруднение глотания это ощущение, что пища или жидкость застревает в горле или в любой момент перед попаданием пищи в желудок. эту проблему также называют дисфагией. она может быть вызвана расстройством головного мозга или нервов, стрессом или тревогой, а также проблемами, затрагивающими заднюю часть языка, горло и пищевод трубку, ведущую от горла к желудку. ожидаемые дома симптомы проблем с глотанием включают в себя: кашель или удушье во время или после еды булькающие звуки в горле во время или после еды прочищение горла после питья или глотания медленное пережевывание или прием пищи повторный кашель после еды икота после глотания дискомфорт в груди во время или после глотания необъяснимая потеря веса симптомы могут быть легкими или тяжелыми. уход на дому большинству людей с дисфагией следует обратиться к врачу, если симптомы сохраняются или возвращаются. но эти общие советы могут помочь. во время еды старайтесь расслабиться. во время еды сидите как можно прямо. откусывайте небольшими порциями, менее 1 чайной ложки 5 мл еды на один укус. хорошо пережевывайте и проглатывайте пищу, прежде чем откусить еще раз. одна сторона вашего лица или рта слабее, пережевывайте пищу на более сильной стороне рта. не смешивайте твердую пищу с жидкостью в одном укусе. не пытайтесь запивать твердую пищу глотками жидкости, если только ваш логопед или глотатель говорит, что это нормально. не разговаривайте и не глотайте одновременно. сядьте вертикально в течение 3045 минут после еды. не пейте жидкие жидкости без предварительной консультации с врачом или терапевтом. возможно, вам понадобится, чтобы ктото напомнил вам закончить глотание. также может быть полезно попросить лиц, осуществляющих уход, и членов семьи не разговаривать с вами, когда вы едите или пьете. когда звонить врачу позвоните своему врачу, если: у вас кашель, жар или одышка; вы теряете вес; ваши проблемы с глотанием ухудшаются.\n",
            "Ответ: позвоните своему врачу, если: у вас кашель, жар\n"
          ]
        }
      ]
    },
    {
      "cell_type": "code",
      "source": [],
      "metadata": {
        "id": "lhBPc_GJLYNL"
      },
      "execution_count": null,
      "outputs": []
    }
  ]
}